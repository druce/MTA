{
 "cells": [
  {
   "cell_type": "code",
   "execution_count": 40,
   "metadata": {},
   "outputs": [
    {
     "name": "stdout",
     "output_type": "stream",
     "text": [
      "pandas               1.5.3               \n",
      "plotly               5.13.0              \n",
      "sqlalchemy           1.4.46              \n",
      "duckdb               0.6.1               \n",
      "jinja2               3.1.2               \n"
     ]
    }
   ],
   "source": [
    "import os\n",
    "from time import strftime\n",
    "from datetime import date\n",
    "from collections import defaultdict\n",
    "from six import string_types\n",
    "from copy import deepcopy\n",
    "\n",
    "import pandas as pd\n",
    "\n",
    "import duckdb\n",
    "\n",
    "import plotly\n",
    "import plotly.express as px\n",
    "from dash import Dash, html, dcc\n",
    "\n",
    "import sqlalchemy\n",
    "import jinja2\n",
    "from jinjasql import JinjaSql\n",
    "import dash_bootstrap_components as dbc\n",
    "\n",
    "from dotenv import load_dotenv\n",
    "\n",
    "# Import ipython-sql Jupyter extension to create SQL cells\n",
    "# %load_ext sql\n",
    "# directly output data to Pandas and to simplify the output that is printed to the notebook.\n",
    "# %config SqlMagic.autopandas = True\n",
    "# %config SqlMagic.feedback = False\n",
    "# %config SqlMagic.displaycon = False\n",
    "\n",
    "pd.options.display.max_rows=100\n",
    "\n",
    "# Connect ipython-sql to DuckDB using a SQLAlchemy-style connection string. You may either connect to an in memory DuckDB, or a file backed db.\n",
    "# %sql duckdb:///mta.db\n",
    "\n",
    "# import qgrid\n",
    "# from qgrid import show_grid\n",
    "\n",
    "print(f\"pandas               {pd.__version__:<20}\")\n",
    "print(f\"plotly               {plotly.__version__:<20}\")\n",
    "print(f\"sqlalchemy           {sqlalchemy.__version__:<20}\")\n",
    "print(f\"duckdb               {duckdb.__version__:<20}\")\n",
    "print(f\"jinja2               {jinja2.__version__:<20}\")\n",
    "\n"
   ]
  },
  {
   "cell_type": "code",
   "execution_count": 29,
   "metadata": {},
   "outputs": [],
   "source": [
    "# put up text and markdown in 1, 2, 3 columns https://medium.com/a-r-g-o/using-plotlys-dash-to-deliver-public-sector-decision-support-dashboards-ac863fa829fb\n",
    "\n",
    "# run the overall filter, have sum of 2019, pandemic, current period\n",
    "# print this\n",
    "# put it in the dashboard\n",
    "\n",
    "# 2019    pandemic   2022 (filter period)\n",
    "# avg          avg                    avg\n",
    "#        ch v 2019        chg vs pandemic\n",
    "#                             chg vs 2019\n",
    "\n",
    "# put in dashboard:\n",
    "# time series - by dow - by tod\n",
    "\n",
    "# put in dashboard - table with sorts\n",
    "\n",
    "# put filter widgets in daashboard\n",
    "\n",
    "# map - 3 column\n",
    "\n",
    "# station table - 3 col\n",
    "# pretty name , entries, ch from 2019, ch from pandemic\n",
    "\n",
    "# filter hourly and daily using\n",
    "# startdate/end_date\n",
    "# day of week\n",
    "# hour of day\n",
    "# cbd\n",
    "\n",
    "# show startdate to enddate\n",
    "# markdown 3 big text boxes: 2019, pandemic (%), selected (% vs 2019, %v pandemic)\n",
    "\n",
    "# entries by date - selected timeperiod\n",
    "# entries by dow - selected timeperiod\n",
    "# entries by hour of day - selected timeperiod\n",
    "\n",
    "# map across full dashboard\n",
    "\n",
    "# station table\n",
    "# by date startdate to enddate\n",
    "# 2019"
   ]
  },
  {
   "cell_type": "code",
   "execution_count": 41,
   "metadata": {},
   "outputs": [],
   "source": [
    "load_dotenv()\n",
    "\n",
    "mapbox_token = os.getenv('MAPBOX_TOKEN')\n"
   ]
  },
  {
   "cell_type": "code",
   "execution_count": 42,
   "metadata": {},
   "outputs": [],
   "source": [
    "connection_string = \"duckdb:////Users/drucev/projects/MTA/mta.db\"\n",
    "con = sqlalchemy.create_engine(connection_string, connect_args={'read_only': True})\n",
    "\n",
    "# query = \"describe station_hourly \"\n",
    "# con.execute(query)\n",
    "# con.fetchall()\n",
    "\n"
   ]
  },
  {
   "cell_type": "code",
   "execution_count": 43,
   "metadata": {},
   "outputs": [],
   "source": [
    "filters = defaultdict(str)\n",
    "filters['dow'] = ['Monday', 'Tuesday', 'Wednesday', 'Thursday', 'Friday',]\n",
    "filters['tod'] = [4,8,12,16,20,24]\n",
    "filters['cbd'] = ['Y', 'N']\n",
    "filters['startdate'] = '2022-01-01'\n",
    "filters['enddate'] = '2023-01-01'\n",
    "\n",
    "filters['pandemic_start'] = '2020-03-01'\n",
    "filters['pandemic_end'] = '2021-03-01'\n"
   ]
  },
  {
   "cell_type": "code",
   "execution_count": 44,
   "metadata": {},
   "outputs": [],
   "source": [
    "query_template = \"\"\"\n",
    "select\n",
    "    DATE,\n",
    "    STATION,\n",
    "    pretty_name,\n",
    "    Latitude,\n",
    "    Longitude,\n",
    "    CBD,\n",
    "    dow,\n",
    "    is_weekend,\n",
    "    hour,\n",
    "    entries,\n",
    "    exits\n",
    "from\n",
    "    station_hourly\n",
    "where true\n",
    "{% if startdate %} and date >= {{startdate}} {% endif %}\n",
    "{% if enddate %} and date < {{enddate}} {% endif %}\n",
    "{% if dow %} and dow in {{ dow | inclause }}  {% endif %}\n",
    "{% if tod %} and hour in {{ tod | inclause }} {% endif %}\n",
    "{% if cbd %} and cbd in {{ cbd | inclause }} {% endif %}\n",
    "limit 10\n",
    "\"\"\"\n"
   ]
  },
  {
   "cell_type": "code",
   "execution_count": 45,
   "metadata": {},
   "outputs": [
    {
     "name": "stdout",
     "output_type": "stream",
     "text": [
      "\n",
      "select\n",
      "    DATE,\n",
      "    STATION,\n",
      "    pretty_name,\n",
      "    Latitude,\n",
      "    Longitude,\n",
      "    CBD,\n",
      "    dow,\n",
      "    is_weekend,\n",
      "    hour,\n",
      "    entries,\n",
      "    exits\n",
      "from\n",
      "    station_hourly\n",
      "where true\n",
      " and date >= '2022-01-01' \n",
      " and date < '2023-01-01' \n",
      " and dow in ('Monday','Tuesday','Wednesday','Thursday','Friday')  \n",
      " and hour in (4,8,12,16,20,24) \n",
      " and cbd in ('Y','N') \n",
      "limit 10\n"
     ]
    },
    {
     "data": {
      "text/html": [
       "<div>\n",
       "<style scoped>\n",
       "    .dataframe tbody tr th:only-of-type {\n",
       "        vertical-align: middle;\n",
       "    }\n",
       "\n",
       "    .dataframe tbody tr th {\n",
       "        vertical-align: top;\n",
       "    }\n",
       "\n",
       "    .dataframe thead th {\n",
       "        text-align: right;\n",
       "    }\n",
       "</style>\n",
       "<table border=\"1\" class=\"dataframe\">\n",
       "  <thead>\n",
       "    <tr style=\"text-align: right;\">\n",
       "      <th></th>\n",
       "      <th>DATE</th>\n",
       "      <th>STATION</th>\n",
       "      <th>pretty_name</th>\n",
       "      <th>Latitude</th>\n",
       "      <th>Longitude</th>\n",
       "      <th>CBD</th>\n",
       "      <th>dow</th>\n",
       "      <th>is_weekend</th>\n",
       "      <th>hour</th>\n",
       "      <th>entries</th>\n",
       "      <th>exits</th>\n",
       "    </tr>\n",
       "  </thead>\n",
       "  <tbody>\n",
       "    <tr>\n",
       "      <th>0</th>\n",
       "      <td>2022-10-18</td>\n",
       "      <td>GRD CNTRL-42 ST-4567S</td>\n",
       "      <td>Grand Central-42 St-4 5 6 7 S (M)</td>\n",
       "      <td>40.751776</td>\n",
       "      <td>-73.976848</td>\n",
       "      <td>Y</td>\n",
       "      <td>Tuesday</td>\n",
       "      <td>False</td>\n",
       "      <td>20</td>\n",
       "      <td>18077</td>\n",
       "      <td>22976</td>\n",
       "    </tr>\n",
       "    <tr>\n",
       "      <th>1</th>\n",
       "      <td>2022-10-18</td>\n",
       "      <td>GRD CNTRL-42 ST-4567S</td>\n",
       "      <td>Grand Central-42 St-4 5 6 7 S (M)</td>\n",
       "      <td>40.751776</td>\n",
       "      <td>-73.976848</td>\n",
       "      <td>Y</td>\n",
       "      <td>Tuesday</td>\n",
       "      <td>False</td>\n",
       "      <td>8</td>\n",
       "      <td>6336</td>\n",
       "      <td>22235</td>\n",
       "    </tr>\n",
       "    <tr>\n",
       "      <th>2</th>\n",
       "      <td>2022-10-19</td>\n",
       "      <td>GRD CNTRL-42 ST-4567S</td>\n",
       "      <td>Grand Central-42 St-4 5 6 7 S (M)</td>\n",
       "      <td>40.751776</td>\n",
       "      <td>-73.976848</td>\n",
       "      <td>Y</td>\n",
       "      <td>Wednesday</td>\n",
       "      <td>False</td>\n",
       "      <td>24</td>\n",
       "      <td>4008</td>\n",
       "      <td>5188</td>\n",
       "    </tr>\n",
       "    <tr>\n",
       "      <th>3</th>\n",
       "      <td>2022-11-01</td>\n",
       "      <td>14 ST-123FLM</td>\n",
       "      <td>14 St-F M (M)</td>\n",
       "      <td>40.738228</td>\n",
       "      <td>-73.996209</td>\n",
       "      <td>Y</td>\n",
       "      <td>Tuesday</td>\n",
       "      <td>False</td>\n",
       "      <td>8</td>\n",
       "      <td>776</td>\n",
       "      <td>2815</td>\n",
       "    </tr>\n",
       "    <tr>\n",
       "      <th>4</th>\n",
       "      <td>2022-10-18</td>\n",
       "      <td>CHAMBERS ST-ACE23</td>\n",
       "      <td>Chambers St-A C 2 3 (M)</td>\n",
       "      <td>40.714111</td>\n",
       "      <td>-74.008585</td>\n",
       "      <td>Y</td>\n",
       "      <td>Tuesday</td>\n",
       "      <td>False</td>\n",
       "      <td>24</td>\n",
       "      <td>636</td>\n",
       "      <td>526</td>\n",
       "    </tr>\n",
       "    <tr>\n",
       "      <th>5</th>\n",
       "      <td>2022-10-18</td>\n",
       "      <td>BLEECKER ST-6DF</td>\n",
       "      <td>Bleecker St-6 (M)</td>\n",
       "      <td>40.725915</td>\n",
       "      <td>-73.994659</td>\n",
       "      <td>Y</td>\n",
       "      <td>Tuesday</td>\n",
       "      <td>False</td>\n",
       "      <td>16</td>\n",
       "      <td>1138</td>\n",
       "      <td>930</td>\n",
       "    </tr>\n",
       "    <tr>\n",
       "      <th>6</th>\n",
       "      <td>2022-10-18</td>\n",
       "      <td>CHAMBERS ST-123</td>\n",
       "      <td>Chambers St-1 2 3 (M)</td>\n",
       "      <td>40.715478</td>\n",
       "      <td>-74.009266</td>\n",
       "      <td>Y</td>\n",
       "      <td>Tuesday</td>\n",
       "      <td>False</td>\n",
       "      <td>24</td>\n",
       "      <td>628</td>\n",
       "      <td>522</td>\n",
       "    </tr>\n",
       "    <tr>\n",
       "      <th>7</th>\n",
       "      <td>2022-10-21</td>\n",
       "      <td>59 ST COLUMBUS-1ABCD</td>\n",
       "      <td>59 St-Columbus Circle-1 A B C D (M)</td>\n",
       "      <td>40.768296</td>\n",
       "      <td>-73.981736</td>\n",
       "      <td>Y</td>\n",
       "      <td>Friday</td>\n",
       "      <td>False</td>\n",
       "      <td>24</td>\n",
       "      <td>4515</td>\n",
       "      <td>3238</td>\n",
       "    </tr>\n",
       "    <tr>\n",
       "      <th>8</th>\n",
       "      <td>2022-10-18</td>\n",
       "      <td>34 ST-PENN STA-123</td>\n",
       "      <td>34 St-Penn Station-1 2 3 (M)</td>\n",
       "      <td>40.750373</td>\n",
       "      <td>-73.991057</td>\n",
       "      <td>Y</td>\n",
       "      <td>Tuesday</td>\n",
       "      <td>False</td>\n",
       "      <td>24</td>\n",
       "      <td>1759</td>\n",
       "      <td>2301</td>\n",
       "    </tr>\n",
       "    <tr>\n",
       "      <th>9</th>\n",
       "      <td>2022-10-18</td>\n",
       "      <td>WTC-CORTLANDT-1</td>\n",
       "      <td>WTC Cortlandt-1 (M)</td>\n",
       "      <td>40.711835</td>\n",
       "      <td>-74.012188</td>\n",
       "      <td>Y</td>\n",
       "      <td>Tuesday</td>\n",
       "      <td>False</td>\n",
       "      <td>8</td>\n",
       "      <td>970</td>\n",
       "      <td>1887</td>\n",
       "    </tr>\n",
       "  </tbody>\n",
       "</table>\n",
       "</div>"
      ],
      "text/plain": [
       "         DATE                STATION                          pretty_name  \\\n",
       "0  2022-10-18  GRD CNTRL-42 ST-4567S    Grand Central-42 St-4 5 6 7 S (M)   \n",
       "1  2022-10-18  GRD CNTRL-42 ST-4567S    Grand Central-42 St-4 5 6 7 S (M)   \n",
       "2  2022-10-19  GRD CNTRL-42 ST-4567S    Grand Central-42 St-4 5 6 7 S (M)   \n",
       "3  2022-11-01           14 ST-123FLM                        14 St-F M (M)   \n",
       "4  2022-10-18      CHAMBERS ST-ACE23              Chambers St-A C 2 3 (M)   \n",
       "5  2022-10-18        BLEECKER ST-6DF                    Bleecker St-6 (M)   \n",
       "6  2022-10-18        CHAMBERS ST-123                Chambers St-1 2 3 (M)   \n",
       "7  2022-10-21   59 ST COLUMBUS-1ABCD  59 St-Columbus Circle-1 A B C D (M)   \n",
       "8  2022-10-18     34 ST-PENN STA-123         34 St-Penn Station-1 2 3 (M)   \n",
       "9  2022-10-18        WTC-CORTLANDT-1                  WTC Cortlandt-1 (M)   \n",
       "\n",
       "    Latitude  Longitude CBD        dow  is_weekend  hour  entries  exits  \n",
       "0  40.751776 -73.976848   Y    Tuesday       False    20    18077  22976  \n",
       "1  40.751776 -73.976848   Y    Tuesday       False     8     6336  22235  \n",
       "2  40.751776 -73.976848   Y  Wednesday       False    24     4008   5188  \n",
       "3  40.738228 -73.996209   Y    Tuesday       False     8      776   2815  \n",
       "4  40.714111 -74.008585   Y    Tuesday       False    24      636    526  \n",
       "5  40.725915 -73.994659   Y    Tuesday       False    16     1138    930  \n",
       "6  40.715478 -74.009266   Y    Tuesday       False    24      628    522  \n",
       "7  40.768296 -73.981736   Y     Friday       False    24     4515   3238  \n",
       "8  40.750373 -73.991057   Y    Tuesday       False    24     1759   2301  \n",
       "9  40.711835 -74.012188   Y    Tuesday       False     8      970   1887  "
      ]
     },
     "execution_count": 45,
     "metadata": {},
     "output_type": "execute_result"
    }
   ],
   "source": [
    "def quote_sql_string(value):\n",
    "    '''\n",
    "    If `value` is a string type, escapes single quotes in the string\n",
    "    and returns the string enclosed in single quotes.\n",
    "    else if value is a list, map quote_sql_string to each item in list\n",
    "    else return value unchanged\n",
    "    '''\n",
    "    if isinstance(value, string_types):\n",
    "        new_value = str(value)\n",
    "        new_value = new_value.replace(\"'\", \"''\")\n",
    "        return \"'{}'\".format(new_value)\n",
    "    elif isinstance(value, list):\n",
    "        return [quote_sql_string(v) for v in value]\n",
    "    return value\n",
    "\n",
    "\n",
    "def get_sql_from_template(con, query, bind_params=None, verbose=False):\n",
    "    \"\"\"\n",
    "    Run Jinja template query against con, substituting bind_params\n",
    "    \"\"\"\n",
    "    if not bind_params:\n",
    "        if verbose:\n",
    "            print(query)\n",
    "        return pd.read_sql(query, con)\n",
    "    \n",
    "    if verbose:\n",
    "        # copy and escape params for legibility\n",
    "        params = deepcopy(bind_params)\n",
    "        for key, val in params.items():\n",
    "            params[key] = quote_sql_string(val)\n",
    "        query_str, query_vals = JinjaSql().prepare_query(query, params)\n",
    "        print(query_str % tuple(query_vals))\n",
    "        \n",
    "    # process params using ? style, run query, return dataframe \n",
    "    query_str, query_vals = JinjaSql(param_style='qmark').prepare_query(query, bind_params)\n",
    "    return pd.read_sql(query_str, con, params=query_vals)\n",
    "\n",
    "\n",
    "get_sql_from_template(con, query_template, filters, verbose=True)\n",
    "\n"
   ]
  },
  {
   "cell_type": "code",
   "execution_count": 46,
   "metadata": {},
   "outputs": [
    {
     "data": {
      "text/plain": [
       "260"
      ]
     },
     "execution_count": 46,
     "metadata": {},
     "output_type": "execute_result"
    }
   ],
   "source": [
    "def day_count(con, filters, verbose=False):\n",
    "    \"\"\"return number of days in the filter\"\"\"\n",
    "\n",
    "    query = \"\"\"\n",
    "\n",
    "    select count(*) as days from\n",
    "    (select\n",
    "        date, count(*) as n\n",
    "    from\n",
    "        station_hourly\n",
    "    where TRUE\n",
    "        {% if startdate %} and date >= {{startdate}} {% endif %}\n",
    "        {% if enddate %} and date < {{enddate}} {% endif %}\n",
    "        {% if dow %} and dow in {{ dow | inclause }}  {% endif %}\n",
    "        {% if tod %} and hour in {{ tod | inclause }} {% endif %}\n",
    "        {% if cbd %} and cbd in {{ cbd | inclause }} {% endif %}\n",
    "    group by\n",
    "        \"date\"\n",
    "    )\n",
    "    \"\"\"\n",
    "\n",
    "    return get_sql_from_template(con, query, filters, verbose)\n",
    "\n",
    "df_day_count = day_count(con, filters)\n",
    "day_count = df_day_count.iloc[0][0]\n",
    "day_count\n",
    "\n"
   ]
  },
  {
   "cell_type": "code",
   "execution_count": 47,
   "metadata": {},
   "outputs": [
    {
     "data": {
      "text/plain": [
       "261"
      ]
     },
     "execution_count": 47,
     "metadata": {},
     "output_type": "execute_result"
    }
   ],
   "source": [
    "def day_count_2019(con, filters, verbose=False):\n",
    "    \"\"\"return number of days in the filter\"\"\"\n",
    "\n",
    "    query = \"\"\"\n",
    "\n",
    "    select count(*) as days from\n",
    "    (select\n",
    "        date, count(*) as n\n",
    "    from\n",
    "        station_hourly\n",
    "    where\n",
    "        date_part('year', DATE)=2019\n",
    "        {% if dow %} and dow in {{ dow | inclause }}  {% endif %}\n",
    "        {% if tod %} and hour in {{ tod | inclause }} {% endif %}\n",
    "        {% if cbd %} and cbd in {{ cbd | inclause }} {% endif %}\n",
    "    group by\n",
    "        \"date\"\n",
    "    )\n",
    "    \"\"\"\n",
    "\n",
    "    return get_sql_from_template(con, query, filters, verbose)\n",
    "\n",
    "df_day_count_2019 = day_count_2019(con, filters)\n",
    "day_count_2019 = df_day_count_2019.iloc[0][0]\n",
    "day_count_2019\n",
    "\n"
   ]
  },
  {
   "cell_type": "code",
   "execution_count": 48,
   "metadata": {},
   "outputs": [
    {
     "data": {
      "text/plain": [
       "260"
      ]
     },
     "execution_count": 48,
     "metadata": {},
     "output_type": "execute_result"
    }
   ],
   "source": [
    "def day_count_pandemic(con, filters, verbose=False):\n",
    "    \"\"\"return number of days in the filter\"\"\"\n",
    "\n",
    "    query = \"\"\"\n",
    "\n",
    "    select count(*) as days from\n",
    "    (select\n",
    "        date, count(*) as n\n",
    "    from\n",
    "        station_hourly\n",
    "    where\n",
    "        date >= {{pandemic_start}} and date < {{pandemic_end}}\n",
    "        {% if dow %} and dow in {{ dow | inclause }}  {% endif %}\n",
    "        {% if tod %} and hour in {{ tod | inclause }} {% endif %}\n",
    "        {% if cbd %} and cbd in {{ cbd | inclause }} {% endif %}\n",
    "    group by\n",
    "        \"date\"\n",
    "    )\n",
    "    \"\"\"\n",
    "\n",
    "    return get_sql_from_template(con, query, filters, verbose)\n",
    "\n",
    "df_day_count_pandemic = day_count_pandemic(con, filters)\n",
    "day_count_pandemic = df_day_count_pandemic.iloc[0][0]\n",
    "day_count_pandemic\n"
   ]
  },
  {
   "cell_type": "code",
   "execution_count": 49,
   "metadata": {},
   "outputs": [
    {
     "data": {
      "text/html": [
       "<div>\n",
       "<style scoped>\n",
       "    .dataframe tbody tr th:only-of-type {\n",
       "        vertical-align: middle;\n",
       "    }\n",
       "\n",
       "    .dataframe tbody tr th {\n",
       "        vertical-align: top;\n",
       "    }\n",
       "\n",
       "    .dataframe thead th {\n",
       "        text-align: right;\n",
       "    }\n",
       "</style>\n",
       "<table border=\"1\" class=\"dataframe\">\n",
       "  <thead>\n",
       "    <tr style=\"text-align: right;\">\n",
       "      <th></th>\n",
       "      <th>DATE</th>\n",
       "      <th>entries</th>\n",
       "    </tr>\n",
       "  </thead>\n",
       "  <tbody>\n",
       "    <tr>\n",
       "      <th>0</th>\n",
       "      <td>2022-01-03</td>\n",
       "      <td>1710796</td>\n",
       "    </tr>\n",
       "    <tr>\n",
       "      <th>1</th>\n",
       "      <td>2022-01-04</td>\n",
       "      <td>1810000</td>\n",
       "    </tr>\n",
       "    <tr>\n",
       "      <th>2</th>\n",
       "      <td>2022-01-05</td>\n",
       "      <td>1797963</td>\n",
       "    </tr>\n",
       "    <tr>\n",
       "      <th>3</th>\n",
       "      <td>2022-01-06</td>\n",
       "      <td>1880303</td>\n",
       "    </tr>\n",
       "    <tr>\n",
       "      <th>4</th>\n",
       "      <td>2022-01-07</td>\n",
       "      <td>1628217</td>\n",
       "    </tr>\n",
       "    <tr>\n",
       "      <th>...</th>\n",
       "      <td>...</td>\n",
       "      <td>...</td>\n",
       "    </tr>\n",
       "    <tr>\n",
       "      <th>255</th>\n",
       "      <td>2022-12-26</td>\n",
       "      <td>1152490</td>\n",
       "    </tr>\n",
       "    <tr>\n",
       "      <th>256</th>\n",
       "      <td>2022-12-27</td>\n",
       "      <td>1779358</td>\n",
       "    </tr>\n",
       "    <tr>\n",
       "      <th>257</th>\n",
       "      <td>2022-12-28</td>\n",
       "      <td>1913341</td>\n",
       "    </tr>\n",
       "    <tr>\n",
       "      <th>258</th>\n",
       "      <td>2022-12-29</td>\n",
       "      <td>1957983</td>\n",
       "    </tr>\n",
       "    <tr>\n",
       "      <th>259</th>\n",
       "      <td>2022-12-30</td>\n",
       "      <td>1924917</td>\n",
       "    </tr>\n",
       "  </tbody>\n",
       "</table>\n",
       "<p>260 rows × 2 columns</p>\n",
       "</div>"
      ],
      "text/plain": [
       "           DATE  entries\n",
       "0    2022-01-03  1710796\n",
       "1    2022-01-04  1810000\n",
       "2    2022-01-05  1797963\n",
       "3    2022-01-06  1880303\n",
       "4    2022-01-07  1628217\n",
       "..          ...      ...\n",
       "255  2022-12-26  1152490\n",
       "256  2022-12-27  1779358\n",
       "257  2022-12-28  1913341\n",
       "258  2022-12-29  1957983\n",
       "259  2022-12-30  1924917\n",
       "\n",
       "[260 rows x 2 columns]"
      ]
     },
     "execution_count": 49,
     "metadata": {},
     "output_type": "execute_result"
    }
   ],
   "source": [
    "def entries_by_date(con, filters, verbose=False):\n",
    "    \"\"\"return dataframe of all entries by date, subject to filters\"\"\"\n",
    "\n",
    "    query = \"\"\"\n",
    "    select date, sum(entries) entries\n",
    "    from station_hourly\n",
    "    where TRUE\n",
    "    {% if startdate %} and date >= {{startdate}} {% endif %}\n",
    "    {% if enddate %} and date < {{enddate}} {% endif %}\n",
    "    {% if dow %} and dow in {{ dow | inclause }}  {% endif %}\n",
    "    {% if tod %} and hour in {{ tod | inclause }} {% endif %}\n",
    "    {% if cbd %} and cbd in {{ cbd | inclause }} {% endif %}\n",
    "    group by date\n",
    "    order by date\n",
    "    \"\"\"\n",
    "\n",
    "    return get_sql_from_template(con, query, filters, verbose)\n",
    "\n",
    "df_entries_by_date = entries_by_date(con, filters)\n",
    "\n",
    "df_entries_by_date\n",
    "\n"
   ]
  },
  {
   "cell_type": "code",
   "execution_count": 50,
   "metadata": {},
   "outputs": [
    {
     "data": {
      "application/vnd.plotly.v1+json": {
       "config": {
        "plotlyServerURL": "https://plot.ly"
       },
       "data": [
        {
         "hovertemplate": "DATE=%{x}<br>entries=%{y}<extra></extra>",
         "legendgroup": "",
         "line": {
          "color": "#636efa",
          "dash": "solid",
          "width": 2
         },
         "marker": {
          "symbol": "circle"
         },
         "mode": "lines",
         "name": "",
         "orientation": "v",
         "showlegend": false,
         "type": "scatter",
         "x": [
          "2022-01-03",
          "2022-01-04",
          "2022-01-05",
          "2022-01-06",
          "2022-01-07",
          "2022-01-10",
          "2022-01-11",
          "2022-01-12",
          "2022-01-13",
          "2022-01-14",
          "2022-01-17",
          "2022-01-18",
          "2022-01-19",
          "2022-01-20",
          "2022-01-21",
          "2022-01-24",
          "2022-01-25",
          "2022-01-26",
          "2022-01-27",
          "2022-01-28",
          "2022-01-31",
          "2022-02-01",
          "2022-02-02",
          "2022-02-03",
          "2022-02-04",
          "2022-02-07",
          "2022-02-08",
          "2022-02-09",
          "2022-02-10",
          "2022-02-11",
          "2022-02-14",
          "2022-02-15",
          "2022-02-16",
          "2022-02-17",
          "2022-02-18",
          "2022-02-21",
          "2022-02-22",
          "2022-02-23",
          "2022-02-24",
          "2022-02-25",
          "2022-02-28",
          "2022-03-01",
          "2022-03-02",
          "2022-03-03",
          "2022-03-04",
          "2022-03-07",
          "2022-03-08",
          "2022-03-09",
          "2022-03-10",
          "2022-03-11",
          "2022-03-14",
          "2022-03-15",
          "2022-03-16",
          "2022-03-17",
          "2022-03-18",
          "2022-03-21",
          "2022-03-22",
          "2022-03-23",
          "2022-03-24",
          "2022-03-25",
          "2022-03-28",
          "2022-03-29",
          "2022-03-30",
          "2022-03-31",
          "2022-04-01",
          "2022-04-04",
          "2022-04-05",
          "2022-04-06",
          "2022-04-07",
          "2022-04-08",
          "2022-04-11",
          "2022-04-12",
          "2022-04-13",
          "2022-04-14",
          "2022-04-15",
          "2022-04-18",
          "2022-04-19",
          "2022-04-20",
          "2022-04-21",
          "2022-04-22",
          "2022-04-25",
          "2022-04-26",
          "2022-04-27",
          "2022-04-28",
          "2022-04-29",
          "2022-05-02",
          "2022-05-03",
          "2022-05-04",
          "2022-05-05",
          "2022-05-06",
          "2022-05-09",
          "2022-05-10",
          "2022-05-11",
          "2022-05-12",
          "2022-05-13",
          "2022-05-16",
          "2022-05-17",
          "2022-05-18",
          "2022-05-19",
          "2022-05-20",
          "2022-05-23",
          "2022-05-24",
          "2022-05-25",
          "2022-05-26",
          "2022-05-27",
          "2022-05-30",
          "2022-05-31",
          "2022-06-01",
          "2022-06-02",
          "2022-06-03",
          "2022-06-06",
          "2022-06-07",
          "2022-06-08",
          "2022-06-09",
          "2022-06-10",
          "2022-06-13",
          "2022-06-14",
          "2022-06-15",
          "2022-06-16",
          "2022-06-17",
          "2022-06-20",
          "2022-06-21",
          "2022-06-22",
          "2022-06-23",
          "2022-06-24",
          "2022-06-27",
          "2022-06-28",
          "2022-06-29",
          "2022-06-30",
          "2022-07-01",
          "2022-07-04",
          "2022-07-05",
          "2022-07-06",
          "2022-07-07",
          "2022-07-08",
          "2022-07-11",
          "2022-07-12",
          "2022-07-13",
          "2022-07-14",
          "2022-07-15",
          "2022-07-18",
          "2022-07-19",
          "2022-07-20",
          "2022-07-21",
          "2022-07-22",
          "2022-07-25",
          "2022-07-26",
          "2022-07-27",
          "2022-07-28",
          "2022-07-29",
          "2022-08-01",
          "2022-08-02",
          "2022-08-03",
          "2022-08-04",
          "2022-08-05",
          "2022-08-08",
          "2022-08-09",
          "2022-08-10",
          "2022-08-11",
          "2022-08-12",
          "2022-08-15",
          "2022-08-16",
          "2022-08-17",
          "2022-08-18",
          "2022-08-19",
          "2022-08-22",
          "2022-08-23",
          "2022-08-24",
          "2022-08-25",
          "2022-08-26",
          "2022-08-29",
          "2022-08-30",
          "2022-08-31",
          "2022-09-01",
          "2022-09-02",
          "2022-09-05",
          "2022-09-06",
          "2022-09-07",
          "2022-09-08",
          "2022-09-09",
          "2022-09-12",
          "2022-09-13",
          "2022-09-14",
          "2022-09-15",
          "2022-09-16",
          "2022-09-19",
          "2022-09-20",
          "2022-09-21",
          "2022-09-22",
          "2022-09-23",
          "2022-09-26",
          "2022-09-27",
          "2022-09-28",
          "2022-09-29",
          "2022-09-30",
          "2022-10-03",
          "2022-10-04",
          "2022-10-05",
          "2022-10-06",
          "2022-10-07",
          "2022-10-10",
          "2022-10-11",
          "2022-10-12",
          "2022-10-13",
          "2022-10-14",
          "2022-10-17",
          "2022-10-18",
          "2022-10-19",
          "2022-10-20",
          "2022-10-21",
          "2022-10-24",
          "2022-10-25",
          "2022-10-26",
          "2022-10-27",
          "2022-10-28",
          "2022-10-31",
          "2022-11-01",
          "2022-11-02",
          "2022-11-03",
          "2022-11-04",
          "2022-11-07",
          "2022-11-08",
          "2022-11-09",
          "2022-11-10",
          "2022-11-11",
          "2022-11-14",
          "2022-11-15",
          "2022-11-16",
          "2022-11-17",
          "2022-11-18",
          "2022-11-21",
          "2022-11-22",
          "2022-11-23",
          "2022-11-24",
          "2022-11-25",
          "2022-11-28",
          "2022-11-29",
          "2022-11-30",
          "2022-12-01",
          "2022-12-02",
          "2022-12-05",
          "2022-12-06",
          "2022-12-07",
          "2022-12-08",
          "2022-12-09",
          "2022-12-12",
          "2022-12-13",
          "2022-12-14",
          "2022-12-15",
          "2022-12-16",
          "2022-12-19",
          "2022-12-20",
          "2022-12-21",
          "2022-12-22",
          "2022-12-23",
          "2022-12-26",
          "2022-12-27",
          "2022-12-28",
          "2022-12-29",
          "2022-12-30"
         ],
         "xaxis": "x",
         "y": [
          1710796,
          1810000,
          1797963,
          1880303,
          1628217,
          1823934,
          1786072,
          1914551,
          1960701,
          1941814,
          1179924,
          1971997,
          2056386,
          1971768,
          1954902,
          1970571,
          2095518,
          2095996,
          2088596,
          2038737,
          1925335,
          1940046,
          2226206,
          2222726,
          2057818,
          2115008,
          2297108,
          2345301,
          2365628,
          2260953,
          2169359,
          2296607,
          2341041,
          2353955,
          2225276,
          1429039,
          1991807,
          2149693,
          2137799,
          1887937,
          2204365,
          2360356,
          2410009,
          2398659,
          2279634,
          2238968,
          2411806,
          2309898,
          2453917,
          2355861,
          2221468,
          2429860,
          2470796,
          2344853,
          2379869,
          2245660,
          2413950,
          2422111,
          2339782,
          2352429,
          2194989,
          2393969,
          2446820,
          2436127,
          2356357,
          2291961,
          2453309,
          2411970,
          2415774,
          2403849,
          2350209,
          2301582,
          2390080,
          2425806,
          1981794,
          1957877,
          2103494,
          2222138,
          2192161,
          2104191,
          2204599,
          2366056,
          2462418,
          2448592,
          2343602,
          1951223,
          2431866,
          2438821,
          2500741,
          2324658,
          2238267,
          2427278,
          2462350,
          2469778,
          2325156,
          2216072,
          2459911,
          2528355,
          2440308,
          2371024,
          2278871,
          2426735,
          2452142,
          2418144,
          2222876,
          1200923,
          2253561,
          2426313,
          2372475,
          2318467,
          2217642,
          2398179,
          2457855,
          2294720,
          2349397,
          2243574,
          2423386,
          2444610,
          2358897,
          2239121,
          1681648,
          2312744,
          2306716,
          2300571,
          2219855,
          2065322,
          2188348,
          2233182,
          2164634,
          1935954,
          1052355,
          1956630,
          2076482,
          2117717,
          1979646,
          1974312,
          2131572,
          2174988,
          2169494,
          2022602,
          1881513,
          2100892,
          2148162,
          2088896,
          1971667,
          1862755,
          2123260,
          2167548,
          2111338,
          1967655,
          1877828,
          2079999,
          2148816,
          2091712,
          1939845,
          1882151,
          2006331,
          2084162,
          2067080,
          1961321,
          1867692,
          2031764,
          2049492,
          2025926,
          1953883,
          1774576,
          1963711,
          2016843,
          2039635,
          1855532,
          1884260,
          2023897,
          2058050,
          2039586,
          1901690,
          1110484,
          1945332,
          2199382,
          2354005,
          2294235,
          2246373,
          2388848,
          2476236,
          2472201,
          2334913,
          2256303,
          2461589,
          2538116,
          2435137,
          2378786,
          1861987,
          2076803,
          2439988,
          2435598,
          2308566,
          2236777,
          2243905,
          1993386,
          2504185,
          2362867,
          1664240,
          2378350,
          2488038,
          2408323,
          2331463,
          2185093,
          2400641,
          2487044,
          2471370,
          2328847,
          2211878,
          2414799,
          2485500,
          2509832,
          2360290,
          2211373,
          2433406,
          2478824,
          2474456,
          2349945,
          2264539,
          2176935,
          2432260,
          2417056,
          1862787,
          2219699,
          2376364,
          2383043,
          2409395,
          2265509,
          2166205,
          2281627,
          2150401,
          960414,
          1337853,
          2126660,
          2309917,
          2271367,
          2398872,
          2298328,
          2258990,
          2383877,
          2417081,
          2479704,
          2329544,
          2196070,
          2361150,
          2358813,
          2297907,
          2110057,
          2161320,
          2287622,
          2292175,
          2088893,
          1820545,
          1152490,
          1779358,
          1913341,
          1957983,
          1924917
         ],
         "yaxis": "y"
        }
       ],
       "layout": {
        "height": 360,
        "legend": {
         "title": {
          "text": "Legend Title"
         },
         "tracegroupgap": 0
        },
        "margin": {
         "t": 60
        },
        "paper_bgcolor": "LightSteelBlue",
        "plot_bgcolor": "white",
        "showlegend": false,
        "template": {
         "data": {
          "bar": [
           {
            "error_x": {
             "color": "#2a3f5f"
            },
            "error_y": {
             "color": "#2a3f5f"
            },
            "marker": {
             "line": {
              "color": "#E5ECF6",
              "width": 0.5
             },
             "pattern": {
              "fillmode": "overlay",
              "size": 10,
              "solidity": 0.2
             }
            },
            "type": "bar"
           }
          ],
          "barpolar": [
           {
            "marker": {
             "line": {
              "color": "#E5ECF6",
              "width": 0.5
             },
             "pattern": {
              "fillmode": "overlay",
              "size": 10,
              "solidity": 0.2
             }
            },
            "type": "barpolar"
           }
          ],
          "carpet": [
           {
            "aaxis": {
             "endlinecolor": "#2a3f5f",
             "gridcolor": "white",
             "linecolor": "white",
             "minorgridcolor": "white",
             "startlinecolor": "#2a3f5f"
            },
            "baxis": {
             "endlinecolor": "#2a3f5f",
             "gridcolor": "white",
             "linecolor": "white",
             "minorgridcolor": "white",
             "startlinecolor": "#2a3f5f"
            },
            "type": "carpet"
           }
          ],
          "choropleth": [
           {
            "colorbar": {
             "outlinewidth": 0,
             "ticks": ""
            },
            "type": "choropleth"
           }
          ],
          "contour": [
           {
            "colorbar": {
             "outlinewidth": 0,
             "ticks": ""
            },
            "colorscale": [
             [
              0,
              "#0d0887"
             ],
             [
              0.1111111111111111,
              "#46039f"
             ],
             [
              0.2222222222222222,
              "#7201a8"
             ],
             [
              0.3333333333333333,
              "#9c179e"
             ],
             [
              0.4444444444444444,
              "#bd3786"
             ],
             [
              0.5555555555555556,
              "#d8576b"
             ],
             [
              0.6666666666666666,
              "#ed7953"
             ],
             [
              0.7777777777777778,
              "#fb9f3a"
             ],
             [
              0.8888888888888888,
              "#fdca26"
             ],
             [
              1,
              "#f0f921"
             ]
            ],
            "type": "contour"
           }
          ],
          "contourcarpet": [
           {
            "colorbar": {
             "outlinewidth": 0,
             "ticks": ""
            },
            "type": "contourcarpet"
           }
          ],
          "heatmap": [
           {
            "colorbar": {
             "outlinewidth": 0,
             "ticks": ""
            },
            "colorscale": [
             [
              0,
              "#0d0887"
             ],
             [
              0.1111111111111111,
              "#46039f"
             ],
             [
              0.2222222222222222,
              "#7201a8"
             ],
             [
              0.3333333333333333,
              "#9c179e"
             ],
             [
              0.4444444444444444,
              "#bd3786"
             ],
             [
              0.5555555555555556,
              "#d8576b"
             ],
             [
              0.6666666666666666,
              "#ed7953"
             ],
             [
              0.7777777777777778,
              "#fb9f3a"
             ],
             [
              0.8888888888888888,
              "#fdca26"
             ],
             [
              1,
              "#f0f921"
             ]
            ],
            "type": "heatmap"
           }
          ],
          "heatmapgl": [
           {
            "colorbar": {
             "outlinewidth": 0,
             "ticks": ""
            },
            "colorscale": [
             [
              0,
              "#0d0887"
             ],
             [
              0.1111111111111111,
              "#46039f"
             ],
             [
              0.2222222222222222,
              "#7201a8"
             ],
             [
              0.3333333333333333,
              "#9c179e"
             ],
             [
              0.4444444444444444,
              "#bd3786"
             ],
             [
              0.5555555555555556,
              "#d8576b"
             ],
             [
              0.6666666666666666,
              "#ed7953"
             ],
             [
              0.7777777777777778,
              "#fb9f3a"
             ],
             [
              0.8888888888888888,
              "#fdca26"
             ],
             [
              1,
              "#f0f921"
             ]
            ],
            "type": "heatmapgl"
           }
          ],
          "histogram": [
           {
            "marker": {
             "pattern": {
              "fillmode": "overlay",
              "size": 10,
              "solidity": 0.2
             }
            },
            "type": "histogram"
           }
          ],
          "histogram2d": [
           {
            "colorbar": {
             "outlinewidth": 0,
             "ticks": ""
            },
            "colorscale": [
             [
              0,
              "#0d0887"
             ],
             [
              0.1111111111111111,
              "#46039f"
             ],
             [
              0.2222222222222222,
              "#7201a8"
             ],
             [
              0.3333333333333333,
              "#9c179e"
             ],
             [
              0.4444444444444444,
              "#bd3786"
             ],
             [
              0.5555555555555556,
              "#d8576b"
             ],
             [
              0.6666666666666666,
              "#ed7953"
             ],
             [
              0.7777777777777778,
              "#fb9f3a"
             ],
             [
              0.8888888888888888,
              "#fdca26"
             ],
             [
              1,
              "#f0f921"
             ]
            ],
            "type": "histogram2d"
           }
          ],
          "histogram2dcontour": [
           {
            "colorbar": {
             "outlinewidth": 0,
             "ticks": ""
            },
            "colorscale": [
             [
              0,
              "#0d0887"
             ],
             [
              0.1111111111111111,
              "#46039f"
             ],
             [
              0.2222222222222222,
              "#7201a8"
             ],
             [
              0.3333333333333333,
              "#9c179e"
             ],
             [
              0.4444444444444444,
              "#bd3786"
             ],
             [
              0.5555555555555556,
              "#d8576b"
             ],
             [
              0.6666666666666666,
              "#ed7953"
             ],
             [
              0.7777777777777778,
              "#fb9f3a"
             ],
             [
              0.8888888888888888,
              "#fdca26"
             ],
             [
              1,
              "#f0f921"
             ]
            ],
            "type": "histogram2dcontour"
           }
          ],
          "mesh3d": [
           {
            "colorbar": {
             "outlinewidth": 0,
             "ticks": ""
            },
            "type": "mesh3d"
           }
          ],
          "parcoords": [
           {
            "line": {
             "colorbar": {
              "outlinewidth": 0,
              "ticks": ""
             }
            },
            "type": "parcoords"
           }
          ],
          "pie": [
           {
            "automargin": true,
            "type": "pie"
           }
          ],
          "scatter": [
           {
            "fillpattern": {
             "fillmode": "overlay",
             "size": 10,
             "solidity": 0.2
            },
            "type": "scatter"
           }
          ],
          "scatter3d": [
           {
            "line": {
             "colorbar": {
              "outlinewidth": 0,
              "ticks": ""
             }
            },
            "marker": {
             "colorbar": {
              "outlinewidth": 0,
              "ticks": ""
             }
            },
            "type": "scatter3d"
           }
          ],
          "scattercarpet": [
           {
            "marker": {
             "colorbar": {
              "outlinewidth": 0,
              "ticks": ""
             }
            },
            "type": "scattercarpet"
           }
          ],
          "scattergeo": [
           {
            "marker": {
             "colorbar": {
              "outlinewidth": 0,
              "ticks": ""
             }
            },
            "type": "scattergeo"
           }
          ],
          "scattergl": [
           {
            "marker": {
             "colorbar": {
              "outlinewidth": 0,
              "ticks": ""
             }
            },
            "type": "scattergl"
           }
          ],
          "scattermapbox": [
           {
            "marker": {
             "colorbar": {
              "outlinewidth": 0,
              "ticks": ""
             }
            },
            "type": "scattermapbox"
           }
          ],
          "scatterpolar": [
           {
            "marker": {
             "colorbar": {
              "outlinewidth": 0,
              "ticks": ""
             }
            },
            "type": "scatterpolar"
           }
          ],
          "scatterpolargl": [
           {
            "marker": {
             "colorbar": {
              "outlinewidth": 0,
              "ticks": ""
             }
            },
            "type": "scatterpolargl"
           }
          ],
          "scatterternary": [
           {
            "marker": {
             "colorbar": {
              "outlinewidth": 0,
              "ticks": ""
             }
            },
            "type": "scatterternary"
           }
          ],
          "surface": [
           {
            "colorbar": {
             "outlinewidth": 0,
             "ticks": ""
            },
            "colorscale": [
             [
              0,
              "#0d0887"
             ],
             [
              0.1111111111111111,
              "#46039f"
             ],
             [
              0.2222222222222222,
              "#7201a8"
             ],
             [
              0.3333333333333333,
              "#9c179e"
             ],
             [
              0.4444444444444444,
              "#bd3786"
             ],
             [
              0.5555555555555556,
              "#d8576b"
             ],
             [
              0.6666666666666666,
              "#ed7953"
             ],
             [
              0.7777777777777778,
              "#fb9f3a"
             ],
             [
              0.8888888888888888,
              "#fdca26"
             ],
             [
              1,
              "#f0f921"
             ]
            ],
            "type": "surface"
           }
          ],
          "table": [
           {
            "cells": {
             "fill": {
              "color": "#EBF0F8"
             },
             "line": {
              "color": "white"
             }
            },
            "header": {
             "fill": {
              "color": "#C8D4E3"
             },
             "line": {
              "color": "white"
             }
            },
            "type": "table"
           }
          ]
         },
         "layout": {
          "annotationdefaults": {
           "arrowcolor": "#2a3f5f",
           "arrowhead": 0,
           "arrowwidth": 1
          },
          "autotypenumbers": "strict",
          "coloraxis": {
           "colorbar": {
            "outlinewidth": 0,
            "ticks": ""
           }
          },
          "colorscale": {
           "diverging": [
            [
             0,
             "#8e0152"
            ],
            [
             0.1,
             "#c51b7d"
            ],
            [
             0.2,
             "#de77ae"
            ],
            [
             0.3,
             "#f1b6da"
            ],
            [
             0.4,
             "#fde0ef"
            ],
            [
             0.5,
             "#f7f7f7"
            ],
            [
             0.6,
             "#e6f5d0"
            ],
            [
             0.7,
             "#b8e186"
            ],
            [
             0.8,
             "#7fbc41"
            ],
            [
             0.9,
             "#4d9221"
            ],
            [
             1,
             "#276419"
            ]
           ],
           "sequential": [
            [
             0,
             "#0d0887"
            ],
            [
             0.1111111111111111,
             "#46039f"
            ],
            [
             0.2222222222222222,
             "#7201a8"
            ],
            [
             0.3333333333333333,
             "#9c179e"
            ],
            [
             0.4444444444444444,
             "#bd3786"
            ],
            [
             0.5555555555555556,
             "#d8576b"
            ],
            [
             0.6666666666666666,
             "#ed7953"
            ],
            [
             0.7777777777777778,
             "#fb9f3a"
            ],
            [
             0.8888888888888888,
             "#fdca26"
            ],
            [
             1,
             "#f0f921"
            ]
           ],
           "sequentialminus": [
            [
             0,
             "#0d0887"
            ],
            [
             0.1111111111111111,
             "#46039f"
            ],
            [
             0.2222222222222222,
             "#7201a8"
            ],
            [
             0.3333333333333333,
             "#9c179e"
            ],
            [
             0.4444444444444444,
             "#bd3786"
            ],
            [
             0.5555555555555556,
             "#d8576b"
            ],
            [
             0.6666666666666666,
             "#ed7953"
            ],
            [
             0.7777777777777778,
             "#fb9f3a"
            ],
            [
             0.8888888888888888,
             "#fdca26"
            ],
            [
             1,
             "#f0f921"
            ]
           ]
          },
          "colorway": [
           "#636efa",
           "#EF553B",
           "#00cc96",
           "#ab63fa",
           "#FFA15A",
           "#19d3f3",
           "#FF6692",
           "#B6E880",
           "#FF97FF",
           "#FECB52"
          ],
          "font": {
           "color": "#2a3f5f"
          },
          "geo": {
           "bgcolor": "white",
           "lakecolor": "white",
           "landcolor": "#E5ECF6",
           "showlakes": true,
           "showland": true,
           "subunitcolor": "white"
          },
          "hoverlabel": {
           "align": "left"
          },
          "hovermode": "closest",
          "mapbox": {
           "style": "light"
          },
          "paper_bgcolor": "white",
          "plot_bgcolor": "#E5ECF6",
          "polar": {
           "angularaxis": {
            "gridcolor": "white",
            "linecolor": "white",
            "ticks": ""
           },
           "bgcolor": "#E5ECF6",
           "radialaxis": {
            "gridcolor": "white",
            "linecolor": "white",
            "ticks": ""
           }
          },
          "scene": {
           "xaxis": {
            "backgroundcolor": "#E5ECF6",
            "gridcolor": "white",
            "gridwidth": 2,
            "linecolor": "white",
            "showbackground": true,
            "ticks": "",
            "zerolinecolor": "white"
           },
           "yaxis": {
            "backgroundcolor": "#E5ECF6",
            "gridcolor": "white",
            "gridwidth": 2,
            "linecolor": "white",
            "showbackground": true,
            "ticks": "",
            "zerolinecolor": "white"
           },
           "zaxis": {
            "backgroundcolor": "#E5ECF6",
            "gridcolor": "white",
            "gridwidth": 2,
            "linecolor": "white",
            "showbackground": true,
            "ticks": "",
            "zerolinecolor": "white"
           }
          },
          "shapedefaults": {
           "line": {
            "color": "#2a3f5f"
           }
          },
          "ternary": {
           "aaxis": {
            "gridcolor": "white",
            "linecolor": "white",
            "ticks": ""
           },
           "baxis": {
            "gridcolor": "white",
            "linecolor": "white",
            "ticks": ""
           },
           "bgcolor": "#E5ECF6",
           "caxis": {
            "gridcolor": "white",
            "linecolor": "white",
            "ticks": ""
           }
          },
          "title": {
           "x": 0.05
          },
          "xaxis": {
           "automargin": true,
           "gridcolor": "white",
           "linecolor": "white",
           "ticks": "",
           "title": {
            "standoff": 15
           },
           "zerolinecolor": "white",
           "zerolinewidth": 2
          },
          "yaxis": {
           "automargin": true,
           "gridcolor": "white",
           "linecolor": "white",
           "ticks": "",
           "title": {
            "standoff": 15
           },
           "zerolinecolor": "white",
           "zerolinewidth": 2
          }
         }
        },
        "xaxis": {
         "anchor": "y",
         "domain": [
          0,
          1
         ],
         "linecolor": "black",
         "mirror": true,
         "showgrid": true,
         "showline": true,
         "showticklabels": true,
         "tickfont": {
          "color": "black"
         },
         "ticks": "inside",
         "title": {
          "text": "Date"
         },
         "visible": true,
         "zeroline": false
        },
        "yaxis": {
         "anchor": "x",
         "domain": [
          0,
          1
         ],
         "linecolor": "black",
         "mirror": true,
         "showgrid": true,
         "showline": true,
         "showticklabels": true,
         "side": "left",
         "tickfont": {
          "color": "black"
         },
         "ticks": "inside",
         "title": {
          "text": "Entries"
         },
         "visible": true,
         "zeroline": false
        }
       }
      },
      "text/html": [
       "<div>                            <div id=\"39f5f84c-2f8a-4bcb-93b5-962c2b353bda\" class=\"plotly-graph-div\" style=\"height:360px; width:100%;\"></div>            <script type=\"text/javascript\">                require([\"plotly\"], function(Plotly) {                    window.PLOTLYENV=window.PLOTLYENV || {};                                    if (document.getElementById(\"39f5f84c-2f8a-4bcb-93b5-962c2b353bda\")) {                    Plotly.newPlot(                        \"39f5f84c-2f8a-4bcb-93b5-962c2b353bda\",                        [{\"hovertemplate\":\"DATE=%{x}<br>entries=%{y}<extra></extra>\",\"legendgroup\":\"\",\"line\":{\"color\":\"#636efa\",\"dash\":\"solid\",\"width\":2},\"marker\":{\"symbol\":\"circle\"},\"mode\":\"lines\",\"name\":\"\",\"orientation\":\"v\",\"showlegend\":false,\"x\":[\"2022-01-03\",\"2022-01-04\",\"2022-01-05\",\"2022-01-06\",\"2022-01-07\",\"2022-01-10\",\"2022-01-11\",\"2022-01-12\",\"2022-01-13\",\"2022-01-14\",\"2022-01-17\",\"2022-01-18\",\"2022-01-19\",\"2022-01-20\",\"2022-01-21\",\"2022-01-24\",\"2022-01-25\",\"2022-01-26\",\"2022-01-27\",\"2022-01-28\",\"2022-01-31\",\"2022-02-01\",\"2022-02-02\",\"2022-02-03\",\"2022-02-04\",\"2022-02-07\",\"2022-02-08\",\"2022-02-09\",\"2022-02-10\",\"2022-02-11\",\"2022-02-14\",\"2022-02-15\",\"2022-02-16\",\"2022-02-17\",\"2022-02-18\",\"2022-02-21\",\"2022-02-22\",\"2022-02-23\",\"2022-02-24\",\"2022-02-25\",\"2022-02-28\",\"2022-03-01\",\"2022-03-02\",\"2022-03-03\",\"2022-03-04\",\"2022-03-07\",\"2022-03-08\",\"2022-03-09\",\"2022-03-10\",\"2022-03-11\",\"2022-03-14\",\"2022-03-15\",\"2022-03-16\",\"2022-03-17\",\"2022-03-18\",\"2022-03-21\",\"2022-03-22\",\"2022-03-23\",\"2022-03-24\",\"2022-03-25\",\"2022-03-28\",\"2022-03-29\",\"2022-03-30\",\"2022-03-31\",\"2022-04-01\",\"2022-04-04\",\"2022-04-05\",\"2022-04-06\",\"2022-04-07\",\"2022-04-08\",\"2022-04-11\",\"2022-04-12\",\"2022-04-13\",\"2022-04-14\",\"2022-04-15\",\"2022-04-18\",\"2022-04-19\",\"2022-04-20\",\"2022-04-21\",\"2022-04-22\",\"2022-04-25\",\"2022-04-26\",\"2022-04-27\",\"2022-04-28\",\"2022-04-29\",\"2022-05-02\",\"2022-05-03\",\"2022-05-04\",\"2022-05-05\",\"2022-05-06\",\"2022-05-09\",\"2022-05-10\",\"2022-05-11\",\"2022-05-12\",\"2022-05-13\",\"2022-05-16\",\"2022-05-17\",\"2022-05-18\",\"2022-05-19\",\"2022-05-20\",\"2022-05-23\",\"2022-05-24\",\"2022-05-25\",\"2022-05-26\",\"2022-05-27\",\"2022-05-30\",\"2022-05-31\",\"2022-06-01\",\"2022-06-02\",\"2022-06-03\",\"2022-06-06\",\"2022-06-07\",\"2022-06-08\",\"2022-06-09\",\"2022-06-10\",\"2022-06-13\",\"2022-06-14\",\"2022-06-15\",\"2022-06-16\",\"2022-06-17\",\"2022-06-20\",\"2022-06-21\",\"2022-06-22\",\"2022-06-23\",\"2022-06-24\",\"2022-06-27\",\"2022-06-28\",\"2022-06-29\",\"2022-06-30\",\"2022-07-01\",\"2022-07-04\",\"2022-07-05\",\"2022-07-06\",\"2022-07-07\",\"2022-07-08\",\"2022-07-11\",\"2022-07-12\",\"2022-07-13\",\"2022-07-14\",\"2022-07-15\",\"2022-07-18\",\"2022-07-19\",\"2022-07-20\",\"2022-07-21\",\"2022-07-22\",\"2022-07-25\",\"2022-07-26\",\"2022-07-27\",\"2022-07-28\",\"2022-07-29\",\"2022-08-01\",\"2022-08-02\",\"2022-08-03\",\"2022-08-04\",\"2022-08-05\",\"2022-08-08\",\"2022-08-09\",\"2022-08-10\",\"2022-08-11\",\"2022-08-12\",\"2022-08-15\",\"2022-08-16\",\"2022-08-17\",\"2022-08-18\",\"2022-08-19\",\"2022-08-22\",\"2022-08-23\",\"2022-08-24\",\"2022-08-25\",\"2022-08-26\",\"2022-08-29\",\"2022-08-30\",\"2022-08-31\",\"2022-09-01\",\"2022-09-02\",\"2022-09-05\",\"2022-09-06\",\"2022-09-07\",\"2022-09-08\",\"2022-09-09\",\"2022-09-12\",\"2022-09-13\",\"2022-09-14\",\"2022-09-15\",\"2022-09-16\",\"2022-09-19\",\"2022-09-20\",\"2022-09-21\",\"2022-09-22\",\"2022-09-23\",\"2022-09-26\",\"2022-09-27\",\"2022-09-28\",\"2022-09-29\",\"2022-09-30\",\"2022-10-03\",\"2022-10-04\",\"2022-10-05\",\"2022-10-06\",\"2022-10-07\",\"2022-10-10\",\"2022-10-11\",\"2022-10-12\",\"2022-10-13\",\"2022-10-14\",\"2022-10-17\",\"2022-10-18\",\"2022-10-19\",\"2022-10-20\",\"2022-10-21\",\"2022-10-24\",\"2022-10-25\",\"2022-10-26\",\"2022-10-27\",\"2022-10-28\",\"2022-10-31\",\"2022-11-01\",\"2022-11-02\",\"2022-11-03\",\"2022-11-04\",\"2022-11-07\",\"2022-11-08\",\"2022-11-09\",\"2022-11-10\",\"2022-11-11\",\"2022-11-14\",\"2022-11-15\",\"2022-11-16\",\"2022-11-17\",\"2022-11-18\",\"2022-11-21\",\"2022-11-22\",\"2022-11-23\",\"2022-11-24\",\"2022-11-25\",\"2022-11-28\",\"2022-11-29\",\"2022-11-30\",\"2022-12-01\",\"2022-12-02\",\"2022-12-05\",\"2022-12-06\",\"2022-12-07\",\"2022-12-08\",\"2022-12-09\",\"2022-12-12\",\"2022-12-13\",\"2022-12-14\",\"2022-12-15\",\"2022-12-16\",\"2022-12-19\",\"2022-12-20\",\"2022-12-21\",\"2022-12-22\",\"2022-12-23\",\"2022-12-26\",\"2022-12-27\",\"2022-12-28\",\"2022-12-29\",\"2022-12-30\"],\"xaxis\":\"x\",\"y\":[1710796,1810000,1797963,1880303,1628217,1823934,1786072,1914551,1960701,1941814,1179924,1971997,2056386,1971768,1954902,1970571,2095518,2095996,2088596,2038737,1925335,1940046,2226206,2222726,2057818,2115008,2297108,2345301,2365628,2260953,2169359,2296607,2341041,2353955,2225276,1429039,1991807,2149693,2137799,1887937,2204365,2360356,2410009,2398659,2279634,2238968,2411806,2309898,2453917,2355861,2221468,2429860,2470796,2344853,2379869,2245660,2413950,2422111,2339782,2352429,2194989,2393969,2446820,2436127,2356357,2291961,2453309,2411970,2415774,2403849,2350209,2301582,2390080,2425806,1981794,1957877,2103494,2222138,2192161,2104191,2204599,2366056,2462418,2448592,2343602,1951223,2431866,2438821,2500741,2324658,2238267,2427278,2462350,2469778,2325156,2216072,2459911,2528355,2440308,2371024,2278871,2426735,2452142,2418144,2222876,1200923,2253561,2426313,2372475,2318467,2217642,2398179,2457855,2294720,2349397,2243574,2423386,2444610,2358897,2239121,1681648,2312744,2306716,2300571,2219855,2065322,2188348,2233182,2164634,1935954,1052355,1956630,2076482,2117717,1979646,1974312,2131572,2174988,2169494,2022602,1881513,2100892,2148162,2088896,1971667,1862755,2123260,2167548,2111338,1967655,1877828,2079999,2148816,2091712,1939845,1882151,2006331,2084162,2067080,1961321,1867692,2031764,2049492,2025926,1953883,1774576,1963711,2016843,2039635,1855532,1884260,2023897,2058050,2039586,1901690,1110484,1945332,2199382,2354005,2294235,2246373,2388848,2476236,2472201,2334913,2256303,2461589,2538116,2435137,2378786,1861987,2076803,2439988,2435598,2308566,2236777,2243905,1993386,2504185,2362867,1664240,2378350,2488038,2408323,2331463,2185093,2400641,2487044,2471370,2328847,2211878,2414799,2485500,2509832,2360290,2211373,2433406,2478824,2474456,2349945,2264539,2176935,2432260,2417056,1862787,2219699,2376364,2383043,2409395,2265509,2166205,2281627,2150401,960414,1337853,2126660,2309917,2271367,2398872,2298328,2258990,2383877,2417081,2479704,2329544,2196070,2361150,2358813,2297907,2110057,2161320,2287622,2292175,2088893,1820545,1152490,1779358,1913341,1957983,1924917],\"yaxis\":\"y\",\"type\":\"scatter\"}],                        {\"template\":{\"data\":{\"histogram2dcontour\":[{\"type\":\"histogram2dcontour\",\"colorbar\":{\"outlinewidth\":0,\"ticks\":\"\"},\"colorscale\":[[0.0,\"#0d0887\"],[0.1111111111111111,\"#46039f\"],[0.2222222222222222,\"#7201a8\"],[0.3333333333333333,\"#9c179e\"],[0.4444444444444444,\"#bd3786\"],[0.5555555555555556,\"#d8576b\"],[0.6666666666666666,\"#ed7953\"],[0.7777777777777778,\"#fb9f3a\"],[0.8888888888888888,\"#fdca26\"],[1.0,\"#f0f921\"]]}],\"choropleth\":[{\"type\":\"choropleth\",\"colorbar\":{\"outlinewidth\":0,\"ticks\":\"\"}}],\"histogram2d\":[{\"type\":\"histogram2d\",\"colorbar\":{\"outlinewidth\":0,\"ticks\":\"\"},\"colorscale\":[[0.0,\"#0d0887\"],[0.1111111111111111,\"#46039f\"],[0.2222222222222222,\"#7201a8\"],[0.3333333333333333,\"#9c179e\"],[0.4444444444444444,\"#bd3786\"],[0.5555555555555556,\"#d8576b\"],[0.6666666666666666,\"#ed7953\"],[0.7777777777777778,\"#fb9f3a\"],[0.8888888888888888,\"#fdca26\"],[1.0,\"#f0f921\"]]}],\"heatmap\":[{\"type\":\"heatmap\",\"colorbar\":{\"outlinewidth\":0,\"ticks\":\"\"},\"colorscale\":[[0.0,\"#0d0887\"],[0.1111111111111111,\"#46039f\"],[0.2222222222222222,\"#7201a8\"],[0.3333333333333333,\"#9c179e\"],[0.4444444444444444,\"#bd3786\"],[0.5555555555555556,\"#d8576b\"],[0.6666666666666666,\"#ed7953\"],[0.7777777777777778,\"#fb9f3a\"],[0.8888888888888888,\"#fdca26\"],[1.0,\"#f0f921\"]]}],\"heatmapgl\":[{\"type\":\"heatmapgl\",\"colorbar\":{\"outlinewidth\":0,\"ticks\":\"\"},\"colorscale\":[[0.0,\"#0d0887\"],[0.1111111111111111,\"#46039f\"],[0.2222222222222222,\"#7201a8\"],[0.3333333333333333,\"#9c179e\"],[0.4444444444444444,\"#bd3786\"],[0.5555555555555556,\"#d8576b\"],[0.6666666666666666,\"#ed7953\"],[0.7777777777777778,\"#fb9f3a\"],[0.8888888888888888,\"#fdca26\"],[1.0,\"#f0f921\"]]}],\"contourcarpet\":[{\"type\":\"contourcarpet\",\"colorbar\":{\"outlinewidth\":0,\"ticks\":\"\"}}],\"contour\":[{\"type\":\"contour\",\"colorbar\":{\"outlinewidth\":0,\"ticks\":\"\"},\"colorscale\":[[0.0,\"#0d0887\"],[0.1111111111111111,\"#46039f\"],[0.2222222222222222,\"#7201a8\"],[0.3333333333333333,\"#9c179e\"],[0.4444444444444444,\"#bd3786\"],[0.5555555555555556,\"#d8576b\"],[0.6666666666666666,\"#ed7953\"],[0.7777777777777778,\"#fb9f3a\"],[0.8888888888888888,\"#fdca26\"],[1.0,\"#f0f921\"]]}],\"surface\":[{\"type\":\"surface\",\"colorbar\":{\"outlinewidth\":0,\"ticks\":\"\"},\"colorscale\":[[0.0,\"#0d0887\"],[0.1111111111111111,\"#46039f\"],[0.2222222222222222,\"#7201a8\"],[0.3333333333333333,\"#9c179e\"],[0.4444444444444444,\"#bd3786\"],[0.5555555555555556,\"#d8576b\"],[0.6666666666666666,\"#ed7953\"],[0.7777777777777778,\"#fb9f3a\"],[0.8888888888888888,\"#fdca26\"],[1.0,\"#f0f921\"]]}],\"mesh3d\":[{\"type\":\"mesh3d\",\"colorbar\":{\"outlinewidth\":0,\"ticks\":\"\"}}],\"scatter\":[{\"fillpattern\":{\"fillmode\":\"overlay\",\"size\":10,\"solidity\":0.2},\"type\":\"scatter\"}],\"parcoords\":[{\"type\":\"parcoords\",\"line\":{\"colorbar\":{\"outlinewidth\":0,\"ticks\":\"\"}}}],\"scatterpolargl\":[{\"type\":\"scatterpolargl\",\"marker\":{\"colorbar\":{\"outlinewidth\":0,\"ticks\":\"\"}}}],\"bar\":[{\"error_x\":{\"color\":\"#2a3f5f\"},\"error_y\":{\"color\":\"#2a3f5f\"},\"marker\":{\"line\":{\"color\":\"#E5ECF6\",\"width\":0.5},\"pattern\":{\"fillmode\":\"overlay\",\"size\":10,\"solidity\":0.2}},\"type\":\"bar\"}],\"scattergeo\":[{\"type\":\"scattergeo\",\"marker\":{\"colorbar\":{\"outlinewidth\":0,\"ticks\":\"\"}}}],\"scatterpolar\":[{\"type\":\"scatterpolar\",\"marker\":{\"colorbar\":{\"outlinewidth\":0,\"ticks\":\"\"}}}],\"histogram\":[{\"marker\":{\"pattern\":{\"fillmode\":\"overlay\",\"size\":10,\"solidity\":0.2}},\"type\":\"histogram\"}],\"scattergl\":[{\"type\":\"scattergl\",\"marker\":{\"colorbar\":{\"outlinewidth\":0,\"ticks\":\"\"}}}],\"scatter3d\":[{\"type\":\"scatter3d\",\"line\":{\"colorbar\":{\"outlinewidth\":0,\"ticks\":\"\"}},\"marker\":{\"colorbar\":{\"outlinewidth\":0,\"ticks\":\"\"}}}],\"scattermapbox\":[{\"type\":\"scattermapbox\",\"marker\":{\"colorbar\":{\"outlinewidth\":0,\"ticks\":\"\"}}}],\"scatterternary\":[{\"type\":\"scatterternary\",\"marker\":{\"colorbar\":{\"outlinewidth\":0,\"ticks\":\"\"}}}],\"scattercarpet\":[{\"type\":\"scattercarpet\",\"marker\":{\"colorbar\":{\"outlinewidth\":0,\"ticks\":\"\"}}}],\"carpet\":[{\"aaxis\":{\"endlinecolor\":\"#2a3f5f\",\"gridcolor\":\"white\",\"linecolor\":\"white\",\"minorgridcolor\":\"white\",\"startlinecolor\":\"#2a3f5f\"},\"baxis\":{\"endlinecolor\":\"#2a3f5f\",\"gridcolor\":\"white\",\"linecolor\":\"white\",\"minorgridcolor\":\"white\",\"startlinecolor\":\"#2a3f5f\"},\"type\":\"carpet\"}],\"table\":[{\"cells\":{\"fill\":{\"color\":\"#EBF0F8\"},\"line\":{\"color\":\"white\"}},\"header\":{\"fill\":{\"color\":\"#C8D4E3\"},\"line\":{\"color\":\"white\"}},\"type\":\"table\"}],\"barpolar\":[{\"marker\":{\"line\":{\"color\":\"#E5ECF6\",\"width\":0.5},\"pattern\":{\"fillmode\":\"overlay\",\"size\":10,\"solidity\":0.2}},\"type\":\"barpolar\"}],\"pie\":[{\"automargin\":true,\"type\":\"pie\"}]},\"layout\":{\"autotypenumbers\":\"strict\",\"colorway\":[\"#636efa\",\"#EF553B\",\"#00cc96\",\"#ab63fa\",\"#FFA15A\",\"#19d3f3\",\"#FF6692\",\"#B6E880\",\"#FF97FF\",\"#FECB52\"],\"font\":{\"color\":\"#2a3f5f\"},\"hovermode\":\"closest\",\"hoverlabel\":{\"align\":\"left\"},\"paper_bgcolor\":\"white\",\"plot_bgcolor\":\"#E5ECF6\",\"polar\":{\"bgcolor\":\"#E5ECF6\",\"angularaxis\":{\"gridcolor\":\"white\",\"linecolor\":\"white\",\"ticks\":\"\"},\"radialaxis\":{\"gridcolor\":\"white\",\"linecolor\":\"white\",\"ticks\":\"\"}},\"ternary\":{\"bgcolor\":\"#E5ECF6\",\"aaxis\":{\"gridcolor\":\"white\",\"linecolor\":\"white\",\"ticks\":\"\"},\"baxis\":{\"gridcolor\":\"white\",\"linecolor\":\"white\",\"ticks\":\"\"},\"caxis\":{\"gridcolor\":\"white\",\"linecolor\":\"white\",\"ticks\":\"\"}},\"coloraxis\":{\"colorbar\":{\"outlinewidth\":0,\"ticks\":\"\"}},\"colorscale\":{\"sequential\":[[0.0,\"#0d0887\"],[0.1111111111111111,\"#46039f\"],[0.2222222222222222,\"#7201a8\"],[0.3333333333333333,\"#9c179e\"],[0.4444444444444444,\"#bd3786\"],[0.5555555555555556,\"#d8576b\"],[0.6666666666666666,\"#ed7953\"],[0.7777777777777778,\"#fb9f3a\"],[0.8888888888888888,\"#fdca26\"],[1.0,\"#f0f921\"]],\"sequentialminus\":[[0.0,\"#0d0887\"],[0.1111111111111111,\"#46039f\"],[0.2222222222222222,\"#7201a8\"],[0.3333333333333333,\"#9c179e\"],[0.4444444444444444,\"#bd3786\"],[0.5555555555555556,\"#d8576b\"],[0.6666666666666666,\"#ed7953\"],[0.7777777777777778,\"#fb9f3a\"],[0.8888888888888888,\"#fdca26\"],[1.0,\"#f0f921\"]],\"diverging\":[[0,\"#8e0152\"],[0.1,\"#c51b7d\"],[0.2,\"#de77ae\"],[0.3,\"#f1b6da\"],[0.4,\"#fde0ef\"],[0.5,\"#f7f7f7\"],[0.6,\"#e6f5d0\"],[0.7,\"#b8e186\"],[0.8,\"#7fbc41\"],[0.9,\"#4d9221\"],[1,\"#276419\"]]},\"xaxis\":{\"gridcolor\":\"white\",\"linecolor\":\"white\",\"ticks\":\"\",\"title\":{\"standoff\":15},\"zerolinecolor\":\"white\",\"automargin\":true,\"zerolinewidth\":2},\"yaxis\":{\"gridcolor\":\"white\",\"linecolor\":\"white\",\"ticks\":\"\",\"title\":{\"standoff\":15},\"zerolinecolor\":\"white\",\"automargin\":true,\"zerolinewidth\":2},\"scene\":{\"xaxis\":{\"backgroundcolor\":\"#E5ECF6\",\"gridcolor\":\"white\",\"linecolor\":\"white\",\"showbackground\":true,\"ticks\":\"\",\"zerolinecolor\":\"white\",\"gridwidth\":2},\"yaxis\":{\"backgroundcolor\":\"#E5ECF6\",\"gridcolor\":\"white\",\"linecolor\":\"white\",\"showbackground\":true,\"ticks\":\"\",\"zerolinecolor\":\"white\",\"gridwidth\":2},\"zaxis\":{\"backgroundcolor\":\"#E5ECF6\",\"gridcolor\":\"white\",\"linecolor\":\"white\",\"showbackground\":true,\"ticks\":\"\",\"zerolinecolor\":\"white\",\"gridwidth\":2}},\"shapedefaults\":{\"line\":{\"color\":\"#2a3f5f\"}},\"annotationdefaults\":{\"arrowcolor\":\"#2a3f5f\",\"arrowhead\":0,\"arrowwidth\":1},\"geo\":{\"bgcolor\":\"white\",\"landcolor\":\"#E5ECF6\",\"subunitcolor\":\"white\",\"showland\":true,\"showlakes\":true,\"lakecolor\":\"white\"},\"title\":{\"x\":0.05},\"mapbox\":{\"style\":\"light\"}}},\"xaxis\":{\"anchor\":\"y\",\"domain\":[0.0,1.0],\"title\":{\"text\":\"Date\"},\"tickfont\":{\"color\":\"black\"},\"ticks\":\"inside\",\"showgrid\":true,\"zeroline\":false,\"visible\":true,\"showline\":true,\"linecolor\":\"black\",\"showticklabels\":true,\"mirror\":true},\"yaxis\":{\"anchor\":\"x\",\"domain\":[0.0,1.0],\"title\":{\"text\":\"Entries\"},\"tickfont\":{\"color\":\"black\"},\"ticks\":\"inside\",\"showgrid\":true,\"zeroline\":false,\"visible\":true,\"showline\":true,\"linecolor\":\"black\",\"showticklabels\":true,\"side\":\"left\",\"mirror\":true},\"legend\":{\"tracegroupgap\":0,\"title\":{\"text\":\"Legend Title\"}},\"margin\":{\"t\":60},\"height\":360,\"paper_bgcolor\":\"LightSteelBlue\",\"showlegend\":false,\"plot_bgcolor\":\"white\"},                        {\"responsive\": true}                    ).then(function(){\n",
       "                            \n",
       "var gd = document.getElementById('39f5f84c-2f8a-4bcb-93b5-962c2b353bda');\n",
       "var x = new MutationObserver(function (mutations, observer) {{\n",
       "        var display = window.getComputedStyle(gd).display;\n",
       "        if (!display || display === 'none') {{\n",
       "            console.log([gd, 'removed!']);\n",
       "            Plotly.purge(gd);\n",
       "            observer.disconnect();\n",
       "        }}\n",
       "}});\n",
       "\n",
       "// Listen for the removal of the full notebook cells\n",
       "var notebookContainer = gd.closest('#notebook-container');\n",
       "if (notebookContainer) {{\n",
       "    x.observe(notebookContainer, {childList: true});\n",
       "}}\n",
       "\n",
       "// Listen for the clearing of the current output cell\n",
       "var outputEl = gd.closest('.output');\n",
       "if (outputEl) {{\n",
       "    x.observe(outputEl, {childList: true});\n",
       "}}\n",
       "\n",
       "                        })                };                });            </script>        </div>"
      ]
     },
     "metadata": {},
     "output_type": "display_data"
    }
   ],
   "source": [
    "fig1 = px.line(df_entries_by_date, x=\"DATE\", y=\"entries\", height=360)\n",
    "fig1.update_traces(line=dict(width=2))\n",
    "fig1.update_layout(\n",
    "    paper_bgcolor=\"LightSteelBlue\",\n",
    "    showlegend=False,\n",
    "    plot_bgcolor=\"white\",\n",
    "    xaxis_title=\"Date\",\n",
    "    yaxis_title=\"Entries\",\n",
    "    legend_title=\"Legend Title\",\n",
    "\n",
    "    xaxis={\n",
    "        'ticks': 'inside',\n",
    "        'showgrid': True,            # thin lines in the background\n",
    "        'zeroline': False,           # thick line at x=0\n",
    "        'visible': True,             # numbers below\n",
    "        'showline': True,            # Show X-Axis\n",
    "        'linecolor': 'black',        # Color of X-axis\n",
    "        'tickfont_color': 'black',   # Color of ticks\n",
    "        'showticklabels': True,      # Show X labels\n",
    "        'mirror': True,              # draw right axis\n",
    "    },\n",
    "    yaxis={\n",
    "        'ticks': 'inside',\n",
    "        'showgrid': True,            # thin lines in the background\n",
    "        'zeroline': False,           # thick line at x=0\n",
    "        'visible': True,             # numbers below\n",
    "        'showline': True,            # Show X-Axis\n",
    "        'linecolor': 'black',        # Color of X-axis\n",
    "        'tickfont_color': 'black',   # Color of ticks\n",
    "        'showticklabels': True,      # Show X labels\n",
    "        'side': 'left',\n",
    "        'mirror': True,\n",
    "    },\n",
    "    #     font=dict(\n",
    "    #         family=\"Courier New, monospace\",\n",
    "    #         size=18,\n",
    "    #         color=\"RebeccaPurple\"\n",
    "    #     )\n",
    " )\n",
    "\n"
   ]
  },
  {
   "cell_type": "code",
   "execution_count": 66,
   "metadata": {},
   "outputs": [
    {
     "name": "stdout",
     "output_type": "stream",
     "text": [
      "\n",
      "    with sh as\n",
      "        (select\n",
      "            date,\n",
      "            dow,\n",
      "            sum(entries) as entries,\n",
      "        from\n",
      "            station_hourly\n",
      "        where TRUE\n",
      "        group by date, dow),\n",
      "    sh1 as\n",
      "        (select\n",
      "            dow,\n",
      "            sum(entries) as entries,\n",
      "            count(*) as n,\n",
      "            sum(entries)/n as entries_per_day\n",
      "        from\n",
      "            sh\n",
      "        group by\n",
      "            dow),\n",
      "    sh2019 as\n",
      "        (select\n",
      "            dow,\n",
      "            sum(entries) as entries_2019,\n",
      "            count(*) as n_2019,\n",
      "        from\n",
      "            sh\n",
      "        where date_part('year', DATE)=2019\n",
      "        group by\n",
      "            dow),\n",
      "    sh_pandemic as\n",
      "        (select\n",
      "            dow,\n",
      "            sum(entries) as entries_pandemic,\n",
      "            count(*) as n_pandemic,\n",
      "        from\n",
      "            sh\n",
      "        where date>='2020-04-01' and date <'2021-04-01'\n",
      "        group by\n",
      "            dow)\n",
      "    select\n",
      "        sh1.dow,\n",
      "        sh1.entries_per_day,\n",
      "        sh_pandemic.entries_pandemic/sh_pandemic.n_pandemic as avg_pandemic,\n",
      "        sh2019.entries_2019/sh2019.n_2019 as avg_2019\n",
      "    from\n",
      "        sh1 join sh2019 on sh1.dow = sh2019.dow\n",
      "        join sh_pandemic on sh1.dow=sh_pandemic.dow\n",
      "    \n"
     ]
    },
    {
     "data": {
      "text/html": [
       "<div>\n",
       "<style scoped>\n",
       "    .dataframe tbody tr th:only-of-type {\n",
       "        vertical-align: middle;\n",
       "    }\n",
       "\n",
       "    .dataframe tbody tr th {\n",
       "        vertical-align: top;\n",
       "    }\n",
       "\n",
       "    .dataframe thead th {\n",
       "        text-align: right;\n",
       "    }\n",
       "</style>\n",
       "<table border=\"1\" class=\"dataframe\">\n",
       "  <thead>\n",
       "    <tr style=\"text-align: right;\">\n",
       "      <th></th>\n",
       "      <th>dow</th>\n",
       "      <th>entries_per_day</th>\n",
       "      <th>avg_pandemic</th>\n",
       "      <th>avg_2019</th>\n",
       "    </tr>\n",
       "  </thead>\n",
       "  <tbody>\n",
       "    <tr>\n",
       "      <th>0</th>\n",
       "      <td>Thursday</td>\n",
       "      <td>2915979</td>\n",
       "      <td>1248762</td>\n",
       "      <td>5514089</td>\n",
       "    </tr>\n",
       "    <tr>\n",
       "      <th>1</th>\n",
       "      <td>Saturday</td>\n",
       "      <td>1728137</td>\n",
       "      <td>816391</td>\n",
       "      <td>3197802</td>\n",
       "    </tr>\n",
       "    <tr>\n",
       "      <th>2</th>\n",
       "      <td>Wednesday</td>\n",
       "      <td>2946000</td>\n",
       "      <td>1291611</td>\n",
       "      <td>5562314</td>\n",
       "    </tr>\n",
       "    <tr>\n",
       "      <th>3</th>\n",
       "      <td>Monday</td>\n",
       "      <td>2630426</td>\n",
       "      <td>1182892</td>\n",
       "      <td>5009493</td>\n",
       "    </tr>\n",
       "    <tr>\n",
       "      <th>4</th>\n",
       "      <td>Tuesday</td>\n",
       "      <td>2888182</td>\n",
       "      <td>1279562</td>\n",
       "      <td>5400089</td>\n",
       "    </tr>\n",
       "    <tr>\n",
       "      <th>5</th>\n",
       "      <td>Sunday</td>\n",
       "      <td>1377130</td>\n",
       "      <td>626980</td>\n",
       "      <td>2541992</td>\n",
       "    </tr>\n",
       "    <tr>\n",
       "      <th>6</th>\n",
       "      <td>Friday</td>\n",
       "      <td>2849426</td>\n",
       "      <td>1231698</td>\n",
       "      <td>5441720</td>\n",
       "    </tr>\n",
       "  </tbody>\n",
       "</table>\n",
       "</div>"
      ],
      "text/plain": [
       "         dow  entries_per_day  avg_pandemic  avg_2019\n",
       "0   Thursday          2915979       1248762   5514089\n",
       "1   Saturday          1728137        816391   3197802\n",
       "2  Wednesday          2946000       1291611   5562314\n",
       "3     Monday          2630426       1182892   5009493\n",
       "4    Tuesday          2888182       1279562   5400089\n",
       "5     Sunday          1377130        626980   2541992\n",
       "6     Friday          2849426       1231698   5441720"
      ]
     },
     "execution_count": 66,
     "metadata": {},
     "output_type": "execute_result"
    }
   ],
   "source": [
    "def entries_by_dow(con, filters, verbose=False):\n",
    "    \"\"\"return dataframe of all entries by day of week, subject to filters\"\"\"\n",
    "\n",
    "    query = \"\"\"\n",
    "    with sh as\n",
    "        (select\n",
    "            date,\n",
    "            dow,\n",
    "            sum(entries) as entries,\n",
    "        from\n",
    "            station_hourly\n",
    "        where TRUE\n",
    "        group by date, dow),\n",
    "    sh1 as\n",
    "        (select\n",
    "            dow,\n",
    "            sum(entries) as entries,\n",
    "            count(*) as n,\n",
    "            sum(entries)/n as entries_per_day\n",
    "        from\n",
    "            sh\n",
    "        group by\n",
    "            dow),\n",
    "    sh2019 as\n",
    "        (select\n",
    "            dow,\n",
    "            sum(entries) as entries_2019,\n",
    "            count(*) as n_2019,\n",
    "        from\n",
    "            sh\n",
    "        where date_part('year', DATE)=2019\n",
    "        group by\n",
    "            dow),\n",
    "    sh_pandemic as\n",
    "        (select\n",
    "            dow,\n",
    "            sum(entries) as entries_pandemic,\n",
    "            count(*) as n_pandemic,\n",
    "        from\n",
    "            sh\n",
    "        where date>='2020-04-01' and date <'2021-04-01'\n",
    "        group by\n",
    "            dow)\n",
    "    select\n",
    "        sh1.dow,\n",
    "        sh1.entries_per_day,\n",
    "        sh_pandemic.entries_pandemic/sh_pandemic.n_pandemic as avg_pandemic,\n",
    "        sh2019.entries_2019/sh2019.n_2019 as avg_2019\n",
    "    from\n",
    "        sh1 join sh2019 on sh1.dow = sh2019.dow\n",
    "        join sh_pandemic on sh1.dow=sh_pandemic.dow\n",
    "    \"\"\"\n",
    "\n",
    "    return get_sql_from_template(con, query, filters, verbose)\n",
    "\n",
    "\n",
    "df_entries_by_dow = entries_by_dow(con, filters, verbose=True)\n",
    "df_entries_by_dow\n",
    "\n",
    "\n"
   ]
  },
  {
   "cell_type": "code",
   "execution_count": 70,
   "metadata": {},
   "outputs": [
    {
     "data": {
      "text/html": [
       "<div>\n",
       "<style scoped>\n",
       "    .dataframe tbody tr th:only-of-type {\n",
       "        vertical-align: middle;\n",
       "    }\n",
       "\n",
       "    .dataframe tbody tr th {\n",
       "        vertical-align: top;\n",
       "    }\n",
       "\n",
       "    .dataframe thead th {\n",
       "        text-align: right;\n",
       "    }\n",
       "</style>\n",
       "<table border=\"1\" class=\"dataframe\">\n",
       "  <thead>\n",
       "    <tr style=\"text-align: right;\">\n",
       "      <th></th>\n",
       "      <th>dow</th>\n",
       "      <th>when</th>\n",
       "      <th>entries</th>\n",
       "    </tr>\n",
       "  </thead>\n",
       "  <tbody>\n",
       "    <tr>\n",
       "      <th>0</th>\n",
       "      <td>Monday</td>\n",
       "      <td>selection</td>\n",
       "      <td>2630426</td>\n",
       "    </tr>\n",
       "    <tr>\n",
       "      <th>1</th>\n",
       "      <td>Tuesday</td>\n",
       "      <td>selection</td>\n",
       "      <td>2888182</td>\n",
       "    </tr>\n",
       "    <tr>\n",
       "      <th>2</th>\n",
       "      <td>Wednesday</td>\n",
       "      <td>selection</td>\n",
       "      <td>2946000</td>\n",
       "    </tr>\n",
       "    <tr>\n",
       "      <th>3</th>\n",
       "      <td>Thursday</td>\n",
       "      <td>selection</td>\n",
       "      <td>2915979</td>\n",
       "    </tr>\n",
       "    <tr>\n",
       "      <th>4</th>\n",
       "      <td>Friday</td>\n",
       "      <td>selection</td>\n",
       "      <td>2849426</td>\n",
       "    </tr>\n",
       "    <tr>\n",
       "      <th>5</th>\n",
       "      <td>Saturday</td>\n",
       "      <td>selection</td>\n",
       "      <td>1728137</td>\n",
       "    </tr>\n",
       "    <tr>\n",
       "      <th>6</th>\n",
       "      <td>Sunday</td>\n",
       "      <td>selection</td>\n",
       "      <td>1377130</td>\n",
       "    </tr>\n",
       "    <tr>\n",
       "      <th>7</th>\n",
       "      <td>Monday</td>\n",
       "      <td>pandemic</td>\n",
       "      <td>1182892</td>\n",
       "    </tr>\n",
       "    <tr>\n",
       "      <th>8</th>\n",
       "      <td>Tuesday</td>\n",
       "      <td>pandemic</td>\n",
       "      <td>1279562</td>\n",
       "    </tr>\n",
       "    <tr>\n",
       "      <th>9</th>\n",
       "      <td>Wednesday</td>\n",
       "      <td>pandemic</td>\n",
       "      <td>1291611</td>\n",
       "    </tr>\n",
       "    <tr>\n",
       "      <th>10</th>\n",
       "      <td>Thursday</td>\n",
       "      <td>pandemic</td>\n",
       "      <td>1248762</td>\n",
       "    </tr>\n",
       "    <tr>\n",
       "      <th>11</th>\n",
       "      <td>Friday</td>\n",
       "      <td>pandemic</td>\n",
       "      <td>1231698</td>\n",
       "    </tr>\n",
       "    <tr>\n",
       "      <th>12</th>\n",
       "      <td>Saturday</td>\n",
       "      <td>pandemic</td>\n",
       "      <td>816391</td>\n",
       "    </tr>\n",
       "    <tr>\n",
       "      <th>13</th>\n",
       "      <td>Sunday</td>\n",
       "      <td>pandemic</td>\n",
       "      <td>626980</td>\n",
       "    </tr>\n",
       "    <tr>\n",
       "      <th>14</th>\n",
       "      <td>Monday</td>\n",
       "      <td>2019</td>\n",
       "      <td>5009493</td>\n",
       "    </tr>\n",
       "    <tr>\n",
       "      <th>15</th>\n",
       "      <td>Tuesday</td>\n",
       "      <td>2019</td>\n",
       "      <td>5400089</td>\n",
       "    </tr>\n",
       "    <tr>\n",
       "      <th>16</th>\n",
       "      <td>Wednesday</td>\n",
       "      <td>2019</td>\n",
       "      <td>5562314</td>\n",
       "    </tr>\n",
       "    <tr>\n",
       "      <th>17</th>\n",
       "      <td>Thursday</td>\n",
       "      <td>2019</td>\n",
       "      <td>5514089</td>\n",
       "    </tr>\n",
       "    <tr>\n",
       "      <th>18</th>\n",
       "      <td>Friday</td>\n",
       "      <td>2019</td>\n",
       "      <td>5441720</td>\n",
       "    </tr>\n",
       "    <tr>\n",
       "      <th>19</th>\n",
       "      <td>Saturday</td>\n",
       "      <td>2019</td>\n",
       "      <td>3197802</td>\n",
       "    </tr>\n",
       "    <tr>\n",
       "      <th>20</th>\n",
       "      <td>Sunday</td>\n",
       "      <td>2019</td>\n",
       "      <td>2541992</td>\n",
       "    </tr>\n",
       "  </tbody>\n",
       "</table>\n",
       "</div>"
      ],
      "text/plain": [
       "          dow       when  entries\n",
       "0      Monday  selection  2630426\n",
       "1     Tuesday  selection  2888182\n",
       "2   Wednesday  selection  2946000\n",
       "3    Thursday  selection  2915979\n",
       "4      Friday  selection  2849426\n",
       "5    Saturday  selection  1728137\n",
       "6      Sunday  selection  1377130\n",
       "7      Monday   pandemic  1182892\n",
       "8     Tuesday   pandemic  1279562\n",
       "9   Wednesday   pandemic  1291611\n",
       "10   Thursday   pandemic  1248762\n",
       "11     Friday   pandemic  1231698\n",
       "12   Saturday   pandemic   816391\n",
       "13     Sunday   pandemic   626980\n",
       "14     Monday       2019  5009493\n",
       "15    Tuesday       2019  5400089\n",
       "16  Wednesday       2019  5562314\n",
       "17   Thursday       2019  5514089\n",
       "18     Friday       2019  5441720\n",
       "19   Saturday       2019  3197802\n",
       "20     Sunday       2019  2541992"
      ]
     },
     "execution_count": 70,
     "metadata": {},
     "output_type": "execute_result"
    }
   ],
   "source": [
    "dow_map = {\n",
    "    'Monday': 0,\n",
    "    'Tuesday': 1,\n",
    "    'Wednesday': 2,\n",
    "    'Thursday': 3, \n",
    "    'Friday': 4,\n",
    "    'Saturday': 5,\n",
    "    'Sunday': 6\n",
    "}\n",
    "df_entries_by_dow['sort_order'] = df_entries_by_dow['dow'].apply(lambda d: dow_map[d])\n",
    "df_entries_by_dow = df_entries_by_dow.sort_values('sort_order').reset_index(drop=True)\n",
    "df_entries_by_dow.columns=['dow', 'selection', 'pandemic', '2019', 'sort_order']\n",
    "df_entries_by_dow = pd.melt(df_entries_by_dow[['dow', 'selection', 'pandemic', '2019']],\n",
    "                            id_vars='dow', var_name='when', value_name='entries')\n",
    "df_entries_by_dow"
   ]
  },
  {
   "cell_type": "code",
   "execution_count": 71,
   "metadata": {},
   "outputs": [
    {
     "data": {
      "application/vnd.plotly.v1+json": {
       "config": {
        "plotlyServerURL": "https://plot.ly"
       },
       "data": [
        {
         "alignmentgroup": "True",
         "hovertemplate": "when=selection<br>dow=%{x}<br>entries=%{y}<extra></extra>",
         "legendgroup": "selection",
         "marker": {
          "color": "#636efa",
          "pattern": {
           "shape": ""
          }
         },
         "name": "selection",
         "offsetgroup": "selection",
         "orientation": "v",
         "showlegend": true,
         "textposition": "auto",
         "type": "bar",
         "x": [
          "Monday",
          "Tuesday",
          "Wednesday",
          "Thursday",
          "Friday",
          "Saturday",
          "Sunday"
         ],
         "xaxis": "x",
         "y": [
          2630426,
          2888182,
          2946000,
          2915979,
          2849426,
          1728137,
          1377130
         ],
         "yaxis": "y"
        },
        {
         "alignmentgroup": "True",
         "hovertemplate": "when=pandemic<br>dow=%{x}<br>entries=%{y}<extra></extra>",
         "legendgroup": "pandemic",
         "marker": {
          "color": "#EF553B",
          "pattern": {
           "shape": ""
          }
         },
         "name": "pandemic",
         "offsetgroup": "pandemic",
         "orientation": "v",
         "showlegend": true,
         "textposition": "auto",
         "type": "bar",
         "x": [
          "Monday",
          "Tuesday",
          "Wednesday",
          "Thursday",
          "Friday",
          "Saturday",
          "Sunday"
         ],
         "xaxis": "x",
         "y": [
          1182892,
          1279562,
          1291611,
          1248762,
          1231698,
          816391,
          626980
         ],
         "yaxis": "y"
        },
        {
         "alignmentgroup": "True",
         "hovertemplate": "when=2019<br>dow=%{x}<br>entries=%{y}<extra></extra>",
         "legendgroup": "2019",
         "marker": {
          "color": "#00cc96",
          "pattern": {
           "shape": ""
          }
         },
         "name": "2019",
         "offsetgroup": "2019",
         "orientation": "v",
         "showlegend": true,
         "textposition": "auto",
         "type": "bar",
         "x": [
          "Monday",
          "Tuesday",
          "Wednesday",
          "Thursday",
          "Friday",
          "Saturday",
          "Sunday"
         ],
         "xaxis": "x",
         "y": [
          5009493,
          5400089,
          5562314,
          5514089,
          5441720,
          3197802,
          2541992
         ],
         "yaxis": "y"
        }
       ],
       "layout": {
        "barmode": "group",
        "height": 360,
        "legend": {
         "title": {},
         "tracegroupgap": 0
        },
        "margin": {
         "t": 60
        },
        "paper_bgcolor": "LightSteelBlue",
        "plot_bgcolor": "white",
        "showlegend": true,
        "template": {
         "data": {
          "bar": [
           {
            "error_x": {
             "color": "#2a3f5f"
            },
            "error_y": {
             "color": "#2a3f5f"
            },
            "marker": {
             "line": {
              "color": "#E5ECF6",
              "width": 0.5
             },
             "pattern": {
              "fillmode": "overlay",
              "size": 10,
              "solidity": 0.2
             }
            },
            "type": "bar"
           }
          ],
          "barpolar": [
           {
            "marker": {
             "line": {
              "color": "#E5ECF6",
              "width": 0.5
             },
             "pattern": {
              "fillmode": "overlay",
              "size": 10,
              "solidity": 0.2
             }
            },
            "type": "barpolar"
           }
          ],
          "carpet": [
           {
            "aaxis": {
             "endlinecolor": "#2a3f5f",
             "gridcolor": "white",
             "linecolor": "white",
             "minorgridcolor": "white",
             "startlinecolor": "#2a3f5f"
            },
            "baxis": {
             "endlinecolor": "#2a3f5f",
             "gridcolor": "white",
             "linecolor": "white",
             "minorgridcolor": "white",
             "startlinecolor": "#2a3f5f"
            },
            "type": "carpet"
           }
          ],
          "choropleth": [
           {
            "colorbar": {
             "outlinewidth": 0,
             "ticks": ""
            },
            "type": "choropleth"
           }
          ],
          "contour": [
           {
            "colorbar": {
             "outlinewidth": 0,
             "ticks": ""
            },
            "colorscale": [
             [
              0,
              "#0d0887"
             ],
             [
              0.1111111111111111,
              "#46039f"
             ],
             [
              0.2222222222222222,
              "#7201a8"
             ],
             [
              0.3333333333333333,
              "#9c179e"
             ],
             [
              0.4444444444444444,
              "#bd3786"
             ],
             [
              0.5555555555555556,
              "#d8576b"
             ],
             [
              0.6666666666666666,
              "#ed7953"
             ],
             [
              0.7777777777777778,
              "#fb9f3a"
             ],
             [
              0.8888888888888888,
              "#fdca26"
             ],
             [
              1,
              "#f0f921"
             ]
            ],
            "type": "contour"
           }
          ],
          "contourcarpet": [
           {
            "colorbar": {
             "outlinewidth": 0,
             "ticks": ""
            },
            "type": "contourcarpet"
           }
          ],
          "heatmap": [
           {
            "colorbar": {
             "outlinewidth": 0,
             "ticks": ""
            },
            "colorscale": [
             [
              0,
              "#0d0887"
             ],
             [
              0.1111111111111111,
              "#46039f"
             ],
             [
              0.2222222222222222,
              "#7201a8"
             ],
             [
              0.3333333333333333,
              "#9c179e"
             ],
             [
              0.4444444444444444,
              "#bd3786"
             ],
             [
              0.5555555555555556,
              "#d8576b"
             ],
             [
              0.6666666666666666,
              "#ed7953"
             ],
             [
              0.7777777777777778,
              "#fb9f3a"
             ],
             [
              0.8888888888888888,
              "#fdca26"
             ],
             [
              1,
              "#f0f921"
             ]
            ],
            "type": "heatmap"
           }
          ],
          "heatmapgl": [
           {
            "colorbar": {
             "outlinewidth": 0,
             "ticks": ""
            },
            "colorscale": [
             [
              0,
              "#0d0887"
             ],
             [
              0.1111111111111111,
              "#46039f"
             ],
             [
              0.2222222222222222,
              "#7201a8"
             ],
             [
              0.3333333333333333,
              "#9c179e"
             ],
             [
              0.4444444444444444,
              "#bd3786"
             ],
             [
              0.5555555555555556,
              "#d8576b"
             ],
             [
              0.6666666666666666,
              "#ed7953"
             ],
             [
              0.7777777777777778,
              "#fb9f3a"
             ],
             [
              0.8888888888888888,
              "#fdca26"
             ],
             [
              1,
              "#f0f921"
             ]
            ],
            "type": "heatmapgl"
           }
          ],
          "histogram": [
           {
            "marker": {
             "pattern": {
              "fillmode": "overlay",
              "size": 10,
              "solidity": 0.2
             }
            },
            "type": "histogram"
           }
          ],
          "histogram2d": [
           {
            "colorbar": {
             "outlinewidth": 0,
             "ticks": ""
            },
            "colorscale": [
             [
              0,
              "#0d0887"
             ],
             [
              0.1111111111111111,
              "#46039f"
             ],
             [
              0.2222222222222222,
              "#7201a8"
             ],
             [
              0.3333333333333333,
              "#9c179e"
             ],
             [
              0.4444444444444444,
              "#bd3786"
             ],
             [
              0.5555555555555556,
              "#d8576b"
             ],
             [
              0.6666666666666666,
              "#ed7953"
             ],
             [
              0.7777777777777778,
              "#fb9f3a"
             ],
             [
              0.8888888888888888,
              "#fdca26"
             ],
             [
              1,
              "#f0f921"
             ]
            ],
            "type": "histogram2d"
           }
          ],
          "histogram2dcontour": [
           {
            "colorbar": {
             "outlinewidth": 0,
             "ticks": ""
            },
            "colorscale": [
             [
              0,
              "#0d0887"
             ],
             [
              0.1111111111111111,
              "#46039f"
             ],
             [
              0.2222222222222222,
              "#7201a8"
             ],
             [
              0.3333333333333333,
              "#9c179e"
             ],
             [
              0.4444444444444444,
              "#bd3786"
             ],
             [
              0.5555555555555556,
              "#d8576b"
             ],
             [
              0.6666666666666666,
              "#ed7953"
             ],
             [
              0.7777777777777778,
              "#fb9f3a"
             ],
             [
              0.8888888888888888,
              "#fdca26"
             ],
             [
              1,
              "#f0f921"
             ]
            ],
            "type": "histogram2dcontour"
           }
          ],
          "mesh3d": [
           {
            "colorbar": {
             "outlinewidth": 0,
             "ticks": ""
            },
            "type": "mesh3d"
           }
          ],
          "parcoords": [
           {
            "line": {
             "colorbar": {
              "outlinewidth": 0,
              "ticks": ""
             }
            },
            "type": "parcoords"
           }
          ],
          "pie": [
           {
            "automargin": true,
            "type": "pie"
           }
          ],
          "scatter": [
           {
            "fillpattern": {
             "fillmode": "overlay",
             "size": 10,
             "solidity": 0.2
            },
            "type": "scatter"
           }
          ],
          "scatter3d": [
           {
            "line": {
             "colorbar": {
              "outlinewidth": 0,
              "ticks": ""
             }
            },
            "marker": {
             "colorbar": {
              "outlinewidth": 0,
              "ticks": ""
             }
            },
            "type": "scatter3d"
           }
          ],
          "scattercarpet": [
           {
            "marker": {
             "colorbar": {
              "outlinewidth": 0,
              "ticks": ""
             }
            },
            "type": "scattercarpet"
           }
          ],
          "scattergeo": [
           {
            "marker": {
             "colorbar": {
              "outlinewidth": 0,
              "ticks": ""
             }
            },
            "type": "scattergeo"
           }
          ],
          "scattergl": [
           {
            "marker": {
             "colorbar": {
              "outlinewidth": 0,
              "ticks": ""
             }
            },
            "type": "scattergl"
           }
          ],
          "scattermapbox": [
           {
            "marker": {
             "colorbar": {
              "outlinewidth": 0,
              "ticks": ""
             }
            },
            "type": "scattermapbox"
           }
          ],
          "scatterpolar": [
           {
            "marker": {
             "colorbar": {
              "outlinewidth": 0,
              "ticks": ""
             }
            },
            "type": "scatterpolar"
           }
          ],
          "scatterpolargl": [
           {
            "marker": {
             "colorbar": {
              "outlinewidth": 0,
              "ticks": ""
             }
            },
            "type": "scatterpolargl"
           }
          ],
          "scatterternary": [
           {
            "marker": {
             "colorbar": {
              "outlinewidth": 0,
              "ticks": ""
             }
            },
            "type": "scatterternary"
           }
          ],
          "surface": [
           {
            "colorbar": {
             "outlinewidth": 0,
             "ticks": ""
            },
            "colorscale": [
             [
              0,
              "#0d0887"
             ],
             [
              0.1111111111111111,
              "#46039f"
             ],
             [
              0.2222222222222222,
              "#7201a8"
             ],
             [
              0.3333333333333333,
              "#9c179e"
             ],
             [
              0.4444444444444444,
              "#bd3786"
             ],
             [
              0.5555555555555556,
              "#d8576b"
             ],
             [
              0.6666666666666666,
              "#ed7953"
             ],
             [
              0.7777777777777778,
              "#fb9f3a"
             ],
             [
              0.8888888888888888,
              "#fdca26"
             ],
             [
              1,
              "#f0f921"
             ]
            ],
            "type": "surface"
           }
          ],
          "table": [
           {
            "cells": {
             "fill": {
              "color": "#EBF0F8"
             },
             "line": {
              "color": "white"
             }
            },
            "header": {
             "fill": {
              "color": "#C8D4E3"
             },
             "line": {
              "color": "white"
             }
            },
            "type": "table"
           }
          ]
         },
         "layout": {
          "annotationdefaults": {
           "arrowcolor": "#2a3f5f",
           "arrowhead": 0,
           "arrowwidth": 1
          },
          "autotypenumbers": "strict",
          "coloraxis": {
           "colorbar": {
            "outlinewidth": 0,
            "ticks": ""
           }
          },
          "colorscale": {
           "diverging": [
            [
             0,
             "#8e0152"
            ],
            [
             0.1,
             "#c51b7d"
            ],
            [
             0.2,
             "#de77ae"
            ],
            [
             0.3,
             "#f1b6da"
            ],
            [
             0.4,
             "#fde0ef"
            ],
            [
             0.5,
             "#f7f7f7"
            ],
            [
             0.6,
             "#e6f5d0"
            ],
            [
             0.7,
             "#b8e186"
            ],
            [
             0.8,
             "#7fbc41"
            ],
            [
             0.9,
             "#4d9221"
            ],
            [
             1,
             "#276419"
            ]
           ],
           "sequential": [
            [
             0,
             "#0d0887"
            ],
            [
             0.1111111111111111,
             "#46039f"
            ],
            [
             0.2222222222222222,
             "#7201a8"
            ],
            [
             0.3333333333333333,
             "#9c179e"
            ],
            [
             0.4444444444444444,
             "#bd3786"
            ],
            [
             0.5555555555555556,
             "#d8576b"
            ],
            [
             0.6666666666666666,
             "#ed7953"
            ],
            [
             0.7777777777777778,
             "#fb9f3a"
            ],
            [
             0.8888888888888888,
             "#fdca26"
            ],
            [
             1,
             "#f0f921"
            ]
           ],
           "sequentialminus": [
            [
             0,
             "#0d0887"
            ],
            [
             0.1111111111111111,
             "#46039f"
            ],
            [
             0.2222222222222222,
             "#7201a8"
            ],
            [
             0.3333333333333333,
             "#9c179e"
            ],
            [
             0.4444444444444444,
             "#bd3786"
            ],
            [
             0.5555555555555556,
             "#d8576b"
            ],
            [
             0.6666666666666666,
             "#ed7953"
            ],
            [
             0.7777777777777778,
             "#fb9f3a"
            ],
            [
             0.8888888888888888,
             "#fdca26"
            ],
            [
             1,
             "#f0f921"
            ]
           ]
          },
          "colorway": [
           "#636efa",
           "#EF553B",
           "#00cc96",
           "#ab63fa",
           "#FFA15A",
           "#19d3f3",
           "#FF6692",
           "#B6E880",
           "#FF97FF",
           "#FECB52"
          ],
          "font": {
           "color": "#2a3f5f"
          },
          "geo": {
           "bgcolor": "white",
           "lakecolor": "white",
           "landcolor": "#E5ECF6",
           "showlakes": true,
           "showland": true,
           "subunitcolor": "white"
          },
          "hoverlabel": {
           "align": "left"
          },
          "hovermode": "closest",
          "mapbox": {
           "style": "light"
          },
          "paper_bgcolor": "white",
          "plot_bgcolor": "#E5ECF6",
          "polar": {
           "angularaxis": {
            "gridcolor": "white",
            "linecolor": "white",
            "ticks": ""
           },
           "bgcolor": "#E5ECF6",
           "radialaxis": {
            "gridcolor": "white",
            "linecolor": "white",
            "ticks": ""
           }
          },
          "scene": {
           "xaxis": {
            "backgroundcolor": "#E5ECF6",
            "gridcolor": "white",
            "gridwidth": 2,
            "linecolor": "white",
            "showbackground": true,
            "ticks": "",
            "zerolinecolor": "white"
           },
           "yaxis": {
            "backgroundcolor": "#E5ECF6",
            "gridcolor": "white",
            "gridwidth": 2,
            "linecolor": "white",
            "showbackground": true,
            "ticks": "",
            "zerolinecolor": "white"
           },
           "zaxis": {
            "backgroundcolor": "#E5ECF6",
            "gridcolor": "white",
            "gridwidth": 2,
            "linecolor": "white",
            "showbackground": true,
            "ticks": "",
            "zerolinecolor": "white"
           }
          },
          "shapedefaults": {
           "line": {
            "color": "#2a3f5f"
           }
          },
          "ternary": {
           "aaxis": {
            "gridcolor": "white",
            "linecolor": "white",
            "ticks": ""
           },
           "baxis": {
            "gridcolor": "white",
            "linecolor": "white",
            "ticks": ""
           },
           "bgcolor": "#E5ECF6",
           "caxis": {
            "gridcolor": "white",
            "linecolor": "white",
            "ticks": ""
           }
          },
          "title": {
           "x": 0.05
          },
          "xaxis": {
           "automargin": true,
           "gridcolor": "white",
           "linecolor": "white",
           "ticks": "",
           "title": {
            "standoff": 15
           },
           "zerolinecolor": "white",
           "zerolinewidth": 2
          },
          "yaxis": {
           "automargin": true,
           "gridcolor": "white",
           "linecolor": "white",
           "ticks": "",
           "title": {
            "standoff": 15
           },
           "zerolinecolor": "white",
           "zerolinewidth": 2
          }
         }
        },
        "xaxis": {
         "anchor": "y",
         "domain": [
          0,
          1
         ],
         "dtick": 1,
         "linecolor": "black",
         "mirror": true,
         "showgrid": true,
         "showline": true,
         "showticklabels": true,
         "tick0": 0,
         "tickfont": {
          "color": "black"
         },
         "tickmode": "linear",
         "ticks": "inside",
         "title": {},
         "visible": true,
         "zeroline": false
        },
        "yaxis": {
         "anchor": "x",
         "domain": [
          0,
          1
         ],
         "linecolor": "black",
         "mirror": true,
         "showgrid": true,
         "showline": true,
         "showticklabels": true,
         "side": "left",
         "tickfont": {
          "color": "black"
         },
         "ticks": "inside",
         "title": {
          "text": "Entries"
         },
         "visible": true,
         "zeroline": false
        }
       }
      },
      "text/html": [
       "<div>                            <div id=\"d4f04abc-b351-462f-821c-8ae404efade5\" class=\"plotly-graph-div\" style=\"height:360px; width:100%;\"></div>            <script type=\"text/javascript\">                require([\"plotly\"], function(Plotly) {                    window.PLOTLYENV=window.PLOTLYENV || {};                                    if (document.getElementById(\"d4f04abc-b351-462f-821c-8ae404efade5\")) {                    Plotly.newPlot(                        \"d4f04abc-b351-462f-821c-8ae404efade5\",                        [{\"alignmentgroup\":\"True\",\"hovertemplate\":\"when=selection<br>dow=%{x}<br>entries=%{y}<extra></extra>\",\"legendgroup\":\"selection\",\"marker\":{\"color\":\"#636efa\",\"pattern\":{\"shape\":\"\"}},\"name\":\"selection\",\"offsetgroup\":\"selection\",\"orientation\":\"v\",\"showlegend\":true,\"textposition\":\"auto\",\"x\":[\"Monday\",\"Tuesday\",\"Wednesday\",\"Thursday\",\"Friday\",\"Saturday\",\"Sunday\"],\"xaxis\":\"x\",\"y\":[2630426,2888182,2946000,2915979,2849426,1728137,1377130],\"yaxis\":\"y\",\"type\":\"bar\"},{\"alignmentgroup\":\"True\",\"hovertemplate\":\"when=pandemic<br>dow=%{x}<br>entries=%{y}<extra></extra>\",\"legendgroup\":\"pandemic\",\"marker\":{\"color\":\"#EF553B\",\"pattern\":{\"shape\":\"\"}},\"name\":\"pandemic\",\"offsetgroup\":\"pandemic\",\"orientation\":\"v\",\"showlegend\":true,\"textposition\":\"auto\",\"x\":[\"Monday\",\"Tuesday\",\"Wednesday\",\"Thursday\",\"Friday\",\"Saturday\",\"Sunday\"],\"xaxis\":\"x\",\"y\":[1182892,1279562,1291611,1248762,1231698,816391,626980],\"yaxis\":\"y\",\"type\":\"bar\"},{\"alignmentgroup\":\"True\",\"hovertemplate\":\"when=2019<br>dow=%{x}<br>entries=%{y}<extra></extra>\",\"legendgroup\":\"2019\",\"marker\":{\"color\":\"#00cc96\",\"pattern\":{\"shape\":\"\"}},\"name\":\"2019\",\"offsetgroup\":\"2019\",\"orientation\":\"v\",\"showlegend\":true,\"textposition\":\"auto\",\"x\":[\"Monday\",\"Tuesday\",\"Wednesday\",\"Thursday\",\"Friday\",\"Saturday\",\"Sunday\"],\"xaxis\":\"x\",\"y\":[5009493,5400089,5562314,5514089,5441720,3197802,2541992],\"yaxis\":\"y\",\"type\":\"bar\"}],                        {\"template\":{\"data\":{\"histogram2dcontour\":[{\"type\":\"histogram2dcontour\",\"colorbar\":{\"outlinewidth\":0,\"ticks\":\"\"},\"colorscale\":[[0.0,\"#0d0887\"],[0.1111111111111111,\"#46039f\"],[0.2222222222222222,\"#7201a8\"],[0.3333333333333333,\"#9c179e\"],[0.4444444444444444,\"#bd3786\"],[0.5555555555555556,\"#d8576b\"],[0.6666666666666666,\"#ed7953\"],[0.7777777777777778,\"#fb9f3a\"],[0.8888888888888888,\"#fdca26\"],[1.0,\"#f0f921\"]]}],\"choropleth\":[{\"type\":\"choropleth\",\"colorbar\":{\"outlinewidth\":0,\"ticks\":\"\"}}],\"histogram2d\":[{\"type\":\"histogram2d\",\"colorbar\":{\"outlinewidth\":0,\"ticks\":\"\"},\"colorscale\":[[0.0,\"#0d0887\"],[0.1111111111111111,\"#46039f\"],[0.2222222222222222,\"#7201a8\"],[0.3333333333333333,\"#9c179e\"],[0.4444444444444444,\"#bd3786\"],[0.5555555555555556,\"#d8576b\"],[0.6666666666666666,\"#ed7953\"],[0.7777777777777778,\"#fb9f3a\"],[0.8888888888888888,\"#fdca26\"],[1.0,\"#f0f921\"]]}],\"heatmap\":[{\"type\":\"heatmap\",\"colorbar\":{\"outlinewidth\":0,\"ticks\":\"\"},\"colorscale\":[[0.0,\"#0d0887\"],[0.1111111111111111,\"#46039f\"],[0.2222222222222222,\"#7201a8\"],[0.3333333333333333,\"#9c179e\"],[0.4444444444444444,\"#bd3786\"],[0.5555555555555556,\"#d8576b\"],[0.6666666666666666,\"#ed7953\"],[0.7777777777777778,\"#fb9f3a\"],[0.8888888888888888,\"#fdca26\"],[1.0,\"#f0f921\"]]}],\"heatmapgl\":[{\"type\":\"heatmapgl\",\"colorbar\":{\"outlinewidth\":0,\"ticks\":\"\"},\"colorscale\":[[0.0,\"#0d0887\"],[0.1111111111111111,\"#46039f\"],[0.2222222222222222,\"#7201a8\"],[0.3333333333333333,\"#9c179e\"],[0.4444444444444444,\"#bd3786\"],[0.5555555555555556,\"#d8576b\"],[0.6666666666666666,\"#ed7953\"],[0.7777777777777778,\"#fb9f3a\"],[0.8888888888888888,\"#fdca26\"],[1.0,\"#f0f921\"]]}],\"contourcarpet\":[{\"type\":\"contourcarpet\",\"colorbar\":{\"outlinewidth\":0,\"ticks\":\"\"}}],\"contour\":[{\"type\":\"contour\",\"colorbar\":{\"outlinewidth\":0,\"ticks\":\"\"},\"colorscale\":[[0.0,\"#0d0887\"],[0.1111111111111111,\"#46039f\"],[0.2222222222222222,\"#7201a8\"],[0.3333333333333333,\"#9c179e\"],[0.4444444444444444,\"#bd3786\"],[0.5555555555555556,\"#d8576b\"],[0.6666666666666666,\"#ed7953\"],[0.7777777777777778,\"#fb9f3a\"],[0.8888888888888888,\"#fdca26\"],[1.0,\"#f0f921\"]]}],\"surface\":[{\"type\":\"surface\",\"colorbar\":{\"outlinewidth\":0,\"ticks\":\"\"},\"colorscale\":[[0.0,\"#0d0887\"],[0.1111111111111111,\"#46039f\"],[0.2222222222222222,\"#7201a8\"],[0.3333333333333333,\"#9c179e\"],[0.4444444444444444,\"#bd3786\"],[0.5555555555555556,\"#d8576b\"],[0.6666666666666666,\"#ed7953\"],[0.7777777777777778,\"#fb9f3a\"],[0.8888888888888888,\"#fdca26\"],[1.0,\"#f0f921\"]]}],\"mesh3d\":[{\"type\":\"mesh3d\",\"colorbar\":{\"outlinewidth\":0,\"ticks\":\"\"}}],\"scatter\":[{\"fillpattern\":{\"fillmode\":\"overlay\",\"size\":10,\"solidity\":0.2},\"type\":\"scatter\"}],\"parcoords\":[{\"type\":\"parcoords\",\"line\":{\"colorbar\":{\"outlinewidth\":0,\"ticks\":\"\"}}}],\"scatterpolargl\":[{\"type\":\"scatterpolargl\",\"marker\":{\"colorbar\":{\"outlinewidth\":0,\"ticks\":\"\"}}}],\"bar\":[{\"error_x\":{\"color\":\"#2a3f5f\"},\"error_y\":{\"color\":\"#2a3f5f\"},\"marker\":{\"line\":{\"color\":\"#E5ECF6\",\"width\":0.5},\"pattern\":{\"fillmode\":\"overlay\",\"size\":10,\"solidity\":0.2}},\"type\":\"bar\"}],\"scattergeo\":[{\"type\":\"scattergeo\",\"marker\":{\"colorbar\":{\"outlinewidth\":0,\"ticks\":\"\"}}}],\"scatterpolar\":[{\"type\":\"scatterpolar\",\"marker\":{\"colorbar\":{\"outlinewidth\":0,\"ticks\":\"\"}}}],\"histogram\":[{\"marker\":{\"pattern\":{\"fillmode\":\"overlay\",\"size\":10,\"solidity\":0.2}},\"type\":\"histogram\"}],\"scattergl\":[{\"type\":\"scattergl\",\"marker\":{\"colorbar\":{\"outlinewidth\":0,\"ticks\":\"\"}}}],\"scatter3d\":[{\"type\":\"scatter3d\",\"line\":{\"colorbar\":{\"outlinewidth\":0,\"ticks\":\"\"}},\"marker\":{\"colorbar\":{\"outlinewidth\":0,\"ticks\":\"\"}}}],\"scattermapbox\":[{\"type\":\"scattermapbox\",\"marker\":{\"colorbar\":{\"outlinewidth\":0,\"ticks\":\"\"}}}],\"scatterternary\":[{\"type\":\"scatterternary\",\"marker\":{\"colorbar\":{\"outlinewidth\":0,\"ticks\":\"\"}}}],\"scattercarpet\":[{\"type\":\"scattercarpet\",\"marker\":{\"colorbar\":{\"outlinewidth\":0,\"ticks\":\"\"}}}],\"carpet\":[{\"aaxis\":{\"endlinecolor\":\"#2a3f5f\",\"gridcolor\":\"white\",\"linecolor\":\"white\",\"minorgridcolor\":\"white\",\"startlinecolor\":\"#2a3f5f\"},\"baxis\":{\"endlinecolor\":\"#2a3f5f\",\"gridcolor\":\"white\",\"linecolor\":\"white\",\"minorgridcolor\":\"white\",\"startlinecolor\":\"#2a3f5f\"},\"type\":\"carpet\"}],\"table\":[{\"cells\":{\"fill\":{\"color\":\"#EBF0F8\"},\"line\":{\"color\":\"white\"}},\"header\":{\"fill\":{\"color\":\"#C8D4E3\"},\"line\":{\"color\":\"white\"}},\"type\":\"table\"}],\"barpolar\":[{\"marker\":{\"line\":{\"color\":\"#E5ECF6\",\"width\":0.5},\"pattern\":{\"fillmode\":\"overlay\",\"size\":10,\"solidity\":0.2}},\"type\":\"barpolar\"}],\"pie\":[{\"automargin\":true,\"type\":\"pie\"}]},\"layout\":{\"autotypenumbers\":\"strict\",\"colorway\":[\"#636efa\",\"#EF553B\",\"#00cc96\",\"#ab63fa\",\"#FFA15A\",\"#19d3f3\",\"#FF6692\",\"#B6E880\",\"#FF97FF\",\"#FECB52\"],\"font\":{\"color\":\"#2a3f5f\"},\"hovermode\":\"closest\",\"hoverlabel\":{\"align\":\"left\"},\"paper_bgcolor\":\"white\",\"plot_bgcolor\":\"#E5ECF6\",\"polar\":{\"bgcolor\":\"#E5ECF6\",\"angularaxis\":{\"gridcolor\":\"white\",\"linecolor\":\"white\",\"ticks\":\"\"},\"radialaxis\":{\"gridcolor\":\"white\",\"linecolor\":\"white\",\"ticks\":\"\"}},\"ternary\":{\"bgcolor\":\"#E5ECF6\",\"aaxis\":{\"gridcolor\":\"white\",\"linecolor\":\"white\",\"ticks\":\"\"},\"baxis\":{\"gridcolor\":\"white\",\"linecolor\":\"white\",\"ticks\":\"\"},\"caxis\":{\"gridcolor\":\"white\",\"linecolor\":\"white\",\"ticks\":\"\"}},\"coloraxis\":{\"colorbar\":{\"outlinewidth\":0,\"ticks\":\"\"}},\"colorscale\":{\"sequential\":[[0.0,\"#0d0887\"],[0.1111111111111111,\"#46039f\"],[0.2222222222222222,\"#7201a8\"],[0.3333333333333333,\"#9c179e\"],[0.4444444444444444,\"#bd3786\"],[0.5555555555555556,\"#d8576b\"],[0.6666666666666666,\"#ed7953\"],[0.7777777777777778,\"#fb9f3a\"],[0.8888888888888888,\"#fdca26\"],[1.0,\"#f0f921\"]],\"sequentialminus\":[[0.0,\"#0d0887\"],[0.1111111111111111,\"#46039f\"],[0.2222222222222222,\"#7201a8\"],[0.3333333333333333,\"#9c179e\"],[0.4444444444444444,\"#bd3786\"],[0.5555555555555556,\"#d8576b\"],[0.6666666666666666,\"#ed7953\"],[0.7777777777777778,\"#fb9f3a\"],[0.8888888888888888,\"#fdca26\"],[1.0,\"#f0f921\"]],\"diverging\":[[0,\"#8e0152\"],[0.1,\"#c51b7d\"],[0.2,\"#de77ae\"],[0.3,\"#f1b6da\"],[0.4,\"#fde0ef\"],[0.5,\"#f7f7f7\"],[0.6,\"#e6f5d0\"],[0.7,\"#b8e186\"],[0.8,\"#7fbc41\"],[0.9,\"#4d9221\"],[1,\"#276419\"]]},\"xaxis\":{\"gridcolor\":\"white\",\"linecolor\":\"white\",\"ticks\":\"\",\"title\":{\"standoff\":15},\"zerolinecolor\":\"white\",\"automargin\":true,\"zerolinewidth\":2},\"yaxis\":{\"gridcolor\":\"white\",\"linecolor\":\"white\",\"ticks\":\"\",\"title\":{\"standoff\":15},\"zerolinecolor\":\"white\",\"automargin\":true,\"zerolinewidth\":2},\"scene\":{\"xaxis\":{\"backgroundcolor\":\"#E5ECF6\",\"gridcolor\":\"white\",\"linecolor\":\"white\",\"showbackground\":true,\"ticks\":\"\",\"zerolinecolor\":\"white\",\"gridwidth\":2},\"yaxis\":{\"backgroundcolor\":\"#E5ECF6\",\"gridcolor\":\"white\",\"linecolor\":\"white\",\"showbackground\":true,\"ticks\":\"\",\"zerolinecolor\":\"white\",\"gridwidth\":2},\"zaxis\":{\"backgroundcolor\":\"#E5ECF6\",\"gridcolor\":\"white\",\"linecolor\":\"white\",\"showbackground\":true,\"ticks\":\"\",\"zerolinecolor\":\"white\",\"gridwidth\":2}},\"shapedefaults\":{\"line\":{\"color\":\"#2a3f5f\"}},\"annotationdefaults\":{\"arrowcolor\":\"#2a3f5f\",\"arrowhead\":0,\"arrowwidth\":1},\"geo\":{\"bgcolor\":\"white\",\"landcolor\":\"#E5ECF6\",\"subunitcolor\":\"white\",\"showland\":true,\"showlakes\":true,\"lakecolor\":\"white\"},\"title\":{\"x\":0.05},\"mapbox\":{\"style\":\"light\"}}},\"xaxis\":{\"anchor\":\"y\",\"domain\":[0.0,1.0],\"title\":{},\"tickfont\":{\"color\":\"black\"},\"tickmode\":\"linear\",\"tick0\":0,\"dtick\":1,\"ticks\":\"inside\",\"showgrid\":true,\"zeroline\":false,\"visible\":true,\"showline\":true,\"linecolor\":\"black\",\"showticklabels\":true,\"mirror\":true},\"yaxis\":{\"anchor\":\"x\",\"domain\":[0.0,1.0],\"title\":{\"text\":\"Entries\"},\"tickfont\":{\"color\":\"black\"},\"ticks\":\"inside\",\"showgrid\":true,\"zeroline\":false,\"visible\":true,\"showline\":true,\"linecolor\":\"black\",\"showticklabels\":true,\"side\":\"left\",\"mirror\":true},\"legend\":{\"title\":{},\"tracegroupgap\":0},\"margin\":{\"t\":60},\"barmode\":\"group\",\"height\":360,\"paper_bgcolor\":\"LightSteelBlue\",\"showlegend\":true,\"plot_bgcolor\":\"white\"},                        {\"responsive\": true}                    ).then(function(){\n",
       "                            \n",
       "var gd = document.getElementById('d4f04abc-b351-462f-821c-8ae404efade5');\n",
       "var x = new MutationObserver(function (mutations, observer) {{\n",
       "        var display = window.getComputedStyle(gd).display;\n",
       "        if (!display || display === 'none') {{\n",
       "            console.log([gd, 'removed!']);\n",
       "            Plotly.purge(gd);\n",
       "            observer.disconnect();\n",
       "        }}\n",
       "}});\n",
       "\n",
       "// Listen for the removal of the full notebook cells\n",
       "var notebookContainer = gd.closest('#notebook-container');\n",
       "if (notebookContainer) {{\n",
       "    x.observe(notebookContainer, {childList: true});\n",
       "}}\n",
       "\n",
       "// Listen for the clearing of the current output cell\n",
       "var outputEl = gd.closest('.output');\n",
       "if (outputEl) {{\n",
       "    x.observe(outputEl, {childList: true});\n",
       "}}\n",
       "\n",
       "                        })                };                });            </script>        </div>"
      ]
     },
     "metadata": {},
     "output_type": "display_data"
    }
   ],
   "source": [
    "fig2 = px.bar(df_entries_by_dow,\n",
    "              x=\"dow\", y=\"entries\", color='when', barmode=\"group\", height=360)\n",
    "fig2.update_layout(\n",
    "    paper_bgcolor=\"LightSteelBlue\",\n",
    "    showlegend=True,\n",
    "    plot_bgcolor=\"white\",\n",
    "    xaxis_title=\"Date\",\n",
    "    yaxis_title=\"Entries\",\n",
    "    legend_title=None,\n",
    "    xaxis={\n",
    "        'tickmode': 'linear',\n",
    "        'tick0': 0,\n",
    "        'dtick': 1,\n",
    "        'title': None,\n",
    "        'ticks': 'inside',\n",
    "        'showgrid': True,            # thin lines in the background\n",
    "        'zeroline': False,           # thick line at x=0\n",
    "        'visible': True,             # numbers below\n",
    "        'showline': True,            # Show X-Axis\n",
    "        'linecolor': 'black',        # Color of X-axis\n",
    "        'tickfont_color': 'black',   # Color of ticks\n",
    "        'showticklabels': True,      # Show X labels\n",
    "        'mirror': True,              # draw right axis\n",
    "    },\n",
    "    yaxis={\n",
    "        'ticks': 'inside',\n",
    "        'showgrid': True,            # thin lines in the background\n",
    "        'zeroline': False,           # thick line at x=0\n",
    "        'visible': True,             # numbers below\n",
    "        'showline': True,            # Show X-Axis\n",
    "        'linecolor': 'black',        # Color of X-axis\n",
    "        'tickfont_color': 'black',   # Color of ticks\n",
    "        'showticklabels': True,      # Show X labels\n",
    "        'side': 'left',\n",
    "        'mirror': True,\n",
    "    },\n",
    " )\n"
   ]
  },
  {
   "cell_type": "code",
   "execution_count": 75,
   "metadata": {},
   "outputs": [
    {
     "data": {
      "text/html": [
       "<div>\n",
       "<style scoped>\n",
       "    .dataframe tbody tr th:only-of-type {\n",
       "        vertical-align: middle;\n",
       "    }\n",
       "\n",
       "    .dataframe tbody tr th {\n",
       "        vertical-align: top;\n",
       "    }\n",
       "\n",
       "    .dataframe thead th {\n",
       "        text-align: right;\n",
       "    }\n",
       "</style>\n",
       "<table border=\"1\" class=\"dataframe\">\n",
       "  <thead>\n",
       "    <tr style=\"text-align: right;\">\n",
       "      <th></th>\n",
       "      <th>tod</th>\n",
       "      <th>when</th>\n",
       "      <th>entries</th>\n",
       "    </tr>\n",
       "  </thead>\n",
       "  <tbody>\n",
       "    <tr>\n",
       "      <th>0</th>\n",
       "      <td>4</td>\n",
       "      <td>selection</td>\n",
       "      <td>59203</td>\n",
       "    </tr>\n",
       "    <tr>\n",
       "      <th>1</th>\n",
       "      <td>8</td>\n",
       "      <td>selection</td>\n",
       "      <td>445115</td>\n",
       "    </tr>\n",
       "    <tr>\n",
       "      <th>2</th>\n",
       "      <td>12</td>\n",
       "      <td>selection</td>\n",
       "      <td>439064</td>\n",
       "    </tr>\n",
       "    <tr>\n",
       "      <th>3</th>\n",
       "      <td>16</td>\n",
       "      <td>selection</td>\n",
       "      <td>579082</td>\n",
       "    </tr>\n",
       "    <tr>\n",
       "      <th>4</th>\n",
       "      <td>20</td>\n",
       "      <td>selection</td>\n",
       "      <td>516940</td>\n",
       "    </tr>\n",
       "    <tr>\n",
       "      <th>5</th>\n",
       "      <td>24</td>\n",
       "      <td>selection</td>\n",
       "      <td>140324</td>\n",
       "    </tr>\n",
       "    <tr>\n",
       "      <th>6</th>\n",
       "      <td>4</td>\n",
       "      <td>pandemic</td>\n",
       "      <td>38278</td>\n",
       "    </tr>\n",
       "    <tr>\n",
       "      <th>7</th>\n",
       "      <td>8</td>\n",
       "      <td>pandemic</td>\n",
       "      <td>267603</td>\n",
       "    </tr>\n",
       "    <tr>\n",
       "      <th>8</th>\n",
       "      <td>12</td>\n",
       "      <td>pandemic</td>\n",
       "      <td>250083</td>\n",
       "    </tr>\n",
       "    <tr>\n",
       "      <th>9</th>\n",
       "      <td>16</td>\n",
       "      <td>pandemic</td>\n",
       "      <td>345707</td>\n",
       "    </tr>\n",
       "    <tr>\n",
       "      <th>10</th>\n",
       "      <td>20</td>\n",
       "      <td>pandemic</td>\n",
       "      <td>271891</td>\n",
       "    </tr>\n",
       "    <tr>\n",
       "      <th>11</th>\n",
       "      <td>24</td>\n",
       "      <td>pandemic</td>\n",
       "      <td>73513</td>\n",
       "    </tr>\n",
       "    <tr>\n",
       "      <th>12</th>\n",
       "      <td>4</td>\n",
       "      <td>2019</td>\n",
       "      <td>127074</td>\n",
       "    </tr>\n",
       "    <tr>\n",
       "      <th>13</th>\n",
       "      <td>8</td>\n",
       "      <td>2019</td>\n",
       "      <td>1041233</td>\n",
       "    </tr>\n",
       "    <tr>\n",
       "      <th>14</th>\n",
       "      <td>12</td>\n",
       "      <td>2019</td>\n",
       "      <td>1134827</td>\n",
       "    </tr>\n",
       "    <tr>\n",
       "      <th>15</th>\n",
       "      <td>16</td>\n",
       "      <td>2019</td>\n",
       "      <td>1317188</td>\n",
       "    </tr>\n",
       "    <tr>\n",
       "      <th>16</th>\n",
       "      <td>20</td>\n",
       "      <td>2019</td>\n",
       "      <td>1390036</td>\n",
       "    </tr>\n",
       "    <tr>\n",
       "      <th>17</th>\n",
       "      <td>24</td>\n",
       "      <td>2019</td>\n",
       "      <td>375237</td>\n",
       "    </tr>\n",
       "  </tbody>\n",
       "</table>\n",
       "</div>"
      ],
      "text/plain": [
       "    tod       when  entries\n",
       "0     4  selection    59203\n",
       "1     8  selection   445115\n",
       "2    12  selection   439064\n",
       "3    16  selection   579082\n",
       "4    20  selection   516940\n",
       "5    24  selection   140324\n",
       "6     4   pandemic    38278\n",
       "7     8   pandemic   267603\n",
       "8    12   pandemic   250083\n",
       "9    16   pandemic   345707\n",
       "10   20   pandemic   271891\n",
       "11   24   pandemic    73513\n",
       "12    4       2019   127074\n",
       "13    8       2019  1041233\n",
       "14   12       2019  1134827\n",
       "15   16       2019  1317188\n",
       "16   20       2019  1390036\n",
       "17   24       2019   375237"
      ]
     },
     "execution_count": 75,
     "metadata": {},
     "output_type": "execute_result"
    }
   ],
   "source": [
    "\n",
    "def entries_by_tod(con, filters, verbose=False):\n",
    "    \"\"\"return dataframe of all entries by time of day, subject to filters\"\"\"\n",
    "\n",
    "    query = \"\"\"\n",
    "        with sh as\n",
    "            (select\n",
    "                date,\n",
    "                hour,\n",
    "                sum(entries) as entries,\n",
    "            from\n",
    "                station_hourly\n",
    "            where TRUE\n",
    "                {% if dow %} and dow in {{ dow | inclause }}  {% endif %}\n",
    "                {% if tod %} and hour in {{ tod | inclause }} {% endif %}\n",
    "                {% if cbd %} and cbd in {{ cbd | inclause }} {% endif %}\n",
    "            group by date, hour),\n",
    "        sh1 as\n",
    "            (select\n",
    "                hour,\n",
    "                sum(entries) as entries,\n",
    "                count(*) as n,\n",
    "                sum(entries)/n as entries_per_day\n",
    "            from\n",
    "                sh\n",
    "            where TRUE\n",
    "                {% if enddate %} and date < {{enddate}} {% endif %}\n",
    "                {% if startdate %} and date >= {{startdate}} {% endif %}\n",
    "            group by\n",
    "                hour),\n",
    "        sh2019 as\n",
    "            (select\n",
    "                hour,\n",
    "                sum(entries) as entries_2019,\n",
    "                count(*) as n_2019,\n",
    "            from\n",
    "                sh\n",
    "            where date_part('year', DATE)=2019\n",
    "            group by\n",
    "                hour),\n",
    "        sh_pandemic as\n",
    "            (select\n",
    "                hour,\n",
    "                sum(entries) as entries_pandemic,\n",
    "                count(*) as n_pandemic,\n",
    "            from\n",
    "                sh\n",
    "            where date>='2020-04-01' and date <'2021-04-01'\n",
    "            group by\n",
    "                hour)\n",
    "        select\n",
    "            sh1.hour,\n",
    "            sh1.entries_per_day,\n",
    "            sh_pandemic.entries_pandemic/sh_pandemic.n_pandemic as avg_pandemic,\n",
    "            sh2019.entries_2019/sh2019.n_2019 as avg_2019\n",
    "        from\n",
    "            sh1 join sh2019 on sh1.hour = sh2019.hour\n",
    "            join sh_pandemic on sh1.hour=sh_pandemic.hour\n",
    "    \"\"\"\n",
    "\n",
    "    return get_sql_from_template(con, query, filters, verbose)\n",
    "\n",
    "df_entries_by_tod = entries_by_tod(con, filters)\n",
    "df_entries_by_tod.columns=['tod', 'selection', 'pandemic', '2019']\n",
    "df_entries_by_tod = pd.melt(df_entries_by_tod,\n",
    "                            id_vars='tod', var_name='when', value_name='entries')\n",
    "df_entries_by_tod\n"
   ]
  },
  {
   "cell_type": "code",
   "execution_count": 77,
   "metadata": {},
   "outputs": [
    {
     "data": {
      "application/vnd.plotly.v1+json": {
       "config": {
        "plotlyServerURL": "https://plot.ly"
       },
       "data": [
        {
         "alignmentgroup": "True",
         "hovertemplate": "when=selection<br>tod=%{x}<br>entries=%{y}<extra></extra>",
         "legendgroup": "selection",
         "marker": {
          "color": "#636efa",
          "pattern": {
           "shape": ""
          }
         },
         "name": "selection",
         "offsetgroup": "selection",
         "orientation": "v",
         "showlegend": true,
         "textposition": "auto",
         "type": "bar",
         "x": [
          4,
          8,
          12,
          16,
          20,
          24
         ],
         "xaxis": "x",
         "y": [
          59203,
          445115,
          439064,
          579082,
          516940,
          140324
         ],
         "yaxis": "y"
        },
        {
         "alignmentgroup": "True",
         "hovertemplate": "when=pandemic<br>tod=%{x}<br>entries=%{y}<extra></extra>",
         "legendgroup": "pandemic",
         "marker": {
          "color": "#EF553B",
          "pattern": {
           "shape": ""
          }
         },
         "name": "pandemic",
         "offsetgroup": "pandemic",
         "orientation": "v",
         "showlegend": true,
         "textposition": "auto",
         "type": "bar",
         "x": [
          4,
          8,
          12,
          16,
          20,
          24
         ],
         "xaxis": "x",
         "y": [
          38278,
          267603,
          250083,
          345707,
          271891,
          73513
         ],
         "yaxis": "y"
        },
        {
         "alignmentgroup": "True",
         "hovertemplate": "when=2019<br>tod=%{x}<br>entries=%{y}<extra></extra>",
         "legendgroup": "2019",
         "marker": {
          "color": "#00cc96",
          "pattern": {
           "shape": ""
          }
         },
         "name": "2019",
         "offsetgroup": "2019",
         "orientation": "v",
         "showlegend": true,
         "textposition": "auto",
         "type": "bar",
         "x": [
          4,
          8,
          12,
          16,
          20,
          24
         ],
         "xaxis": "x",
         "y": [
          127074,
          1041233,
          1134827,
          1317188,
          1390036,
          375237
         ],
         "yaxis": "y"
        }
       ],
       "layout": {
        "barmode": "group",
        "height": 360,
        "legend": {
         "title": {
          "text": "when"
         },
         "tracegroupgap": 0
        },
        "margin": {
         "t": 60
        },
        "template": {
         "data": {
          "bar": [
           {
            "error_x": {
             "color": "#2a3f5f"
            },
            "error_y": {
             "color": "#2a3f5f"
            },
            "marker": {
             "line": {
              "color": "#E5ECF6",
              "width": 0.5
             },
             "pattern": {
              "fillmode": "overlay",
              "size": 10,
              "solidity": 0.2
             }
            },
            "type": "bar"
           }
          ],
          "barpolar": [
           {
            "marker": {
             "line": {
              "color": "#E5ECF6",
              "width": 0.5
             },
             "pattern": {
              "fillmode": "overlay",
              "size": 10,
              "solidity": 0.2
             }
            },
            "type": "barpolar"
           }
          ],
          "carpet": [
           {
            "aaxis": {
             "endlinecolor": "#2a3f5f",
             "gridcolor": "white",
             "linecolor": "white",
             "minorgridcolor": "white",
             "startlinecolor": "#2a3f5f"
            },
            "baxis": {
             "endlinecolor": "#2a3f5f",
             "gridcolor": "white",
             "linecolor": "white",
             "minorgridcolor": "white",
             "startlinecolor": "#2a3f5f"
            },
            "type": "carpet"
           }
          ],
          "choropleth": [
           {
            "colorbar": {
             "outlinewidth": 0,
             "ticks": ""
            },
            "type": "choropleth"
           }
          ],
          "contour": [
           {
            "colorbar": {
             "outlinewidth": 0,
             "ticks": ""
            },
            "colorscale": [
             [
              0,
              "#0d0887"
             ],
             [
              0.1111111111111111,
              "#46039f"
             ],
             [
              0.2222222222222222,
              "#7201a8"
             ],
             [
              0.3333333333333333,
              "#9c179e"
             ],
             [
              0.4444444444444444,
              "#bd3786"
             ],
             [
              0.5555555555555556,
              "#d8576b"
             ],
             [
              0.6666666666666666,
              "#ed7953"
             ],
             [
              0.7777777777777778,
              "#fb9f3a"
             ],
             [
              0.8888888888888888,
              "#fdca26"
             ],
             [
              1,
              "#f0f921"
             ]
            ],
            "type": "contour"
           }
          ],
          "contourcarpet": [
           {
            "colorbar": {
             "outlinewidth": 0,
             "ticks": ""
            },
            "type": "contourcarpet"
           }
          ],
          "heatmap": [
           {
            "colorbar": {
             "outlinewidth": 0,
             "ticks": ""
            },
            "colorscale": [
             [
              0,
              "#0d0887"
             ],
             [
              0.1111111111111111,
              "#46039f"
             ],
             [
              0.2222222222222222,
              "#7201a8"
             ],
             [
              0.3333333333333333,
              "#9c179e"
             ],
             [
              0.4444444444444444,
              "#bd3786"
             ],
             [
              0.5555555555555556,
              "#d8576b"
             ],
             [
              0.6666666666666666,
              "#ed7953"
             ],
             [
              0.7777777777777778,
              "#fb9f3a"
             ],
             [
              0.8888888888888888,
              "#fdca26"
             ],
             [
              1,
              "#f0f921"
             ]
            ],
            "type": "heatmap"
           }
          ],
          "heatmapgl": [
           {
            "colorbar": {
             "outlinewidth": 0,
             "ticks": ""
            },
            "colorscale": [
             [
              0,
              "#0d0887"
             ],
             [
              0.1111111111111111,
              "#46039f"
             ],
             [
              0.2222222222222222,
              "#7201a8"
             ],
             [
              0.3333333333333333,
              "#9c179e"
             ],
             [
              0.4444444444444444,
              "#bd3786"
             ],
             [
              0.5555555555555556,
              "#d8576b"
             ],
             [
              0.6666666666666666,
              "#ed7953"
             ],
             [
              0.7777777777777778,
              "#fb9f3a"
             ],
             [
              0.8888888888888888,
              "#fdca26"
             ],
             [
              1,
              "#f0f921"
             ]
            ],
            "type": "heatmapgl"
           }
          ],
          "histogram": [
           {
            "marker": {
             "pattern": {
              "fillmode": "overlay",
              "size": 10,
              "solidity": 0.2
             }
            },
            "type": "histogram"
           }
          ],
          "histogram2d": [
           {
            "colorbar": {
             "outlinewidth": 0,
             "ticks": ""
            },
            "colorscale": [
             [
              0,
              "#0d0887"
             ],
             [
              0.1111111111111111,
              "#46039f"
             ],
             [
              0.2222222222222222,
              "#7201a8"
             ],
             [
              0.3333333333333333,
              "#9c179e"
             ],
             [
              0.4444444444444444,
              "#bd3786"
             ],
             [
              0.5555555555555556,
              "#d8576b"
             ],
             [
              0.6666666666666666,
              "#ed7953"
             ],
             [
              0.7777777777777778,
              "#fb9f3a"
             ],
             [
              0.8888888888888888,
              "#fdca26"
             ],
             [
              1,
              "#f0f921"
             ]
            ],
            "type": "histogram2d"
           }
          ],
          "histogram2dcontour": [
           {
            "colorbar": {
             "outlinewidth": 0,
             "ticks": ""
            },
            "colorscale": [
             [
              0,
              "#0d0887"
             ],
             [
              0.1111111111111111,
              "#46039f"
             ],
             [
              0.2222222222222222,
              "#7201a8"
             ],
             [
              0.3333333333333333,
              "#9c179e"
             ],
             [
              0.4444444444444444,
              "#bd3786"
             ],
             [
              0.5555555555555556,
              "#d8576b"
             ],
             [
              0.6666666666666666,
              "#ed7953"
             ],
             [
              0.7777777777777778,
              "#fb9f3a"
             ],
             [
              0.8888888888888888,
              "#fdca26"
             ],
             [
              1,
              "#f0f921"
             ]
            ],
            "type": "histogram2dcontour"
           }
          ],
          "mesh3d": [
           {
            "colorbar": {
             "outlinewidth": 0,
             "ticks": ""
            },
            "type": "mesh3d"
           }
          ],
          "parcoords": [
           {
            "line": {
             "colorbar": {
              "outlinewidth": 0,
              "ticks": ""
             }
            },
            "type": "parcoords"
           }
          ],
          "pie": [
           {
            "automargin": true,
            "type": "pie"
           }
          ],
          "scatter": [
           {
            "fillpattern": {
             "fillmode": "overlay",
             "size": 10,
             "solidity": 0.2
            },
            "type": "scatter"
           }
          ],
          "scatter3d": [
           {
            "line": {
             "colorbar": {
              "outlinewidth": 0,
              "ticks": ""
             }
            },
            "marker": {
             "colorbar": {
              "outlinewidth": 0,
              "ticks": ""
             }
            },
            "type": "scatter3d"
           }
          ],
          "scattercarpet": [
           {
            "marker": {
             "colorbar": {
              "outlinewidth": 0,
              "ticks": ""
             }
            },
            "type": "scattercarpet"
           }
          ],
          "scattergeo": [
           {
            "marker": {
             "colorbar": {
              "outlinewidth": 0,
              "ticks": ""
             }
            },
            "type": "scattergeo"
           }
          ],
          "scattergl": [
           {
            "marker": {
             "colorbar": {
              "outlinewidth": 0,
              "ticks": ""
             }
            },
            "type": "scattergl"
           }
          ],
          "scattermapbox": [
           {
            "marker": {
             "colorbar": {
              "outlinewidth": 0,
              "ticks": ""
             }
            },
            "type": "scattermapbox"
           }
          ],
          "scatterpolar": [
           {
            "marker": {
             "colorbar": {
              "outlinewidth": 0,
              "ticks": ""
             }
            },
            "type": "scatterpolar"
           }
          ],
          "scatterpolargl": [
           {
            "marker": {
             "colorbar": {
              "outlinewidth": 0,
              "ticks": ""
             }
            },
            "type": "scatterpolargl"
           }
          ],
          "scatterternary": [
           {
            "marker": {
             "colorbar": {
              "outlinewidth": 0,
              "ticks": ""
             }
            },
            "type": "scatterternary"
           }
          ],
          "surface": [
           {
            "colorbar": {
             "outlinewidth": 0,
             "ticks": ""
            },
            "colorscale": [
             [
              0,
              "#0d0887"
             ],
             [
              0.1111111111111111,
              "#46039f"
             ],
             [
              0.2222222222222222,
              "#7201a8"
             ],
             [
              0.3333333333333333,
              "#9c179e"
             ],
             [
              0.4444444444444444,
              "#bd3786"
             ],
             [
              0.5555555555555556,
              "#d8576b"
             ],
             [
              0.6666666666666666,
              "#ed7953"
             ],
             [
              0.7777777777777778,
              "#fb9f3a"
             ],
             [
              0.8888888888888888,
              "#fdca26"
             ],
             [
              1,
              "#f0f921"
             ]
            ],
            "type": "surface"
           }
          ],
          "table": [
           {
            "cells": {
             "fill": {
              "color": "#EBF0F8"
             },
             "line": {
              "color": "white"
             }
            },
            "header": {
             "fill": {
              "color": "#C8D4E3"
             },
             "line": {
              "color": "white"
             }
            },
            "type": "table"
           }
          ]
         },
         "layout": {
          "annotationdefaults": {
           "arrowcolor": "#2a3f5f",
           "arrowhead": 0,
           "arrowwidth": 1
          },
          "autotypenumbers": "strict",
          "coloraxis": {
           "colorbar": {
            "outlinewidth": 0,
            "ticks": ""
           }
          },
          "colorscale": {
           "diverging": [
            [
             0,
             "#8e0152"
            ],
            [
             0.1,
             "#c51b7d"
            ],
            [
             0.2,
             "#de77ae"
            ],
            [
             0.3,
             "#f1b6da"
            ],
            [
             0.4,
             "#fde0ef"
            ],
            [
             0.5,
             "#f7f7f7"
            ],
            [
             0.6,
             "#e6f5d0"
            ],
            [
             0.7,
             "#b8e186"
            ],
            [
             0.8,
             "#7fbc41"
            ],
            [
             0.9,
             "#4d9221"
            ],
            [
             1,
             "#276419"
            ]
           ],
           "sequential": [
            [
             0,
             "#0d0887"
            ],
            [
             0.1111111111111111,
             "#46039f"
            ],
            [
             0.2222222222222222,
             "#7201a8"
            ],
            [
             0.3333333333333333,
             "#9c179e"
            ],
            [
             0.4444444444444444,
             "#bd3786"
            ],
            [
             0.5555555555555556,
             "#d8576b"
            ],
            [
             0.6666666666666666,
             "#ed7953"
            ],
            [
             0.7777777777777778,
             "#fb9f3a"
            ],
            [
             0.8888888888888888,
             "#fdca26"
            ],
            [
             1,
             "#f0f921"
            ]
           ],
           "sequentialminus": [
            [
             0,
             "#0d0887"
            ],
            [
             0.1111111111111111,
             "#46039f"
            ],
            [
             0.2222222222222222,
             "#7201a8"
            ],
            [
             0.3333333333333333,
             "#9c179e"
            ],
            [
             0.4444444444444444,
             "#bd3786"
            ],
            [
             0.5555555555555556,
             "#d8576b"
            ],
            [
             0.6666666666666666,
             "#ed7953"
            ],
            [
             0.7777777777777778,
             "#fb9f3a"
            ],
            [
             0.8888888888888888,
             "#fdca26"
            ],
            [
             1,
             "#f0f921"
            ]
           ]
          },
          "colorway": [
           "#636efa",
           "#EF553B",
           "#00cc96",
           "#ab63fa",
           "#FFA15A",
           "#19d3f3",
           "#FF6692",
           "#B6E880",
           "#FF97FF",
           "#FECB52"
          ],
          "font": {
           "color": "#2a3f5f"
          },
          "geo": {
           "bgcolor": "white",
           "lakecolor": "white",
           "landcolor": "#E5ECF6",
           "showlakes": true,
           "showland": true,
           "subunitcolor": "white"
          },
          "hoverlabel": {
           "align": "left"
          },
          "hovermode": "closest",
          "mapbox": {
           "style": "light"
          },
          "paper_bgcolor": "white",
          "plot_bgcolor": "#E5ECF6",
          "polar": {
           "angularaxis": {
            "gridcolor": "white",
            "linecolor": "white",
            "ticks": ""
           },
           "bgcolor": "#E5ECF6",
           "radialaxis": {
            "gridcolor": "white",
            "linecolor": "white",
            "ticks": ""
           }
          },
          "scene": {
           "xaxis": {
            "backgroundcolor": "#E5ECF6",
            "gridcolor": "white",
            "gridwidth": 2,
            "linecolor": "white",
            "showbackground": true,
            "ticks": "",
            "zerolinecolor": "white"
           },
           "yaxis": {
            "backgroundcolor": "#E5ECF6",
            "gridcolor": "white",
            "gridwidth": 2,
            "linecolor": "white",
            "showbackground": true,
            "ticks": "",
            "zerolinecolor": "white"
           },
           "zaxis": {
            "backgroundcolor": "#E5ECF6",
            "gridcolor": "white",
            "gridwidth": 2,
            "linecolor": "white",
            "showbackground": true,
            "ticks": "",
            "zerolinecolor": "white"
           }
          },
          "shapedefaults": {
           "line": {
            "color": "#2a3f5f"
           }
          },
          "ternary": {
           "aaxis": {
            "gridcolor": "white",
            "linecolor": "white",
            "ticks": ""
           },
           "baxis": {
            "gridcolor": "white",
            "linecolor": "white",
            "ticks": ""
           },
           "bgcolor": "#E5ECF6",
           "caxis": {
            "gridcolor": "white",
            "linecolor": "white",
            "ticks": ""
           }
          },
          "title": {
           "x": 0.05
          },
          "xaxis": {
           "automargin": true,
           "gridcolor": "white",
           "linecolor": "white",
           "ticks": "",
           "title": {
            "standoff": 15
           },
           "zerolinecolor": "white",
           "zerolinewidth": 2
          },
          "yaxis": {
           "automargin": true,
           "gridcolor": "white",
           "linecolor": "white",
           "ticks": "",
           "title": {
            "standoff": 15
           },
           "zerolinecolor": "white",
           "zerolinewidth": 2
          }
         }
        },
        "xaxis": {
         "anchor": "y",
         "domain": [
          0,
          1
         ],
         "dtick": 4,
         "tick0": 0,
         "tickmode": "linear",
         "title": {
          "text": "Time of day"
         }
        },
        "yaxis": {
         "anchor": "x",
         "domain": [
          0,
          1
         ],
         "title": {
          "text": "entries"
         }
        }
       }
      },
      "text/html": [
       "<div>                            <div id=\"4d124afe-9089-4289-926e-e95b032587ef\" class=\"plotly-graph-div\" style=\"height:360px; width:100%;\"></div>            <script type=\"text/javascript\">                require([\"plotly\"], function(Plotly) {                    window.PLOTLYENV=window.PLOTLYENV || {};                                    if (document.getElementById(\"4d124afe-9089-4289-926e-e95b032587ef\")) {                    Plotly.newPlot(                        \"4d124afe-9089-4289-926e-e95b032587ef\",                        [{\"alignmentgroup\":\"True\",\"hovertemplate\":\"when=selection<br>tod=%{x}<br>entries=%{y}<extra></extra>\",\"legendgroup\":\"selection\",\"marker\":{\"color\":\"#636efa\",\"pattern\":{\"shape\":\"\"}},\"name\":\"selection\",\"offsetgroup\":\"selection\",\"orientation\":\"v\",\"showlegend\":true,\"textposition\":\"auto\",\"x\":[4,8,12,16,20,24],\"xaxis\":\"x\",\"y\":[59203,445115,439064,579082,516940,140324],\"yaxis\":\"y\",\"type\":\"bar\"},{\"alignmentgroup\":\"True\",\"hovertemplate\":\"when=pandemic<br>tod=%{x}<br>entries=%{y}<extra></extra>\",\"legendgroup\":\"pandemic\",\"marker\":{\"color\":\"#EF553B\",\"pattern\":{\"shape\":\"\"}},\"name\":\"pandemic\",\"offsetgroup\":\"pandemic\",\"orientation\":\"v\",\"showlegend\":true,\"textposition\":\"auto\",\"x\":[4,8,12,16,20,24],\"xaxis\":\"x\",\"y\":[38278,267603,250083,345707,271891,73513],\"yaxis\":\"y\",\"type\":\"bar\"},{\"alignmentgroup\":\"True\",\"hovertemplate\":\"when=2019<br>tod=%{x}<br>entries=%{y}<extra></extra>\",\"legendgroup\":\"2019\",\"marker\":{\"color\":\"#00cc96\",\"pattern\":{\"shape\":\"\"}},\"name\":\"2019\",\"offsetgroup\":\"2019\",\"orientation\":\"v\",\"showlegend\":true,\"textposition\":\"auto\",\"x\":[4,8,12,16,20,24],\"xaxis\":\"x\",\"y\":[127074,1041233,1134827,1317188,1390036,375237],\"yaxis\":\"y\",\"type\":\"bar\"}],                        {\"template\":{\"data\":{\"histogram2dcontour\":[{\"type\":\"histogram2dcontour\",\"colorbar\":{\"outlinewidth\":0,\"ticks\":\"\"},\"colorscale\":[[0.0,\"#0d0887\"],[0.1111111111111111,\"#46039f\"],[0.2222222222222222,\"#7201a8\"],[0.3333333333333333,\"#9c179e\"],[0.4444444444444444,\"#bd3786\"],[0.5555555555555556,\"#d8576b\"],[0.6666666666666666,\"#ed7953\"],[0.7777777777777778,\"#fb9f3a\"],[0.8888888888888888,\"#fdca26\"],[1.0,\"#f0f921\"]]}],\"choropleth\":[{\"type\":\"choropleth\",\"colorbar\":{\"outlinewidth\":0,\"ticks\":\"\"}}],\"histogram2d\":[{\"type\":\"histogram2d\",\"colorbar\":{\"outlinewidth\":0,\"ticks\":\"\"},\"colorscale\":[[0.0,\"#0d0887\"],[0.1111111111111111,\"#46039f\"],[0.2222222222222222,\"#7201a8\"],[0.3333333333333333,\"#9c179e\"],[0.4444444444444444,\"#bd3786\"],[0.5555555555555556,\"#d8576b\"],[0.6666666666666666,\"#ed7953\"],[0.7777777777777778,\"#fb9f3a\"],[0.8888888888888888,\"#fdca26\"],[1.0,\"#f0f921\"]]}],\"heatmap\":[{\"type\":\"heatmap\",\"colorbar\":{\"outlinewidth\":0,\"ticks\":\"\"},\"colorscale\":[[0.0,\"#0d0887\"],[0.1111111111111111,\"#46039f\"],[0.2222222222222222,\"#7201a8\"],[0.3333333333333333,\"#9c179e\"],[0.4444444444444444,\"#bd3786\"],[0.5555555555555556,\"#d8576b\"],[0.6666666666666666,\"#ed7953\"],[0.7777777777777778,\"#fb9f3a\"],[0.8888888888888888,\"#fdca26\"],[1.0,\"#f0f921\"]]}],\"heatmapgl\":[{\"type\":\"heatmapgl\",\"colorbar\":{\"outlinewidth\":0,\"ticks\":\"\"},\"colorscale\":[[0.0,\"#0d0887\"],[0.1111111111111111,\"#46039f\"],[0.2222222222222222,\"#7201a8\"],[0.3333333333333333,\"#9c179e\"],[0.4444444444444444,\"#bd3786\"],[0.5555555555555556,\"#d8576b\"],[0.6666666666666666,\"#ed7953\"],[0.7777777777777778,\"#fb9f3a\"],[0.8888888888888888,\"#fdca26\"],[1.0,\"#f0f921\"]]}],\"contourcarpet\":[{\"type\":\"contourcarpet\",\"colorbar\":{\"outlinewidth\":0,\"ticks\":\"\"}}],\"contour\":[{\"type\":\"contour\",\"colorbar\":{\"outlinewidth\":0,\"ticks\":\"\"},\"colorscale\":[[0.0,\"#0d0887\"],[0.1111111111111111,\"#46039f\"],[0.2222222222222222,\"#7201a8\"],[0.3333333333333333,\"#9c179e\"],[0.4444444444444444,\"#bd3786\"],[0.5555555555555556,\"#d8576b\"],[0.6666666666666666,\"#ed7953\"],[0.7777777777777778,\"#fb9f3a\"],[0.8888888888888888,\"#fdca26\"],[1.0,\"#f0f921\"]]}],\"surface\":[{\"type\":\"surface\",\"colorbar\":{\"outlinewidth\":0,\"ticks\":\"\"},\"colorscale\":[[0.0,\"#0d0887\"],[0.1111111111111111,\"#46039f\"],[0.2222222222222222,\"#7201a8\"],[0.3333333333333333,\"#9c179e\"],[0.4444444444444444,\"#bd3786\"],[0.5555555555555556,\"#d8576b\"],[0.6666666666666666,\"#ed7953\"],[0.7777777777777778,\"#fb9f3a\"],[0.8888888888888888,\"#fdca26\"],[1.0,\"#f0f921\"]]}],\"mesh3d\":[{\"type\":\"mesh3d\",\"colorbar\":{\"outlinewidth\":0,\"ticks\":\"\"}}],\"scatter\":[{\"fillpattern\":{\"fillmode\":\"overlay\",\"size\":10,\"solidity\":0.2},\"type\":\"scatter\"}],\"parcoords\":[{\"type\":\"parcoords\",\"line\":{\"colorbar\":{\"outlinewidth\":0,\"ticks\":\"\"}}}],\"scatterpolargl\":[{\"type\":\"scatterpolargl\",\"marker\":{\"colorbar\":{\"outlinewidth\":0,\"ticks\":\"\"}}}],\"bar\":[{\"error_x\":{\"color\":\"#2a3f5f\"},\"error_y\":{\"color\":\"#2a3f5f\"},\"marker\":{\"line\":{\"color\":\"#E5ECF6\",\"width\":0.5},\"pattern\":{\"fillmode\":\"overlay\",\"size\":10,\"solidity\":0.2}},\"type\":\"bar\"}],\"scattergeo\":[{\"type\":\"scattergeo\",\"marker\":{\"colorbar\":{\"outlinewidth\":0,\"ticks\":\"\"}}}],\"scatterpolar\":[{\"type\":\"scatterpolar\",\"marker\":{\"colorbar\":{\"outlinewidth\":0,\"ticks\":\"\"}}}],\"histogram\":[{\"marker\":{\"pattern\":{\"fillmode\":\"overlay\",\"size\":10,\"solidity\":0.2}},\"type\":\"histogram\"}],\"scattergl\":[{\"type\":\"scattergl\",\"marker\":{\"colorbar\":{\"outlinewidth\":0,\"ticks\":\"\"}}}],\"scatter3d\":[{\"type\":\"scatter3d\",\"line\":{\"colorbar\":{\"outlinewidth\":0,\"ticks\":\"\"}},\"marker\":{\"colorbar\":{\"outlinewidth\":0,\"ticks\":\"\"}}}],\"scattermapbox\":[{\"type\":\"scattermapbox\",\"marker\":{\"colorbar\":{\"outlinewidth\":0,\"ticks\":\"\"}}}],\"scatterternary\":[{\"type\":\"scatterternary\",\"marker\":{\"colorbar\":{\"outlinewidth\":0,\"ticks\":\"\"}}}],\"scattercarpet\":[{\"type\":\"scattercarpet\",\"marker\":{\"colorbar\":{\"outlinewidth\":0,\"ticks\":\"\"}}}],\"carpet\":[{\"aaxis\":{\"endlinecolor\":\"#2a3f5f\",\"gridcolor\":\"white\",\"linecolor\":\"white\",\"minorgridcolor\":\"white\",\"startlinecolor\":\"#2a3f5f\"},\"baxis\":{\"endlinecolor\":\"#2a3f5f\",\"gridcolor\":\"white\",\"linecolor\":\"white\",\"minorgridcolor\":\"white\",\"startlinecolor\":\"#2a3f5f\"},\"type\":\"carpet\"}],\"table\":[{\"cells\":{\"fill\":{\"color\":\"#EBF0F8\"},\"line\":{\"color\":\"white\"}},\"header\":{\"fill\":{\"color\":\"#C8D4E3\"},\"line\":{\"color\":\"white\"}},\"type\":\"table\"}],\"barpolar\":[{\"marker\":{\"line\":{\"color\":\"#E5ECF6\",\"width\":0.5},\"pattern\":{\"fillmode\":\"overlay\",\"size\":10,\"solidity\":0.2}},\"type\":\"barpolar\"}],\"pie\":[{\"automargin\":true,\"type\":\"pie\"}]},\"layout\":{\"autotypenumbers\":\"strict\",\"colorway\":[\"#636efa\",\"#EF553B\",\"#00cc96\",\"#ab63fa\",\"#FFA15A\",\"#19d3f3\",\"#FF6692\",\"#B6E880\",\"#FF97FF\",\"#FECB52\"],\"font\":{\"color\":\"#2a3f5f\"},\"hovermode\":\"closest\",\"hoverlabel\":{\"align\":\"left\"},\"paper_bgcolor\":\"white\",\"plot_bgcolor\":\"#E5ECF6\",\"polar\":{\"bgcolor\":\"#E5ECF6\",\"angularaxis\":{\"gridcolor\":\"white\",\"linecolor\":\"white\",\"ticks\":\"\"},\"radialaxis\":{\"gridcolor\":\"white\",\"linecolor\":\"white\",\"ticks\":\"\"}},\"ternary\":{\"bgcolor\":\"#E5ECF6\",\"aaxis\":{\"gridcolor\":\"white\",\"linecolor\":\"white\",\"ticks\":\"\"},\"baxis\":{\"gridcolor\":\"white\",\"linecolor\":\"white\",\"ticks\":\"\"},\"caxis\":{\"gridcolor\":\"white\",\"linecolor\":\"white\",\"ticks\":\"\"}},\"coloraxis\":{\"colorbar\":{\"outlinewidth\":0,\"ticks\":\"\"}},\"colorscale\":{\"sequential\":[[0.0,\"#0d0887\"],[0.1111111111111111,\"#46039f\"],[0.2222222222222222,\"#7201a8\"],[0.3333333333333333,\"#9c179e\"],[0.4444444444444444,\"#bd3786\"],[0.5555555555555556,\"#d8576b\"],[0.6666666666666666,\"#ed7953\"],[0.7777777777777778,\"#fb9f3a\"],[0.8888888888888888,\"#fdca26\"],[1.0,\"#f0f921\"]],\"sequentialminus\":[[0.0,\"#0d0887\"],[0.1111111111111111,\"#46039f\"],[0.2222222222222222,\"#7201a8\"],[0.3333333333333333,\"#9c179e\"],[0.4444444444444444,\"#bd3786\"],[0.5555555555555556,\"#d8576b\"],[0.6666666666666666,\"#ed7953\"],[0.7777777777777778,\"#fb9f3a\"],[0.8888888888888888,\"#fdca26\"],[1.0,\"#f0f921\"]],\"diverging\":[[0,\"#8e0152\"],[0.1,\"#c51b7d\"],[0.2,\"#de77ae\"],[0.3,\"#f1b6da\"],[0.4,\"#fde0ef\"],[0.5,\"#f7f7f7\"],[0.6,\"#e6f5d0\"],[0.7,\"#b8e186\"],[0.8,\"#7fbc41\"],[0.9,\"#4d9221\"],[1,\"#276419\"]]},\"xaxis\":{\"gridcolor\":\"white\",\"linecolor\":\"white\",\"ticks\":\"\",\"title\":{\"standoff\":15},\"zerolinecolor\":\"white\",\"automargin\":true,\"zerolinewidth\":2},\"yaxis\":{\"gridcolor\":\"white\",\"linecolor\":\"white\",\"ticks\":\"\",\"title\":{\"standoff\":15},\"zerolinecolor\":\"white\",\"automargin\":true,\"zerolinewidth\":2},\"scene\":{\"xaxis\":{\"backgroundcolor\":\"#E5ECF6\",\"gridcolor\":\"white\",\"linecolor\":\"white\",\"showbackground\":true,\"ticks\":\"\",\"zerolinecolor\":\"white\",\"gridwidth\":2},\"yaxis\":{\"backgroundcolor\":\"#E5ECF6\",\"gridcolor\":\"white\",\"linecolor\":\"white\",\"showbackground\":true,\"ticks\":\"\",\"zerolinecolor\":\"white\",\"gridwidth\":2},\"zaxis\":{\"backgroundcolor\":\"#E5ECF6\",\"gridcolor\":\"white\",\"linecolor\":\"white\",\"showbackground\":true,\"ticks\":\"\",\"zerolinecolor\":\"white\",\"gridwidth\":2}},\"shapedefaults\":{\"line\":{\"color\":\"#2a3f5f\"}},\"annotationdefaults\":{\"arrowcolor\":\"#2a3f5f\",\"arrowhead\":0,\"arrowwidth\":1},\"geo\":{\"bgcolor\":\"white\",\"landcolor\":\"#E5ECF6\",\"subunitcolor\":\"white\",\"showland\":true,\"showlakes\":true,\"lakecolor\":\"white\"},\"title\":{\"x\":0.05},\"mapbox\":{\"style\":\"light\"}}},\"xaxis\":{\"anchor\":\"y\",\"domain\":[0.0,1.0],\"title\":{\"text\":\"Time of day\"},\"tickmode\":\"linear\",\"tick0\":0,\"dtick\":4},\"yaxis\":{\"anchor\":\"x\",\"domain\":[0.0,1.0],\"title\":{\"text\":\"entries\"}},\"legend\":{\"title\":{\"text\":\"when\"},\"tracegroupgap\":0},\"margin\":{\"t\":60},\"barmode\":\"group\",\"height\":360},                        {\"responsive\": true}                    ).then(function(){\n",
       "                            \n",
       "var gd = document.getElementById('4d124afe-9089-4289-926e-e95b032587ef');\n",
       "var x = new MutationObserver(function (mutations, observer) {{\n",
       "        var display = window.getComputedStyle(gd).display;\n",
       "        if (!display || display === 'none') {{\n",
       "            console.log([gd, 'removed!']);\n",
       "            Plotly.purge(gd);\n",
       "            observer.disconnect();\n",
       "        }}\n",
       "}});\n",
       "\n",
       "// Listen for the removal of the full notebook cells\n",
       "var notebookContainer = gd.closest('#notebook-container');\n",
       "if (notebookContainer) {{\n",
       "    x.observe(notebookContainer, {childList: true});\n",
       "}}\n",
       "\n",
       "// Listen for the clearing of the current output cell\n",
       "var outputEl = gd.closest('.output');\n",
       "if (outputEl) {{\n",
       "    x.observe(outputEl, {childList: true});\n",
       "}}\n",
       "\n",
       "                        })                };                });            </script>        </div>"
      ]
     },
     "metadata": {},
     "output_type": "display_data"
    }
   ],
   "source": [
    "fig = px.bar(df_entries_by_tod,\n",
    "              x=\"tod\", y=\"entries\", color='when', barmode=\"group\", height=360)\n",
    "fig.update_layout(\n",
    "    xaxis = dict(\n",
    "        tickmode= 'linear',\n",
    "        tick0=0,\n",
    "        dtick=4,\n",
    "        title='Time of day'\n",
    "    )\n",
    ")\n",
    "\n",
    "fig.show()"
   ]
  },
  {
   "cell_type": "code",
   "execution_count": 19,
   "metadata": {},
   "outputs": [
    {
     "name": "stdout",
     "output_type": "stream",
     "text": [
      "\n",
      "    with sd as\n",
      "        (SELECT\n",
      "        pretty_name,\n",
      "        latitude,\n",
      "        longitude,\n",
      "        sum(entries) as entries\n",
      "        FROM station_hourly\n",
      "        where\n",
      "            TRUE\n",
      "             and date >= '2022-01-01' \n",
      "             and date < '2023-01-01' \n",
      "             and dow in ('Monday','Tuesday','Wednesday','Thursday','Friday')  \n",
      "             and hour in (4,8,12,16,20,24) \n",
      "             and cbd in ('Y','N') \n",
      "        GROUP BY\n",
      "        pretty_name,\n",
      "        latitude,\n",
      "        longitude\n",
      "        ORDER BY\n",
      "        pretty_name\n",
      "        )\n",
      "    select\n",
      "    sd.pretty_name,\n",
      "    latitude,\n",
      "    longitude,\n",
      "    sd.entries,\n",
      "    sd.entries::float/vs2019.entries_2019-1 as pct_v_2019,\n",
      "    sd.entries::float/vspandemic.entries_pandemic-1 as pct_v_pandemic,\n",
      "    vs2019.entries_2019,\n",
      "    vspandemic.entries_pandemic\n",
      "    FROM\n",
      "    sd\n",
      "    LEFT OUTER JOIN (\n",
      "        SELECT pretty_name, sum(entries) entries_2019\n",
      "            FROM station_hourly\n",
      "            WHERE date_part('year', DATE)=2019\n",
      "             and dow in ('Monday','Tuesday','Wednesday','Thursday','Friday')  \n",
      "             and hour in (4,8,12,16,20,24) \n",
      "             and cbd in ('Y','N') \n",
      "            GROUP BY pretty_name\n",
      "            ORDER BY pretty_name\n",
      "    ) vs2019 on vs2019.pretty_name=sd.pretty_name\n",
      "    LEFT OUTER JOIN (\n",
      "        SELECT pretty_name, sum(entries) entries_pandemic\n",
      "            FROM station_hourly\n",
      "            WHERE\n",
      "            date >= '2020-03-01'\n",
      "            and date < '2021-03-01'\n",
      "             and dow in ('Monday','Tuesday','Wednesday','Thursday','Friday')  \n",
      "             and hour in (4,8,12,16,20,24) \n",
      "             and cbd in ('Y','N') \n",
      "            GROUP BY pretty_name\n",
      "            ORDER BY pretty_name\n",
      "    ) vspandemic on vspandemic.pretty_name=sd.pretty_name\n",
      "    \n"
     ]
    },
    {
     "data": {
      "text/html": [
       "<div>\n",
       "<style scoped>\n",
       "    .dataframe tbody tr th:only-of-type {\n",
       "        vertical-align: middle;\n",
       "    }\n",
       "\n",
       "    .dataframe tbody tr th {\n",
       "        vertical-align: top;\n",
       "    }\n",
       "\n",
       "    .dataframe thead th {\n",
       "        text-align: right;\n",
       "    }\n",
       "</style>\n",
       "<table border=\"1\" class=\"dataframe\">\n",
       "  <thead>\n",
       "    <tr style=\"text-align: right;\">\n",
       "      <th></th>\n",
       "      <th>pretty_name</th>\n",
       "      <th>Latitude</th>\n",
       "      <th>Longitude</th>\n",
       "      <th>entries</th>\n",
       "      <th>pct_v_2019</th>\n",
       "      <th>pct_v_pandemic</th>\n",
       "      <th>entries_2019</th>\n",
       "      <th>entries_pandemic</th>\n",
       "    </tr>\n",
       "  </thead>\n",
       "  <tbody>\n",
       "    <tr>\n",
       "      <th>0</th>\n",
       "      <td>1 Av-L (M)</td>\n",
       "      <td>40.730953</td>\n",
       "      <td>-73.981628</td>\n",
       "      <td>2032429</td>\n",
       "      <td>-0.560891</td>\n",
       "      <td>0.583979</td>\n",
       "      <td>4628531</td>\n",
       "      <td>1283116</td>\n",
       "    </tr>\n",
       "    <tr>\n",
       "      <th>1</th>\n",
       "      <td>103 St-1 (M)</td>\n",
       "      <td>40.799446</td>\n",
       "      <td>-73.968379</td>\n",
       "      <td>1362191</td>\n",
       "      <td>-0.558222</td>\n",
       "      <td>0.822868</td>\n",
       "      <td>3083432</td>\n",
       "      <td>747279</td>\n",
       "    </tr>\n",
       "    <tr>\n",
       "      <th>2</th>\n",
       "      <td>103 St-6 (M)</td>\n",
       "      <td>40.790600</td>\n",
       "      <td>-73.947478</td>\n",
       "      <td>1541481</td>\n",
       "      <td>-0.541349</td>\n",
       "      <td>0.378569</td>\n",
       "      <td>3360899</td>\n",
       "      <td>1118175</td>\n",
       "    </tr>\n",
       "    <tr>\n",
       "      <th>3</th>\n",
       "      <td>103 St-B C (M)</td>\n",
       "      <td>40.796092</td>\n",
       "      <td>-73.961454</td>\n",
       "      <td>489120</td>\n",
       "      <td>-0.598364</td>\n",
       "      <td>0.585966</td>\n",
       "      <td>1217820</td>\n",
       "      <td>308405</td>\n",
       "    </tr>\n",
       "    <tr>\n",
       "      <th>4</th>\n",
       "      <td>103 St-Corona Plaza-7 (Q)</td>\n",
       "      <td>40.749865</td>\n",
       "      <td>-73.862700</td>\n",
       "      <td>3017965</td>\n",
       "      <td>-0.414081</td>\n",
       "      <td>0.408958</td>\n",
       "      <td>5150822</td>\n",
       "      <td>2141983</td>\n",
       "    </tr>\n",
       "    <tr>\n",
       "      <th>...</th>\n",
       "      <td>...</td>\n",
       "      <td>...</td>\n",
       "      <td>...</td>\n",
       "      <td>...</td>\n",
       "      <td>...</td>\n",
       "      <td>...</td>\n",
       "      <td>...</td>\n",
       "      <td>...</td>\n",
       "    </tr>\n",
       "    <tr>\n",
       "      <th>438</th>\n",
       "      <td>181 St-A (M)</td>\n",
       "      <td>40.851695</td>\n",
       "      <td>-73.937969</td>\n",
       "      <td>957119</td>\n",
       "      <td>-0.648296</td>\n",
       "      <td>0.365799</td>\n",
       "      <td>2721378</td>\n",
       "      <td>700776</td>\n",
       "    </tr>\n",
       "    <tr>\n",
       "      <th>439</th>\n",
       "      <td>215 St-1 (M)</td>\n",
       "      <td>40.869444</td>\n",
       "      <td>-73.915279</td>\n",
       "      <td>263394</td>\n",
       "      <td>-0.432180</td>\n",
       "      <td>1.035754</td>\n",
       "      <td>463869</td>\n",
       "      <td>129384</td>\n",
       "    </tr>\n",
       "    <tr>\n",
       "      <th>440</th>\n",
       "      <td>75 Av-E F (Q)</td>\n",
       "      <td>40.718331</td>\n",
       "      <td>-73.837324</td>\n",
       "      <td>325092</td>\n",
       "      <td>-0.611140</td>\n",
       "      <td>0.627413</td>\n",
       "      <td>836013</td>\n",
       "      <td>199760</td>\n",
       "    </tr>\n",
       "    <tr>\n",
       "      <th>441</th>\n",
       "      <td>Astoria-Ditmars Blvd-N W (Q)</td>\n",
       "      <td>40.775036</td>\n",
       "      <td>-73.912034</td>\n",
       "      <td>1667190</td>\n",
       "      <td>-0.617347</td>\n",
       "      <td>0.527052</td>\n",
       "      <td>4356925</td>\n",
       "      <td>1091770</td>\n",
       "    </tr>\n",
       "    <tr>\n",
       "      <th>442</th>\n",
       "      <td>Cortelyou Rd-Q (Bk)</td>\n",
       "      <td>40.640927</td>\n",
       "      <td>-73.963891</td>\n",
       "      <td>705138</td>\n",
       "      <td>-0.570974</td>\n",
       "      <td>0.394033</td>\n",
       "      <td>1643579</td>\n",
       "      <td>505826</td>\n",
       "    </tr>\n",
       "  </tbody>\n",
       "</table>\n",
       "<p>443 rows × 8 columns</p>\n",
       "</div>"
      ],
      "text/plain": [
       "                      pretty_name   Latitude  Longitude  entries  pct_v_2019  \\\n",
       "0                      1 Av-L (M)  40.730953 -73.981628  2032429   -0.560891   \n",
       "1                    103 St-1 (M)  40.799446 -73.968379  1362191   -0.558222   \n",
       "2                    103 St-6 (M)  40.790600 -73.947478  1541481   -0.541349   \n",
       "3                  103 St-B C (M)  40.796092 -73.961454   489120   -0.598364   \n",
       "4       103 St-Corona Plaza-7 (Q)  40.749865 -73.862700  3017965   -0.414081   \n",
       "..                            ...        ...        ...      ...         ...   \n",
       "438                  181 St-A (M)  40.851695 -73.937969   957119   -0.648296   \n",
       "439                  215 St-1 (M)  40.869444 -73.915279   263394   -0.432180   \n",
       "440                 75 Av-E F (Q)  40.718331 -73.837324   325092   -0.611140   \n",
       "441  Astoria-Ditmars Blvd-N W (Q)  40.775036 -73.912034  1667190   -0.617347   \n",
       "442           Cortelyou Rd-Q (Bk)  40.640927 -73.963891   705138   -0.570974   \n",
       "\n",
       "     pct_v_pandemic  entries_2019  entries_pandemic  \n",
       "0          0.583979       4628531           1283116  \n",
       "1          0.822868       3083432            747279  \n",
       "2          0.378569       3360899           1118175  \n",
       "3          0.585966       1217820            308405  \n",
       "4          0.408958       5150822           2141983  \n",
       "..              ...           ...               ...  \n",
       "438        0.365799       2721378            700776  \n",
       "439        1.035754        463869            129384  \n",
       "440        0.627413        836013            199760  \n",
       "441        0.527052       4356925           1091770  \n",
       "442        0.394033       1643579            505826  \n",
       "\n",
       "[443 rows x 8 columns]"
      ]
     },
     "execution_count": 19,
     "metadata": {},
     "output_type": "execute_result"
    }
   ],
   "source": [
    "def entries_by_station(con, filters, verbose=False):\n",
    "    \"\"\"\n",
    "    query from hourly subject to filters, then sum by station\n",
    "    include comparison to 2019 and pandemic (also subject to filters)\n",
    "    \"\"\"\n",
    "\n",
    "    query = \"\"\"\n",
    "    with sd as\n",
    "        (SELECT\n",
    "        pretty_name,\n",
    "        latitude,\n",
    "        longitude,\n",
    "        sum(entries) as entries\n",
    "        FROM station_hourly\n",
    "        where\n",
    "            TRUE\n",
    "            {% if startdate %} and date >= {{startdate}} {% endif %}\n",
    "            {% if enddate %} and date < {{enddate}} {% endif %}\n",
    "            {% if dow %} and dow in {{ dow | inclause }}  {% endif %}\n",
    "            {% if tod %} and hour in {{ tod | inclause }} {% endif %}\n",
    "            {% if cbd %} and cbd in {{ cbd | inclause }} {% endif %}\n",
    "        GROUP BY\n",
    "        pretty_name,\n",
    "        latitude,\n",
    "        longitude\n",
    "        ORDER BY\n",
    "        pretty_name\n",
    "        )\n",
    "    select\n",
    "    sd.pretty_name,\n",
    "    latitude,\n",
    "    longitude,\n",
    "    sd.entries,\n",
    "    sd.entries::float/vs2019.entries_2019-1 as pct_v_2019,\n",
    "    sd.entries::float/vspandemic.entries_pandemic-1 as pct_v_pandemic,\n",
    "    vs2019.entries_2019,\n",
    "    vspandemic.entries_pandemic\n",
    "    FROM\n",
    "    sd\n",
    "    LEFT OUTER JOIN (\n",
    "        SELECT pretty_name, sum(entries) entries_2019\n",
    "            FROM station_hourly\n",
    "            WHERE date_part('year', DATE)=2019\n",
    "            {% if dow %} and dow in {{ dow | inclause }}  {% endif %}\n",
    "            {% if tod %} and hour in {{ tod | inclause }} {% endif %}\n",
    "            {% if cbd %} and cbd in {{ cbd | inclause }} {% endif %}\n",
    "            GROUP BY pretty_name\n",
    "            ORDER BY pretty_name\n",
    "    ) vs2019 on vs2019.pretty_name=sd.pretty_name\n",
    "    LEFT OUTER JOIN (\n",
    "        SELECT pretty_name, sum(entries) entries_pandemic\n",
    "            FROM station_hourly\n",
    "            WHERE\n",
    "            date >= '2020-03-01'\n",
    "            and date < '2021-03-01'\n",
    "            {% if dow %} and dow in {{ dow | inclause }}  {% endif %}\n",
    "            {% if tod %} and hour in {{ tod | inclause }} {% endif %}\n",
    "            {% if cbd %} and cbd in {{ cbd | inclause }} {% endif %}\n",
    "            GROUP BY pretty_name\n",
    "            ORDER BY pretty_name\n",
    "    ) vspandemic on vspandemic.pretty_name=sd.pretty_name\n",
    "    \"\"\"\n",
    "\n",
    "    return get_sql_from_template(con, query, filters, verbose)\n",
    "\n",
    "\n",
    "df_entries_by_station = entries_by_station(con, filters, verbose=True)\n",
    "df_entries_by_station\n",
    "\n"
   ]
  },
  {
   "cell_type": "code",
   "execution_count": 20,
   "metadata": {},
   "outputs": [
    {
     "name": "stdout",
     "output_type": "stream",
     "text": [
      "\n",
      "SELECT pretty_name, avg(entries) entries_2019\n",
      "    FROM station_hourly\n",
      "    WHERE date_part('year', DATE)=2019\n",
      "     and dow in ('Monday','Tuesday','Wednesday','Thursday','Friday')  \n",
      "     and hour in (4,8,12,16,20,24) \n",
      "     and cbd in ('Y','N') \n",
      "    GROUP BY pretty_name\n",
      "    ORDER BY pretty_name\n"
     ]
    },
    {
     "data": {
      "text/html": [
       "<div>\n",
       "<style scoped>\n",
       "    .dataframe tbody tr th:only-of-type {\n",
       "        vertical-align: middle;\n",
       "    }\n",
       "\n",
       "    .dataframe tbody tr th {\n",
       "        vertical-align: top;\n",
       "    }\n",
       "\n",
       "    .dataframe thead th {\n",
       "        text-align: right;\n",
       "    }\n",
       "</style>\n",
       "<table border=\"1\" class=\"dataframe\">\n",
       "  <thead>\n",
       "    <tr style=\"text-align: right;\">\n",
       "      <th></th>\n",
       "      <th>pretty_name</th>\n",
       "      <th>entries_2019</th>\n",
       "    </tr>\n",
       "  </thead>\n",
       "  <tbody>\n",
       "    <tr>\n",
       "      <th>0</th>\n",
       "      <td>1 Av-L (M)</td>\n",
       "      <td>2963.208067</td>\n",
       "    </tr>\n",
       "    <tr>\n",
       "      <th>1</th>\n",
       "      <td>103 St-1 (M)</td>\n",
       "      <td>1972.765195</td>\n",
       "    </tr>\n",
       "    <tr>\n",
       "      <th>2</th>\n",
       "      <td>103 St-6 (M)</td>\n",
       "      <td>2155.804362</td>\n",
       "    </tr>\n",
       "    <tr>\n",
       "      <th>3</th>\n",
       "      <td>103 St-B C (M)</td>\n",
       "      <td>779.654289</td>\n",
       "    </tr>\n",
       "    <tr>\n",
       "      <th>4</th>\n",
       "      <td>103 St-Corona Plaza-7 (Q)</td>\n",
       "      <td>3308.170841</td>\n",
       "    </tr>\n",
       "    <tr>\n",
       "      <th>...</th>\n",
       "      <td>...</td>\n",
       "      <td>...</td>\n",
       "    </tr>\n",
       "    <tr>\n",
       "      <th>438</th>\n",
       "      <td>Woodlawn-4 (Bx)</td>\n",
       "      <td>1120.619231</td>\n",
       "    </tr>\n",
       "    <tr>\n",
       "      <th>439</th>\n",
       "      <td>Woodside-61 St-7 (Q)</td>\n",
       "      <td>2529.391726</td>\n",
       "    </tr>\n",
       "    <tr>\n",
       "      <th>440</th>\n",
       "      <td>World Trade Center-E (M)</td>\n",
       "      <td>3098.229193</td>\n",
       "    </tr>\n",
       "    <tr>\n",
       "      <th>441</th>\n",
       "      <td>York St-F (Bk)</td>\n",
       "      <td>1683.748399</td>\n",
       "    </tr>\n",
       "    <tr>\n",
       "      <th>442</th>\n",
       "      <td>Zerega Av-6 (Bx)</td>\n",
       "      <td>444.390635</td>\n",
       "    </tr>\n",
       "  </tbody>\n",
       "</table>\n",
       "<p>443 rows × 2 columns</p>\n",
       "</div>"
      ],
      "text/plain": [
       "                   pretty_name  entries_2019\n",
       "0                   1 Av-L (M)   2963.208067\n",
       "1                 103 St-1 (M)   1972.765195\n",
       "2                 103 St-6 (M)   2155.804362\n",
       "3               103 St-B C (M)    779.654289\n",
       "4    103 St-Corona Plaza-7 (Q)   3308.170841\n",
       "..                         ...           ...\n",
       "438            Woodlawn-4 (Bx)   1120.619231\n",
       "439       Woodside-61 St-7 (Q)   2529.391726\n",
       "440   World Trade Center-E (M)   3098.229193\n",
       "441             York St-F (Bk)   1683.748399\n",
       "442           Zerega Av-6 (Bx)    444.390635\n",
       "\n",
       "[443 rows x 2 columns]"
      ]
     },
     "execution_count": 20,
     "metadata": {},
     "output_type": "execute_result"
    }
   ],
   "source": [
    "subquery_2019 = \"\"\"\n",
    "SELECT pretty_name, avg(entries) entries_2019\n",
    "    FROM station_hourly\n",
    "    WHERE date_part('year', DATE)=2019\n",
    "    {% if dow %} and dow in {{ dow | inclause }}  {% endif %}\n",
    "    {% if tod %} and hour in {{ tod | inclause }} {% endif %}\n",
    "    {% if cbd %} and cbd in {{ cbd | inclause }} {% endif %}\n",
    "    GROUP BY pretty_name\n",
    "    ORDER BY pretty_name\n",
    "\"\"\" \n",
    "get_sql_from_template(con, subquery_2019, filters, verbose=True)\n"
   ]
  },
  {
   "cell_type": "code",
   "execution_count": 21,
   "metadata": {},
   "outputs": [
    {
     "name": "stdout",
     "output_type": "stream",
     "text": [
      "\n",
      "SELECT pretty_name, avg(entries) entries_pandemic\n",
      "    FROM station_hourly\n",
      "    WHERE \n",
      "    date >= '2020-03-01'\n",
      "    and date < '2021-03-01'\n",
      "     and dow in ('Monday','Tuesday','Wednesday','Thursday','Friday')  \n",
      "     and hour in (4,8,12,16,20,24) \n",
      "     and cbd in ('Y','N') \n",
      "    GROUP BY pretty_name\n",
      "    ORDER BY pretty_name\n"
     ]
    },
    {
     "data": {
      "text/html": [
       "<div>\n",
       "<style scoped>\n",
       "    .dataframe tbody tr th:only-of-type {\n",
       "        vertical-align: middle;\n",
       "    }\n",
       "\n",
       "    .dataframe tbody tr th {\n",
       "        vertical-align: top;\n",
       "    }\n",
       "\n",
       "    .dataframe thead th {\n",
       "        text-align: right;\n",
       "    }\n",
       "</style>\n",
       "<table border=\"1\" class=\"dataframe\">\n",
       "  <thead>\n",
       "    <tr style=\"text-align: right;\">\n",
       "      <th></th>\n",
       "      <th>pretty_name</th>\n",
       "      <th>entries_pandemic</th>\n",
       "    </tr>\n",
       "  </thead>\n",
       "  <tbody>\n",
       "    <tr>\n",
       "      <th>0</th>\n",
       "      <td>1 Av-L (M)</td>\n",
       "      <td>827.816774</td>\n",
       "    </tr>\n",
       "    <tr>\n",
       "      <th>1</th>\n",
       "      <td>103 St-1 (M)</td>\n",
       "      <td>479.639923</td>\n",
       "    </tr>\n",
       "    <tr>\n",
       "      <th>2</th>\n",
       "      <td>103 St-6 (M)</td>\n",
       "      <td>716.778846</td>\n",
       "    </tr>\n",
       "    <tr>\n",
       "      <th>3</th>\n",
       "      <td>103 St-B C (M)</td>\n",
       "      <td>198.586607</td>\n",
       "    </tr>\n",
       "    <tr>\n",
       "      <th>4</th>\n",
       "      <td>103 St-Corona Plaza-7 (Q)</td>\n",
       "      <td>1373.946761</td>\n",
       "    </tr>\n",
       "    <tr>\n",
       "      <th>...</th>\n",
       "      <td>...</td>\n",
       "      <td>...</td>\n",
       "    </tr>\n",
       "    <tr>\n",
       "      <th>438</th>\n",
       "      <td>Woodlawn-4 (Bx)</td>\n",
       "      <td>407.541774</td>\n",
       "    </tr>\n",
       "    <tr>\n",
       "      <th>439</th>\n",
       "      <td>Woodside-61 St-7 (Q)</td>\n",
       "      <td>845.137909</td>\n",
       "    </tr>\n",
       "    <tr>\n",
       "      <th>440</th>\n",
       "      <td>World Trade Center-E (M)</td>\n",
       "      <td>426.815496</td>\n",
       "    </tr>\n",
       "    <tr>\n",
       "      <th>441</th>\n",
       "      <td>York St-F (Bk)</td>\n",
       "      <td>371.523748</td>\n",
       "    </tr>\n",
       "    <tr>\n",
       "      <th>442</th>\n",
       "      <td>Zerega Av-6 (Bx)</td>\n",
       "      <td>142.840924</td>\n",
       "    </tr>\n",
       "  </tbody>\n",
       "</table>\n",
       "<p>443 rows × 2 columns</p>\n",
       "</div>"
      ],
      "text/plain": [
       "                   pretty_name  entries_pandemic\n",
       "0                   1 Av-L (M)        827.816774\n",
       "1                 103 St-1 (M)        479.639923\n",
       "2                 103 St-6 (M)        716.778846\n",
       "3               103 St-B C (M)        198.586607\n",
       "4    103 St-Corona Plaza-7 (Q)       1373.946761\n",
       "..                         ...               ...\n",
       "438            Woodlawn-4 (Bx)        407.541774\n",
       "439       Woodside-61 St-7 (Q)        845.137909\n",
       "440   World Trade Center-E (M)        426.815496\n",
       "441             York St-F (Bk)        371.523748\n",
       "442           Zerega Av-6 (Bx)        142.840924\n",
       "\n",
       "[443 rows x 2 columns]"
      ]
     },
     "execution_count": 21,
     "metadata": {},
     "output_type": "execute_result"
    }
   ],
   "source": [
    "subquery_pandemic = \"\"\"\n",
    "SELECT pretty_name, avg(entries) entries_pandemic\n",
    "    FROM station_hourly\n",
    "    WHERE \n",
    "    date >= '2020-03-01'\n",
    "    and date < '2021-03-01'\n",
    "    {% if dow %} and dow in {{ dow | inclause }}  {% endif %}\n",
    "    {% if tod %} and hour in {{ tod | inclause }} {% endif %}\n",
    "    {% if cbd %} and cbd in {{ cbd | inclause }} {% endif %}\n",
    "    GROUP BY pretty_name\n",
    "    ORDER BY pretty_name\n",
    "\"\"\"\n",
    "get_sql_from_template(con, subquery_pandemic, filters, verbose=True)\n"
   ]
  },
  {
   "cell_type": "code",
   "execution_count": 22,
   "metadata": {},
   "outputs": [
    {
     "name": "stdout",
     "output_type": "stream",
     "text": [
      "\n",
      "SELECT\n",
      "  pretty_name, \n",
      "  latitude, \n",
      "  longitude, \n",
      "  avg(entries)\n",
      "FROM station_hourly\n",
      "where \n",
      "    TRUE\n",
      "     and date >= '2022-01-01' \n",
      "     and date < '2023-01-01'     \n",
      "     and dow in ('Monday','Tuesday','Wednesday','Thursday','Friday')  \n",
      "     and hour in (4,8,12,16,20,24) \n",
      "     and cbd in ('Y','N') \n",
      "GROUP BY\n",
      "  pretty_name,\n",
      "  latitude, \n",
      "  longitude\n",
      "ORDER BY\n",
      "  pretty_name\n"
     ]
    },
    {
     "data": {
      "text/html": [
       "<div>\n",
       "<style scoped>\n",
       "    .dataframe tbody tr th:only-of-type {\n",
       "        vertical-align: middle;\n",
       "    }\n",
       "\n",
       "    .dataframe tbody tr th {\n",
       "        vertical-align: top;\n",
       "    }\n",
       "\n",
       "    .dataframe thead th {\n",
       "        text-align: right;\n",
       "    }\n",
       "</style>\n",
       "<table border=\"1\" class=\"dataframe\">\n",
       "  <thead>\n",
       "    <tr style=\"text-align: right;\">\n",
       "      <th></th>\n",
       "      <th>pretty_name</th>\n",
       "      <th>Latitude</th>\n",
       "      <th>Longitude</th>\n",
       "      <th>avg(entries)</th>\n",
       "    </tr>\n",
       "  </thead>\n",
       "  <tbody>\n",
       "    <tr>\n",
       "      <th>0</th>\n",
       "      <td>1 Av-L (M)</td>\n",
       "      <td>40.730953</td>\n",
       "      <td>-73.981628</td>\n",
       "      <td>1307.028296</td>\n",
       "    </tr>\n",
       "    <tr>\n",
       "      <th>1</th>\n",
       "      <td>103 St-1 (M)</td>\n",
       "      <td>40.799446</td>\n",
       "      <td>-73.968379</td>\n",
       "      <td>877.135222</td>\n",
       "    </tr>\n",
       "    <tr>\n",
       "      <th>2</th>\n",
       "      <td>103 St-6 (M)</td>\n",
       "      <td>40.790600</td>\n",
       "      <td>-73.947478</td>\n",
       "      <td>990.032755</td>\n",
       "    </tr>\n",
       "    <tr>\n",
       "      <th>3</th>\n",
       "      <td>103 St-B C (M)</td>\n",
       "      <td>40.796092</td>\n",
       "      <td>-73.961454</td>\n",
       "      <td>315.154639</td>\n",
       "    </tr>\n",
       "    <tr>\n",
       "      <th>4</th>\n",
       "      <td>103 St-Corona Plaza-7 (Q)</td>\n",
       "      <td>40.749865</td>\n",
       "      <td>-73.862700</td>\n",
       "      <td>1939.566195</td>\n",
       "    </tr>\n",
       "    <tr>\n",
       "      <th>...</th>\n",
       "      <td>...</td>\n",
       "      <td>...</td>\n",
       "      <td>...</td>\n",
       "      <td>...</td>\n",
       "    </tr>\n",
       "    <tr>\n",
       "      <th>438</th>\n",
       "      <td>Woodlawn-4 (Bx)</td>\n",
       "      <td>40.886037</td>\n",
       "      <td>-73.878751</td>\n",
       "      <td>548.097561</td>\n",
       "    </tr>\n",
       "    <tr>\n",
       "      <th>439</th>\n",
       "      <td>Woodside-61 St-7 (Q)</td>\n",
       "      <td>40.745630</td>\n",
       "      <td>-73.902984</td>\n",
       "      <td>1375.981900</td>\n",
       "    </tr>\n",
       "    <tr>\n",
       "      <th>440</th>\n",
       "      <td>World Trade Center-E (M)</td>\n",
       "      <td>40.712582</td>\n",
       "      <td>-74.009781</td>\n",
       "      <td>1013.944264</td>\n",
       "    </tr>\n",
       "    <tr>\n",
       "      <th>441</th>\n",
       "      <td>York St-F (Bk)</td>\n",
       "      <td>40.701397</td>\n",
       "      <td>-73.986751</td>\n",
       "      <td>690.234576</td>\n",
       "    </tr>\n",
       "    <tr>\n",
       "      <th>442</th>\n",
       "      <td>Zerega Av-6 (Bx)</td>\n",
       "      <td>40.836488</td>\n",
       "      <td>-73.847036</td>\n",
       "      <td>207.187500</td>\n",
       "    </tr>\n",
       "  </tbody>\n",
       "</table>\n",
       "<p>443 rows × 4 columns</p>\n",
       "</div>"
      ],
      "text/plain": [
       "                   pretty_name   Latitude  Longitude  avg(entries)\n",
       "0                   1 Av-L (M)  40.730953 -73.981628   1307.028296\n",
       "1                 103 St-1 (M)  40.799446 -73.968379    877.135222\n",
       "2                 103 St-6 (M)  40.790600 -73.947478    990.032755\n",
       "3               103 St-B C (M)  40.796092 -73.961454    315.154639\n",
       "4    103 St-Corona Plaza-7 (Q)  40.749865 -73.862700   1939.566195\n",
       "..                         ...        ...        ...           ...\n",
       "438            Woodlawn-4 (Bx)  40.886037 -73.878751    548.097561\n",
       "439       Woodside-61 St-7 (Q)  40.745630 -73.902984   1375.981900\n",
       "440   World Trade Center-E (M)  40.712582 -74.009781   1013.944264\n",
       "441             York St-F (Bk)  40.701397 -73.986751    690.234576\n",
       "442           Zerega Av-6 (Bx)  40.836488 -73.847036    207.187500\n",
       "\n",
       "[443 rows x 4 columns]"
      ]
     },
     "execution_count": 22,
     "metadata": {},
     "output_type": "execute_result"
    }
   ],
   "source": [
    "query = \"\"\"\n",
    "SELECT\n",
    "  pretty_name, \n",
    "  latitude, \n",
    "  longitude, \n",
    "  avg(entries)\n",
    "FROM station_hourly\n",
    "where \n",
    "    TRUE\n",
    "    {% if startdate %} and date >= {{startdate}} {% endif %}\n",
    "    {% if enddate %} and date < {{enddate}} {% endif %}    \n",
    "    {% if dow %} and dow in {{ dow | inclause }}  {% endif %}\n",
    "    {% if tod %} and hour in {{ tod | inclause }} {% endif %}\n",
    "    {% if cbd %} and cbd in {{ cbd | inclause }} {% endif %}\n",
    "GROUP BY\n",
    "  pretty_name,\n",
    "  latitude, \n",
    "  longitude\n",
    "ORDER BY\n",
    "  pretty_name\n",
    "\"\"\"\n",
    "get_sql_from_template(con, query, filters, verbose=True)\n"
   ]
  },
  {
   "cell_type": "code",
   "execution_count": 23,
   "metadata": {},
   "outputs": [
    {
     "name": "stdout",
     "output_type": "stream",
     "text": [
      "\n",
      "with sd as \n",
      "(SELECT\n",
      "  pretty_name, \n",
      "  latitude, \n",
      "  longitude, \n",
      "  avg(entries) as entries\n",
      "FROM station_hourly\n",
      "where \n",
      "    TRUE\n",
      "     and date >= '2022-01-01' \n",
      "     and date < '2023-01-01'     \n",
      "     and dow in ('Monday','Tuesday','Wednesday','Thursday','Friday')  \n",
      "     and hour in (4,8,12,16,20,24) \n",
      "     and cbd in ('Y','N') \n",
      "GROUP BY\n",
      "  pretty_name, \n",
      "  latitude, \n",
      "  longitude\n",
      "ORDER BY\n",
      "  pretty_name\n",
      "\n",
      ")\n",
      "select \n",
      "  sd.pretty_name,\n",
      "  latitude,\n",
      "  longitude,\n",
      "  entries,\n",
      "  entries/entries_2019-1 as pct_v_2019,\n",
      "  entries/entries_pandemic-1 as pct_v_pandemic\n",
      "FROM\n",
      "  sd\n",
      "LEFT OUTER JOIN (\n",
      "    \n",
      "SELECT pretty_name, avg(entries) entries_2019\n",
      "    FROM station_hourly\n",
      "    WHERE date_part('year', DATE)=2019\n",
      "     and dow in ('Monday','Tuesday','Wednesday','Thursday','Friday')  \n",
      "     and hour in (4,8,12,16,20,24) \n",
      "     and cbd in ('Y','N') \n",
      "    GROUP BY pretty_name\n",
      "    ORDER BY pretty_name\n",
      "\n",
      ") vs2019 on vs2019.pretty_name=sd.pretty_name\n",
      "LEFT OUTER JOIN (\n",
      "    \n",
      "SELECT pretty_name, avg(entries) entries_pandemic\n",
      "    FROM station_hourly\n",
      "    WHERE \n",
      "    date >= '2020-03-01'\n",
      "    and date < '2021-03-01'\n",
      "     and dow in ('Monday','Tuesday','Wednesday','Thursday','Friday')  \n",
      "     and hour in (4,8,12,16,20,24) \n",
      "     and cbd in ('Y','N') \n",
      "    GROUP BY pretty_name\n",
      "    ORDER BY pretty_name\n",
      "\n",
      ") vspandemic on vspandemic.pretty_name=sd.pretty_name\n"
     ]
    },
    {
     "data": {
      "text/html": [
       "<div>\n",
       "<style scoped>\n",
       "    .dataframe tbody tr th:only-of-type {\n",
       "        vertical-align: middle;\n",
       "    }\n",
       "\n",
       "    .dataframe tbody tr th {\n",
       "        vertical-align: top;\n",
       "    }\n",
       "\n",
       "    .dataframe thead th {\n",
       "        text-align: right;\n",
       "    }\n",
       "</style>\n",
       "<table border=\"1\" class=\"dataframe\">\n",
       "  <thead>\n",
       "    <tr style=\"text-align: right;\">\n",
       "      <th></th>\n",
       "      <th>pretty_name</th>\n",
       "      <th>Latitude</th>\n",
       "      <th>Longitude</th>\n",
       "      <th>entries</th>\n",
       "      <th>pct_v_2019</th>\n",
       "      <th>pct_v_pandemic</th>\n",
       "    </tr>\n",
       "  </thead>\n",
       "  <tbody>\n",
       "    <tr>\n",
       "      <th>0</th>\n",
       "      <td>1 Av-L (M)</td>\n",
       "      <td>40.730953</td>\n",
       "      <td>-73.981628</td>\n",
       "      <td>1307.028296</td>\n",
       "      <td>-0.558914</td>\n",
       "      <td>0.578886</td>\n",
       "    </tr>\n",
       "    <tr>\n",
       "      <th>1</th>\n",
       "      <td>103 St-1 (M)</td>\n",
       "      <td>40.799446</td>\n",
       "      <td>-73.968379</td>\n",
       "      <td>877.135222</td>\n",
       "      <td>-0.555378</td>\n",
       "      <td>0.828737</td>\n",
       "    </tr>\n",
       "    <tr>\n",
       "      <th>2</th>\n",
       "      <td>103 St-6 (M)</td>\n",
       "      <td>40.790600</td>\n",
       "      <td>-73.947478</td>\n",
       "      <td>990.032755</td>\n",
       "      <td>-0.540759</td>\n",
       "      <td>0.381225</td>\n",
       "    </tr>\n",
       "    <tr>\n",
       "      <th>3</th>\n",
       "      <td>103 St-B C (M)</td>\n",
       "      <td>40.796092</td>\n",
       "      <td>-73.961454</td>\n",
       "      <td>315.154639</td>\n",
       "      <td>-0.595776</td>\n",
       "      <td>0.586988</td>\n",
       "    </tr>\n",
       "    <tr>\n",
       "      <th>4</th>\n",
       "      <td>103 St-Corona Plaza-7 (Q)</td>\n",
       "      <td>40.749865</td>\n",
       "      <td>-73.862700</td>\n",
       "      <td>1939.566195</td>\n",
       "      <td>-0.413704</td>\n",
       "      <td>0.411675</td>\n",
       "    </tr>\n",
       "    <tr>\n",
       "      <th>...</th>\n",
       "      <td>...</td>\n",
       "      <td>...</td>\n",
       "      <td>...</td>\n",
       "      <td>...</td>\n",
       "      <td>...</td>\n",
       "      <td>...</td>\n",
       "    </tr>\n",
       "    <tr>\n",
       "      <th>438</th>\n",
       "      <td>181 St-A (M)</td>\n",
       "      <td>40.851695</td>\n",
       "      <td>-73.937969</td>\n",
       "      <td>615.510611</td>\n",
       "      <td>-0.646487</td>\n",
       "      <td>0.366677</td>\n",
       "    </tr>\n",
       "    <tr>\n",
       "      <th>439</th>\n",
       "      <td>215 St-1 (M)</td>\n",
       "      <td>40.869444</td>\n",
       "      <td>-73.915279</td>\n",
       "      <td>171.592182</td>\n",
       "      <td>-0.421823</td>\n",
       "      <td>0.990662</td>\n",
       "    </tr>\n",
       "    <tr>\n",
       "      <th>440</th>\n",
       "      <td>75 Av-E F (Q)</td>\n",
       "      <td>40.718331</td>\n",
       "      <td>-73.837324</td>\n",
       "      <td>209.062379</td>\n",
       "      <td>-0.609890</td>\n",
       "      <td>0.631599</td>\n",
       "    </tr>\n",
       "    <tr>\n",
       "      <th>441</th>\n",
       "      <td>Astoria-Ditmars Blvd-N W (Q)</td>\n",
       "      <td>40.775036</td>\n",
       "      <td>-73.912034</td>\n",
       "      <td>1071.458869</td>\n",
       "      <td>-0.618577</td>\n",
       "      <td>0.529015</td>\n",
       "    </tr>\n",
       "    <tr>\n",
       "      <th>442</th>\n",
       "      <td>Cortelyou Rd-Q (Bk)</td>\n",
       "      <td>40.640927</td>\n",
       "      <td>-73.963891</td>\n",
       "      <td>456.991575</td>\n",
       "      <td>-0.565413</td>\n",
       "      <td>0.407585</td>\n",
       "    </tr>\n",
       "  </tbody>\n",
       "</table>\n",
       "<p>443 rows × 6 columns</p>\n",
       "</div>"
      ],
      "text/plain": [
       "                      pretty_name   Latitude  Longitude      entries  \\\n",
       "0                      1 Av-L (M)  40.730953 -73.981628  1307.028296   \n",
       "1                    103 St-1 (M)  40.799446 -73.968379   877.135222   \n",
       "2                    103 St-6 (M)  40.790600 -73.947478   990.032755   \n",
       "3                  103 St-B C (M)  40.796092 -73.961454   315.154639   \n",
       "4       103 St-Corona Plaza-7 (Q)  40.749865 -73.862700  1939.566195   \n",
       "..                            ...        ...        ...          ...   \n",
       "438                  181 St-A (M)  40.851695 -73.937969   615.510611   \n",
       "439                  215 St-1 (M)  40.869444 -73.915279   171.592182   \n",
       "440                 75 Av-E F (Q)  40.718331 -73.837324   209.062379   \n",
       "441  Astoria-Ditmars Blvd-N W (Q)  40.775036 -73.912034  1071.458869   \n",
       "442           Cortelyou Rd-Q (Bk)  40.640927 -73.963891   456.991575   \n",
       "\n",
       "     pct_v_2019  pct_v_pandemic  \n",
       "0     -0.558914        0.578886  \n",
       "1     -0.555378        0.828737  \n",
       "2     -0.540759        0.381225  \n",
       "3     -0.595776        0.586988  \n",
       "4     -0.413704        0.411675  \n",
       "..          ...             ...  \n",
       "438   -0.646487        0.366677  \n",
       "439   -0.421823        0.990662  \n",
       "440   -0.609890        0.631599  \n",
       "441   -0.618577        0.529015  \n",
       "442   -0.565413        0.407585  \n",
       "\n",
       "[443 rows x 6 columns]"
      ]
     },
     "execution_count": 23,
     "metadata": {},
     "output_type": "execute_result"
    }
   ],
   "source": [
    "query = \"\"\"\n",
    "with sd as \n",
    "(SELECT\n",
    "  pretty_name, \n",
    "  latitude, \n",
    "  longitude, \n",
    "  avg(entries) as entries\n",
    "FROM station_hourly\n",
    "where \n",
    "    TRUE\n",
    "    {%% if startdate %%} and date >= {{startdate}} {%% endif %%}\n",
    "    {%% if enddate %%} and date < {{enddate}} {%% endif %%}    \n",
    "    {%% if dow %%} and dow in {{ dow | inclause }}  {%% endif %%}\n",
    "    {%% if tod %%} and hour in {{ tod | inclause }} {%% endif %%}\n",
    "    {%% if cbd %%} and cbd in {{ cbd | inclause }} {%% endif %%}\n",
    "GROUP BY\n",
    "  pretty_name, \n",
    "  latitude, \n",
    "  longitude\n",
    "ORDER BY\n",
    "  pretty_name\n",
    "\n",
    ")\n",
    "select \n",
    "  sd.pretty_name,\n",
    "  latitude,\n",
    "  longitude,\n",
    "  entries,\n",
    "  entries/entries_2019-1 as pct_v_2019,\n",
    "  entries/entries_pandemic-1 as pct_v_pandemic\n",
    "FROM\n",
    "  sd\n",
    "LEFT OUTER JOIN (\n",
    "    %s\n",
    ") vs2019 on vs2019.pretty_name=sd.pretty_name\n",
    "LEFT OUTER JOIN (\n",
    "    %s\n",
    ") vspandemic on vspandemic.pretty_name=sd.pretty_name\n",
    "\"\"\" % (subquery_2019, subquery_pandemic)\n",
    "\n",
    "\n",
    "df = get_sql_from_template(con, query, filters, verbose=True)\n",
    "df"
   ]
  },
  {
   "cell_type": "code",
   "execution_count": 24,
   "metadata": {},
   "outputs": [],
   "source": [
    "df['Avg Daily Entries'] = df['entries'].apply(lambda f: \"%.1fk\" % (f/1000))\n",
    "df['%Ch vs. 2019'] = df['pct_v_2019'].apply(lambda f: \"%.1f%%\" % (f * 100))\n",
    "\n"
   ]
  },
  {
   "cell_type": "code",
   "execution_count": 25,
   "metadata": {},
   "outputs": [
    {
     "data": {
      "text/html": [
       "<div>\n",
       "<style scoped>\n",
       "    .dataframe tbody tr th:only-of-type {\n",
       "        vertical-align: middle;\n",
       "    }\n",
       "\n",
       "    .dataframe tbody tr th {\n",
       "        vertical-align: top;\n",
       "    }\n",
       "\n",
       "    .dataframe thead th {\n",
       "        text-align: right;\n",
       "    }\n",
       "</style>\n",
       "<table border=\"1\" class=\"dataframe\">\n",
       "  <thead>\n",
       "    <tr style=\"text-align: right;\">\n",
       "      <th></th>\n",
       "      <th>pretty_name</th>\n",
       "      <th>Latitude</th>\n",
       "      <th>Longitude</th>\n",
       "      <th>entries</th>\n",
       "      <th>pct_v_2019</th>\n",
       "      <th>pct_v_pandemic</th>\n",
       "      <th>Avg Daily Entries</th>\n",
       "      <th>%Ch vs. 2019</th>\n",
       "    </tr>\n",
       "  </thead>\n",
       "  <tbody>\n",
       "    <tr>\n",
       "      <th>0</th>\n",
       "      <td>1 Av-L (M)</td>\n",
       "      <td>40.730953</td>\n",
       "      <td>-73.981628</td>\n",
       "      <td>1307.028296</td>\n",
       "      <td>-0.558914</td>\n",
       "      <td>0.578886</td>\n",
       "      <td>1.3k</td>\n",
       "      <td>-55.9%</td>\n",
       "    </tr>\n",
       "    <tr>\n",
       "      <th>1</th>\n",
       "      <td>103 St-1 (M)</td>\n",
       "      <td>40.799446</td>\n",
       "      <td>-73.968379</td>\n",
       "      <td>877.135222</td>\n",
       "      <td>-0.555378</td>\n",
       "      <td>0.828737</td>\n",
       "      <td>0.9k</td>\n",
       "      <td>-55.5%</td>\n",
       "    </tr>\n",
       "    <tr>\n",
       "      <th>2</th>\n",
       "      <td>103 St-6 (M)</td>\n",
       "      <td>40.790600</td>\n",
       "      <td>-73.947478</td>\n",
       "      <td>990.032755</td>\n",
       "      <td>-0.540759</td>\n",
       "      <td>0.381225</td>\n",
       "      <td>1.0k</td>\n",
       "      <td>-54.1%</td>\n",
       "    </tr>\n",
       "    <tr>\n",
       "      <th>3</th>\n",
       "      <td>103 St-B C (M)</td>\n",
       "      <td>40.796092</td>\n",
       "      <td>-73.961454</td>\n",
       "      <td>315.154639</td>\n",
       "      <td>-0.595776</td>\n",
       "      <td>0.586988</td>\n",
       "      <td>0.3k</td>\n",
       "      <td>-59.6%</td>\n",
       "    </tr>\n",
       "    <tr>\n",
       "      <th>4</th>\n",
       "      <td>103 St-Corona Plaza-7 (Q)</td>\n",
       "      <td>40.749865</td>\n",
       "      <td>-73.862700</td>\n",
       "      <td>1939.566195</td>\n",
       "      <td>-0.413704</td>\n",
       "      <td>0.411675</td>\n",
       "      <td>1.9k</td>\n",
       "      <td>-41.4%</td>\n",
       "    </tr>\n",
       "    <tr>\n",
       "      <th>...</th>\n",
       "      <td>...</td>\n",
       "      <td>...</td>\n",
       "      <td>...</td>\n",
       "      <td>...</td>\n",
       "      <td>...</td>\n",
       "      <td>...</td>\n",
       "      <td>...</td>\n",
       "      <td>...</td>\n",
       "    </tr>\n",
       "    <tr>\n",
       "      <th>438</th>\n",
       "      <td>181 St-A (M)</td>\n",
       "      <td>40.851695</td>\n",
       "      <td>-73.937969</td>\n",
       "      <td>615.510611</td>\n",
       "      <td>-0.646487</td>\n",
       "      <td>0.366677</td>\n",
       "      <td>0.6k</td>\n",
       "      <td>-64.6%</td>\n",
       "    </tr>\n",
       "    <tr>\n",
       "      <th>439</th>\n",
       "      <td>215 St-1 (M)</td>\n",
       "      <td>40.869444</td>\n",
       "      <td>-73.915279</td>\n",
       "      <td>171.592182</td>\n",
       "      <td>-0.421823</td>\n",
       "      <td>0.990662</td>\n",
       "      <td>0.2k</td>\n",
       "      <td>-42.2%</td>\n",
       "    </tr>\n",
       "    <tr>\n",
       "      <th>440</th>\n",
       "      <td>75 Av-E F (Q)</td>\n",
       "      <td>40.718331</td>\n",
       "      <td>-73.837324</td>\n",
       "      <td>209.062379</td>\n",
       "      <td>-0.609890</td>\n",
       "      <td>0.631599</td>\n",
       "      <td>0.2k</td>\n",
       "      <td>-61.0%</td>\n",
       "    </tr>\n",
       "    <tr>\n",
       "      <th>441</th>\n",
       "      <td>Astoria-Ditmars Blvd-N W (Q)</td>\n",
       "      <td>40.775036</td>\n",
       "      <td>-73.912034</td>\n",
       "      <td>1071.458869</td>\n",
       "      <td>-0.618577</td>\n",
       "      <td>0.529015</td>\n",
       "      <td>1.1k</td>\n",
       "      <td>-61.9%</td>\n",
       "    </tr>\n",
       "    <tr>\n",
       "      <th>442</th>\n",
       "      <td>Cortelyou Rd-Q (Bk)</td>\n",
       "      <td>40.640927</td>\n",
       "      <td>-73.963891</td>\n",
       "      <td>456.991575</td>\n",
       "      <td>-0.565413</td>\n",
       "      <td>0.407585</td>\n",
       "      <td>0.5k</td>\n",
       "      <td>-56.5%</td>\n",
       "    </tr>\n",
       "  </tbody>\n",
       "</table>\n",
       "<p>443 rows × 8 columns</p>\n",
       "</div>"
      ],
      "text/plain": [
       "                      pretty_name   Latitude  Longitude      entries  \\\n",
       "0                      1 Av-L (M)  40.730953 -73.981628  1307.028296   \n",
       "1                    103 St-1 (M)  40.799446 -73.968379   877.135222   \n",
       "2                    103 St-6 (M)  40.790600 -73.947478   990.032755   \n",
       "3                  103 St-B C (M)  40.796092 -73.961454   315.154639   \n",
       "4       103 St-Corona Plaza-7 (Q)  40.749865 -73.862700  1939.566195   \n",
       "..                            ...        ...        ...          ...   \n",
       "438                  181 St-A (M)  40.851695 -73.937969   615.510611   \n",
       "439                  215 St-1 (M)  40.869444 -73.915279   171.592182   \n",
       "440                 75 Av-E F (Q)  40.718331 -73.837324   209.062379   \n",
       "441  Astoria-Ditmars Blvd-N W (Q)  40.775036 -73.912034  1071.458869   \n",
       "442           Cortelyou Rd-Q (Bk)  40.640927 -73.963891   456.991575   \n",
       "\n",
       "     pct_v_2019  pct_v_pandemic Avg Daily Entries %Ch vs. 2019  \n",
       "0     -0.558914        0.578886              1.3k       -55.9%  \n",
       "1     -0.555378        0.828737              0.9k       -55.5%  \n",
       "2     -0.540759        0.381225              1.0k       -54.1%  \n",
       "3     -0.595776        0.586988              0.3k       -59.6%  \n",
       "4     -0.413704        0.411675              1.9k       -41.4%  \n",
       "..          ...             ...               ...          ...  \n",
       "438   -0.646487        0.366677              0.6k       -64.6%  \n",
       "439   -0.421823        0.990662              0.2k       -42.2%  \n",
       "440   -0.609890        0.631599              0.2k       -61.0%  \n",
       "441   -0.618577        0.529015              1.1k       -61.9%  \n",
       "442   -0.565413        0.407585              0.5k       -56.5%  \n",
       "\n",
       "[443 rows x 8 columns]"
      ]
     },
     "execution_count": 25,
     "metadata": {},
     "output_type": "execute_result"
    }
   ],
   "source": [
    "df"
   ]
  },
  {
   "cell_type": "code",
   "execution_count": 26,
   "metadata": {},
   "outputs": [
    {
     "data": {
      "application/vnd.plotly.v1+json": {
       "config": {
        "plotlyServerURL": "https://plot.ly"
       },
       "data": [
        {
         "customdata": [
          [
           "1.3k",
           "-55.9%",
           1307.0282958199357,
           40.730953,
           -73.981628,
           -0.5589144378484794,
           0.5788859764206045
          ],
          [
           "0.9k",
           "-55.5%",
           877.1352221506761,
           40.799446,
           -73.968379,
           -0.5553777893524142,
           0.8287368922594551
          ],
          [
           "1.0k",
           "-54.1%",
           990.0327552986513,
           40.7906,
           -73.947478,
           -0.5407594618253636,
           0.38122485144623686
          ],
          [
           "0.3k",
           "-59.6%",
           315.1546391752577,
           40.796092,
           -73.961454,
           -0.5957764313348832,
           0.5869883907173206
          ],
          [
           "1.9k",
           "-41.4%",
           1939.5661953727506,
           40.749865,
           -73.8627,
           -0.413704343462971,
           0.41167492859939503
          ],
          [
           "0.2k",
           "-33.6%",
           224.60539845758356,
           40.695178,
           -73.84433,
           -0.33556612047619283,
           0.4223149513908169
          ],
          [
           "0.8k",
           "-53.8%",
           802.4,
           40.79502,
           -73.94425,
           -0.538171505467625,
           0.45100299569738445
          ],
          [
           "0.2k",
           "-50.8%",
           214.70209973753282,
           40.684331,
           -73.832163,
           -0.5077951182922495,
           0.39937708662900073
          ],
          [
           "0.2k",
           "-40.6%",
           195.18578878748372,
           40.697418,
           -73.836345,
           -0.4056426830713725,
           0.5127655013780676
          ],
          [
           "0.7k",
           "-58.1%",
           730.9231762427372,
           40.802098,
           -73.949625,
           -0.5808835851832127,
           0.47873171554141836
          ],
          [
           "1.1k",
           "-53.9%",
           1087.2823151125401,
           40.798629,
           -73.941617,
           -0.5385152425127352,
           0.42691094853560085
          ],
          [
           "0.5k",
           "-59.2%",
           482.9698717948718,
           40.805085,
           -73.954882,
           -0.5923930517918794,
           0.5878181242930487
          ],
          [
           "0.8k",
           "-67.7%",
           776.5190445448677,
           40.807722,
           -73.96411,
           -0.6768660383013838,
           1.3368025864301667
          ],
          [
           "0.6k",
           "-55.8%",
           555.7591757887959,
           40.815581,
           -73.958372,
           -0.558181002911003,
           0.6957209286408177
          ],
          [
           "0.8k",
           "-60.2%",
           825.7077713551702,
           40.807754,
           -73.945495,
           -0.6015102873068213,
           0.4798688418304571
          ],
          [
           "1.8k",
           "-58.4%",
           1826.7280307889673,
           40.804138,
           -73.937594,
           -0.5836891505726649,
           0.3245078361480094
          ],
          [
           "1.9k",
           "-59.0%",
           1909.6978832584991,
           40.811109,
           -73.952343,
           -0.5903487758519536,
           0.38039962331119415
          ],
          [
           "0.7k",
           "-70.6%",
           668.4076923076923,
           40.814229,
           -73.94077,
           -0.706286000381998,
           0.0017721202952705184
          ],
          [
           "0.4k",
           "-58.7%",
           386.6236351958895,
           40.817894,
           -73.947649,
           -0.5874882131186987,
           0.7215369751325733
          ],
          [
           "0.9k",
           "-54.8%",
           934.5093008338679,
           40.822008,
           -73.953676,
           -0.5482631331467053,
           0.6087161519783488
          ],
          [
           "2.2k",
           "-66.7%",
           2249.6391025641024,
           40.738228,
           -73.996209,
           -0.6668525562043477,
           0.7350705609676029
          ],
          [
           "0.7k",
           "-51.3%",
           740.1868978805395,
           40.826551,
           -73.95036,
           -0.5133743626884877,
           0.5252654878172596
          ],
          [
           "0.3k",
           "-54.6%",
           253.98581560283688,
           40.820421,
           -73.936245,
           -0.546084929184265,
           0.408375659625154
          ],
          [
           "0.8k",
           "-46.5%",
           771.2021822849807,
           null,
           null,
           -0.4653409076094708,
           1.470979424921377
          ],
          [
           "0.3k",
           "-52.1%",
           285.0508038585209,
           40.830135,
           -73.938209,
           -0.5208904999808297,
           0.2754408514207807
          ],
          [
           "0.2k",
           "-57.8%",
           192.32922877511342,
           40.830518,
           -73.941514,
           -0.5775735927169238,
           0.5023238191263308
          ],
          [
           "0.8k",
           "-58.1%",
           835.0410519563823,
           40.834041,
           -73.94489,
           -0.5808560974453761,
           0.5300492479104746
          ],
          [
           "1.7k",
           "-55.9%",
           1685.3775773195875,
           40.827905,
           -73.925651,
           -0.5594410950044888,
           0.4921010153419543
          ],
          [
           "0.5k",
           "-61.1%",
           491.9190231362468,
           40.833771,
           -73.91844,
           -0.6110296500065568,
           0.14625965505905092
          ],
          [
           "1.7k",
           "-50.2%",
           1661.0456885456886,
           40.840719,
           -73.939561,
           -0.5022051525915027,
           0.330073733246691
          ],
          [
           "0.6k",
           "-51.4%",
           644.9140474663245,
           40.71047,
           -73.793604,
           -0.5138773894357318,
           0.5541465869677531
          ],
          [
           "0.6k",
           "-50.9%",
           644.1164736164736,
           40.840075,
           -73.917791,
           -0.5086682010705996,
           0.27361898579339483
          ],
          [
           "0.4k",
           "-55.6%",
           395.1298200514139,
           40.837288,
           -73.887734,
           -0.5561172470314752,
           0.2950933425619928
          ],
          [
           "0.4k",
           "-53.3%",
           376.3607188703466,
           40.8459,
           -73.910136,
           -0.5328704048039197,
           0.16815529975436627
          ],
          [
           "0.8k",
           "-63.1%",
           801.6587556125721,
           40.847391,
           -73.939704,
           -0.6309115232260496,
           0.39859326096284375
          ],
          [
           "0.4k",
           "-51.0%",
           447.6062941554271,
           40.84848,
           -73.911794,
           -0.5103777837738785,
           0.3190114870696916
          ],
          [
           "0.2k",
           "-66.0%",
           161.09348807221147,
           40.859022,
           -73.93418,
           -0.6603650226784052,
           0.9704220483359438
          ],
          [
           "0.9k",
           "-66.4%",
           916.9161831076725,
           40.723402,
           -73.989938,
           -0.6636662149777894,
           0.6772502991822043
          ],
          [
           "0.4k",
           "-49.6%",
           423.31745009658727,
           40.604556,
           -73.998168,
           -0.49562792126895294,
           0.48781540911322896
          ],
          [
           "0.4k",
           "-39.6%",
           369.9987146529563,
           40.61741,
           -73.985026,
           -0.39612721036127985,
           0.9387000077007348
          ],
          [
           "0.1k",
           "-56.2%",
           120.89845758354755,
           40.744065,
           -73.949724,
           -0.5624942294163089,
           0.32531181634334727
          ],
          [
           "0.9k",
           "-51.9%",
           887.5601552393273,
           40.754203,
           -73.942836,
           -0.519316466140197,
           0.6588575180570384
          ],
          [
           "0.8k",
           "-65.1%",
           842.4740218088518,
           40.744081,
           -73.995657,
           -0.6506203443582194,
           0.818792002071629
          ],
          [
           "1.3k",
           "-67.2%",
           1273.4547787042977,
           40.745906,
           -73.998041,
           -0.6724691614032847,
           0.6922878625171949
          ],
          [
           "1.4k",
           "-66.7%",
           1404.3365384615386,
           40.742878,
           -73.992821,
           -0.6671431289140894,
           0.6527988182465629
          ],
          [
           "1.1k",
           "-72.2%",
           1061.3324775353017,
           40.741303,
           -73.989344,
           -0.7218051322011658,
           0.9267988672664629
          ],
          [
           "0.8k",
           "-52.8%",
           752.7630392788152,
           40.878856,
           -73.904834,
           -0.5282702096688389,
           0.4871850916730105
          ],
          [
           "0.4k",
           "-50.7%",
           388.32882011605415,
           40.893193,
           -73.857473,
           -0.5070901424228828,
           0.27879782288601684
          ],
          [
           "0.3k",
           "-50.3%",
           333.855035279025,
           40.884667,
           -73.90087,
           -0.502506450025735,
           0.46055371283933577
          ],
          [
           "0.4k",
           "-52.4%",
           390.787012987013,
           40.597704,
           -73.986829,
           -0.523564925580148,
           0.6442206990295527
          ],
          [
           "0.3k",
           "-54.1%",
           283.85769230769233,
           40.660397,
           -73.998091,
           -0.5406263497631575,
           0.36495283891252095
          ],
          [
           "1.1k",
           "-65.9%",
           1130.9910141206676,
           40.74307,
           -73.984264,
           -0.6590981907489694,
           0.5883843357449265
          ],
          [
           "0.6k",
           "-72.0%",
           600.7734274711169,
           40.745494,
           -73.988691,
           -0.7196512323568488,
           0.7431772511425132
          ],
          [
           "0.6k",
           "-50.3%",
           610.7306701030927,
           40.810476,
           -73.926138,
           -0.5025425804073715,
           0.5558578638181537
          ],
          [
           "1.5k",
           "-55.9%",
           1475.600384862091,
           40.816109,
           -73.917757,
           -0.5589786118394109,
           0.19819714162768176
          ],
          [
           "0.4k",
           "-61.2%",
           359.99102564102566,
           40.732849,
           -73.986122,
           -0.6115786180197958,
           0.345957592650735
          ],
          [
           "1.5k",
           "-68.3%",
           1469.2503209242618,
           40.746081,
           -73.982076,
           -0.682588949604175,
           0.4638035445535402
          ],
          [
           "0.7k",
           "-59.3%",
           697.3348358016742,
           40.744587,
           -73.930997,
           -0.5934368450505492,
           1.0493880160061115
          ],
          [
           "6.4k",
           "-64.7%",
           6441.083974358974,
           40.749567,
           -73.98795,
           -0.6466748305325731,
           0.7193305554167662
          ],
          [
           "1.3k",
           "-57.7%",
           1315.4042829331602,
           40.755882,
           -74.00191,
           -0.5774243766190092,
           1.0218877140350817
          ],
          [
           "4.6k",
           "-66.1%",
           4623.848717948718,
           40.752287,
           -73.993391,
           -0.6613847132584071,
           0.8824028624867009
          ],
          [
           "0.5k",
           "-56.8%",
           468.519305019305,
           40.756804,
           -73.929575,
           -0.5679500429610366,
           0.5501654977991646
          ],
          [
           "1.2k",
           "-46.4%",
           1187.0612903225806,
           40.655144,
           -74.003549,
           -0.46429839455716626,
           0.5209868651479539
          ],
          [
           "0.3k",
           "-64.6%",
           283.59447300771205,
           40.752039,
           -73.928781,
           -0.6462200823114774,
           0.59341686249283
          ],
          [
           "0.8k",
           "-59.1%",
           845.4996792815907,
           40.670847,
           -73.988302,
           -0.5905199310783302,
           0.5484101968004562
          ],
          [
           "0.7k",
           "-55.4%",
           737.012187299551,
           40.743781,
           -73.924016,
           -0.5544396092896127,
           0.6525725300834357
          ],
          [
           "3.0k",
           "-67.2%",
           2996.2352564102566,
           40.754222,
           -73.984569,
           -0.6724595189644251,
           0.8416728428407014
          ],
          [
           "1.0k",
           "-52.4%",
           994.3908857509628,
           40.743132,
           -73.918435,
           -0.523869379475278,
           0.5037879559985596
          ],
          [
           "0.6k",
           "-59.0%",
           578.3759640102828,
           40.756312,
           -73.913333,
           -0.5895094131652301,
           0.48476978478901156
          ],
          [
           "3.4k",
           "-66.1%",
           3374.355128205128,
           40.758663,
           -73.981329,
           -0.6614096188615812,
           0.864682006123898
          ],
          [
           "1.4k",
           "-65.2%",
           1353.7617212588311,
           40.759901,
           -73.984139,
           -0.6521560434017916,
           1.6656017291693037
          ],
          [
           "1.3k",
           "-72.3%",
           1259.7140102827764,
           40.760167,
           -73.975224,
           -0.7228456895139621,
           1.0302329740234528
          ],
          [
           "1.0k",
           "-62.0%",
           991.3114543114543,
           40.764811,
           -73.973347,
           -0.6200339686454017,
           0.8365478094288026
          ],
          [
           "1.1k",
           "-68.2%",
           1107.9923076923078,
           40.762456,
           -73.985984,
           -0.6819773578568267,
           1.1986105056306093
          ],
          [
           "1.0k",
           "-70.9%",
           1024.7998717126363,
           40.757107,
           -73.97192,
           -0.7087184199282548,
           1.0992138555103144
          ],
          [
           "0.5k",
           "-51.6%",
           482.01610824742266,
           40.744149,
           -73.912549,
           -0.5155453130467942,
           0.5064635062556608
          ],
          [
           "0.7k",
           "-48.5%",
           749.597537265068,
           40.645069,
           -74.014034,
           -0.48524952512421826,
           0.325180309806953
          ],
          [
           "0.2k",
           "-47.8%",
           187.4227799227799,
           40.631435,
           -73.995476,
           -0.4779095611306905,
           0.16545441056143928
          ],
          [
           "0.9k",
           "-61.5%",
           898.8845413726748,
           40.763972,
           -73.97745,
           -0.6150475174351464,
           1.0918739466821514
          ],
          [
           "4.4k",
           "-60.7%",
           4394.809248554913,
           40.768296,
           -73.981736,
           -0.6072886829398068,
           0.905258462857141
          ],
          [
           "1.1k",
           "-34.9%",
           1090.3007083065036,
           40.641362,
           -74.017881,
           -0.3485796900993472,
           0.5584899839989192
          ],
          [
           "1.1k",
           "-55.8%",
           1137.4338046272494,
           40.729846,
           -73.861604,
           -0.5578066574007052,
           0.49071886707206147
          ],
          [
           "1.3k",
           "-64.2%",
           1324.0758354755785,
           40.77344,
           -73.982209,
           -0.6415682968417897,
           1.3923775117767496
          ],
          [
           "0.6k",
           "-57.1%",
           635.9275641025641,
           40.726523,
           -73.852719,
           -0.5706216874429458,
           0.6611419971279646
          ],
          [
           "1.6k",
           "-58.0%",
           1604.7410772225828,
           40.768141,
           -73.96387,
           -0.5804233314940126,
           0.7688746865537648
          ],
          [
           "0.5k",
           "-35.6%",
           511.92690815006466,
           40.746325,
           -73.896403,
           -0.35629442738931216,
           0.7679198406342895
          ],
          [
           "1.0k",
           "-67.3%",
           991.3194355355997,
           40.762862,
           -73.981637,
           -0.6729201835358849,
           1.4328561443719616
          ],
          [
           "0.8k",
           "-59.6%",
           787.5731707317074,
           40.666271,
           -73.980305,
           -0.5961395113709177,
           0.7724271744931761
          ],
          [
           "2.3k",
           "-59.0%",
           2329.0449871465294,
           40.778453,
           -73.98197,
           -0.5896224654402957,
           0.7306382398976574
          ],
          [
           "0.6k",
           "-59.2%",
           583.9954896907217,
           40.775594,
           -73.97641,
           -0.5920091094397792,
           1.0557667907269348
          ],
          [
           "1.9k",
           "-62.1%",
           1944.7577120822623,
           40.768799,
           -73.958424,
           -0.6211122869649072,
           0.40652482891757336
          ],
          [
           "0.3k",
           "-49.6%",
           296.8905344494527,
           40.691324,
           -73.867139,
           -0.49634673165951515,
           0.29477305317268465
          ],
          [
           "1.9k",
           "-56.2%",
           1863.3459807073955,
           40.77362,
           -73.959874,
           -0.5616183017815108,
           0.5438716975121765
          ],
          [
           "0.4k",
           "-56.6%",
           404.57894736842104,
           40.629742,
           -74.02551,
           -0.5664628287548326,
           0.4552054276871589
          ],
          [
           "1.0k",
           "-49.4%",
           989.7730769230769,
           40.635064,
           -74.011719,
           -0.49409618411725,
           0.9644801025977694
          ],
          [
           "0.8k",
           "-71.9%",
           774.8705128205128,
           40.730328,
           -73.992629,
           -0.719189473707314,
           1.031510894875543
          ],
          [
           "0.3k",
           "-52.5%",
           339.8034682080925,
           40.679371,
           -73.858992,
           -0.5253309623950189,
           0.5026230578976245
          ],
          [
           "0.9k",
           "-58.3%",
           919.8023180940116,
           40.781433,
           -73.972143,
           -0.5830080385090615,
           1.4987432573701343
          ],
          [
           "1.5k",
           "-40.8%",
           1473.054487179487,
           40.747659,
           -73.883697,
           -0.4080671450194755,
           0.5949975013617754
          ],
          [
           "0.3k",
           "-50.1%",
           303.2447013487476,
           40.692435,
           -73.86001,
           -0.5006236347130447,
           0.28628277001250546
          ],
          [
           "1.2k",
           "-59.1%",
           1218.8891025641026,
           40.788644,
           -73.976218,
           -0.5912559657382528,
           0.7866192538840062
          ],
          [
           "0.7k",
           "-59.3%",
           707.1743589743589,
           40.785868,
           -73.968916,
           -0.5933511352916243,
           0.817364836031824
          ],
          [
           "1.4k",
           "-66.8%",
           1410.612323491656,
           40.777891,
           -73.951787,
           -0.667840261750197,
           0.5574281479533749
          ],
          [
           "1.0k",
           "-48.4%",
           966.469794344473,
           40.622687,
           -74.028398,
           -0.4839606144540236,
           0.6124475304402694
          ],
          [
           "0.2k",
           "-52.3%",
           228.4211204121056,
           40.679843,
           -73.85147,
           -0.5226398288488048,
           0.3737344724373808
          ],
          [
           "1.3k",
           "-52.7%",
           1281.249357326478,
           40.748408,
           -73.876613,
           -0.526583108298044,
           0.17329905359715836
          ],
          [
           "0.7k",
           "-60.3%",
           653.6621794871795,
           40.791642,
           -73.964696,
           -0.6028459660303715,
           0.5204046576685708
          ],
          [
           "0.4k",
           "-53.1%",
           392.77061855670104,
           40.865462,
           -73.867352,
           -0.531402040102202,
           0.27634445491119153
          ],
          [
           "0.1k",
           "-69.8%",
           81.05962410887881,
           40.672097,
           -73.835919,
           -0.6979530153986566,
           0.5542391041556738
          ],
          [
           "0.1k",
           "-55.7%",
           67.02423051735428,
           40.668234,
           -73.834058,
           -0.5573965190786638,
           0.43171025067879887
          ],
          [
           "0.8k",
           "-68.9%",
           842.0548302872063,
           40.730054,
           -73.99107,
           -0.6887209009152068,
           0.9788371597540351
          ],
          [
           "0.7k",
           "-54.9%",
           717.8241401687216,
           40.770258,
           -73.917843,
           -0.5489433334818425,
           0.8419549029585915
          ],
          [
           "3.1k",
           "-56.6%",
           3104.386144964721,
           40.683666,
           -73.97881,
           -0.5656780044561436,
           0.6929872062721798
          ],
          [
           "0.2k",
           "-56.6%",
           240.91677419354838,
           40.62927,
           -73.961639,
           -0.5662996850314845,
           0.6094402786295563
          ],
          [
           "0.5k",
           "-49.2%",
           481.61766602192137,
           40.617618,
           -73.959399,
           -0.49231443299070765,
           0.49176928620273386
          ],
          [
           "0.2k",
           "-49.6%",
           207.64807692307693,
           40.608944,
           -73.973022,
           -0.4964760963229228,
           0.34328343469528577
          ],
          [
           "0.2k",
           "-50.0%",
           152.37483953786906,
           40.596063,
           -73.973357,
           -0.500478428294272,
           0.3800059143804866
          ],
          [
           "0.6k",
           "-51.9%",
           584.8704663212435,
           40.5993,
           -73.955929,
           -0.5192222254961975,
           0.45417071661913866
          ],
          [
           "0.2k",
           "-48.5%",
           229.0525969756739,
           40.58962,
           -73.97425,
           -0.48524642682949903,
           0.40619474834543534
          ],
          [
           "0.3k",
           "-42.6%",
           256.6803594351733,
           40.588841,
           -73.983765,
           -0.42581130399614386,
           0.8349324164938188
          ],
          [
           "0.7k",
           "-48.6%",
           663.3594351732991,
           40.601875,
           -73.993728,
           -0.48561940281637517,
           0.4842003377640933
          ],
          [
           "0.1k",
           "-40.0%",
           119.66950819672131,
           40.620769,
           -73.975264,
           -0.39990634784543155,
           0.5484205532285578
          ],
          [
           "0.5k",
           "-34.7%",
           490.50869285254345,
           40.611815,
           -73.981848,
           -0.3470887246665919,
           0.6000755014068873
          ],
          [
           "0.6k",
           "-51.6%",
           621.7246469833119,
           40.634967,
           -74.023377,
           -0.5155566673855623,
           0.5436348926031704
          ],
          [
           "0.4k",
           "-56.8%",
           423.8908156711625,
           40.616622,
           -74.030876,
           -0.5678885545510128,
           0.37163279691264695
          ],
          [
           "0.3k",
           "-60.1%",
           253.0209287115762,
           40.878663,
           -73.838591,
           -0.6011550081114122,
           0.3176582508050576
          ],
          [
           "0.1k",
           "-49.3%",
           147.79328165374676,
           40.600066,
           -73.761353,
           -0.4925473364574666,
           0.31743868186598845
          ],
          [
           "0.1k",
           "-48.7%",
           82.8221649484536,
           40.595398,
           -73.768175,
           -0.487031734192629,
           0.27659332392073854
          ],
          [
           "0.1k",
           "-48.0%",
           62.93280632411067,
           40.592943,
           -73.776013,
           -0.4800153711488494,
           0.22231863334600233
          ],
          [
           "0.2k",
           "-53.0%",
           180.76010430247717,
           40.590927,
           -73.796924,
           -0.5304524251450935,
           0.15367138801464764
          ],
          [
           "0.1k",
           "-64.1%",
           58.98298429319372,
           40.588034,
           -73.813641,
           -0.6405764198710721,
           0.1795219091321134
          ],
          [
           "0.0k",
           "-53.0%",
           39.03961038961039,
           40.585307,
           -73.820558,
           -0.5299235150610658,
           0.6164586593186587
          ],
          [
           "1.4k",
           "-65.4%",
           1422.2974193548387,
           40.717304,
           -73.956872,
           -0.6537056881404958,
           0.5642733187369928
          ],
          [
           "0.5k",
           "-53.5%",
           544.7326030927835,
           40.873244,
           -73.887138,
           -0.5346040208098617,
           0.3492504830894161
          ],
          [
           "0.5k",
           "-44.4%",
           467.879409878127,
           40.873412,
           -73.890064,
           -0.4442182307897914,
           0.7174062404799146
          ],
          [
           "0.5k",
           "-65.9%",
           498.2773487773488,
           40.689627,
           -73.953522,
           -0.6593311988376458,
           0.332287806471778
          ],
          [
           "0.2k",
           "-62.2%",
           241.04749679075738,
           40.680829,
           -73.975098,
           -0.6222602614560935,
           0.8633688402907203
          ],
          [
           "0.7k",
           "-63.0%",
           683.8813341885824,
           40.686145,
           -73.990862,
           -0.6296891286534336,
           0.74262612291218
          ],
          [
           "0.3k",
           "-52.8%",
           268.37508028259475,
           40.644031,
           -73.964492,
           -0.528028662800682,
           0.479958799592761
          ],
          [
           "0.8k",
           "-68.2%",
           798.6628131021195,
           40.725915,
           -73.994659,
           -0.6818120266909438,
           0.7289666397642218
          ],
          [
           "2.0k",
           "-64.6%",
           2049.1270044900575,
           40.692404,
           -73.990151,
           -0.6461274426473208,
           0.8122858647785363
          ],
          [
           "0.2k",
           "-68.0%",
           204.18018018018017,
           40.72028,
           -73.993915,
           -0.680404319068356,
           0.5442341472427201
          ],
          [
           "0.9k",
           "-54.7%",
           895.8005131494548,
           40.577621,
           -73.961376,
           -0.546829462797927,
           0.28684437007373376
          ],
          [
           "0.0k",
           "-58.0%",
           22.89315960912052,
           40.608382,
           -73.815925,
           -0.5800430910631499,
           0.4341037823939107
          ],
          [
           "0.4k",
           "-70.9%",
           373.4857881136951,
           40.706476,
           -74.011056,
           -0.7087735496692977,
           0.5951718989041577
          ],
          [
           "0.6k",
           "-54.6%",
           626.6126533247257,
           40.679498,
           -73.904512,
           -0.5464587890079573,
           0.15668821232107177
          ],
          [
           "0.4k",
           "-52.8%",
           364.3363577446533,
           40.706092,
           -73.950308,
           -0.5281238527447025,
           0.258226792960097
          ],
          [
           "0.8k",
           "-55.5%",
           786.9358563181527,
           40.76182,
           -73.925508,
           -0.5550753509253508,
           0.6245207527018579
          ],
          [
           "0.2k",
           "-52.3%",
           200.25561978163134,
           40.848828,
           -73.868457,
           -0.5227530942907771,
           0.3922744186981044
          ],
          [
           "0.5k",
           "-49.7%",
           494.93346253229976,
           40.807566,
           -73.91924,
           -0.4965025712857629,
           0.25531724720324767
          ],
          [
           "1.2k",
           "-63.3%",
           1185.7127249357327,
           40.713065,
           -74.004131,
           -0.6327435951276129,
           1.4129568039502391
          ],
          [
           "0.3k",
           "-51.5%",
           312.6255648805681,
           40.84681,
           -73.832569,
           -0.5153034396841639,
           0.5037374479613324
          ],
          [
           "0.2k",
           "-55.0%",
           244.1706221937139,
           40.871356,
           -73.867164,
           -0.5502000837390215,
           0.23779936283589276
          ],
          [
           "0.8k",
           "-53.5%",
           768.6632390745501,
           40.853453,
           -73.907684,
           -0.5351825261789578,
           0.31021425837250693
          ],
          [
           "0.5k",
           "-45.3%",
           454.69576379974325,
           null,
           null,
           -0.45317818337321114,
           1.9275158959603105
          ],
          [
           "0.3k",
           "-73.2%",
           298.81410256410254,
           40.722854,
           -74.006277,
           -0.732039884617812,
           0.9929614556073387
          ],
          [
           "2.5k",
           "-65.0%",
           2475.3634615384617,
           40.719527,
           -74.001775,
           -0.6499329841190082,
           0.9479940272305825
          ],
          [
           "1.0k",
           "-71.0%",
           1005.0051314945478,
           40.720824,
           -74.005229,
           -0.7095465085764663,
           0.8153093043568671
          ],
          [
           "0.4k",
           "-79.2%",
           386.14819587628864,
           40.646654,
           -73.90185,
           -0.792398242902559,
           -0.2792225344137883
          ],
          [
           "0.7k",
           "-65.8%",
           661.1788931788932,
           40.680303,
           -73.995048,
           -0.657674805324318,
           0.6748687836400977
          ],
          [
           "0.5k",
           "-51.8%",
           516.9307248236049,
           40.834255,
           -73.851222,
           -0.5181690227759124,
           0.35128156928544807
          ],
          [
           "0.5k",
           "-59.6%",
           491.76962676962677,
           40.800603,
           -73.958161,
           -0.5957114737371476,
           0.5944033443565524
          ],
          [
           "0.2k",
           "-67.6%",
           239.43436293436292,
           40.697857,
           -73.927397,
           -0.6755225206727298,
           0.20531255024580486
          ],
          [
           "1.2k",
           "-63.9%",
           1215.7143786597267,
           40.715478,
           -74.009266,
           -0.6388308467745321,
           1.4409875826430807
          ],
          [
           "1.5k",
           "-67.9%",
           1514.0303225806451,
           40.714111,
           -74.008585,
           -0.6789175612894361,
           1.0327979613831513
          ],
          [
           "0.8k",
           "-55.6%",
           769.1942122186496,
           40.713243,
           -74.003401,
           -0.5559179287679257,
           1.2571927640460103
          ],
          [
           "0.2k",
           "-62.2%",
           205.17556270096463,
           40.682893,
           -73.910456,
           -0.6221671707370793,
           0.12756638251730945
          ],
          [
           "0.6k",
           "-62.1%",
           623.4522129570238,
           40.733422,
           -74.002906,
           -0.6210299157988686,
           1.2996218526304415
          ],
          [
           "0.8k",
           "-51.7%",
           772.1975625400898,
           40.650843,
           -73.949575,
           -0.5169001160557195,
           0.37798606124734
          ],
          [
           "1.2k",
           "-55.6%",
           1197.8783783783783,
           40.650527,
           -73.962982,
           -0.555653194567401,
           0.3321214882812489
          ],
          [
           "0.8k",
           "-50.9%",
           778.8657675016057,
           40.644041,
           -73.979678,
           -0.509391237843321,
           0.39176112007239694
          ],
          [
           "0.4k",
           "-63.4%",
           365.2665382145151,
           40.713282,
           -74.006978,
           -0.6338056282617164,
           1.1390564248086394
          ],
          [
           "0.3k",
           "-71.6%",
           263.9869375907112,
           40.697466,
           -73.993086,
           -0.7158473177672499,
           0.5462821758699419
          ],
          [
           "0.3k",
           "-61.6%",
           345.9645846748229,
           40.688873,
           -73.96007,
           -0.6161087803510703,
           0.49415972028225785
          ],
          [
           "0.2k",
           "-58.8%",
           201.27860374919197,
           40.679947,
           -73.884639,
           -0.5876871039397276,
           0.11867719011301592
          ],
          [
           "0.3k",
           "-63.0%",
           316.4106683804627,
           40.688089,
           -73.966839,
           -0.6301456088861696,
           0.6829607750207769
          ],
          [
           "1.0k",
           "-71.4%",
           998.6473988439307,
           40.710668,
           -74.011029,
           -0.7142686326776353,
           1.238607160288001
          ],
          [
           "1.0k",
           "-65.9%",
           973.2288461538461,
           40.747846,
           -73.946,
           -0.6592738225520335,
           0.7953383407353172
          ],
          [
           "0.4k",
           "-45.2%",
           412.3198458574181,
           40.747023,
           -73.945264,
           -0.4518561317777584,
           0.8253630214301353
          ],
          [
           "1.9k",
           "-54.2%",
           1941.0419084461637,
           40.668897,
           -73.932942,
           -0.5416099989083341,
           0.2552815808356488
          ],
          [
           "0.1k",
           "-50.7%",
           120.76599870717517,
           40.689941,
           -73.87255,
           -0.5065785777757235,
           0.24513396100409057
          ],
          [
           "0.6k",
           "-64.6%",
           552.8550352790251,
           40.703811,
           -73.918425,
           -0.6462975897569812,
           0.09208355939334756
          ],
          [
           "1.7k",
           "-61.1%",
           1695.8735558408216,
           40.718315,
           -73.987437,
           -0.6113485702315098,
           0.5690641838650303
          ],
          [
           "0.3k",
           "-47.1%",
           345.56201550387595,
           40.636119,
           -73.978172,
           -0.4713870012906197,
           0.38829764713252635
          ],
          [
           "0.6k",
           "-44.9%",
           603.942084942085,
           40.860531,
           -73.925536,
           -0.4489614991588742,
           0.41873525183553717
          ],
          [
           "0.5k",
           "-59.4%",
           461.58500323206204,
           40.865491,
           -73.927271,
           -0.5935038077795074,
           0.4196789283861704
          ],
          [
           "0.1k",
           "-33.2%",
           121.6021850899743,
           40.808719,
           -73.907657,
           -0.33214095551880607,
           0.6334825308034795
          ],
          [
           "0.4k",
           "-48.2%",
           415.8866930171278,
           40.812118,
           -73.904098,
           -0.4817816336420082,
           0.2909963247917082
          ],
          [
           "0.2k",
           "-57.9%",
           238.6304207119741,
           40.650573,
           -73.899485,
           -0.5790339269640213,
           0.11893786558928632
          ],
          [
           "0.3k",
           "-54.3%",
           324.35870967741937,
           40.8883,
           -73.830834,
           -0.5434146523775709,
           0.24352836365488972
          ],
          [
           "0.3k",
           "-58.1%",
           277.9311454311454,
           40.671987,
           -73.964375,
           -0.5811922198301236,
           1.0632600564634638
          ],
          [
           "0.6k",
           "-47.1%",
           557.9954007884363,
           40.828584,
           -73.879159,
           -0.47072344335888605,
           0.2922926157849346
          ],
          [
           "0.8k",
           "-55.0%",
           771.5822622107969,
           40.675377,
           -73.872106,
           -0.5503559609824976,
           0.20492411568475521
          ],
          [
           "0.4k",
           "-49.9%",
           367.3400129282482,
           40.603995,
           -73.755405,
           -0.49937631081709166,
           0.15563402585431518
          ],
          [
           "1.5k",
           "-50.6%",
           1491.6172125883108,
           40.632836,
           -73.947642,
           -0.5061983908796767,
           0.5077987266975974
          ],
          [
           "0.2k",
           "-40.7%",
           242.98330122029543,
           40.700377,
           -73.950234,
           -0.4072306698715553,
           0.2651317549491705
          ],
          [
           "0.6k",
           "-59.5%",
           579.9833012202954,
           40.70026,
           -73.941126,
           -0.5945243743958368,
           0.10501613348468797
          ],
          [
           "4.8k",
           "-49.2%",
           4763.512605042017,
           40.7596,
           -73.83003,
           -0.49217684567714215,
           0.6680922625819743
          ],
          [
           "0.8k",
           "-48.7%",
           832.8662379421222,
           40.862803,
           -73.901034,
           -0.48739430607433076,
           0.30758904104218354
          ],
          [
           "0.3k",
           "-52.1%",
           336.19228295819937,
           40.704423,
           -73.903077,
           -0.5209999514424799,
           0.3333453508562896
          ],
          [
           "2.0k",
           "-54.6%",
           1999.93481095176,
           40.721691,
           -73.844521,
           -0.5457449133891019,
           0.6418460766939436
          ],
          [
           "0.4k",
           "-42.7%",
           378.8859764089122,
           40.640914,
           -73.994304,
           -0.427339811832942,
           0.37445231246973276
          ],
          [
           "0.4k",
           "-57.2%",
           415.74839537869065,
           40.650782,
           -73.975776,
           -0.5716036064148056,
           0.9977300484832037
          ],
          [
           "0.3k",
           "-66.5%",
           347.45238095238096,
           40.68138,
           -73.956848,
           -0.6646543894334472,
           0.2677566212656459
          ],
          [
           "0.9k",
           "-60.1%",
           856.300641025641,
           40.670682,
           -73.958131,
           -0.6006901819286897,
           0.7542305217402723
          ],
          [
           "0.3k",
           "-61.5%",
           339.6542655548428,
           40.719318,
           -74.006886,
           -0.6149122873309774,
           1.4855665733109173
          ],
          [
           "0.4k",
           "-49.8%",
           367.3290405666452,
           40.829993,
           -73.891865,
           -0.49808666887425457,
           0.43630963764554176
          ],
          [
           "0.5k",
           "-53.7%",
           455.54563106796115,
           40.706186,
           -73.895877,
           -0.5368970747159763,
           0.27672123450571084
          ],
          [
           "4.8k",
           "-68.5%",
           4786.575641025641,
           40.710197,
           -74.007691,
           -0.6849964577005307,
           0.8323574087570642
          ],
          [
           "0.4k",
           "-50.5%",
           441.10932475884243,
           40.687119,
           -73.975375,
           -0.5054015808135554,
           0.7596259981674665
          ],
          [
           "0.4k",
           "-63.7%",
           429.97814910025704,
           40.68963,
           -73.92227,
           -0.6373336570542503,
           0.20663668529021262
          ],
          [
           "0.5k",
           "-65.5%",
           525.1980707395498,
           40.714565,
           -73.944053,
           -0.655030713418188,
           0.42220546568751227
          ],
          [
           "0.5k",
           "-60.9%",
           474.2806221646144,
           40.675235,
           -73.971046,
           -0.6088003941316718,
           0.8691384036410583
          ],
          [
           "1.3k",
           "-52.3%",
           1259.2855305466237,
           40.737015,
           -73.877223,
           -0.5228107911203348,
           0.5316675723636062
          ],
          [
           "7.4k",
           "-66.5%",
           7411.435256410256,
           40.751776,
           -73.976848,
           -0.6645130643298689,
           1.167587682411174
          ],
          [
           "1.8k",
           "-48.7%",
           1798.3807989690722,
           40.718267,
           -73.993753,
           -0.4874770299728375,
           1.042863579144245
          ],
          [
           "0.5k",
           "-53.6%",
           491.9505141388175,
           40.711926,
           -73.94067,
           -0.5363362384635779,
           0.479991531556361
          ],
          [
           "0.4k",
           "-54.9%",
           435.2530585962653,
           40.677044,
           -73.86505,
           -0.5486703062803558,
           0.2759693480615102
          ],
          [
           "0.6k",
           "-60.9%",
           642.2521452145214,
           40.731352,
           -73.954449,
           -0.6086389006271704,
           0.2999850152101715
          ],
          [
           "0.5k",
           "-54.5%",
           532.2753815527539,
           40.87785,
           -73.866256,
           -0.5449739701586673,
           0.31805387999633594
          ],
          [
           "0.4k",
           "-42.8%",
           411.503259452412,
           40.869526,
           -73.846384,
           -0.42769198274583864,
           0.6991146379480653
          ],
          [
           "0.4k",
           "-65.8%",
           368.7294344473008,
           40.68637,
           -73.916559,
           -0.6580576546360027,
           0.16623895182476423
          ],
          [
           "0.5k",
           "-58.6%",
           505.1606683804627,
           40.695602,
           -73.904084,
           -0.5864024773800813,
           0.2497801861251614
          ],
          [
           "0.1k",
           "-77.6%",
           121.55295646523717,
           40.70687,
           -73.953431,
           -0.7764045431107205,
           -0.2848151943260919
          ],
          [
           "0.7k",
           "-52.3%",
           658.5967948717948,
           40.699337,
           -73.990531,
           -0.5227778915778214,
           1.8114604331249202
          ],
          [
           "0.7k",
           "-71.6%",
           723.566388710712,
           40.728251,
           -74.005367,
           -0.7159864555699291,
           0.8528299454847115
          ],
          [
           "0.5k",
           "-33.8%",
           476.40576923076924,
           40.660476,
           -73.830301,
           -0.3381449961551879,
           1.9083690751987978
          ],
          [
           "0.5k",
           "-59.0%",
           507.29358974358973,
           40.690545,
           -73.985065,
           -0.5899183064648968,
           0.6360824720954801
          ],
          [
           "0.7k",
           "-61.6%",
           725.1251612903226,
           40.688484,
           -73.985001,
           -0.6164776519037549,
           0.4615761267753873
          ],
          [
           "0.5k",
           "-61.0%",
           451.7201540436457,
           40.742216,
           -73.948916,
           -0.6101868180946144,
           0.6465307565894509
          ],
          [
           "0.7k",
           "-58.9%",
           667.0115979381443,
           40.820948,
           -73.890549,
           -0.5887552532981055,
           0.09692387644174727
          ],
          [
           "0.3k",
           "-49.8%",
           262.5834945196647,
           40.822181,
           -73.896736,
           -0.4975045738296292,
           0.3532142473120876
          ],
          [
           "0.6k",
           "-60.5%",
           646.5057989690722,
           40.868072,
           -73.919899,
           -0.6054355319556501,
           0.35269741273641375
          ],
          [
           "0.4k",
           "-51.5%",
           414.2245161290323,
           40.81649,
           -73.907807,
           -0.5153032402098405,
           0.42658136807273617
          ],
          [
           "4.5k",
           "-47.9%",
           4498.184615384615,
           40.746644,
           -73.891338,
           -0.47926652276685067,
           0.5660458084499238
          ],
          [
           "3.7k",
           "-50.5%",
           3707.7910256410255,
           40.702147,
           -73.801109,
           -0.5050295129824497,
           0.8592312681972556
          ],
          [
           "1.7k",
           "-51.2%",
           1720.62671009772,
           40.712646,
           -73.783817,
           -0.5116386118546704,
           0.47122878428709414
          ],
          [
           "0.4k",
           "-48.8%",
           387.2800256904303,
           40.702566,
           -73.816859,
           -0.48825146836426225,
           0.04445145964370445
          ],
          [
           "2.2k",
           "-64.7%",
           2218.2068079640335,
           40.692338,
           -73.987342,
           -0.6468146518445113,
           0.7956093424596993
          ],
          [
           "0.5k",
           "-61.7%",
           453.7236503856041,
           40.706607,
           -73.922913,
           -0.6168760653300887,
           0.37818986999456805
          ],
          [
           "2.2k",
           "-37.1%",
           2193.9235709698137,
           40.749145,
           -73.869527,
           -0.3705725532123423,
           0.46746459099274773
          ],
          [
           "0.2k",
           "-46.3%",
           200.11696658097685,
           40.663515,
           -73.902447,
           -0.4632915176211272,
           0.3987529984637084
          ],
          [
           "1.9k",
           "-54.6%",
           1911.5561978163134,
           40.714441,
           -73.831008,
           -0.5459425587310118,
           0.530425263105933
          ],
          [
           "1.6k",
           "-51.1%",
           1600.9273778920308,
           40.60867,
           -73.957734,
           -0.5107372775742811,
           0.48295630277986357
          ],
          [
           "0.3k",
           "-52.9%",
           290.24415584415584,
           40.603217,
           -73.972361,
           -0.5289433869003398,
           0.3216190356831057
          ],
          [
           "0.5k",
           "-34.8%",
           477.55920205920205,
           40.603923,
           -73.980353,
           -0.3478769692662511,
           0.6854291549382796
          ],
          [
           "0.5k",
           "-60.6%",
           518.625641025641,
           40.866978,
           -73.893509,
           -0.6058420313653552,
           0.11588842717782644
          ],
          [
           "0.3k",
           "-57.1%",
           335.53846153846155,
           40.669399,
           -73.942161,
           -0.5706114269231399,
           0.38017045282716877
          ],
          [
           "0.4k",
           "-63.5%",
           402.4540750323415,
           40.679921,
           -73.940858,
           -0.6351931514879969,
           0.5145796851668876
          ],
          [
           "0.3k",
           "-61.6%",
           286.34188582424633,
           40.698664,
           -73.919711,
           -0.6164871954821186,
           0.21585420510921516
          ],
          [
           "0.3k",
           "-64.4%",
           330.54621309370987,
           40.693342,
           -73.928814,
           -0.6437607780539814,
           0.27663934881977315
          ],
          [
           "0.3k",
           "-64.5%",
           255.27488760436736,
           40.686113,
           -73.973946,
           -0.6452995195058753,
           0.5342369788922943
          ],
          [
           "2.0k",
           "-69.4%",
           2036.6602564102564,
           40.757552,
           -73.969055,
           -0.69394583012036,
           0.7997640110641764
          ],
          [
           "1.3k",
           "-60.1%",
           1281.708115183246,
           40.764629,
           -73.966113,
           -0.6011495413403455,
           0.5812569769389928
          ],
          [
           "0.2k",
           "-51.0%",
           234.70447180816592,
           40.664038,
           -73.900571,
           -0.5101123454348011,
           0.18755677104340673
          ],
          [
           "0.3k",
           "-41.2%",
           310.1606683804627,
           40.816104,
           -73.896435,
           -0.41185422821389306,
           0.6759855788255764
          ],
          [
           "0.3k",
           "-63.0%",
           322.28374836173003,
           40.703869,
           -73.947408,
           -0.6297752335498304,
           0.20151127962826343
          ],
          [
           "0.2k",
           "-73.9%",
           227.0939548434086,
           40.714063,
           -73.950275,
           -0.738693511566735,
           0.29370830269746606
          ],
          [
           "0.4k",
           "-49.8%",
           425.70546163849156,
           40.874561,
           -73.909831,
           -0.49802612462583506,
           0.4275173148149112
          ],
          [
           "0.7k",
           "-68.7%",
           737.4594594594595,
           40.708359,
           -73.957757,
           -0.6865044226399508,
           0.18594085540275218
          ],
          [
           "0.5k",
           "-62.6%",
           544.1176848874599,
           40.712792,
           -73.951418,
           -0.6255973090162085,
           0.4448465584376453
          ],
          [
           "0.4k",
           "-53.0%",
           394.8325791855204,
           40.754622,
           -73.845625,
           -0.5297666260605793,
           1.7890226445630177
          ],
          [
           "0.3k",
           "-43.3%",
           281.92866407263296,
           40.711396,
           -73.889601,
           -0.4326167381311047,
           0.5142223545950348
          ],
          [
           "0.2k",
           "-52.3%",
           166.43224149004496,
           40.843863,
           -73.836322,
           -0.5226426793819123,
           0.572569058669611
          ],
          [
           "0.4k",
           "-62.4%",
           402.2745349583066,
           40.707739,
           -73.93985,
           -0.6235343316424609,
           0.3197593598440578
          ],
          [
           "0.4k",
           "-65.6%",
           390.2427372498386,
           40.706152,
           -73.933147,
           -0.6562777189294229,
           0.2891277080414809
          ],
          [
           "0.2k",
           "-54.5%",
           190.343481138319,
           40.854364,
           -73.860495,
           -0.5449558411449886,
           0.4425030034337598
          ],
          [
           "0.5k",
           "-48.9%",
           537.091961414791,
           40.829521,
           -73.874516,
           -0.4891218789818709,
           0.3093236384680935
          ],
          [
           "0.7k",
           "-49.1%",
           682.3674388674389,
           40.87975,
           -73.884655,
           -0.49126800782567914,
           0.29246200250761456
          ],
          [
           "0.4k",
           "-48.5%",
           423.71147540983605,
           40.844434,
           -73.914685,
           -0.48548662476648297,
           0.22630408261140156
          ],
          [
           "0.4k",
           "-60.9%",
           381.75064267352184,
           40.694568,
           -73.949046,
           -0.6093484938071003,
           0.28624725130845796
          ],
          [
           "1.4k",
           "-53.3%",
           1448.976236351959,
           40.69943,
           -73.912385,
           -0.5333647361523596,
           0.3336785677971914
          ],
          [
           "0.6k",
           "-65.5%",
           557.0865384615385,
           40.724635,
           -73.951277,
           -0.6545488653865787,
           0.3611262558696866
          ],
          [
           "0.3k",
           "-53.8%",
           342.3382731958763,
           40.595246,
           -73.955161,
           -0.5378805402284411,
           0.47043360573209814
          ],
          [
           "0.3k",
           "-49.7%",
           283.0581395348837,
           40.898379,
           -73.854376,
           -0.49724331742701255,
           0.39723338432817457
          ],
          [
           "0.6k",
           "-61.9%",
           642.1788461538462,
           40.688246,
           -73.980492,
           -0.6189392508609974,
           0.49095551236810686
          ],
          [
           "0.5k",
           "-51.5%",
           458.06410256410254,
           40.666235,
           -73.884079,
           -0.514677685766428,
           0.22662216715088124
          ],
          [
           "0.3k",
           "-54.2%",
           320.85456885456887,
           40.658733,
           -73.899232,
           -0.54239525274507,
           0.1703605453084529
          ],
          [
           "0.5k",
           "-41.0%",
           465.5621794871795,
           40.624842,
           -73.996353,
           -0.4103821460499505,
           0.5485100526129103
          ],
          [
           "0.7k",
           "-61.2%",
           679.3374114616871,
           40.635082,
           -73.962793,
           -0.6120653201728063,
           0.22299043159623477
          ],
          [
           "0.5k",
           "-52.5%",
           529.2044871794872,
           40.752885,
           -73.906006,
           -0.5250007070684864,
           0.3949108650549753
          ],
          [
           "0.2k",
           "-57.9%",
           220.24399740428294,
           40.68141,
           -73.880039,
           -0.5792716550359216,
           0.16343157236164596
          ],
          [
           "0.6k",
           "-54.7%",
           644.1587403598971,
           40.874811,
           -73.878855,
           -0.5466416166476109,
           0.19893492128355184
          ],
          [
           "0.3k",
           "-60.3%",
           278.94254357650095,
           40.669847,
           -73.950466,
           -0.6029582498597457,
           0.48318735416185343
          ],
          [
           "1.1k",
           "-61.3%",
           1107.3033052495139,
           40.680438,
           -73.950426,
           -0.6133527365186566,
           0.4436229099021731
          ],
          [
           "0.3k",
           "-50.5%",
           269.74420103092785,
           40.576312,
           -73.968501,
           -0.5054190407941306,
           0.38715471121686673
          ],
          [
           "0.6k",
           "-50.5%",
           625.7631408176509,
           40.685951,
           -73.825798,
           -0.504614202824696,
           0.29146555862216506
          ],
          [
           "4.9k",
           "-51.5%",
           4911.300833867864,
           null,
           null,
           -0.5146989558322193,
           1.4551460103337321
          ],
          [
           "0.1k",
           "-56.6%",
           120.54586273252085,
           40.674772,
           -73.957624,
           -0.5661694428953981,
           0.5211635211377108
          ],
          [
           "0.2k",
           "-69.0%",
           162.81459948320415,
           40.713051,
           -74.008811,
           -0.6899955791924997,
           0.8896802242959485
          ],
          [
           "1.2k",
           "-51.9%",
           1190.953307392996,
           40.833226,
           -73.860816,
           -0.5189754660872814,
           0.35887875861415464
          ],
          [
           "0.4k",
           "-58.3%",
           426.1192778852353,
           40.655292,
           -73.961495,
           -0.5833814876653783,
           0.2653025443970427
          ],
          [
           "0.6k",
           "-46.6%",
           592.6525369299936,
           40.707564,
           -73.803326,
           -0.46555726930501706,
           0.23348039001567633
          ],
          [
           "0.5k",
           "-56.1%",
           525.8917525773196,
           40.852462,
           -73.828121,
           -0.5612137081794242,
           0.30425430113775787
          ],
          [
           "0.6k",
           "-56.2%",
           614.2801282051282,
           40.857192,
           -73.867615,
           -0.5623108786375817,
           0.2434707169740753
          ],
          [
           "0.2k",
           "-55.1%",
           240.72884615384615,
           40.858985,
           -73.855359,
           -0.5508564869476371,
           0.45248292986654914
          ],
          [
           "0.4k",
           "-51.1%",
           368.6514469453376,
           40.664635,
           -73.894895,
           -0.5110582454716099,
           0.30750841042248367
          ],
          [
           "0.3k",
           "-53.7%",
           276.33269107257547,
           40.667883,
           -73.950683,
           -0.536685278718191,
           0.6759062493627261
          ],
          [
           "0.6k",
           "-70.0%",
           631.7969151670951,
           40.724329,
           -73.997702,
           -0.7000442026415681,
           1.0924249695060064
          ],
          [
           "0.6k",
           "-52.0%",
           552.0636655948553,
           40.819585,
           -73.90177,
           -0.5200309990773635,
           0.36747404293100194
          ],
          [
           "0.4k",
           "-58.2%",
           408.1834862385321,
           40.665414,
           -73.992872,
           -0.5823990110764331,
           0.6425809966283964
          ],
          [
           "0.6k",
           "-59.8%",
           572.0455128205128,
           40.661614,
           -73.962246,
           -0.598309158714325,
           0.5006233469805259
          ],
          [
           "0.9k",
           "-63.4%",
           871.9540155440415,
           40.748973,
           -73.937243,
           -0.6339808839221457,
           0.9097824287840199
          ],
          [
           "1.0k",
           "-60.1%",
           962.006435006435,
           40.750582,
           -73.940202,
           -0.6007984116306389,
           0.6576259968366218
          ],
          [
           "0.5k",
           "-7.0%",
           493.8749198203977,
           null,
           null,
           -0.07020238603474949,
           1.613254763354277
          ],
          [
           "0.4k",
           "-9.2%",
           449.82476943346506,
           null,
           null,
           -0.09158097106104623,
           1.4391075838600096
          ],
          [
           "0.4k",
           "-60.6%",
           376.31650485436893,
           40.678822,
           -73.920786,
           -0.6060812960101568,
           0.23387143478861394
          ],
          [
           "0.3k",
           "-72.6%",
           312.0602950609365,
           40.70722,
           -74.013342,
           -0.7260583756437374,
           0.7507125172731459
          ],
          [
           "0.4k",
           "-52.4%",
           383.5847240051348,
           40.662549,
           -73.908946,
           -0.5235086202368073,
           0.24298458497591002
          ],
          [
           "0.4k",
           "-59.1%",
           385.2586649550706,
           40.67834,
           -73.911946,
           -0.5906117730738737,
           0.2994824101609921
          ],
          [
           "0.6k",
           "-50.7%",
           618.1073738680466,
           40.680429,
           -73.843853,
           -0.5066771182789254,
           0.36135842906104254
          ],
          [
           "0.1k",
           "-46.4%",
           63.58070739549839,
           40.580903,
           -73.835592,
           -0.4644778667384607,
           0.2995780590717301
          ],
          [
           "0.6k",
           "-49.4%",
           625.4272844272845,
           40.759145,
           -73.95326,
           -0.4941350737321194,
           0.9618036400972689
          ],
          [
           "0.4k",
           "-51.7%",
           425.17019910083496,
           40.661453,
           -73.916327,
           -0.5174036193906189,
           0.2226158336546442
          ],
          [
           "0.2k",
           "-61.9%",
           201.83868894601542,
           40.702762,
           -73.90774,
           -0.619123977343929,
           0.13674253654801816
          ],
          [
           "1.0k",
           "-55.3%",
           1031.0352564102564,
           40.586896,
           -73.954155,
           -0.5525816825528009,
           0.40874263622652474
          ],
          [
           "0.2k",
           "-54.7%",
           240.00708762886597,
           40.67413,
           -73.88075,
           -0.5467326652748266,
           0.29670167875005915
          ],
          [
           "0.6k",
           "-48.1%",
           623.952994204765,
           40.824073,
           -73.893064,
           -0.48050570493709177,
           0.2530725027284719
          ],
          [
           "0.3k",
           "-58.3%",
           314.7144694533762,
           40.67358,
           -73.995959,
           -0.5833635287772437,
           0.3102745686019892
          ],
          [
           "1.0k",
           "-62.4%",
           1006.2551546391752,
           40.702068,
           -74.013664,
           -0.6243984029697234,
           1.2542223522080684
          ],
          [
           "0.6k",
           "-66.1%",
           603.6844155844155,
           40.722301,
           -73.997141,
           -0.6605803558320407,
           1.1104619765236494
          ],
          [
           "0.7k",
           "-69.6%",
           700.9668831168831,
           40.726227,
           -74.003739,
           -0.6959585495762894,
           0.871495457919415
          ],
          [
           "0.3k",
           "-48.9%",
           344.8078658929723,
           40.831509,
           -73.867618,
           -0.4894603085918313,
           0.35708565389855496
          ],
          [
           "0.9k",
           "-61.8%",
           914.401028277635,
           40.756879,
           -73.92074,
           -0.6181921358023705,
           0.433850328787857
          ],
          [
           "0.4k",
           "-53.9%",
           420.5192554557124,
           40.662742,
           -73.95085,
           -0.5393951019632512,
           0.45418701414645657
          ],
          [
           "2.0k",
           "-49.7%",
           2007.6079948420374,
           40.700486,
           -73.807969,
           -0.49710011484428285,
           0.7673155494911974
          ],
          [
           "0.4k",
           "-50.9%",
           355.870822622108,
           40.70546,
           -73.810708,
           -0.5090698146141222,
           0.1553886326454048
          ],
          [
           "0.2k",
           "-60.1%",
           229.25241468126208,
           40.669367,
           -73.901975,
           -0.6006461080816979,
           0.09007116411122484
          ],
          [
           "0.5k",
           "-51.7%",
           545.9631306597671,
           40.664717,
           -73.92261,
           -0.5169596549319071,
           0.2785032493303772
          ],
          [
           "0.9k",
           "-46.4%",
           939.7329910141207,
           null,
           null,
           -0.4638028311433826,
           1.5731106309317862
          ],
          [
           "1.7k",
           "-55.5%",
           1686.8222079589216,
           null,
           null,
           -0.554960632497036,
           1.2796059781433025
          ],
          [
           "0.7k",
           "-51.0%",
           725.3183568677792,
           null,
           null,
           -0.5095549582895236,
           1.8590474952338178
          ],
          [
           "10.8k",
           "-64.2%",
           10781.609615384616,
           40.75529,
           -73.987495,
           -0.6419946769847105,
           0.9406968217768488
          ],
          [
           "0.6k",
           "-60.3%",
           643.0721649484536,
           40.85041,
           -73.905227,
           -0.6031081773048692,
           0.10774538605973438
          ],
          [
           "0.5k",
           "-62.8%",
           452.48582474226805,
           40.677316,
           -73.98311,
           -0.627675929909306,
           0.6352631644122075
          ],
          [
           "1.0k",
           "-63.5%",
           974.4787917737789,
           40.679364,
           -73.930729,
           -0.6347088395393357,
           0.25919333722360727
          ],
          [
           "0.6k",
           "-49.1%",
           628.6529826812059,
           40.889248,
           -73.898583,
           -0.49090460314062323,
           0.49362128082355516
          ],
          [
           "0.2k",
           "-53.7%",
           219.51519069166127,
           40.665449,
           -73.889395,
           -0.5371926309421102,
           0.24161723187120687
          ],
          [
           "0.2k",
           "-55.1%",
           220.64327485380116,
           40.67271,
           -73.890358,
           -0.5514191862966746,
           0.21213157793821447
          ],
          [
           "0.2k",
           "-50.1%",
           217.8295380611581,
           40.678024,
           -73.891688,
           -0.5010967395839543,
           0.21949384734865518
          ],
          [
           "0.9k",
           "-63.4%",
           915.9528118939884,
           40.742626,
           -73.953581,
           -0.6338435823670326,
           0.5295118941867196
          ],
          [
           "2.1k",
           "-68.6%",
           2128.2010276172127,
           40.732338,
           -74.000495,
           -0.6861264931108733,
           0.7817381093451792
          ],
          [
           "0.2k",
           "-50.1%",
           207.2974358974359,
           40.576127,
           -73.975939,
           -0.5012459251447343,
           0.6042225782928121
          ],
          [
           "0.8k",
           "-64.6%",
           812.5497752087348,
           40.711835,
           -74.012188,
           -0.645912319525948,
           1.9334062758061825
          ],
          [
           "0.4k",
           "-49.1%",
           399.76908150064685,
           40.903125,
           -73.85062,
           -0.49136095624898835,
           0.19149445612821925
          ],
          [
           "1.0k",
           "-74.8%",
           1022.9724005134789,
           40.706821,
           -74.0091,
           -0.7477373263660938,
           0.8578229381464328
          ],
          [
           "0.9k",
           "-72.9%",
           869.8684381075826,
           40.707557,
           -74.011862,
           -0.728577321507826,
           0.7807021937351337
          ],
          [
           "0.5k",
           "-58.0%",
           476.1398195876289,
           40.840295,
           -73.880049,
           -0.579880453824284,
           0.26839420393338864
          ],
          [
           "0.5k",
           "-53.5%",
           472.2257234726688,
           40.839892,
           -73.842952,
           -0.5347808223896156,
           0.3387498746593012
          ],
          [
           "1.0k",
           "-67.6%",
           983.3175112251444,
           40.703087,
           -74.012994,
           -0.6761262086500821,
           0.9099884614359588
          ],
          [
           "0.2k",
           "-48.4%",
           163.37483870967742,
           40.826525,
           -73.886283,
           -0.48400096582794716,
           0.2836582669547214
          ],
          [
           "0.3k",
           "-58.5%",
           298.91682785299804,
           40.688764,
           -73.904046,
           -0.5849379146788961,
           0.29322070016700663
          ],
          [
           "0.6k",
           "-45.0%",
           595.337224383917,
           40.656652,
           -73.9502,
           -0.4502285269293914,
           0.47120185957599703
          ],
          [
           "0.4k",
           "-51.6%",
           368.5829048843188,
           40.693879,
           -73.851576,
           -0.5155985389958997,
           0.3017985770426035
          ],
          [
           "1.5k",
           "-54.9%",
           1481.5221579961465,
           40.733106,
           -73.869229,
           -0.5489696282456116,
           0.43130854074641056
          ],
          [
           "0.5k",
           "-51.1%",
           548.0975609756098,
           40.886037,
           -73.878751,
           -0.5108975948954784,
           0.34488682201431686
          ],
          [
           "1.4k",
           "-45.6%",
           1375.9819004524886,
           40.74563,
           -73.902984,
           -0.45600284592083407,
           0.6281152294036974
          ],
          [
           "1.0k",
           "-67.3%",
           1013.9442644199611,
           40.712582,
           -74.009781,
           -0.6727342616876314,
           1.3756032162814607
          ],
          [
           "0.7k",
           "-59.0%",
           690.2345758354755,
           40.701397,
           -73.986751,
           -0.5900607382638454,
           0.8578477925478996
          ],
          [
           "0.2k",
           "-53.4%",
           207.1875,
           40.836488,
           -73.847036,
           -0.5337716781778423,
           0.45047717893564565
          ],
          [
           "0.1k",
           "-46.0%",
           135.82978723404256,
           40.681711,
           -73.837683,
           -0.46014969113154935,
           0.4356166076063084
          ],
          [
           "1.1k",
           "-40.3%",
           1117.7248711340205,
           40.75173,
           -73.855334,
           -0.40278988037828856,
           0.37758340518576516
          ],
          [
           "0.3k",
           "-44.4%",
           306.3354838709677,
           40.813224,
           -73.929849,
           -0.4439571736599556,
           0.8007715621124274
          ],
          [
           "2.4k",
           "-64.4%",
           2432.328626444159,
           40.740893,
           -74.00169,
           -0.6439002835260039,
           1.1723067172085653
          ],
          [
           "5.3k",
           "-66.2%",
           5329.931920359666,
           40.735736,
           -73.990568,
           -0.661502003416458,
           0.6449312963606659
          ],
          [
           "1.6k",
           "-58.3%",
           1581.2730769230768,
           40.824783,
           -73.944216,
           -0.5830466504135261,
           0.4765355925629302
          ],
          [
           "0.9k",
           "-59.5%",
           862.8332264271969,
           40.818375,
           -73.927351,
           -0.5950021748586048,
           0.23957153612445503
          ],
          [
           "0.4k",
           "-62.4%",
           391.3015463917526,
           40.660365,
           -73.979493,
           -0.624092409866439,
           0.798353023028475
          ],
          [
           "0.3k",
           "-57.7%",
           298.93560849967804,
           40.836013,
           -73.939892,
           -0.5772553495147199,
           0.39375381649210794
          ],
          [
           "0.8k",
           "-44.9%",
           773.897880539499,
           40.835537,
           -73.9214,
           -0.4485979679082265,
           0.3434346292413968
          ],
          [
           "0.5k",
           "-55.6%",
           497.3594351732991,
           40.839306,
           -73.9134,
           -0.5564931435287608,
           0.26152023253733003
          ],
          [
           "0.5k",
           "-49.3%",
           524.8838709677419,
           40.607954,
           -74.001736,
           -0.49319039282838906,
           0.5321913988177369
          ],
          [
           "0.3k",
           "-49.7%",
           306.88046272493574,
           40.629755,
           -73.976971,
           -0.4965574535058961,
           0.3140702944038696
          ],
          [
           "0.4k",
           "-32.4%",
           364.0282413350449,
           40.620671,
           -73.990414,
           -0.3239716956743568,
           0.5811467517461284
          ],
          [
           "0.5k",
           "-68.1%",
           455.910783055199,
           40.74104,
           -73.997871,
           -0.6813631113533417,
           1.0625728428783376
          ],
          [
           "0.8k",
           "-59.0%",
           769.6395873629916,
           40.849505,
           -73.933596,
           -0.5903082144965086,
           0.03195282688850676
          ],
          [
           "0.2k",
           "-57.3%",
           218.5784635587656,
           40.856093,
           -73.900741,
           -0.5733256668635561,
           0.2635208208744102
          ],
          [
           "0.5k",
           "-48.0%",
           491.8752411575563,
           40.858407,
           -73.903879,
           -0.48037192675511253,
           0.26264960333137166
          ],
          [
           "0.6k",
           "-50.2%",
           617.4178433889603,
           40.855225,
           -73.929412,
           -0.5018833450343902,
           2.2008223902903494
          ],
          [
           "0.6k",
           "-43.5%",
           563.5598430346632,
           40.864621,
           -73.918822,
           -0.4349036644094578,
           0.48659317863305374
          ],
          [
           "0.2k",
           "-55.9%",
           236.69408740359899,
           40.883895,
           -73.862633,
           -0.5586780087929839,
           0.29248100608374217
          ],
          [
           "0.2k",
           "-53.7%",
           219.42764857881136,
           40.888022,
           -73.860341,
           -0.5374385780336377,
           0.28554375626368866
          ],
          [
           "1.6k",
           "-66.9%",
           1561.5080282594733,
           40.739864,
           -73.986599,
           -0.6693082339100883,
           1.0059288134748492
          ],
          [
           "0.8k",
           "-66.3%",
           830.5522771007056,
           40.747215,
           -73.993365,
           -0.6631016074466236,
           1.1154245134593137
          ],
          [
           "0.9k",
           "-67.0%",
           879.0650195058518,
           40.766779,
           -73.921479,
           -0.6698120994689993,
           0.40305713928882136
          ],
          [
           "4.5k",
           "-66.1%",
           4520.34894162925,
           40.750373,
           -73.991057,
           -0.6607217825167191,
           0.9110055768431571
          ],
          [
           "0.2k",
           "-52.2%",
           220.48422408242112,
           40.752882,
           -73.932755,
           -0.5215164625686618,
           0.6655698692765568
          ],
          [
           "0.6k",
           "-51.4%",
           622.497432605905,
           40.648939,
           -74.010006,
           -0.5142771860008204,
           0.4373120163566877
          ],
          [
           "1.5k",
           "-65.9%",
           1481.6435452793835,
           40.761728,
           -73.983849,
           -0.6585244705999526,
           1.8603157244775743
          ],
          [
           "0.3k",
           "-40.1%",
           323.25472312703585,
           40.63626,
           -73.994791,
           -0.40090284201807525,
           0.3327313695574947
          ],
          [
           "1.9k",
           "-65.4%",
           1879.914688903143,
           40.764664,
           -73.980658,
           -0.6543111630604224,
           0.9237273005341669
          ],
          [
           "3.3k",
           "-61.8%",
           3323.8435897435897,
           40.762526,
           -73.967967,
           -0.6179463750145447,
           0.562006920769629
          ],
          [
           "0.3k",
           "-53.2%",
           275.63987138263667,
           40.749669,
           -73.898453,
           -0.5321482953025995,
           0.5023453464012648
          ],
          [
           "0.6k",
           "-66.5%",
           561.7140102827764,
           40.67705,
           -73.972367,
           -0.6653820017110854,
           0.7498526676790493
          ],
          [
           "0.4k",
           "-53.3%",
           429.6634366925065,
           40.619589,
           -73.998864,
           -0.5325240520650054,
           0.4886886199750151
          ],
          [
           "1.0k",
           "-58.7%",
           1009.5,
           40.783934,
           -73.979917,
           -0.5869836539360653,
           0.8936444618291315
          ],
          [
           "0.6k",
           "-46.9%",
           550.7792792792793,
           40.613501,
           -74.00061,
           -0.4685359163600924,
           0.7070892257156822
          ],
          [
           "2.9k",
           "-55.9%",
           2898.1063144329896,
           40.779492,
           -73.955589,
           -0.5593391371950281,
           0.658009097908522
          ],
          [
           "0.2k",
           "-35.3%",
           242.71279373368145,
           40.592721,
           -73.97823,
           -0.3530331748351335,
           0.6605476637322674
          ],
          [
           "0.5k",
           "-44.9%",
           494.20605280103024,
           40.646292,
           -73.994324,
           -0.448921207282419,
           0.51260341075026
          ],
          [
           "2.4k",
           "-59.6%",
           2365.3785347043704,
           40.793919,
           -73.972323,
           -0.5956982238759121,
           0.6365101050145021
          ],
          [
           "1.3k",
           "-55.7%",
           1268.9325551232166,
           40.785672,
           -73.95107,
           -0.5566016175318325,
           0.4663823588177254
          ],
          [
           "1.2k",
           "-62.5%",
           1217.3412596401029,
           40.784318,
           -73.947152,
           -0.6248881368841455,
           0.4612611229055301
          ],
          [
           "0.5k",
           "-41.1%",
           477.53016688061615,
           null,
           null,
           -0.41125850267464836,
           2.307230520731643
          ],
          [
           "0.2k",
           "-50.4%",
           177.3833762886598,
           40.676992,
           -73.898654,
           -0.5038351629967524,
           0.14890698447088302
          ],
          [
           "0.1k",
           "-47.5%",
           145.12048969072166,
           40.675345,
           -73.903097,
           -0.47534679916986455,
           0.2989564777630831
          ],
          [
           "0.1k",
           "-49.5%",
           111.490990990991,
           40.625322,
           -73.976127,
           -0.4948479812104456,
           0.39573008724558933
          ],
          [
           "0.5k",
           "-52.2%",
           463.4090032154341,
           40.625039,
           -73.960803,
           -0.5217108210364796,
           0.39005526536641133
          ],
          [
           "0.2k",
           "-49.8%",
           247.22478576137112,
           40.61514,
           -73.974197,
           -0.49751778573534045,
           0.37143666582240087
          ],
          [
           "0.3k",
           "-35.2%",
           346.65960179833013,
           40.597473,
           -73.979137,
           -0.3517897953206228,
           0.682661462538696
          ],
          [
           "0.0k",
           "-52.6%",
           20.75644329896907,
           40.583209,
           -73.827559,
           -0.5260392349543055,
           0.4566587179495589
          ],
          [
           "0.2k",
           "-51.1%",
           165.24564926372156,
           40.592374,
           -73.788522,
           -0.5113813167120135,
           0.22259775274168514
          ],
          [
           "0.4k",
           "-49.4%",
           363.4140373470702,
           40.645098,
           -73.948959,
           -0.49382066143233183,
           0.44595061987758733
          ],
          [
           "1.7k",
           "-64.7%",
           1731.4833333333333,
           40.704817,
           -74.014065,
           -0.6473944196609331,
           1.08291473888678
          ],
          [
           "0.4k",
           "-51.1%",
           407.0650773195876,
           40.709179,
           -73.820574,
           -0.5110066536995044,
           0.6489486652119894
          ],
          [
           "1.2k",
           "-67.6%",
           1168.7608974358975,
           40.725297,
           -73.996204,
           -0.6758880658504016,
           0.7662510615678628
          ],
          [
           "0.2k",
           "-48.8%",
           171.01479099678457,
           40.682829,
           -73.905249,
           -0.4880032209314792,
           0.41113434616667877
          ],
          [
           "0.8k",
           "-58.6%",
           799.5781350482315,
           40.803967,
           -73.966847,
           -0.5857432198342278,
           0.7733936186903625
          ],
          [
           "0.5k",
           "-62.6%",
           521.7115384615385,
           40.799075,
           -73.951822,
           -0.626368688099753,
           0.4335262338770203
          ],
          [
           "0.4k",
           "-66.4%",
           393.92609254498717,
           40.683263,
           -73.965838,
           -0.6635360515123696,
           0.8337227178789255
          ],
          [
           "1.2k",
           "-45.7%",
           1200.0712909441233,
           40.577422,
           -73.981233,
           -0.45693999354880244,
           0.43969941010041236
          ],
          [
           "0.3k",
           "-55.9%",
           328.0831168831169,
           40.683194,
           -73.873785,
           -0.5585172200586542,
           0.13075463581219426
          ],
          [
           "0.3k",
           "-56.4%",
           250.93508997429305,
           40.805368,
           -73.914042,
           -0.5644362589050513,
           0.17740227364217143
          ],
          [
           "1.2k",
           "-64.7%",
           1240.8976833976833,
           40.690635,
           -73.981824,
           -0.6472624112784382,
           0.6538842401731855
          ],
          [
           "0.6k",
           "-47.3%",
           632.8466966003849,
           40.841894,
           -73.873488,
           -0.4728444536220455,
           0.3550909803779183
          ],
          [
           "1.0k",
           "-58.2%",
           962.4881334188583,
           40.713715,
           -73.990173,
           -0.5818063139365105,
           0.6615324860368403
          ],
          [
           "0.8k",
           "-50.5%",
           819.7054263565891,
           40.742454,
           -73.882017,
           -0.5052670565215374,
           0.49394023106560714
          ],
          [
           "0.8k",
           "-57.9%",
           810.2841565105837,
           40.861296,
           -73.897749,
           -0.5788944889341231,
           0.20723654031407213
          ],
          [
           "0.6k",
           "-21.2%",
           570.4916666666667,
           40.631386,
           -74.005351,
           -0.2120864355592037,
           0.8964567811994022
          ],
          [
           "0.3k",
           "-58.6%",
           258.8678272082527,
           40.82388,
           -73.93647,
           -0.5863074820975147,
           0.37144439670257245
          ],
          [
           "0.2k",
           "-65.5%",
           229.3361236316806,
           40.69218,
           -73.985942,
           -0.6549208366597705,
           0.9675375267134616
          ],
          [
           "0.7k",
           "-49.5%",
           737.8823151125401,
           40.86776,
           -73.897174,
           -0.4951225340781049,
           0.3760364338426798
          ],
          [
           "0.2k",
           "-52.9%",
           217.0464516129032,
           40.674542,
           -73.896548,
           -0.5288777333012389,
           0.3894802010617935
          ],
          [
           "0.7k",
           "-66.5%",
           664.6714565643371,
           40.697207,
           -73.935657,
           -0.6645581576174351,
           0.20326545516067474
          ],
          [
           "0.1k",
           "-42.5%",
           140.22243713733076,
           40.581011,
           -73.974574,
           -0.4249441702429535,
           0.6504639301450614
          ],
          [
           "0.6k",
           "-50.5%",
           596.4541372674792,
           40.639967,
           -73.948411,
           -0.5045150977200871,
           0.3889513948887775
          ],
          [
           "0.5k",
           "-68.1%",
           456.2974358974359,
           40.707513,
           -74.013783,
           -0.6814551675357541,
           1.4678957859962676
          ],
          [
           "0.2k",
           "-49.0%",
           199.61760925449872,
           40.700492,
           -73.828294,
           -0.48970077127899814,
           0.4520658686053598
          ],
          [
           "0.6k",
           "-64.6%",
           615.5106109324759,
           40.851695,
           -73.937969,
           -0.6464867854125889,
           0.36667709883177
          ],
          [
           "0.2k",
           "-42.2%",
           171.59218241042345,
           40.869444,
           -73.915279,
           -0.42182258114361626,
           0.9906624141937612
          ],
          [
           "0.2k",
           "-61.0%",
           209.06237942122186,
           40.718331,
           -73.837324,
           -0.6098896645182478,
           0.6315991665883305
          ],
          [
           "1.1k",
           "-61.9%",
           1071.4588688946014,
           40.775036,
           -73.912034,
           -0.6185767013075674,
           0.5290151934361531
          ],
          [
           "0.5k",
           "-56.5%",
           456.99157485418016,
           40.640927,
           -73.963891,
           -0.565413143209372,
           0.407584571814839
          ]
         ],
         "hovertemplate": "<b>%{hovertext}</b><br><br>Avg Daily Entries=%{customdata[0]}<br>%Ch vs. 2019=%{customdata[1]}<extra></extra>",
         "hovertext": [
          "1 Av-L (M)",
          "103 St-1 (M)",
          "103 St-6 (M)",
          "103 St-B C (M)",
          "103 St-Corona Plaza-7 (Q)",
          "104 St-J Z (Q)",
          "110 St-6 (M)",
          "111 St-A (Q)",
          "111 St-J (Q)",
          "116 St-2 3 (M)",
          "116 St-6 (M)",
          "116 St-B C (M)",
          "116 St-Columbia University-1 (M)",
          "125 St-1 (M)",
          "125 St-2 3 (M)",
          "125 St-4 5 6 (M)",
          "125 St-A B C D (M)",
          "135 St-2 3 (M)",
          "135 St-B C (M)",
          "137 St-City College-1 (M)",
          "14 St-F M (M)",
          "145 St-1 (M)",
          "145 St-3 (M)",
          "14TH STREET-1-PATH",
          "155 St-B D (M)",
          "155 St-C (M)",
          "157 St-1 (M)",
          "161 St-Yankee Stadium-B D (Bx)",
          "167 St-B D (Bx)",
          "168 St-A C (M)",
          "169 St-F (Q)",
          "170 St-4 (Bx)",
          "174 St-2 5 (Bx)",
          "174-175 Sts-B D (Bx)",
          "175 St-A (M)",
          "176 St-4 (Bx)",
          "190 St-A (M)",
          "2 Av-F (M)",
          "20 Av-D (Bk)",
          "20 Av-N (Bk)",
          "21 St-G (Q)",
          "21 St-Queensbridge-F (Q)",
          "23 St-1 (M)",
          "23 St-C E (M)",
          "23 St-F M (M)",
          "23 St-R W (M)",
          "231 St-1 (Bx)",
          "233 St-2 5 (Bx)",
          "238 St-1 (Bx)",
          "25 Av-D (Bk)",
          "25 St-R (Bk)",
          "28 St-6 (M)",
          "28 St-R W (M)",
          "3 Av-138 St-6 (Bx)",
          "3 Av-149 St-2 5 (Bx)",
          "3 Av-L (M)",
          "33 St-6 (M)",
          "33 St-Rawson St-7 (Q)",
          "34 St-Herald Sq-B D F M N Q R W (M)",
          "34 St-Hudson Yards-7 (M)",
          "34 St-Penn Station-A C E (M)",
          "36 Av-N W (Q)",
          "36 St-D N R (Bk)",
          "36 St-M R (Q)",
          "4 Av-9 St-F G R (Bk)",
          "40 St-Lowery St-7 (Q)",
          "42 St-Bryant Pk-B D F M (M)",
          "46 St-Bliss St-7 (Q)",
          "46 St-M R (Q)",
          "47-50 Sts-Rockefeller Ctr-B D F M (M)",
          "49 St-N R W (M)",
          "5 Av/53 St-E M (M)",
          "5 Av/59 St-N W R (M)",
          "50 St-C E (M)",
          "51 St-6 (M)",
          "52 St-7 (Q)",
          "53 St-R (Bk)",
          "55 St-D (Bk)",
          "57 St-F (M)",
          "59 St-Columbus Circle-1 A B C D (M)",
          "59 St-D N R (Bk)",
          "63 Dr-Rego Park-M R (Q)",
          "66 St-Lincoln Center-1 (M)",
          "67 Av-M R (Q)",
          "68 St-Hunter College-6 (M)",
          "69 St-7 (Q)",
          "7 Av-B D E (M)",
          "7 Av-F G (Bk)",
          "72 St-1 2 3 (M)",
          "72 St-B C (M)",
          "72 St-Q (M)",
          "75 St-Elderts Ln-J Z (Q)",
          "77 St-6 (M)",
          "77 St-R (Bk)",
          "8 Av-N (Bk)",
          "8 St-NYU-R W (M)",
          "80 St-A (Q)",
          "81 St-Museum of Natural History-B C (M)",
          "82 St-Jackson Hts-7 (Q)",
          "85 St-Forest Pkwy-J (Q)",
          "86 St-1 (M)",
          "86 St-B C (M)",
          "86 St-Q (M)",
          "86 St-R (Bk)",
          "88 St-A (Q)",
          "90 St-Elmhurst Av-7 (Q)",
          "96 St-B C (M)",
          "Allerton Av-2 5 (Bx)",
          "Aqueduct Racetrack-A (Q)",
          "Aqueduct-N Conduit Av-A (Q)",
          "Astor Pl-6 (M)",
          "Astoria Blvd-N W (Q)",
          "Atlantic Av-Barclays Ctr-2 3 4 5 B D N Q R (Bk)",
          "Avenue H-Q (Bk)",
          "Avenue M-Q (Bk)",
          "Avenue P-F (Bk)",
          "Avenue U-F (Bk)",
          "Avenue U-Q (Bk)",
          "Avenue X-F (Bk)",
          "Bay 50 St-D (Bk)",
          "Bay Pkwy-D (Bk)",
          "Bay Pkwy-F (Bk)",
          "Bay Pkwy-N (Bk)",
          "Bay Ridge Av-R (Bk)",
          "Bay Ridge-95 St-R (Bk)",
          "Baychester Av-5 (Bx)",
          "Beach 25 St-A (Q)",
          "Beach 36 St-A (Q)",
          "Beach 44 St-A (Q)",
          "Beach 67 St-A (Q)",
          "Beach 90 St-A S (Q)",
          "Beach 98 St-A S (Q)",
          "Bedford Av-L (Bk)",
          "Bedford Park Blvd-B D (Bx)",
          "Bedford Park Blvd-Lehman College-4 (Bx)",
          "Bedford-Nostrand Avs-G (Bk)",
          "Bergen St-2 3 (Bk)",
          "Bergen St-F G (Bk)",
          "Beverley Rd-Q (Bk)",
          "Bleecker St-6 (M)",
          "Borough Hall-4 5 (Bk)",
          "Bowery-J Z (M)",
          "Brighton Beach-B Q (Bk)",
          "Broad Channel-A S (Q)",
          "Broad St-J Z (M)",
          "Broadway Junction-J Z (Bk)",
          "Broadway-G (Bk)",
          "Broadway-N W (Q)",
          "Bronx Park East-2 5 (Bx)",
          "Brook Av-6 (Bx)",
          "Brooklyn Bridge-City Hall-4 5 6 (M)",
          "Buhre Av-6 (Bx)",
          "Burke Av-2 5 (Bx)",
          "Burnside Av-4 (Bx)",
          "CHRISTOPHER ST-1-PATH",
          "Canal St-1 (M)",
          "Canal St-6 J N Q R W Z (M)",
          "Canal St-A C E (M)",
          "Canarsie-Rockaway Pkwy-L (Bk)",
          "Carroll St-F G (Bk)",
          "Castle Hill Av-6 (Bx)",
          "Cathedral Pkwy (110 St)-B C (M)",
          "Central Av-M (Bk)",
          "Chambers St-1 2 3 (M)",
          "Chambers St-A C 2 3 (M)",
          "Chambers St-J Z (M)",
          "Chauncey St-J Z (Bk)",
          "Christopher St-Sheridan Sq-1 (M)",
          "Church Av-2 5 (Bk)",
          "Church Av-B Q (Bk)",
          "Church Av-F G (Bk)",
          "City Hall-R W (M)",
          "Clark St-2 3 (Bk)",
          "Classon Av-G (Bk)",
          "Cleveland St-J (Bk)",
          "Clinton-Washington Avs-G (Bk)",
          "Cortlandt St-R W (M)",
          "Court Sq-23 St-E M (Q)",
          "Court Sq-7 (Q)",
          "Crown Hts-Utica Av-3 4 (Bk)",
          "Cypress Hills-J (Bk)",
          "DeKalb Av-L (Bk)",
          "Delancey St-Essex St-J M Z (M)",
          "Ditmas Av-F (Bk)",
          "Dyckman St-1 (M)",
          "Dyckman St-A (M)",
          "E 143 St-St Mary's St-6 (Bx)",
          "E 149 St-6 (Bx)",
          "East 105 St-L (Bk)",
          "Eastchester-Dyre Av-5 (Bx)",
          "Eastern Pkwy-Brooklyn Museum-2 3 (Bk)",
          "Elder Av-6 (Bx)",
          "Euclid Av-A C (Bk)",
          "Far Rockaway-Mott Av-A (Q)",
          "Flatbush Av-Brooklyn College-2 5 (Bk)",
          "Flushing Av-G (Bk)",
          "Flushing Av-J M (Bk)",
          "Flushing-Main St-7 (Q)",
          "Fordham Rd-4 (Bx)",
          "Forest Av-M (Q)",
          "Forest Hills-71 Av-E F M R (Q)",
          "Fort Hamilton Pkwy-D (Bk)",
          "Fort Hamilton Pkwy-F G (Bk)",
          "Franklin Av-C (Bk)",
          "Franklin Avenue-Medgar Evers College-2 3 4 5 (Bk)",
          "Franklin St-1 (M)",
          "Freeman St-2 5 (Bx)",
          "Fresh Pond Rd-M (Q)",
          "Fulton St-2 3 4 5 A C J Z (M)",
          "Fulton St-G (Bk)",
          "Gates Av-J Z (Bk)",
          "Graham Av-L (Bk)",
          "Grand Army Plaza-2 3 (Bk)",
          "Grand Av-Newtown-M R (Q)",
          "Grand Central-42 St-4 5 6 7 S (M)",
          "Grand St-B D (M)",
          "Grand St-L (Bk)",
          "Grant Av-A (Bk)",
          "Greenpoint Av-G (Bk)",
          "Gun Hill Rd-2 5 (Bx)",
          "Gun Hill Rd-5 (Bx)",
          "Halsey St-J (Bk)",
          "Halsey St-L (Q)",
          "Hewes St-J M (Bk)",
          "High St-A C (Bk)",
          "Houston St-1 (M)",
          "Howard Beach-JFK Airport-A (Q)",
          "Hoyt St-2 3 (Bk)",
          "Hoyt-Schermerhorn Sts-A C G (Bk)",
          "Hunters Point Av-7 (Q)",
          "Hunts Point Av-6 (Bx)",
          "Intervale Av-2 5 (Bx)",
          "Inwood-207 St-A (M)",
          "Jackson Av-2 5 (Bx)",
          "Jackson Hts-Roosevelt Av-E F M R 7 (Q)",
          "Jamaica Center-Parsons/Archer-E J Z (Q)",
          "Jamaica-179 St-F (Q)",
          "Jamaica-Van Wyck-E (Q)",
          "Jay St-MetroTech-A C F (Bk)",
          "Jefferson St-L (Bk)",
          "Junction Blvd-7 (Q)",
          "Junius St-3 (Bk)",
          "Kew Gardens-Union Tpke-E F (Q)",
          "Kings Hwy-B Q (Bk)",
          "Kings Hwy-F (Bk)",
          "Kings Hwy-N (Bk)",
          "Kingsbridge Rd-B D (Bx)",
          "Kingston Av-3 (Bk)",
          "Kingston-Throop Avs-C (Bk)",
          "Knickerbocker Av-M (Bk)",
          "Kosciuszko St-J (Bk)",
          "Lafayette Av-C (Bk)",
          "Lexington Av/53 St-E M (M)",
          "Lexington Av/63 St-F Q (M)",
          "Livonia Av-L (Bk)",
          "Longwood Av-6 (Bx)",
          "Lorimer St-J M (Bk)",
          "Lorimer St-L (Bk)",
          "Marble Hill-225 St-1 (M)",
          "Marcy Av-J M Z (Bk)",
          "Metropolitan Av-G (Bk)",
          "Mets-Willets Point-7 (Q)",
          "Middle Village-Metropolitan Av-M (Q)",
          "Middletown Rd-6 (Bx)",
          "Montrose Av-L (Bk)",
          "Morgan Av-L (Bk)",
          "Morris Park-5 (Bx)",
          "Morrison Av-Soundview-6 (Bx)",
          "Mosholu Pkwy-4 (Bx)",
          "Mt Eden Av-4 (Bx)",
          "Myrtle-Willoughby Avs-G (Bk)",
          "Myrtle-Wyckoff Avs-M (Bk)",
          "Nassau Av-G (Bk)",
          "Neck Rd-Q (Bk)",
          "Nereid Av-2 5 (Bx)",
          "Nevins St-2 3 4 5 (Bk)",
          "New Lots Av-3 (Bk)",
          "New Lots Av-L (Bk)",
          "New Utrecht Av-N (Bk)",
          "Newkirk Plaza-B Q (Bk)",
          "Northern Blvd-M R (Q)",
          "Norwood Av-J Z (Bk)",
          "Norwood-205 St-D (Bx)",
          "Nostrand Av-3 (Bk)",
          "Nostrand Av-A C (Bk)",
          "Ocean Pkwy-Q (Bk)",
          "Ozone Park-Lefferts Blvd-A (Q)",
          "PATH NEW WTC-1-PATH",
          "Park Pl-S (Bk)",
          "Park Place-2 3 (M)",
          "Parkchester-6 (Bx)",
          "Parkside Av-Q (Bk)",
          "Parsons Blvd-F (Q)",
          "Pelham Bay Park-6 (Bx)",
          "Pelham Pkwy-2 5 (Bx)",
          "Pelham Pkwy-5 (Bx)",
          "Pennsylvania Av-3 (Bk)",
          "President Street-Medgar Evers College-2 5 (Bk)",
          "Prince St-R W (M)",
          "Prospect Av-2 5 (Bx)",
          "Prospect Av-R (Bk)",
          "Prospect Park-B Q S (Bk)",
          "Queens Plaza-E M R (Q)",
          "Queensboro Plaza-N W (Q)",
          "RIT-MANHATTAN-R",
          "RIT-ROOSEVELT-R",
          "Ralph Av-C (Bk)",
          "Rector St-R W (M)",
          "Rockaway Av-3 (Bk)",
          "Rockaway Av-C (Bk)",
          "Rockaway Blvd-A (Q)",
          "Rockaway Park-Beach 116 St-A S (Q)",
          "Roosevelt Island-F (M)",
          "Saratoga Av-3 (Bk)",
          "Seneca Av-M (Q)",
          "Sheepshead Bay-B Q (Bk)",
          "Shepherd Av-C (Bk)",
          "Simpson St-2 5 (Bx)",
          "Smith-9 Sts-F G (Bk)",
          "South Ferry-1 (M)",
          "Spring St-6 (M)",
          "Spring St-C E (M)",
          "St Lawrence Av-6 (Bx)",
          "Steinway St-M R (Q)",
          "Sterling St-2 5 (Bk)",
          "Sutphin Blvd-Archer Av-JFK Airport-E J Z (Q)",
          "Sutphin Blvd-F (Q)",
          "Sutter Av-L (Bk)",
          "Sutter Av-Rutland Rd-3 (Bk)",
          "THIRTY ST-1-PATH",
          "THIRTY THIRD ST-1-PATH",
          "TWENTY THIRD ST-1-PATH",
          "Times Sq-42 St-1 2 3 7 A C E N Q R S W (M)",
          "Tremont Av-B D (Bx)",
          "Union St-R (Bk)",
          "Utica Av-A C (Bk)",
          "Van Cortlandt Park-242 St-1 (Bx)",
          "Van Siclen Av-3 (Bk)",
          "Van Siclen Av-C (Bk)",
          "Van Siclen Av-J Z (Bk)",
          "Vernon Blvd-Jackson Av-7 (Q)",
          "W 4 St-Wash Sq-A C E (M)",
          "W 8 St-NY Aquarium-F Q (Bk)",
          "WTC Cortlandt-1 (M)",
          "Wakefield-241 St-2 (Bx)",
          "Wall St-2 3 (M)",
          "Wall St-4 5 (M)",
          "West Farms Sq-E Tremont Av-2 5 (Bx)",
          "Westchester Sq-E Tremont Av-6 (Bx)",
          "Whitehall St-South Ferry-R W (M)",
          "Whitlock Av-6 (Bx)",
          "Wilson Av-L (Bk)",
          "Winthrop St-2 5 (Bk)",
          "Woodhaven Blvd-J Z (Q)",
          "Woodhaven Blvd-M R (Q)",
          "Woodlawn-4 (Bx)",
          "Woodside-61 St-7 (Q)",
          "World Trade Center-E (M)",
          "York St-F (Bk)",
          "Zerega Av-6 (Bx)",
          "104 St-A (Q)",
          "111 St-7 (Q)",
          "138 St-Grand Concourse-4 5 (Bx)",
          "14 St-A C E (M)",
          "14 St-Union Sq-4 5 6 L N Q R W (M)",
          "145 St-A C (M)",
          "149 St-Grand Concourse-4 (Bx)",
          "15 St-Prospect Park-F G (Bk)",
          "163 St-Amsterdam Av-C (M)",
          "167 St-4 (Bx)",
          "170 St-B D (Bx)",
          "18 Av-D (Bk)",
          "18 Av-F (Bk)",
          "18 Av-N (Bk)",
          "18 St-1 (M)",
          "181 St-1 (M)",
          "182-183 Sts-B D (Bx)",
          "183 St-4 (Bx)",
          "191 St-1 (M)",
          "207 St-1 (M)",
          "219 St-2 5 (Bx)",
          "225 St-2 5 (Bx)",
          "23 St-6 (M)",
          "28 St-1 (M)",
          "30 Av-N W (Q)",
          "34 St-Penn Station-1 2 3 (M)",
          "39 Av-Dutch Kills-N W (Q)",
          "45 St-R (Bk)",
          "50 St-1 (M)",
          "50 St-D (Bk)",
          "57 St-7 Av-N Q R W (M)",
          "59 St-4 5 6 N Q R W (M)",
          "65 St-M R (Q)",
          "7 Av-B Q (Bk)",
          "71 St-D (Bk)",
          "79 St-1 (M)",
          "79 St-D (Bk)",
          "86 St-4 5 6 (M)",
          "86 St-N (Bk)",
          "9 Av-D (Bk)",
          "96 St-1 2 3 (M)",
          "96 St-6 (M)",
          "96 St-Q (M)",
          "9TH STREET-1-PATH",
          "Alabama Av-J (Bk)",
          "Atlantic Av-L (Bk)",
          "Avenue I-F (Bk)",
          "Avenue J-Q (Bk)",
          "Avenue N-F (Bk)",
          "Avenue U-N (Bk)",
          "Beach 105 St-A S (Q)",
          "Beach 60 St-A (Q)",
          "Beverly Rd-2 5 (Bk)",
          "Bowling Green-4 5 (M)",
          "Briarwood-E F (Q)",
          "Broadway-Lafayette St-B D F M (M)",
          "Bushwick Av-Aberdeen St-L (Bk)",
          "Cathedral Pkwy (110 St)-1 (M)",
          "Central Park North (110 St)-2 3 (M)",
          "Clinton-Washington Avs-C (Bk)",
          "Coney Island-Stillwell Av-D F N Q (Bk)",
          "Crescent St-J Z (Bk)",
          "Cypress Av-6 (Bx)",
          "DeKalb Av-B Q R (Bk)",
          "E 180 St-2 5 (Bx)",
          "East Broadway-F (M)",
          "Elmhurst Av-M R (Q)",
          "Fordham Rd-B D (Bx)",
          "Fort Hamilton Pkwy-N (Bk)",
          "Harlem-148 St-3 (M)",
          "Jay St-MetroTech-R (Bk)",
          "Kingsbridge Rd-4 (Bx)",
          "Liberty Av-C (Bk)",
          "Myrtle Av-J M Z (Bk)",
          "Neptune Av-F (Bk)",
          "Newkirk Av - Little Haiti-2 5 (Bk)",
          "Rector St-1 (M)",
          "121 St-J Z (Q)",
          "181 St-A (M)",
          "215 St-1 (M)",
          "75 Av-E F (Q)",
          "Astoria-Ditmars Blvd-N W (Q)",
          "Cortelyou Rd-Q (Bk)"
         ],
         "lat": [
          40.730953,
          40.799446,
          40.7906,
          40.796092,
          40.749865,
          40.695178,
          40.79502,
          40.684331,
          40.697418,
          40.802098,
          40.798629,
          40.805085,
          40.807722,
          40.815581,
          40.807754,
          40.804138,
          40.811109,
          40.814229,
          40.817894,
          40.822008,
          40.738228,
          40.826551,
          40.820421,
          null,
          40.830135,
          40.830518,
          40.834041,
          40.827905,
          40.833771,
          40.840719,
          40.71047,
          40.840075,
          40.837288,
          40.8459,
          40.847391,
          40.84848,
          40.859022,
          40.723402,
          40.604556,
          40.61741,
          40.744065,
          40.754203,
          40.744081,
          40.745906,
          40.742878,
          40.741303,
          40.878856,
          40.893193,
          40.884667,
          40.597704,
          40.660397,
          40.74307,
          40.745494,
          40.810476,
          40.816109,
          40.732849,
          40.746081,
          40.744587,
          40.749567,
          40.755882,
          40.752287,
          40.756804,
          40.655144,
          40.752039,
          40.670847,
          40.743781,
          40.754222,
          40.743132,
          40.756312,
          40.758663,
          40.759901,
          40.760167,
          40.764811,
          40.762456,
          40.757107,
          40.744149,
          40.645069,
          40.631435,
          40.763972,
          40.768296,
          40.641362,
          40.729846,
          40.77344,
          40.726523,
          40.768141,
          40.746325,
          40.762862,
          40.666271,
          40.778453,
          40.775594,
          40.768799,
          40.691324,
          40.77362,
          40.629742,
          40.635064,
          40.730328,
          40.679371,
          40.781433,
          40.747659,
          40.692435,
          40.788644,
          40.785868,
          40.777891,
          40.622687,
          40.679843,
          40.748408,
          40.791642,
          40.865462,
          40.672097,
          40.668234,
          40.730054,
          40.770258,
          40.683666,
          40.62927,
          40.617618,
          40.608944,
          40.596063,
          40.5993,
          40.58962,
          40.588841,
          40.601875,
          40.620769,
          40.611815,
          40.634967,
          40.616622,
          40.878663,
          40.600066,
          40.595398,
          40.592943,
          40.590927,
          40.588034,
          40.585307,
          40.717304,
          40.873244,
          40.873412,
          40.689627,
          40.680829,
          40.686145,
          40.644031,
          40.725915,
          40.692404,
          40.72028,
          40.577621,
          40.608382,
          40.706476,
          40.679498,
          40.706092,
          40.76182,
          40.848828,
          40.807566,
          40.713065,
          40.84681,
          40.871356,
          40.853453,
          null,
          40.722854,
          40.719527,
          40.720824,
          40.646654,
          40.680303,
          40.834255,
          40.800603,
          40.697857,
          40.715478,
          40.714111,
          40.713243,
          40.682893,
          40.733422,
          40.650843,
          40.650527,
          40.644041,
          40.713282,
          40.697466,
          40.688873,
          40.679947,
          40.688089,
          40.710668,
          40.747846,
          40.747023,
          40.668897,
          40.689941,
          40.703811,
          40.718315,
          40.636119,
          40.860531,
          40.865491,
          40.808719,
          40.812118,
          40.650573,
          40.8883,
          40.671987,
          40.828584,
          40.675377,
          40.603995,
          40.632836,
          40.700377,
          40.70026,
          40.7596,
          40.862803,
          40.704423,
          40.721691,
          40.640914,
          40.650782,
          40.68138,
          40.670682,
          40.719318,
          40.829993,
          40.706186,
          40.710197,
          40.687119,
          40.68963,
          40.714565,
          40.675235,
          40.737015,
          40.751776,
          40.718267,
          40.711926,
          40.677044,
          40.731352,
          40.87785,
          40.869526,
          40.68637,
          40.695602,
          40.70687,
          40.699337,
          40.728251,
          40.660476,
          40.690545,
          40.688484,
          40.742216,
          40.820948,
          40.822181,
          40.868072,
          40.81649,
          40.746644,
          40.702147,
          40.712646,
          40.702566,
          40.692338,
          40.706607,
          40.749145,
          40.663515,
          40.714441,
          40.60867,
          40.603217,
          40.603923,
          40.866978,
          40.669399,
          40.679921,
          40.698664,
          40.693342,
          40.686113,
          40.757552,
          40.764629,
          40.664038,
          40.816104,
          40.703869,
          40.714063,
          40.874561,
          40.708359,
          40.712792,
          40.754622,
          40.711396,
          40.843863,
          40.707739,
          40.706152,
          40.854364,
          40.829521,
          40.87975,
          40.844434,
          40.694568,
          40.69943,
          40.724635,
          40.595246,
          40.898379,
          40.688246,
          40.666235,
          40.658733,
          40.624842,
          40.635082,
          40.752885,
          40.68141,
          40.874811,
          40.669847,
          40.680438,
          40.576312,
          40.685951,
          null,
          40.674772,
          40.713051,
          40.833226,
          40.655292,
          40.707564,
          40.852462,
          40.857192,
          40.858985,
          40.664635,
          40.667883,
          40.724329,
          40.819585,
          40.665414,
          40.661614,
          40.748973,
          40.750582,
          null,
          null,
          40.678822,
          40.70722,
          40.662549,
          40.67834,
          40.680429,
          40.580903,
          40.759145,
          40.661453,
          40.702762,
          40.586896,
          40.67413,
          40.824073,
          40.67358,
          40.702068,
          40.722301,
          40.726227,
          40.831509,
          40.756879,
          40.662742,
          40.700486,
          40.70546,
          40.669367,
          40.664717,
          null,
          null,
          null,
          40.75529,
          40.85041,
          40.677316,
          40.679364,
          40.889248,
          40.665449,
          40.67271,
          40.678024,
          40.742626,
          40.732338,
          40.576127,
          40.711835,
          40.903125,
          40.706821,
          40.707557,
          40.840295,
          40.839892,
          40.703087,
          40.826525,
          40.688764,
          40.656652,
          40.693879,
          40.733106,
          40.886037,
          40.74563,
          40.712582,
          40.701397,
          40.836488,
          40.681711,
          40.75173,
          40.813224,
          40.740893,
          40.735736,
          40.824783,
          40.818375,
          40.660365,
          40.836013,
          40.835537,
          40.839306,
          40.607954,
          40.629755,
          40.620671,
          40.74104,
          40.849505,
          40.856093,
          40.858407,
          40.855225,
          40.864621,
          40.883895,
          40.888022,
          40.739864,
          40.747215,
          40.766779,
          40.750373,
          40.752882,
          40.648939,
          40.761728,
          40.63626,
          40.764664,
          40.762526,
          40.749669,
          40.67705,
          40.619589,
          40.783934,
          40.613501,
          40.779492,
          40.592721,
          40.646292,
          40.793919,
          40.785672,
          40.784318,
          null,
          40.676992,
          40.675345,
          40.625322,
          40.625039,
          40.61514,
          40.597473,
          40.583209,
          40.592374,
          40.645098,
          40.704817,
          40.709179,
          40.725297,
          40.682829,
          40.803967,
          40.799075,
          40.683263,
          40.577422,
          40.683194,
          40.805368,
          40.690635,
          40.841894,
          40.713715,
          40.742454,
          40.861296,
          40.631386,
          40.82388,
          40.69218,
          40.86776,
          40.674542,
          40.697207,
          40.581011,
          40.639967,
          40.707513,
          40.700492,
          40.851695,
          40.869444,
          40.718331,
          40.775036,
          40.640927
         ],
         "legendgroup": "",
         "lon": [
          -73.981628,
          -73.968379,
          -73.947478,
          -73.961454,
          -73.8627,
          -73.84433,
          -73.94425,
          -73.832163,
          -73.836345,
          -73.949625,
          -73.941617,
          -73.954882,
          -73.96411,
          -73.958372,
          -73.945495,
          -73.937594,
          -73.952343,
          -73.94077,
          -73.947649,
          -73.953676,
          -73.996209,
          -73.95036,
          -73.936245,
          null,
          -73.938209,
          -73.941514,
          -73.94489,
          -73.925651,
          -73.91844,
          -73.939561,
          -73.793604,
          -73.917791,
          -73.887734,
          -73.910136,
          -73.939704,
          -73.911794,
          -73.93418,
          -73.989938,
          -73.998168,
          -73.985026,
          -73.949724,
          -73.942836,
          -73.995657,
          -73.998041,
          -73.992821,
          -73.989344,
          -73.904834,
          -73.857473,
          -73.90087,
          -73.986829,
          -73.998091,
          -73.984264,
          -73.988691,
          -73.926138,
          -73.917757,
          -73.986122,
          -73.982076,
          -73.930997,
          -73.98795,
          -74.00191,
          -73.993391,
          -73.929575,
          -74.003549,
          -73.928781,
          -73.988302,
          -73.924016,
          -73.984569,
          -73.918435,
          -73.913333,
          -73.981329,
          -73.984139,
          -73.975224,
          -73.973347,
          -73.985984,
          -73.97192,
          -73.912549,
          -74.014034,
          -73.995476,
          -73.97745,
          -73.981736,
          -74.017881,
          -73.861604,
          -73.982209,
          -73.852719,
          -73.96387,
          -73.896403,
          -73.981637,
          -73.980305,
          -73.98197,
          -73.97641,
          -73.958424,
          -73.867139,
          -73.959874,
          -74.02551,
          -74.011719,
          -73.992629,
          -73.858992,
          -73.972143,
          -73.883697,
          -73.86001,
          -73.976218,
          -73.968916,
          -73.951787,
          -74.028398,
          -73.85147,
          -73.876613,
          -73.964696,
          -73.867352,
          -73.835919,
          -73.834058,
          -73.99107,
          -73.917843,
          -73.97881,
          -73.961639,
          -73.959399,
          -73.973022,
          -73.973357,
          -73.955929,
          -73.97425,
          -73.983765,
          -73.993728,
          -73.975264,
          -73.981848,
          -74.023377,
          -74.030876,
          -73.838591,
          -73.761353,
          -73.768175,
          -73.776013,
          -73.796924,
          -73.813641,
          -73.820558,
          -73.956872,
          -73.887138,
          -73.890064,
          -73.953522,
          -73.975098,
          -73.990862,
          -73.964492,
          -73.994659,
          -73.990151,
          -73.993915,
          -73.961376,
          -73.815925,
          -74.011056,
          -73.904512,
          -73.950308,
          -73.925508,
          -73.868457,
          -73.91924,
          -74.004131,
          -73.832569,
          -73.867164,
          -73.907684,
          null,
          -74.006277,
          -74.001775,
          -74.005229,
          -73.90185,
          -73.995048,
          -73.851222,
          -73.958161,
          -73.927397,
          -74.009266,
          -74.008585,
          -74.003401,
          -73.910456,
          -74.002906,
          -73.949575,
          -73.962982,
          -73.979678,
          -74.006978,
          -73.993086,
          -73.96007,
          -73.884639,
          -73.966839,
          -74.011029,
          -73.946,
          -73.945264,
          -73.932942,
          -73.87255,
          -73.918425,
          -73.987437,
          -73.978172,
          -73.925536,
          -73.927271,
          -73.907657,
          -73.904098,
          -73.899485,
          -73.830834,
          -73.964375,
          -73.879159,
          -73.872106,
          -73.755405,
          -73.947642,
          -73.950234,
          -73.941126,
          -73.83003,
          -73.901034,
          -73.903077,
          -73.844521,
          -73.994304,
          -73.975776,
          -73.956848,
          -73.958131,
          -74.006886,
          -73.891865,
          -73.895877,
          -74.007691,
          -73.975375,
          -73.92227,
          -73.944053,
          -73.971046,
          -73.877223,
          -73.976848,
          -73.993753,
          -73.94067,
          -73.86505,
          -73.954449,
          -73.866256,
          -73.846384,
          -73.916559,
          -73.904084,
          -73.953431,
          -73.990531,
          -74.005367,
          -73.830301,
          -73.985065,
          -73.985001,
          -73.948916,
          -73.890549,
          -73.896736,
          -73.919899,
          -73.907807,
          -73.891338,
          -73.801109,
          -73.783817,
          -73.816859,
          -73.987342,
          -73.922913,
          -73.869527,
          -73.902447,
          -73.831008,
          -73.957734,
          -73.972361,
          -73.980353,
          -73.893509,
          -73.942161,
          -73.940858,
          -73.919711,
          -73.928814,
          -73.973946,
          -73.969055,
          -73.966113,
          -73.900571,
          -73.896435,
          -73.947408,
          -73.950275,
          -73.909831,
          -73.957757,
          -73.951418,
          -73.845625,
          -73.889601,
          -73.836322,
          -73.93985,
          -73.933147,
          -73.860495,
          -73.874516,
          -73.884655,
          -73.914685,
          -73.949046,
          -73.912385,
          -73.951277,
          -73.955161,
          -73.854376,
          -73.980492,
          -73.884079,
          -73.899232,
          -73.996353,
          -73.962793,
          -73.906006,
          -73.880039,
          -73.878855,
          -73.950466,
          -73.950426,
          -73.968501,
          -73.825798,
          null,
          -73.957624,
          -74.008811,
          -73.860816,
          -73.961495,
          -73.803326,
          -73.828121,
          -73.867615,
          -73.855359,
          -73.894895,
          -73.950683,
          -73.997702,
          -73.90177,
          -73.992872,
          -73.962246,
          -73.937243,
          -73.940202,
          null,
          null,
          -73.920786,
          -74.013342,
          -73.908946,
          -73.911946,
          -73.843853,
          -73.835592,
          -73.95326,
          -73.916327,
          -73.90774,
          -73.954155,
          -73.88075,
          -73.893064,
          -73.995959,
          -74.013664,
          -73.997141,
          -74.003739,
          -73.867618,
          -73.92074,
          -73.95085,
          -73.807969,
          -73.810708,
          -73.901975,
          -73.92261,
          null,
          null,
          null,
          -73.987495,
          -73.905227,
          -73.98311,
          -73.930729,
          -73.898583,
          -73.889395,
          -73.890358,
          -73.891688,
          -73.953581,
          -74.000495,
          -73.975939,
          -74.012188,
          -73.85062,
          -74.0091,
          -74.011862,
          -73.880049,
          -73.842952,
          -74.012994,
          -73.886283,
          -73.904046,
          -73.9502,
          -73.851576,
          -73.869229,
          -73.878751,
          -73.902984,
          -74.009781,
          -73.986751,
          -73.847036,
          -73.837683,
          -73.855334,
          -73.929849,
          -74.00169,
          -73.990568,
          -73.944216,
          -73.927351,
          -73.979493,
          -73.939892,
          -73.9214,
          -73.9134,
          -74.001736,
          -73.976971,
          -73.990414,
          -73.997871,
          -73.933596,
          -73.900741,
          -73.903879,
          -73.929412,
          -73.918822,
          -73.862633,
          -73.860341,
          -73.986599,
          -73.993365,
          -73.921479,
          -73.991057,
          -73.932755,
          -74.010006,
          -73.983849,
          -73.994791,
          -73.980658,
          -73.967967,
          -73.898453,
          -73.972367,
          -73.998864,
          -73.979917,
          -74.00061,
          -73.955589,
          -73.97823,
          -73.994324,
          -73.972323,
          -73.95107,
          -73.947152,
          null,
          -73.898654,
          -73.903097,
          -73.976127,
          -73.960803,
          -73.974197,
          -73.979137,
          -73.827559,
          -73.788522,
          -73.948959,
          -74.014065,
          -73.820574,
          -73.996204,
          -73.905249,
          -73.966847,
          -73.951822,
          -73.965838,
          -73.981233,
          -73.873785,
          -73.914042,
          -73.981824,
          -73.873488,
          -73.990173,
          -73.882017,
          -73.897749,
          -74.005351,
          -73.93647,
          -73.985942,
          -73.897174,
          -73.896548,
          -73.935657,
          -73.974574,
          -73.948411,
          -74.013783,
          -73.828294,
          -73.937969,
          -73.915279,
          -73.837324,
          -73.912034,
          -73.963891
         ],
         "marker": {
          "color": [
           -0.5589144378484794,
           -0.5553777893524142,
           -0.5407594618253636,
           -0.5957764313348832,
           -0.413704343462971,
           -0.33556612047619283,
           -0.538171505467625,
           -0.5077951182922495,
           -0.4056426830713725,
           -0.5808835851832127,
           -0.5385152425127352,
           -0.5923930517918794,
           -0.6768660383013838,
           -0.558181002911003,
           -0.6015102873068213,
           -0.5836891505726649,
           -0.5903487758519536,
           -0.706286000381998,
           -0.5874882131186987,
           -0.5482631331467053,
           -0.6668525562043477,
           -0.5133743626884877,
           -0.546084929184265,
           -0.4653409076094708,
           -0.5208904999808297,
           -0.5775735927169238,
           -0.5808560974453761,
           -0.5594410950044888,
           -0.6110296500065568,
           -0.5022051525915027,
           -0.5138773894357318,
           -0.5086682010705996,
           -0.5561172470314752,
           -0.5328704048039197,
           -0.6309115232260496,
           -0.5103777837738785,
           -0.6603650226784052,
           -0.6636662149777894,
           -0.49562792126895294,
           -0.39612721036127985,
           -0.5624942294163089,
           -0.519316466140197,
           -0.6506203443582194,
           -0.6724691614032847,
           -0.6671431289140894,
           -0.7218051322011658,
           -0.5282702096688389,
           -0.5070901424228828,
           -0.502506450025735,
           -0.523564925580148,
           -0.5406263497631575,
           -0.6590981907489694,
           -0.7196512323568488,
           -0.5025425804073715,
           -0.5589786118394109,
           -0.6115786180197958,
           -0.682588949604175,
           -0.5934368450505492,
           -0.6466748305325731,
           -0.5774243766190092,
           -0.6613847132584071,
           -0.5679500429610366,
           -0.46429839455716626,
           -0.6462200823114774,
           -0.5905199310783302,
           -0.5544396092896127,
           -0.6724595189644251,
           -0.523869379475278,
           -0.5895094131652301,
           -0.6614096188615812,
           -0.6521560434017916,
           -0.7228456895139621,
           -0.6200339686454017,
           -0.6819773578568267,
           -0.7087184199282548,
           -0.5155453130467942,
           -0.48524952512421826,
           -0.4779095611306905,
           -0.6150475174351464,
           -0.6072886829398068,
           -0.3485796900993472,
           -0.5578066574007052,
           -0.6415682968417897,
           -0.5706216874429458,
           -0.5804233314940126,
           -0.35629442738931216,
           -0.6729201835358849,
           -0.5961395113709177,
           -0.5896224654402957,
           -0.5920091094397792,
           -0.6211122869649072,
           -0.49634673165951515,
           -0.5616183017815108,
           -0.5664628287548326,
           -0.49409618411725,
           -0.719189473707314,
           -0.5253309623950189,
           -0.5830080385090615,
           -0.4080671450194755,
           -0.5006236347130447,
           -0.5912559657382528,
           -0.5933511352916243,
           -0.667840261750197,
           -0.4839606144540236,
           -0.5226398288488048,
           -0.526583108298044,
           -0.6028459660303715,
           -0.531402040102202,
           -0.6979530153986566,
           -0.5573965190786638,
           -0.6887209009152068,
           -0.5489433334818425,
           -0.5656780044561436,
           -0.5662996850314845,
           -0.49231443299070765,
           -0.4964760963229228,
           -0.500478428294272,
           -0.5192222254961975,
           -0.48524642682949903,
           -0.42581130399614386,
           -0.48561940281637517,
           -0.39990634784543155,
           -0.3470887246665919,
           -0.5155566673855623,
           -0.5678885545510128,
           -0.6011550081114122,
           -0.4925473364574666,
           -0.487031734192629,
           -0.4800153711488494,
           -0.5304524251450935,
           -0.6405764198710721,
           -0.5299235150610658,
           -0.6537056881404958,
           -0.5346040208098617,
           -0.4442182307897914,
           -0.6593311988376458,
           -0.6222602614560935,
           -0.6296891286534336,
           -0.528028662800682,
           -0.6818120266909438,
           -0.6461274426473208,
           -0.680404319068356,
           -0.546829462797927,
           -0.5800430910631499,
           -0.7087735496692977,
           -0.5464587890079573,
           -0.5281238527447025,
           -0.5550753509253508,
           -0.5227530942907771,
           -0.4965025712857629,
           -0.6327435951276129,
           -0.5153034396841639,
           -0.5502000837390215,
           -0.5351825261789578,
           -0.45317818337321114,
           -0.732039884617812,
           -0.6499329841190082,
           -0.7095465085764663,
           -0.792398242902559,
           -0.657674805324318,
           -0.5181690227759124,
           -0.5957114737371476,
           -0.6755225206727298,
           -0.6388308467745321,
           -0.6789175612894361,
           -0.5559179287679257,
           -0.6221671707370793,
           -0.6210299157988686,
           -0.5169001160557195,
           -0.555653194567401,
           -0.509391237843321,
           -0.6338056282617164,
           -0.7158473177672499,
           -0.6161087803510703,
           -0.5876871039397276,
           -0.6301456088861696,
           -0.7142686326776353,
           -0.6592738225520335,
           -0.4518561317777584,
           -0.5416099989083341,
           -0.5065785777757235,
           -0.6462975897569812,
           -0.6113485702315098,
           -0.4713870012906197,
           -0.4489614991588742,
           -0.5935038077795074,
           -0.33214095551880607,
           -0.4817816336420082,
           -0.5790339269640213,
           -0.5434146523775709,
           -0.5811922198301236,
           -0.47072344335888605,
           -0.5503559609824976,
           -0.49937631081709166,
           -0.5061983908796767,
           -0.4072306698715553,
           -0.5945243743958368,
           -0.49217684567714215,
           -0.48739430607433076,
           -0.5209999514424799,
           -0.5457449133891019,
           -0.427339811832942,
           -0.5716036064148056,
           -0.6646543894334472,
           -0.6006901819286897,
           -0.6149122873309774,
           -0.49808666887425457,
           -0.5368970747159763,
           -0.6849964577005307,
           -0.5054015808135554,
           -0.6373336570542503,
           -0.655030713418188,
           -0.6088003941316718,
           -0.5228107911203348,
           -0.6645130643298689,
           -0.4874770299728375,
           -0.5363362384635779,
           -0.5486703062803558,
           -0.6086389006271704,
           -0.5449739701586673,
           -0.42769198274583864,
           -0.6580576546360027,
           -0.5864024773800813,
           -0.7764045431107205,
           -0.5227778915778214,
           -0.7159864555699291,
           -0.3381449961551879,
           -0.5899183064648968,
           -0.6164776519037549,
           -0.6101868180946144,
           -0.5887552532981055,
           -0.4975045738296292,
           -0.6054355319556501,
           -0.5153032402098405,
           -0.47926652276685067,
           -0.5050295129824497,
           -0.5116386118546704,
           -0.48825146836426225,
           -0.6468146518445113,
           -0.6168760653300887,
           -0.3705725532123423,
           -0.4632915176211272,
           -0.5459425587310118,
           -0.5107372775742811,
           -0.5289433869003398,
           -0.3478769692662511,
           -0.6058420313653552,
           -0.5706114269231399,
           -0.6351931514879969,
           -0.6164871954821186,
           -0.6437607780539814,
           -0.6452995195058753,
           -0.69394583012036,
           -0.6011495413403455,
           -0.5101123454348011,
           -0.41185422821389306,
           -0.6297752335498304,
           -0.738693511566735,
           -0.49802612462583506,
           -0.6865044226399508,
           -0.6255973090162085,
           -0.5297666260605793,
           -0.4326167381311047,
           -0.5226426793819123,
           -0.6235343316424609,
           -0.6562777189294229,
           -0.5449558411449886,
           -0.4891218789818709,
           -0.49126800782567914,
           -0.48548662476648297,
           -0.6093484938071003,
           -0.5333647361523596,
           -0.6545488653865787,
           -0.5378805402284411,
           -0.49724331742701255,
           -0.6189392508609974,
           -0.514677685766428,
           -0.54239525274507,
           -0.4103821460499505,
           -0.6120653201728063,
           -0.5250007070684864,
           -0.5792716550359216,
           -0.5466416166476109,
           -0.6029582498597457,
           -0.6133527365186566,
           -0.5054190407941306,
           -0.504614202824696,
           -0.5146989558322193,
           -0.5661694428953981,
           -0.6899955791924997,
           -0.5189754660872814,
           -0.5833814876653783,
           -0.46555726930501706,
           -0.5612137081794242,
           -0.5623108786375817,
           -0.5508564869476371,
           -0.5110582454716099,
           -0.536685278718191,
           -0.7000442026415681,
           -0.5200309990773635,
           -0.5823990110764331,
           -0.598309158714325,
           -0.6339808839221457,
           -0.6007984116306389,
           -0.07020238603474949,
           -0.09158097106104623,
           -0.6060812960101568,
           -0.7260583756437374,
           -0.5235086202368073,
           -0.5906117730738737,
           -0.5066771182789254,
           -0.4644778667384607,
           -0.4941350737321194,
           -0.5174036193906189,
           -0.619123977343929,
           -0.5525816825528009,
           -0.5467326652748266,
           -0.48050570493709177,
           -0.5833635287772437,
           -0.6243984029697234,
           -0.6605803558320407,
           -0.6959585495762894,
           -0.4894603085918313,
           -0.6181921358023705,
           -0.5393951019632512,
           -0.49710011484428285,
           -0.5090698146141222,
           -0.6006461080816979,
           -0.5169596549319071,
           -0.4638028311433826,
           -0.554960632497036,
           -0.5095549582895236,
           -0.6419946769847105,
           -0.6031081773048692,
           -0.627675929909306,
           -0.6347088395393357,
           -0.49090460314062323,
           -0.5371926309421102,
           -0.5514191862966746,
           -0.5010967395839543,
           -0.6338435823670326,
           -0.6861264931108733,
           -0.5012459251447343,
           -0.645912319525948,
           -0.49136095624898835,
           -0.7477373263660938,
           -0.728577321507826,
           -0.579880453824284,
           -0.5347808223896156,
           -0.6761262086500821,
           -0.48400096582794716,
           -0.5849379146788961,
           -0.4502285269293914,
           -0.5155985389958997,
           -0.5489696282456116,
           -0.5108975948954784,
           -0.45600284592083407,
           -0.6727342616876314,
           -0.5900607382638454,
           -0.5337716781778423,
           -0.46014969113154935,
           -0.40278988037828856,
           -0.4439571736599556,
           -0.6439002835260039,
           -0.661502003416458,
           -0.5830466504135261,
           -0.5950021748586048,
           -0.624092409866439,
           -0.5772553495147199,
           -0.4485979679082265,
           -0.5564931435287608,
           -0.49319039282838906,
           -0.4965574535058961,
           -0.3239716956743568,
           -0.6813631113533417,
           -0.5903082144965086,
           -0.5733256668635561,
           -0.48037192675511253,
           -0.5018833450343902,
           -0.4349036644094578,
           -0.5586780087929839,
           -0.5374385780336377,
           -0.6693082339100883,
           -0.6631016074466236,
           -0.6698120994689993,
           -0.6607217825167191,
           -0.5215164625686618,
           -0.5142771860008204,
           -0.6585244705999526,
           -0.40090284201807525,
           -0.6543111630604224,
           -0.6179463750145447,
           -0.5321482953025995,
           -0.6653820017110854,
           -0.5325240520650054,
           -0.5869836539360653,
           -0.4685359163600924,
           -0.5593391371950281,
           -0.3530331748351335,
           -0.448921207282419,
           -0.5956982238759121,
           -0.5566016175318325,
           -0.6248881368841455,
           -0.41125850267464836,
           -0.5038351629967524,
           -0.47534679916986455,
           -0.4948479812104456,
           -0.5217108210364796,
           -0.49751778573534045,
           -0.3517897953206228,
           -0.5260392349543055,
           -0.5113813167120135,
           -0.49382066143233183,
           -0.6473944196609331,
           -0.5110066536995044,
           -0.6758880658504016,
           -0.4880032209314792,
           -0.5857432198342278,
           -0.626368688099753,
           -0.6635360515123696,
           -0.45693999354880244,
           -0.5585172200586542,
           -0.5644362589050513,
           -0.6472624112784382,
           -0.4728444536220455,
           -0.5818063139365105,
           -0.5052670565215374,
           -0.5788944889341231,
           -0.2120864355592037,
           -0.5863074820975147,
           -0.6549208366597705,
           -0.4951225340781049,
           -0.5288777333012389,
           -0.6645581576174351,
           -0.4249441702429535,
           -0.5045150977200871,
           -0.6814551675357541,
           -0.48970077127899814,
           -0.6464867854125889,
           -0.42182258114361626,
           -0.6098896645182478,
           -0.6185767013075674,
           -0.565413143209372
          ],
          "coloraxis": "coloraxis",
          "size": [
           1307.0282958199357,
           877.1352221506761,
           990.0327552986513,
           315.1546391752577,
           1939.5661953727506,
           224.60539845758356,
           802.4,
           214.70209973753282,
           195.18578878748372,
           730.9231762427372,
           1087.2823151125401,
           482.9698717948718,
           776.5190445448677,
           555.7591757887959,
           825.7077713551702,
           1826.7280307889673,
           1909.6978832584991,
           668.4076923076923,
           386.6236351958895,
           934.5093008338679,
           2249.6391025641024,
           740.1868978805395,
           253.98581560283688,
           771.2021822849807,
           285.0508038585209,
           192.32922877511342,
           835.0410519563823,
           1685.3775773195875,
           491.9190231362468,
           1661.0456885456886,
           644.9140474663245,
           644.1164736164736,
           395.1298200514139,
           376.3607188703466,
           801.6587556125721,
           447.6062941554271,
           161.09348807221147,
           916.9161831076725,
           423.31745009658727,
           369.9987146529563,
           120.89845758354755,
           887.5601552393273,
           842.4740218088518,
           1273.4547787042977,
           1404.3365384615386,
           1061.3324775353017,
           752.7630392788152,
           388.32882011605415,
           333.855035279025,
           390.787012987013,
           283.85769230769233,
           1130.9910141206676,
           600.7734274711169,
           610.7306701030927,
           1475.600384862091,
           359.99102564102566,
           1469.2503209242618,
           697.3348358016742,
           6441.083974358974,
           1315.4042829331602,
           4623.848717948718,
           468.519305019305,
           1187.0612903225806,
           283.59447300771205,
           845.4996792815907,
           737.012187299551,
           2996.2352564102566,
           994.3908857509628,
           578.3759640102828,
           3374.355128205128,
           1353.7617212588311,
           1259.7140102827764,
           991.3114543114543,
           1107.9923076923078,
           1024.7998717126363,
           482.01610824742266,
           749.597537265068,
           187.4227799227799,
           898.8845413726748,
           4394.809248554913,
           1090.3007083065036,
           1137.4338046272494,
           1324.0758354755785,
           635.9275641025641,
           1604.7410772225828,
           511.92690815006466,
           991.3194355355997,
           787.5731707317074,
           2329.0449871465294,
           583.9954896907217,
           1944.7577120822623,
           296.8905344494527,
           1863.3459807073955,
           404.57894736842104,
           989.7730769230769,
           774.8705128205128,
           339.8034682080925,
           919.8023180940116,
           1473.054487179487,
           303.2447013487476,
           1218.8891025641026,
           707.1743589743589,
           1410.612323491656,
           966.469794344473,
           228.4211204121056,
           1281.249357326478,
           653.6621794871795,
           392.77061855670104,
           81.05962410887881,
           67.02423051735428,
           842.0548302872063,
           717.8241401687216,
           3104.386144964721,
           240.91677419354838,
           481.61766602192137,
           207.64807692307693,
           152.37483953786906,
           584.8704663212435,
           229.0525969756739,
           256.6803594351733,
           663.3594351732991,
           119.66950819672131,
           490.50869285254345,
           621.7246469833119,
           423.8908156711625,
           253.0209287115762,
           147.79328165374676,
           82.8221649484536,
           62.93280632411067,
           180.76010430247717,
           58.98298429319372,
           39.03961038961039,
           1422.2974193548387,
           544.7326030927835,
           467.879409878127,
           498.2773487773488,
           241.04749679075738,
           683.8813341885824,
           268.37508028259475,
           798.6628131021195,
           2049.1270044900575,
           204.18018018018017,
           895.8005131494548,
           22.89315960912052,
           373.4857881136951,
           626.6126533247257,
           364.3363577446533,
           786.9358563181527,
           200.25561978163134,
           494.93346253229976,
           1185.7127249357327,
           312.6255648805681,
           244.1706221937139,
           768.6632390745501,
           454.69576379974325,
           298.81410256410254,
           2475.3634615384617,
           1005.0051314945478,
           386.14819587628864,
           661.1788931788932,
           516.9307248236049,
           491.76962676962677,
           239.43436293436292,
           1215.7143786597267,
           1514.0303225806451,
           769.1942122186496,
           205.17556270096463,
           623.4522129570238,
           772.1975625400898,
           1197.8783783783783,
           778.8657675016057,
           365.2665382145151,
           263.9869375907112,
           345.9645846748229,
           201.27860374919197,
           316.4106683804627,
           998.6473988439307,
           973.2288461538461,
           412.3198458574181,
           1941.0419084461637,
           120.76599870717517,
           552.8550352790251,
           1695.8735558408216,
           345.56201550387595,
           603.942084942085,
           461.58500323206204,
           121.6021850899743,
           415.8866930171278,
           238.6304207119741,
           324.35870967741937,
           277.9311454311454,
           557.9954007884363,
           771.5822622107969,
           367.3400129282482,
           1491.6172125883108,
           242.98330122029543,
           579.9833012202954,
           4763.512605042017,
           832.8662379421222,
           336.19228295819937,
           1999.93481095176,
           378.8859764089122,
           415.74839537869065,
           347.45238095238096,
           856.300641025641,
           339.6542655548428,
           367.3290405666452,
           455.54563106796115,
           4786.575641025641,
           441.10932475884243,
           429.97814910025704,
           525.1980707395498,
           474.2806221646144,
           1259.2855305466237,
           7411.435256410256,
           1798.3807989690722,
           491.9505141388175,
           435.2530585962653,
           642.2521452145214,
           532.2753815527539,
           411.503259452412,
           368.7294344473008,
           505.1606683804627,
           121.55295646523717,
           658.5967948717948,
           723.566388710712,
           476.40576923076924,
           507.29358974358973,
           725.1251612903226,
           451.7201540436457,
           667.0115979381443,
           262.5834945196647,
           646.5057989690722,
           414.2245161290323,
           4498.184615384615,
           3707.7910256410255,
           1720.62671009772,
           387.2800256904303,
           2218.2068079640335,
           453.7236503856041,
           2193.9235709698137,
           200.11696658097685,
           1911.5561978163134,
           1600.9273778920308,
           290.24415584415584,
           477.55920205920205,
           518.625641025641,
           335.53846153846155,
           402.4540750323415,
           286.34188582424633,
           330.54621309370987,
           255.27488760436736,
           2036.6602564102564,
           1281.708115183246,
           234.70447180816592,
           310.1606683804627,
           322.28374836173003,
           227.0939548434086,
           425.70546163849156,
           737.4594594594595,
           544.1176848874599,
           394.8325791855204,
           281.92866407263296,
           166.43224149004496,
           402.2745349583066,
           390.2427372498386,
           190.343481138319,
           537.091961414791,
           682.3674388674389,
           423.71147540983605,
           381.75064267352184,
           1448.976236351959,
           557.0865384615385,
           342.3382731958763,
           283.0581395348837,
           642.1788461538462,
           458.06410256410254,
           320.85456885456887,
           465.5621794871795,
           679.3374114616871,
           529.2044871794872,
           220.24399740428294,
           644.1587403598971,
           278.94254357650095,
           1107.3033052495139,
           269.74420103092785,
           625.7631408176509,
           4911.300833867864,
           120.54586273252085,
           162.81459948320415,
           1190.953307392996,
           426.1192778852353,
           592.6525369299936,
           525.8917525773196,
           614.2801282051282,
           240.72884615384615,
           368.6514469453376,
           276.33269107257547,
           631.7969151670951,
           552.0636655948553,
           408.1834862385321,
           572.0455128205128,
           871.9540155440415,
           962.006435006435,
           493.8749198203977,
           449.82476943346506,
           376.31650485436893,
           312.0602950609365,
           383.5847240051348,
           385.2586649550706,
           618.1073738680466,
           63.58070739549839,
           625.4272844272845,
           425.17019910083496,
           201.83868894601542,
           1031.0352564102564,
           240.00708762886597,
           623.952994204765,
           314.7144694533762,
           1006.2551546391752,
           603.6844155844155,
           700.9668831168831,
           344.8078658929723,
           914.401028277635,
           420.5192554557124,
           2007.6079948420374,
           355.870822622108,
           229.25241468126208,
           545.9631306597671,
           939.7329910141207,
           1686.8222079589216,
           725.3183568677792,
           10781.609615384616,
           643.0721649484536,
           452.48582474226805,
           974.4787917737789,
           628.6529826812059,
           219.51519069166127,
           220.64327485380116,
           217.8295380611581,
           915.9528118939884,
           2128.2010276172127,
           207.2974358974359,
           812.5497752087348,
           399.76908150064685,
           1022.9724005134789,
           869.8684381075826,
           476.1398195876289,
           472.2257234726688,
           983.3175112251444,
           163.37483870967742,
           298.91682785299804,
           595.337224383917,
           368.5829048843188,
           1481.5221579961465,
           548.0975609756098,
           1375.9819004524886,
           1013.9442644199611,
           690.2345758354755,
           207.1875,
           135.82978723404256,
           1117.7248711340205,
           306.3354838709677,
           2432.328626444159,
           5329.931920359666,
           1581.2730769230768,
           862.8332264271969,
           391.3015463917526,
           298.93560849967804,
           773.897880539499,
           497.3594351732991,
           524.8838709677419,
           306.88046272493574,
           364.0282413350449,
           455.910783055199,
           769.6395873629916,
           218.5784635587656,
           491.8752411575563,
           617.4178433889603,
           563.5598430346632,
           236.69408740359899,
           219.42764857881136,
           1561.5080282594733,
           830.5522771007056,
           879.0650195058518,
           4520.34894162925,
           220.48422408242112,
           622.497432605905,
           1481.6435452793835,
           323.25472312703585,
           1879.914688903143,
           3323.8435897435897,
           275.63987138263667,
           561.7140102827764,
           429.6634366925065,
           1009.5,
           550.7792792792793,
           2898.1063144329896,
           242.71279373368145,
           494.20605280103024,
           2365.3785347043704,
           1268.9325551232166,
           1217.3412596401029,
           477.53016688061615,
           177.3833762886598,
           145.12048969072166,
           111.490990990991,
           463.4090032154341,
           247.22478576137112,
           346.65960179833013,
           20.75644329896907,
           165.24564926372156,
           363.4140373470702,
           1731.4833333333333,
           407.0650773195876,
           1168.7608974358975,
           171.01479099678457,
           799.5781350482315,
           521.7115384615385,
           393.92609254498717,
           1200.0712909441233,
           328.0831168831169,
           250.93508997429305,
           1240.8976833976833,
           632.8466966003849,
           962.4881334188583,
           819.7054263565891,
           810.2841565105837,
           570.4916666666667,
           258.8678272082527,
           229.3361236316806,
           737.8823151125401,
           217.0464516129032,
           664.6714565643371,
           140.22243713733076,
           596.4541372674792,
           456.2974358974359,
           199.61760925449872,
           615.5106109324759,
           171.59218241042345,
           209.06237942122186,
           1071.4588688946014,
           456.99157485418016
          ],
          "sizemode": "area",
          "sizeref": 26.95402403846154
         },
         "mode": "markers",
         "name": "",
         "showlegend": false,
         "subplot": "mapbox",
         "type": "scattermapbox"
        }
       ],
       "layout": {
        "coloraxis": {
         "colorbar": {
          "title": {
           "text": "pct_v_2019"
          }
         },
         "colorscale": [
          [
           0,
           "rgb(0,0,131)"
          ],
          [
           0.2,
           "rgb(0,60,170)"
          ],
          [
           0.4,
           "rgb(5,255,255)"
          ],
          [
           0.6,
           "rgb(255,255,0)"
          ],
          [
           0.8,
           "rgb(250,0,0)"
          ],
          [
           1,
           "rgb(128,0,0)"
          ]
         ]
        },
        "height": 480,
        "legend": {
         "itemsizing": "constant",
         "tracegroupgap": 0
        },
        "mapbox": {
         "accesstoken": "pk.eyJ1IjoiZHJ1Y2V2IiwiYSI6ImNqbWt4YmJ6ejAyYXcza3A1djhya254ZXMifQ.ZkDU7jNP3QGicJpGRRMF2Q",
         "center": {
          "lat": 40.72987847465438,
          "lon": -73.93391443548387
         },
         "domain": {
          "x": [
           0,
           1
          ],
          "y": [
           0,
           1
          ]
         },
         "style": "carto-darkmatter",
         "zoom": 10
        },
        "margin": {
         "b": 0,
         "l": 0,
         "r": 0,
         "t": 0
        },
        "showlegend": false,
        "template": {
         "data": {
          "bar": [
           {
            "error_x": {
             "color": "#2a3f5f"
            },
            "error_y": {
             "color": "#2a3f5f"
            },
            "marker": {
             "line": {
              "color": "#E5ECF6",
              "width": 0.5
             },
             "pattern": {
              "fillmode": "overlay",
              "size": 10,
              "solidity": 0.2
             }
            },
            "type": "bar"
           }
          ],
          "barpolar": [
           {
            "marker": {
             "line": {
              "color": "#E5ECF6",
              "width": 0.5
             },
             "pattern": {
              "fillmode": "overlay",
              "size": 10,
              "solidity": 0.2
             }
            },
            "type": "barpolar"
           }
          ],
          "carpet": [
           {
            "aaxis": {
             "endlinecolor": "#2a3f5f",
             "gridcolor": "white",
             "linecolor": "white",
             "minorgridcolor": "white",
             "startlinecolor": "#2a3f5f"
            },
            "baxis": {
             "endlinecolor": "#2a3f5f",
             "gridcolor": "white",
             "linecolor": "white",
             "minorgridcolor": "white",
             "startlinecolor": "#2a3f5f"
            },
            "type": "carpet"
           }
          ],
          "choropleth": [
           {
            "colorbar": {
             "outlinewidth": 0,
             "ticks": ""
            },
            "type": "choropleth"
           }
          ],
          "contour": [
           {
            "colorbar": {
             "outlinewidth": 0,
             "ticks": ""
            },
            "colorscale": [
             [
              0,
              "#0d0887"
             ],
             [
              0.1111111111111111,
              "#46039f"
             ],
             [
              0.2222222222222222,
              "#7201a8"
             ],
             [
              0.3333333333333333,
              "#9c179e"
             ],
             [
              0.4444444444444444,
              "#bd3786"
             ],
             [
              0.5555555555555556,
              "#d8576b"
             ],
             [
              0.6666666666666666,
              "#ed7953"
             ],
             [
              0.7777777777777778,
              "#fb9f3a"
             ],
             [
              0.8888888888888888,
              "#fdca26"
             ],
             [
              1,
              "#f0f921"
             ]
            ],
            "type": "contour"
           }
          ],
          "contourcarpet": [
           {
            "colorbar": {
             "outlinewidth": 0,
             "ticks": ""
            },
            "type": "contourcarpet"
           }
          ],
          "heatmap": [
           {
            "colorbar": {
             "outlinewidth": 0,
             "ticks": ""
            },
            "colorscale": [
             [
              0,
              "#0d0887"
             ],
             [
              0.1111111111111111,
              "#46039f"
             ],
             [
              0.2222222222222222,
              "#7201a8"
             ],
             [
              0.3333333333333333,
              "#9c179e"
             ],
             [
              0.4444444444444444,
              "#bd3786"
             ],
             [
              0.5555555555555556,
              "#d8576b"
             ],
             [
              0.6666666666666666,
              "#ed7953"
             ],
             [
              0.7777777777777778,
              "#fb9f3a"
             ],
             [
              0.8888888888888888,
              "#fdca26"
             ],
             [
              1,
              "#f0f921"
             ]
            ],
            "type": "heatmap"
           }
          ],
          "heatmapgl": [
           {
            "colorbar": {
             "outlinewidth": 0,
             "ticks": ""
            },
            "colorscale": [
             [
              0,
              "#0d0887"
             ],
             [
              0.1111111111111111,
              "#46039f"
             ],
             [
              0.2222222222222222,
              "#7201a8"
             ],
             [
              0.3333333333333333,
              "#9c179e"
             ],
             [
              0.4444444444444444,
              "#bd3786"
             ],
             [
              0.5555555555555556,
              "#d8576b"
             ],
             [
              0.6666666666666666,
              "#ed7953"
             ],
             [
              0.7777777777777778,
              "#fb9f3a"
             ],
             [
              0.8888888888888888,
              "#fdca26"
             ],
             [
              1,
              "#f0f921"
             ]
            ],
            "type": "heatmapgl"
           }
          ],
          "histogram": [
           {
            "marker": {
             "pattern": {
              "fillmode": "overlay",
              "size": 10,
              "solidity": 0.2
             }
            },
            "type": "histogram"
           }
          ],
          "histogram2d": [
           {
            "colorbar": {
             "outlinewidth": 0,
             "ticks": ""
            },
            "colorscale": [
             [
              0,
              "#0d0887"
             ],
             [
              0.1111111111111111,
              "#46039f"
             ],
             [
              0.2222222222222222,
              "#7201a8"
             ],
             [
              0.3333333333333333,
              "#9c179e"
             ],
             [
              0.4444444444444444,
              "#bd3786"
             ],
             [
              0.5555555555555556,
              "#d8576b"
             ],
             [
              0.6666666666666666,
              "#ed7953"
             ],
             [
              0.7777777777777778,
              "#fb9f3a"
             ],
             [
              0.8888888888888888,
              "#fdca26"
             ],
             [
              1,
              "#f0f921"
             ]
            ],
            "type": "histogram2d"
           }
          ],
          "histogram2dcontour": [
           {
            "colorbar": {
             "outlinewidth": 0,
             "ticks": ""
            },
            "colorscale": [
             [
              0,
              "#0d0887"
             ],
             [
              0.1111111111111111,
              "#46039f"
             ],
             [
              0.2222222222222222,
              "#7201a8"
             ],
             [
              0.3333333333333333,
              "#9c179e"
             ],
             [
              0.4444444444444444,
              "#bd3786"
             ],
             [
              0.5555555555555556,
              "#d8576b"
             ],
             [
              0.6666666666666666,
              "#ed7953"
             ],
             [
              0.7777777777777778,
              "#fb9f3a"
             ],
             [
              0.8888888888888888,
              "#fdca26"
             ],
             [
              1,
              "#f0f921"
             ]
            ],
            "type": "histogram2dcontour"
           }
          ],
          "mesh3d": [
           {
            "colorbar": {
             "outlinewidth": 0,
             "ticks": ""
            },
            "type": "mesh3d"
           }
          ],
          "parcoords": [
           {
            "line": {
             "colorbar": {
              "outlinewidth": 0,
              "ticks": ""
             }
            },
            "type": "parcoords"
           }
          ],
          "pie": [
           {
            "automargin": true,
            "type": "pie"
           }
          ],
          "scatter": [
           {
            "fillpattern": {
             "fillmode": "overlay",
             "size": 10,
             "solidity": 0.2
            },
            "type": "scatter"
           }
          ],
          "scatter3d": [
           {
            "line": {
             "colorbar": {
              "outlinewidth": 0,
              "ticks": ""
             }
            },
            "marker": {
             "colorbar": {
              "outlinewidth": 0,
              "ticks": ""
             }
            },
            "type": "scatter3d"
           }
          ],
          "scattercarpet": [
           {
            "marker": {
             "colorbar": {
              "outlinewidth": 0,
              "ticks": ""
             }
            },
            "type": "scattercarpet"
           }
          ],
          "scattergeo": [
           {
            "marker": {
             "colorbar": {
              "outlinewidth": 0,
              "ticks": ""
             }
            },
            "type": "scattergeo"
           }
          ],
          "scattergl": [
           {
            "marker": {
             "colorbar": {
              "outlinewidth": 0,
              "ticks": ""
             }
            },
            "type": "scattergl"
           }
          ],
          "scattermapbox": [
           {
            "marker": {
             "colorbar": {
              "outlinewidth": 0,
              "ticks": ""
             }
            },
            "type": "scattermapbox"
           }
          ],
          "scatterpolar": [
           {
            "marker": {
             "colorbar": {
              "outlinewidth": 0,
              "ticks": ""
             }
            },
            "type": "scatterpolar"
           }
          ],
          "scatterpolargl": [
           {
            "marker": {
             "colorbar": {
              "outlinewidth": 0,
              "ticks": ""
             }
            },
            "type": "scatterpolargl"
           }
          ],
          "scatterternary": [
           {
            "marker": {
             "colorbar": {
              "outlinewidth": 0,
              "ticks": ""
             }
            },
            "type": "scatterternary"
           }
          ],
          "surface": [
           {
            "colorbar": {
             "outlinewidth": 0,
             "ticks": ""
            },
            "colorscale": [
             [
              0,
              "#0d0887"
             ],
             [
              0.1111111111111111,
              "#46039f"
             ],
             [
              0.2222222222222222,
              "#7201a8"
             ],
             [
              0.3333333333333333,
              "#9c179e"
             ],
             [
              0.4444444444444444,
              "#bd3786"
             ],
             [
              0.5555555555555556,
              "#d8576b"
             ],
             [
              0.6666666666666666,
              "#ed7953"
             ],
             [
              0.7777777777777778,
              "#fb9f3a"
             ],
             [
              0.8888888888888888,
              "#fdca26"
             ],
             [
              1,
              "#f0f921"
             ]
            ],
            "type": "surface"
           }
          ],
          "table": [
           {
            "cells": {
             "fill": {
              "color": "#EBF0F8"
             },
             "line": {
              "color": "white"
             }
            },
            "header": {
             "fill": {
              "color": "#C8D4E3"
             },
             "line": {
              "color": "white"
             }
            },
            "type": "table"
           }
          ]
         },
         "layout": {
          "annotationdefaults": {
           "arrowcolor": "#2a3f5f",
           "arrowhead": 0,
           "arrowwidth": 1
          },
          "autotypenumbers": "strict",
          "coloraxis": {
           "colorbar": {
            "outlinewidth": 0,
            "ticks": ""
           }
          },
          "colorscale": {
           "diverging": [
            [
             0,
             "#8e0152"
            ],
            [
             0.1,
             "#c51b7d"
            ],
            [
             0.2,
             "#de77ae"
            ],
            [
             0.3,
             "#f1b6da"
            ],
            [
             0.4,
             "#fde0ef"
            ],
            [
             0.5,
             "#f7f7f7"
            ],
            [
             0.6,
             "#e6f5d0"
            ],
            [
             0.7,
             "#b8e186"
            ],
            [
             0.8,
             "#7fbc41"
            ],
            [
             0.9,
             "#4d9221"
            ],
            [
             1,
             "#276419"
            ]
           ],
           "sequential": [
            [
             0,
             "#0d0887"
            ],
            [
             0.1111111111111111,
             "#46039f"
            ],
            [
             0.2222222222222222,
             "#7201a8"
            ],
            [
             0.3333333333333333,
             "#9c179e"
            ],
            [
             0.4444444444444444,
             "#bd3786"
            ],
            [
             0.5555555555555556,
             "#d8576b"
            ],
            [
             0.6666666666666666,
             "#ed7953"
            ],
            [
             0.7777777777777778,
             "#fb9f3a"
            ],
            [
             0.8888888888888888,
             "#fdca26"
            ],
            [
             1,
             "#f0f921"
            ]
           ],
           "sequentialminus": [
            [
             0,
             "#0d0887"
            ],
            [
             0.1111111111111111,
             "#46039f"
            ],
            [
             0.2222222222222222,
             "#7201a8"
            ],
            [
             0.3333333333333333,
             "#9c179e"
            ],
            [
             0.4444444444444444,
             "#bd3786"
            ],
            [
             0.5555555555555556,
             "#d8576b"
            ],
            [
             0.6666666666666666,
             "#ed7953"
            ],
            [
             0.7777777777777778,
             "#fb9f3a"
            ],
            [
             0.8888888888888888,
             "#fdca26"
            ],
            [
             1,
             "#f0f921"
            ]
           ]
          },
          "colorway": [
           "#636efa",
           "#EF553B",
           "#00cc96",
           "#ab63fa",
           "#FFA15A",
           "#19d3f3",
           "#FF6692",
           "#B6E880",
           "#FF97FF",
           "#FECB52"
          ],
          "font": {
           "color": "#2a3f5f"
          },
          "geo": {
           "bgcolor": "white",
           "lakecolor": "white",
           "landcolor": "#E5ECF6",
           "showlakes": true,
           "showland": true,
           "subunitcolor": "white"
          },
          "hoverlabel": {
           "align": "left"
          },
          "hovermode": "closest",
          "mapbox": {
           "style": "light"
          },
          "paper_bgcolor": "white",
          "plot_bgcolor": "#E5ECF6",
          "polar": {
           "angularaxis": {
            "gridcolor": "white",
            "linecolor": "white",
            "ticks": ""
           },
           "bgcolor": "#E5ECF6",
           "radialaxis": {
            "gridcolor": "white",
            "linecolor": "white",
            "ticks": ""
           }
          },
          "scene": {
           "xaxis": {
            "backgroundcolor": "#E5ECF6",
            "gridcolor": "white",
            "gridwidth": 2,
            "linecolor": "white",
            "showbackground": true,
            "ticks": "",
            "zerolinecolor": "white"
           },
           "yaxis": {
            "backgroundcolor": "#E5ECF6",
            "gridcolor": "white",
            "gridwidth": 2,
            "linecolor": "white",
            "showbackground": true,
            "ticks": "",
            "zerolinecolor": "white"
           },
           "zaxis": {
            "backgroundcolor": "#E5ECF6",
            "gridcolor": "white",
            "gridwidth": 2,
            "linecolor": "white",
            "showbackground": true,
            "ticks": "",
            "zerolinecolor": "white"
           }
          },
          "shapedefaults": {
           "line": {
            "color": "#2a3f5f"
           }
          },
          "ternary": {
           "aaxis": {
            "gridcolor": "white",
            "linecolor": "white",
            "ticks": ""
           },
           "baxis": {
            "gridcolor": "white",
            "linecolor": "white",
            "ticks": ""
           },
           "bgcolor": "#E5ECF6",
           "caxis": {
            "gridcolor": "white",
            "linecolor": "white",
            "ticks": ""
           }
          },
          "title": {
           "x": 0.05
          },
          "xaxis": {
           "automargin": true,
           "gridcolor": "white",
           "linecolor": "white",
           "ticks": "",
           "title": {
            "standoff": 15
           },
           "zerolinecolor": "white",
           "zerolinewidth": 2
          },
          "yaxis": {
           "automargin": true,
           "gridcolor": "white",
           "linecolor": "white",
           "ticks": "",
           "title": {
            "standoff": 15
           },
           "zerolinecolor": "white",
           "zerolinewidth": 2
          }
         }
        },
        "width": 880
       }
      },
      "text/html": [
       "<div>                            <div id=\"2eff56f7-1949-48bd-8f30-759cbbc83da7\" class=\"plotly-graph-div\" style=\"height:480px; width:880px;\"></div>            <script type=\"text/javascript\">                require([\"plotly\"], function(Plotly) {                    window.PLOTLYENV=window.PLOTLYENV || {};                                    if (document.getElementById(\"2eff56f7-1949-48bd-8f30-759cbbc83da7\")) {                    Plotly.newPlot(                        \"2eff56f7-1949-48bd-8f30-759cbbc83da7\",                        [{\"customdata\":[[\"1.3k\",\"-55.9%\",1307.0282958199357,40.730953,-73.981628,-0.5589144378484794,0.5788859764206045],[\"0.9k\",\"-55.5%\",877.1352221506761,40.799446,-73.968379,-0.5553777893524142,0.8287368922594551],[\"1.0k\",\"-54.1%\",990.0327552986513,40.7906,-73.947478,-0.5407594618253636,0.38122485144623686],[\"0.3k\",\"-59.6%\",315.1546391752577,40.796092,-73.961454,-0.5957764313348832,0.5869883907173206],[\"1.9k\",\"-41.4%\",1939.5661953727506,40.749865,-73.8627,-0.413704343462971,0.41167492859939503],[\"0.2k\",\"-33.6%\",224.60539845758356,40.695178,-73.84433,-0.33556612047619283,0.4223149513908169],[\"0.8k\",\"-53.8%\",802.4,40.79502,-73.94425,-0.538171505467625,0.45100299569738445],[\"0.2k\",\"-50.8%\",214.70209973753282,40.684331,-73.832163,-0.5077951182922495,0.39937708662900073],[\"0.2k\",\"-40.6%\",195.18578878748372,40.697418,-73.836345,-0.4056426830713725,0.5127655013780676],[\"0.7k\",\"-58.1%\",730.9231762427372,40.802098,-73.949625,-0.5808835851832127,0.47873171554141836],[\"1.1k\",\"-53.9%\",1087.2823151125401,40.798629,-73.941617,-0.5385152425127352,0.42691094853560085],[\"0.5k\",\"-59.2%\",482.9698717948718,40.805085,-73.954882,-0.5923930517918794,0.5878181242930487],[\"0.8k\",\"-67.7%\",776.5190445448677,40.807722,-73.96411,-0.6768660383013838,1.3368025864301667],[\"0.6k\",\"-55.8%\",555.7591757887959,40.815581,-73.958372,-0.558181002911003,0.6957209286408177],[\"0.8k\",\"-60.2%\",825.7077713551702,40.807754,-73.945495,-0.6015102873068213,0.4798688418304571],[\"1.8k\",\"-58.4%\",1826.7280307889673,40.804138,-73.937594,-0.5836891505726649,0.3245078361480094],[\"1.9k\",\"-59.0%\",1909.6978832584991,40.811109,-73.952343,-0.5903487758519536,0.38039962331119415],[\"0.7k\",\"-70.6%\",668.4076923076923,40.814229,-73.94077,-0.706286000381998,0.0017721202952705184],[\"0.4k\",\"-58.7%\",386.6236351958895,40.817894,-73.947649,-0.5874882131186987,0.7215369751325733],[\"0.9k\",\"-54.8%\",934.5093008338679,40.822008,-73.953676,-0.5482631331467053,0.6087161519783488],[\"2.2k\",\"-66.7%\",2249.6391025641024,40.738228,-73.996209,-0.6668525562043477,0.7350705609676029],[\"0.7k\",\"-51.3%\",740.1868978805395,40.826551,-73.95036,-0.5133743626884877,0.5252654878172596],[\"0.3k\",\"-54.6%\",253.98581560283688,40.820421,-73.936245,-0.546084929184265,0.408375659625154],[\"0.8k\",\"-46.5%\",771.2021822849807,null,null,-0.4653409076094708,1.470979424921377],[\"0.3k\",\"-52.1%\",285.0508038585209,40.830135,-73.938209,-0.5208904999808297,0.2754408514207807],[\"0.2k\",\"-57.8%\",192.32922877511342,40.830518,-73.941514,-0.5775735927169238,0.5023238191263308],[\"0.8k\",\"-58.1%\",835.0410519563823,40.834041,-73.94489,-0.5808560974453761,0.5300492479104746],[\"1.7k\",\"-55.9%\",1685.3775773195875,40.827905,-73.925651,-0.5594410950044888,0.4921010153419543],[\"0.5k\",\"-61.1%\",491.9190231362468,40.833771,-73.91844,-0.6110296500065568,0.14625965505905092],[\"1.7k\",\"-50.2%\",1661.0456885456886,40.840719,-73.939561,-0.5022051525915027,0.330073733246691],[\"0.6k\",\"-51.4%\",644.9140474663245,40.71047,-73.793604,-0.5138773894357318,0.5541465869677531],[\"0.6k\",\"-50.9%\",644.1164736164736,40.840075,-73.917791,-0.5086682010705996,0.27361898579339483],[\"0.4k\",\"-55.6%\",395.1298200514139,40.837288,-73.887734,-0.5561172470314752,0.2950933425619928],[\"0.4k\",\"-53.3%\",376.3607188703466,40.8459,-73.910136,-0.5328704048039197,0.16815529975436627],[\"0.8k\",\"-63.1%\",801.6587556125721,40.847391,-73.939704,-0.6309115232260496,0.39859326096284375],[\"0.4k\",\"-51.0%\",447.6062941554271,40.84848,-73.911794,-0.5103777837738785,0.3190114870696916],[\"0.2k\",\"-66.0%\",161.09348807221147,40.859022,-73.93418,-0.6603650226784052,0.9704220483359438],[\"0.9k\",\"-66.4%\",916.9161831076725,40.723402,-73.989938,-0.6636662149777894,0.6772502991822043],[\"0.4k\",\"-49.6%\",423.31745009658727,40.604556,-73.998168,-0.49562792126895294,0.48781540911322896],[\"0.4k\",\"-39.6%\",369.9987146529563,40.61741,-73.985026,-0.39612721036127985,0.9387000077007348],[\"0.1k\",\"-56.2%\",120.89845758354755,40.744065,-73.949724,-0.5624942294163089,0.32531181634334727],[\"0.9k\",\"-51.9%\",887.5601552393273,40.754203,-73.942836,-0.519316466140197,0.6588575180570384],[\"0.8k\",\"-65.1%\",842.4740218088518,40.744081,-73.995657,-0.6506203443582194,0.818792002071629],[\"1.3k\",\"-67.2%\",1273.4547787042977,40.745906,-73.998041,-0.6724691614032847,0.6922878625171949],[\"1.4k\",\"-66.7%\",1404.3365384615386,40.742878,-73.992821,-0.6671431289140894,0.6527988182465629],[\"1.1k\",\"-72.2%\",1061.3324775353017,40.741303,-73.989344,-0.7218051322011658,0.9267988672664629],[\"0.8k\",\"-52.8%\",752.7630392788152,40.878856,-73.904834,-0.5282702096688389,0.4871850916730105],[\"0.4k\",\"-50.7%\",388.32882011605415,40.893193,-73.857473,-0.5070901424228828,0.27879782288601684],[\"0.3k\",\"-50.3%\",333.855035279025,40.884667,-73.90087,-0.502506450025735,0.46055371283933577],[\"0.4k\",\"-52.4%\",390.787012987013,40.597704,-73.986829,-0.523564925580148,0.6442206990295527],[\"0.3k\",\"-54.1%\",283.85769230769233,40.660397,-73.998091,-0.5406263497631575,0.36495283891252095],[\"1.1k\",\"-65.9%\",1130.9910141206676,40.74307,-73.984264,-0.6590981907489694,0.5883843357449265],[\"0.6k\",\"-72.0%\",600.7734274711169,40.745494,-73.988691,-0.7196512323568488,0.7431772511425132],[\"0.6k\",\"-50.3%\",610.7306701030927,40.810476,-73.926138,-0.5025425804073715,0.5558578638181537],[\"1.5k\",\"-55.9%\",1475.600384862091,40.816109,-73.917757,-0.5589786118394109,0.19819714162768176],[\"0.4k\",\"-61.2%\",359.99102564102566,40.732849,-73.986122,-0.6115786180197958,0.345957592650735],[\"1.5k\",\"-68.3%\",1469.2503209242618,40.746081,-73.982076,-0.682588949604175,0.4638035445535402],[\"0.7k\",\"-59.3%\",697.3348358016742,40.744587,-73.930997,-0.5934368450505492,1.0493880160061115],[\"6.4k\",\"-64.7%\",6441.083974358974,40.749567,-73.98795,-0.6466748305325731,0.7193305554167662],[\"1.3k\",\"-57.7%\",1315.4042829331602,40.755882,-74.00191,-0.5774243766190092,1.0218877140350817],[\"4.6k\",\"-66.1%\",4623.848717948718,40.752287,-73.993391,-0.6613847132584071,0.8824028624867009],[\"0.5k\",\"-56.8%\",468.519305019305,40.756804,-73.929575,-0.5679500429610366,0.5501654977991646],[\"1.2k\",\"-46.4%\",1187.0612903225806,40.655144,-74.003549,-0.46429839455716626,0.5209868651479539],[\"0.3k\",\"-64.6%\",283.59447300771205,40.752039,-73.928781,-0.6462200823114774,0.59341686249283],[\"0.8k\",\"-59.1%\",845.4996792815907,40.670847,-73.988302,-0.5905199310783302,0.5484101968004562],[\"0.7k\",\"-55.4%\",737.012187299551,40.743781,-73.924016,-0.5544396092896127,0.6525725300834357],[\"3.0k\",\"-67.2%\",2996.2352564102566,40.754222,-73.984569,-0.6724595189644251,0.8416728428407014],[\"1.0k\",\"-52.4%\",994.3908857509628,40.743132,-73.918435,-0.523869379475278,0.5037879559985596],[\"0.6k\",\"-59.0%\",578.3759640102828,40.756312,-73.913333,-0.5895094131652301,0.48476978478901156],[\"3.4k\",\"-66.1%\",3374.355128205128,40.758663,-73.981329,-0.6614096188615812,0.864682006123898],[\"1.4k\",\"-65.2%\",1353.7617212588311,40.759901,-73.984139,-0.6521560434017916,1.6656017291693037],[\"1.3k\",\"-72.3%\",1259.7140102827764,40.760167,-73.975224,-0.7228456895139621,1.0302329740234528],[\"1.0k\",\"-62.0%\",991.3114543114543,40.764811,-73.973347,-0.6200339686454017,0.8365478094288026],[\"1.1k\",\"-68.2%\",1107.9923076923078,40.762456,-73.985984,-0.6819773578568267,1.1986105056306093],[\"1.0k\",\"-70.9%\",1024.7998717126363,40.757107,-73.97192,-0.7087184199282548,1.0992138555103144],[\"0.5k\",\"-51.6%\",482.01610824742266,40.744149,-73.912549,-0.5155453130467942,0.5064635062556608],[\"0.7k\",\"-48.5%\",749.597537265068,40.645069,-74.014034,-0.48524952512421826,0.325180309806953],[\"0.2k\",\"-47.8%\",187.4227799227799,40.631435,-73.995476,-0.4779095611306905,0.16545441056143928],[\"0.9k\",\"-61.5%\",898.8845413726748,40.763972,-73.97745,-0.6150475174351464,1.0918739466821514],[\"4.4k\",\"-60.7%\",4394.809248554913,40.768296,-73.981736,-0.6072886829398068,0.905258462857141],[\"1.1k\",\"-34.9%\",1090.3007083065036,40.641362,-74.017881,-0.3485796900993472,0.5584899839989192],[\"1.1k\",\"-55.8%\",1137.4338046272494,40.729846,-73.861604,-0.5578066574007052,0.49071886707206147],[\"1.3k\",\"-64.2%\",1324.0758354755785,40.77344,-73.982209,-0.6415682968417897,1.3923775117767496],[\"0.6k\",\"-57.1%\",635.9275641025641,40.726523,-73.852719,-0.5706216874429458,0.6611419971279646],[\"1.6k\",\"-58.0%\",1604.7410772225828,40.768141,-73.96387,-0.5804233314940126,0.7688746865537648],[\"0.5k\",\"-35.6%\",511.92690815006466,40.746325,-73.896403,-0.35629442738931216,0.7679198406342895],[\"1.0k\",\"-67.3%\",991.3194355355997,40.762862,-73.981637,-0.6729201835358849,1.4328561443719616],[\"0.8k\",\"-59.6%\",787.5731707317074,40.666271,-73.980305,-0.5961395113709177,0.7724271744931761],[\"2.3k\",\"-59.0%\",2329.0449871465294,40.778453,-73.98197,-0.5896224654402957,0.7306382398976574],[\"0.6k\",\"-59.2%\",583.9954896907217,40.775594,-73.97641,-0.5920091094397792,1.0557667907269348],[\"1.9k\",\"-62.1%\",1944.7577120822623,40.768799,-73.958424,-0.6211122869649072,0.40652482891757336],[\"0.3k\",\"-49.6%\",296.8905344494527,40.691324,-73.867139,-0.49634673165951515,0.29477305317268465],[\"1.9k\",\"-56.2%\",1863.3459807073955,40.77362,-73.959874,-0.5616183017815108,0.5438716975121765],[\"0.4k\",\"-56.6%\",404.57894736842104,40.629742,-74.02551,-0.5664628287548326,0.4552054276871589],[\"1.0k\",\"-49.4%\",989.7730769230769,40.635064,-74.011719,-0.49409618411725,0.9644801025977694],[\"0.8k\",\"-71.9%\",774.8705128205128,40.730328,-73.992629,-0.719189473707314,1.031510894875543],[\"0.3k\",\"-52.5%\",339.8034682080925,40.679371,-73.858992,-0.5253309623950189,0.5026230578976245],[\"0.9k\",\"-58.3%\",919.8023180940116,40.781433,-73.972143,-0.5830080385090615,1.4987432573701343],[\"1.5k\",\"-40.8%\",1473.054487179487,40.747659,-73.883697,-0.4080671450194755,0.5949975013617754],[\"0.3k\",\"-50.1%\",303.2447013487476,40.692435,-73.86001,-0.5006236347130447,0.28628277001250546],[\"1.2k\",\"-59.1%\",1218.8891025641026,40.788644,-73.976218,-0.5912559657382528,0.7866192538840062],[\"0.7k\",\"-59.3%\",707.1743589743589,40.785868,-73.968916,-0.5933511352916243,0.817364836031824],[\"1.4k\",\"-66.8%\",1410.612323491656,40.777891,-73.951787,-0.667840261750197,0.5574281479533749],[\"1.0k\",\"-48.4%\",966.469794344473,40.622687,-74.028398,-0.4839606144540236,0.6124475304402694],[\"0.2k\",\"-52.3%\",228.4211204121056,40.679843,-73.85147,-0.5226398288488048,0.3737344724373808],[\"1.3k\",\"-52.7%\",1281.249357326478,40.748408,-73.876613,-0.526583108298044,0.17329905359715836],[\"0.7k\",\"-60.3%\",653.6621794871795,40.791642,-73.964696,-0.6028459660303715,0.5204046576685708],[\"0.4k\",\"-53.1%\",392.77061855670104,40.865462,-73.867352,-0.531402040102202,0.27634445491119153],[\"0.1k\",\"-69.8%\",81.05962410887881,40.672097,-73.835919,-0.6979530153986566,0.5542391041556738],[\"0.1k\",\"-55.7%\",67.02423051735428,40.668234,-73.834058,-0.5573965190786638,0.43171025067879887],[\"0.8k\",\"-68.9%\",842.0548302872063,40.730054,-73.99107,-0.6887209009152068,0.9788371597540351],[\"0.7k\",\"-54.9%\",717.8241401687216,40.770258,-73.917843,-0.5489433334818425,0.8419549029585915],[\"3.1k\",\"-56.6%\",3104.386144964721,40.683666,-73.97881,-0.5656780044561436,0.6929872062721798],[\"0.2k\",\"-56.6%\",240.91677419354838,40.62927,-73.961639,-0.5662996850314845,0.6094402786295563],[\"0.5k\",\"-49.2%\",481.61766602192137,40.617618,-73.959399,-0.49231443299070765,0.49176928620273386],[\"0.2k\",\"-49.6%\",207.64807692307693,40.608944,-73.973022,-0.4964760963229228,0.34328343469528577],[\"0.2k\",\"-50.0%\",152.37483953786906,40.596063,-73.973357,-0.500478428294272,0.3800059143804866],[\"0.6k\",\"-51.9%\",584.8704663212435,40.5993,-73.955929,-0.5192222254961975,0.45417071661913866],[\"0.2k\",\"-48.5%\",229.0525969756739,40.58962,-73.97425,-0.48524642682949903,0.40619474834543534],[\"0.3k\",\"-42.6%\",256.6803594351733,40.588841,-73.983765,-0.42581130399614386,0.8349324164938188],[\"0.7k\",\"-48.6%\",663.3594351732991,40.601875,-73.993728,-0.48561940281637517,0.4842003377640933],[\"0.1k\",\"-40.0%\",119.66950819672131,40.620769,-73.975264,-0.39990634784543155,0.5484205532285578],[\"0.5k\",\"-34.7%\",490.50869285254345,40.611815,-73.981848,-0.3470887246665919,0.6000755014068873],[\"0.6k\",\"-51.6%\",621.7246469833119,40.634967,-74.023377,-0.5155566673855623,0.5436348926031704],[\"0.4k\",\"-56.8%\",423.8908156711625,40.616622,-74.030876,-0.5678885545510128,0.37163279691264695],[\"0.3k\",\"-60.1%\",253.0209287115762,40.878663,-73.838591,-0.6011550081114122,0.3176582508050576],[\"0.1k\",\"-49.3%\",147.79328165374676,40.600066,-73.761353,-0.4925473364574666,0.31743868186598845],[\"0.1k\",\"-48.7%\",82.8221649484536,40.595398,-73.768175,-0.487031734192629,0.27659332392073854],[\"0.1k\",\"-48.0%\",62.93280632411067,40.592943,-73.776013,-0.4800153711488494,0.22231863334600233],[\"0.2k\",\"-53.0%\",180.76010430247717,40.590927,-73.796924,-0.5304524251450935,0.15367138801464764],[\"0.1k\",\"-64.1%\",58.98298429319372,40.588034,-73.813641,-0.6405764198710721,0.1795219091321134],[\"0.0k\",\"-53.0%\",39.03961038961039,40.585307,-73.820558,-0.5299235150610658,0.6164586593186587],[\"1.4k\",\"-65.4%\",1422.2974193548387,40.717304,-73.956872,-0.6537056881404958,0.5642733187369928],[\"0.5k\",\"-53.5%\",544.7326030927835,40.873244,-73.887138,-0.5346040208098617,0.3492504830894161],[\"0.5k\",\"-44.4%\",467.879409878127,40.873412,-73.890064,-0.4442182307897914,0.7174062404799146],[\"0.5k\",\"-65.9%\",498.2773487773488,40.689627,-73.953522,-0.6593311988376458,0.332287806471778],[\"0.2k\",\"-62.2%\",241.04749679075738,40.680829,-73.975098,-0.6222602614560935,0.8633688402907203],[\"0.7k\",\"-63.0%\",683.8813341885824,40.686145,-73.990862,-0.6296891286534336,0.74262612291218],[\"0.3k\",\"-52.8%\",268.37508028259475,40.644031,-73.964492,-0.528028662800682,0.479958799592761],[\"0.8k\",\"-68.2%\",798.6628131021195,40.725915,-73.994659,-0.6818120266909438,0.7289666397642218],[\"2.0k\",\"-64.6%\",2049.1270044900575,40.692404,-73.990151,-0.6461274426473208,0.8122858647785363],[\"0.2k\",\"-68.0%\",204.18018018018017,40.72028,-73.993915,-0.680404319068356,0.5442341472427201],[\"0.9k\",\"-54.7%\",895.8005131494548,40.577621,-73.961376,-0.546829462797927,0.28684437007373376],[\"0.0k\",\"-58.0%\",22.89315960912052,40.608382,-73.815925,-0.5800430910631499,0.4341037823939107],[\"0.4k\",\"-70.9%\",373.4857881136951,40.706476,-74.011056,-0.7087735496692977,0.5951718989041577],[\"0.6k\",\"-54.6%\",626.6126533247257,40.679498,-73.904512,-0.5464587890079573,0.15668821232107177],[\"0.4k\",\"-52.8%\",364.3363577446533,40.706092,-73.950308,-0.5281238527447025,0.258226792960097],[\"0.8k\",\"-55.5%\",786.9358563181527,40.76182,-73.925508,-0.5550753509253508,0.6245207527018579],[\"0.2k\",\"-52.3%\",200.25561978163134,40.848828,-73.868457,-0.5227530942907771,0.3922744186981044],[\"0.5k\",\"-49.7%\",494.93346253229976,40.807566,-73.91924,-0.4965025712857629,0.25531724720324767],[\"1.2k\",\"-63.3%\",1185.7127249357327,40.713065,-74.004131,-0.6327435951276129,1.4129568039502391],[\"0.3k\",\"-51.5%\",312.6255648805681,40.84681,-73.832569,-0.5153034396841639,0.5037374479613324],[\"0.2k\",\"-55.0%\",244.1706221937139,40.871356,-73.867164,-0.5502000837390215,0.23779936283589276],[\"0.8k\",\"-53.5%\",768.6632390745501,40.853453,-73.907684,-0.5351825261789578,0.31021425837250693],[\"0.5k\",\"-45.3%\",454.69576379974325,null,null,-0.45317818337321114,1.9275158959603105],[\"0.3k\",\"-73.2%\",298.81410256410254,40.722854,-74.006277,-0.732039884617812,0.9929614556073387],[\"2.5k\",\"-65.0%\",2475.3634615384617,40.719527,-74.001775,-0.6499329841190082,0.9479940272305825],[\"1.0k\",\"-71.0%\",1005.0051314945478,40.720824,-74.005229,-0.7095465085764663,0.8153093043568671],[\"0.4k\",\"-79.2%\",386.14819587628864,40.646654,-73.90185,-0.792398242902559,-0.2792225344137883],[\"0.7k\",\"-65.8%\",661.1788931788932,40.680303,-73.995048,-0.657674805324318,0.6748687836400977],[\"0.5k\",\"-51.8%\",516.9307248236049,40.834255,-73.851222,-0.5181690227759124,0.35128156928544807],[\"0.5k\",\"-59.6%\",491.76962676962677,40.800603,-73.958161,-0.5957114737371476,0.5944033443565524],[\"0.2k\",\"-67.6%\",239.43436293436292,40.697857,-73.927397,-0.6755225206727298,0.20531255024580486],[\"1.2k\",\"-63.9%\",1215.7143786597267,40.715478,-74.009266,-0.6388308467745321,1.4409875826430807],[\"1.5k\",\"-67.9%\",1514.0303225806451,40.714111,-74.008585,-0.6789175612894361,1.0327979613831513],[\"0.8k\",\"-55.6%\",769.1942122186496,40.713243,-74.003401,-0.5559179287679257,1.2571927640460103],[\"0.2k\",\"-62.2%\",205.17556270096463,40.682893,-73.910456,-0.6221671707370793,0.12756638251730945],[\"0.6k\",\"-62.1%\",623.4522129570238,40.733422,-74.002906,-0.6210299157988686,1.2996218526304415],[\"0.8k\",\"-51.7%\",772.1975625400898,40.650843,-73.949575,-0.5169001160557195,0.37798606124734],[\"1.2k\",\"-55.6%\",1197.8783783783783,40.650527,-73.962982,-0.555653194567401,0.3321214882812489],[\"0.8k\",\"-50.9%\",778.8657675016057,40.644041,-73.979678,-0.509391237843321,0.39176112007239694],[\"0.4k\",\"-63.4%\",365.2665382145151,40.713282,-74.006978,-0.6338056282617164,1.1390564248086394],[\"0.3k\",\"-71.6%\",263.9869375907112,40.697466,-73.993086,-0.7158473177672499,0.5462821758699419],[\"0.3k\",\"-61.6%\",345.9645846748229,40.688873,-73.96007,-0.6161087803510703,0.49415972028225785],[\"0.2k\",\"-58.8%\",201.27860374919197,40.679947,-73.884639,-0.5876871039397276,0.11867719011301592],[\"0.3k\",\"-63.0%\",316.4106683804627,40.688089,-73.966839,-0.6301456088861696,0.6829607750207769],[\"1.0k\",\"-71.4%\",998.6473988439307,40.710668,-74.011029,-0.7142686326776353,1.238607160288001],[\"1.0k\",\"-65.9%\",973.2288461538461,40.747846,-73.946,-0.6592738225520335,0.7953383407353172],[\"0.4k\",\"-45.2%\",412.3198458574181,40.747023,-73.945264,-0.4518561317777584,0.8253630214301353],[\"1.9k\",\"-54.2%\",1941.0419084461637,40.668897,-73.932942,-0.5416099989083341,0.2552815808356488],[\"0.1k\",\"-50.7%\",120.76599870717517,40.689941,-73.87255,-0.5065785777757235,0.24513396100409057],[\"0.6k\",\"-64.6%\",552.8550352790251,40.703811,-73.918425,-0.6462975897569812,0.09208355939334756],[\"1.7k\",\"-61.1%\",1695.8735558408216,40.718315,-73.987437,-0.6113485702315098,0.5690641838650303],[\"0.3k\",\"-47.1%\",345.56201550387595,40.636119,-73.978172,-0.4713870012906197,0.38829764713252635],[\"0.6k\",\"-44.9%\",603.942084942085,40.860531,-73.925536,-0.4489614991588742,0.41873525183553717],[\"0.5k\",\"-59.4%\",461.58500323206204,40.865491,-73.927271,-0.5935038077795074,0.4196789283861704],[\"0.1k\",\"-33.2%\",121.6021850899743,40.808719,-73.907657,-0.33214095551880607,0.6334825308034795],[\"0.4k\",\"-48.2%\",415.8866930171278,40.812118,-73.904098,-0.4817816336420082,0.2909963247917082],[\"0.2k\",\"-57.9%\",238.6304207119741,40.650573,-73.899485,-0.5790339269640213,0.11893786558928632],[\"0.3k\",\"-54.3%\",324.35870967741937,40.8883,-73.830834,-0.5434146523775709,0.24352836365488972],[\"0.3k\",\"-58.1%\",277.9311454311454,40.671987,-73.964375,-0.5811922198301236,1.0632600564634638],[\"0.6k\",\"-47.1%\",557.9954007884363,40.828584,-73.879159,-0.47072344335888605,0.2922926157849346],[\"0.8k\",\"-55.0%\",771.5822622107969,40.675377,-73.872106,-0.5503559609824976,0.20492411568475521],[\"0.4k\",\"-49.9%\",367.3400129282482,40.603995,-73.755405,-0.49937631081709166,0.15563402585431518],[\"1.5k\",\"-50.6%\",1491.6172125883108,40.632836,-73.947642,-0.5061983908796767,0.5077987266975974],[\"0.2k\",\"-40.7%\",242.98330122029543,40.700377,-73.950234,-0.4072306698715553,0.2651317549491705],[\"0.6k\",\"-59.5%\",579.9833012202954,40.70026,-73.941126,-0.5945243743958368,0.10501613348468797],[\"4.8k\",\"-49.2%\",4763.512605042017,40.7596,-73.83003,-0.49217684567714215,0.6680922625819743],[\"0.8k\",\"-48.7%\",832.8662379421222,40.862803,-73.901034,-0.48739430607433076,0.30758904104218354],[\"0.3k\",\"-52.1%\",336.19228295819937,40.704423,-73.903077,-0.5209999514424799,0.3333453508562896],[\"2.0k\",\"-54.6%\",1999.93481095176,40.721691,-73.844521,-0.5457449133891019,0.6418460766939436],[\"0.4k\",\"-42.7%\",378.8859764089122,40.640914,-73.994304,-0.427339811832942,0.37445231246973276],[\"0.4k\",\"-57.2%\",415.74839537869065,40.650782,-73.975776,-0.5716036064148056,0.9977300484832037],[\"0.3k\",\"-66.5%\",347.45238095238096,40.68138,-73.956848,-0.6646543894334472,0.2677566212656459],[\"0.9k\",\"-60.1%\",856.300641025641,40.670682,-73.958131,-0.6006901819286897,0.7542305217402723],[\"0.3k\",\"-61.5%\",339.6542655548428,40.719318,-74.006886,-0.6149122873309774,1.4855665733109173],[\"0.4k\",\"-49.8%\",367.3290405666452,40.829993,-73.891865,-0.49808666887425457,0.43630963764554176],[\"0.5k\",\"-53.7%\",455.54563106796115,40.706186,-73.895877,-0.5368970747159763,0.27672123450571084],[\"4.8k\",\"-68.5%\",4786.575641025641,40.710197,-74.007691,-0.6849964577005307,0.8323574087570642],[\"0.4k\",\"-50.5%\",441.10932475884243,40.687119,-73.975375,-0.5054015808135554,0.7596259981674665],[\"0.4k\",\"-63.7%\",429.97814910025704,40.68963,-73.92227,-0.6373336570542503,0.20663668529021262],[\"0.5k\",\"-65.5%\",525.1980707395498,40.714565,-73.944053,-0.655030713418188,0.42220546568751227],[\"0.5k\",\"-60.9%\",474.2806221646144,40.675235,-73.971046,-0.6088003941316718,0.8691384036410583],[\"1.3k\",\"-52.3%\",1259.2855305466237,40.737015,-73.877223,-0.5228107911203348,0.5316675723636062],[\"7.4k\",\"-66.5%\",7411.435256410256,40.751776,-73.976848,-0.6645130643298689,1.167587682411174],[\"1.8k\",\"-48.7%\",1798.3807989690722,40.718267,-73.993753,-0.4874770299728375,1.042863579144245],[\"0.5k\",\"-53.6%\",491.9505141388175,40.711926,-73.94067,-0.5363362384635779,0.479991531556361],[\"0.4k\",\"-54.9%\",435.2530585962653,40.677044,-73.86505,-0.5486703062803558,0.2759693480615102],[\"0.6k\",\"-60.9%\",642.2521452145214,40.731352,-73.954449,-0.6086389006271704,0.2999850152101715],[\"0.5k\",\"-54.5%\",532.2753815527539,40.87785,-73.866256,-0.5449739701586673,0.31805387999633594],[\"0.4k\",\"-42.8%\",411.503259452412,40.869526,-73.846384,-0.42769198274583864,0.6991146379480653],[\"0.4k\",\"-65.8%\",368.7294344473008,40.68637,-73.916559,-0.6580576546360027,0.16623895182476423],[\"0.5k\",\"-58.6%\",505.1606683804627,40.695602,-73.904084,-0.5864024773800813,0.2497801861251614],[\"0.1k\",\"-77.6%\",121.55295646523717,40.70687,-73.953431,-0.7764045431107205,-0.2848151943260919],[\"0.7k\",\"-52.3%\",658.5967948717948,40.699337,-73.990531,-0.5227778915778214,1.8114604331249202],[\"0.7k\",\"-71.6%\",723.566388710712,40.728251,-74.005367,-0.7159864555699291,0.8528299454847115],[\"0.5k\",\"-33.8%\",476.40576923076924,40.660476,-73.830301,-0.3381449961551879,1.9083690751987978],[\"0.5k\",\"-59.0%\",507.29358974358973,40.690545,-73.985065,-0.5899183064648968,0.6360824720954801],[\"0.7k\",\"-61.6%\",725.1251612903226,40.688484,-73.985001,-0.6164776519037549,0.4615761267753873],[\"0.5k\",\"-61.0%\",451.7201540436457,40.742216,-73.948916,-0.6101868180946144,0.6465307565894509],[\"0.7k\",\"-58.9%\",667.0115979381443,40.820948,-73.890549,-0.5887552532981055,0.09692387644174727],[\"0.3k\",\"-49.8%\",262.5834945196647,40.822181,-73.896736,-0.4975045738296292,0.3532142473120876],[\"0.6k\",\"-60.5%\",646.5057989690722,40.868072,-73.919899,-0.6054355319556501,0.35269741273641375],[\"0.4k\",\"-51.5%\",414.2245161290323,40.81649,-73.907807,-0.5153032402098405,0.42658136807273617],[\"4.5k\",\"-47.9%\",4498.184615384615,40.746644,-73.891338,-0.47926652276685067,0.5660458084499238],[\"3.7k\",\"-50.5%\",3707.7910256410255,40.702147,-73.801109,-0.5050295129824497,0.8592312681972556],[\"1.7k\",\"-51.2%\",1720.62671009772,40.712646,-73.783817,-0.5116386118546704,0.47122878428709414],[\"0.4k\",\"-48.8%\",387.2800256904303,40.702566,-73.816859,-0.48825146836426225,0.04445145964370445],[\"2.2k\",\"-64.7%\",2218.2068079640335,40.692338,-73.987342,-0.6468146518445113,0.7956093424596993],[\"0.5k\",\"-61.7%\",453.7236503856041,40.706607,-73.922913,-0.6168760653300887,0.37818986999456805],[\"2.2k\",\"-37.1%\",2193.9235709698137,40.749145,-73.869527,-0.3705725532123423,0.46746459099274773],[\"0.2k\",\"-46.3%\",200.11696658097685,40.663515,-73.902447,-0.4632915176211272,0.3987529984637084],[\"1.9k\",\"-54.6%\",1911.5561978163134,40.714441,-73.831008,-0.5459425587310118,0.530425263105933],[\"1.6k\",\"-51.1%\",1600.9273778920308,40.60867,-73.957734,-0.5107372775742811,0.48295630277986357],[\"0.3k\",\"-52.9%\",290.24415584415584,40.603217,-73.972361,-0.5289433869003398,0.3216190356831057],[\"0.5k\",\"-34.8%\",477.55920205920205,40.603923,-73.980353,-0.3478769692662511,0.6854291549382796],[\"0.5k\",\"-60.6%\",518.625641025641,40.866978,-73.893509,-0.6058420313653552,0.11588842717782644],[\"0.3k\",\"-57.1%\",335.53846153846155,40.669399,-73.942161,-0.5706114269231399,0.38017045282716877],[\"0.4k\",\"-63.5%\",402.4540750323415,40.679921,-73.940858,-0.6351931514879969,0.5145796851668876],[\"0.3k\",\"-61.6%\",286.34188582424633,40.698664,-73.919711,-0.6164871954821186,0.21585420510921516],[\"0.3k\",\"-64.4%\",330.54621309370987,40.693342,-73.928814,-0.6437607780539814,0.27663934881977315],[\"0.3k\",\"-64.5%\",255.27488760436736,40.686113,-73.973946,-0.6452995195058753,0.5342369788922943],[\"2.0k\",\"-69.4%\",2036.6602564102564,40.757552,-73.969055,-0.69394583012036,0.7997640110641764],[\"1.3k\",\"-60.1%\",1281.708115183246,40.764629,-73.966113,-0.6011495413403455,0.5812569769389928],[\"0.2k\",\"-51.0%\",234.70447180816592,40.664038,-73.900571,-0.5101123454348011,0.18755677104340673],[\"0.3k\",\"-41.2%\",310.1606683804627,40.816104,-73.896435,-0.41185422821389306,0.6759855788255764],[\"0.3k\",\"-63.0%\",322.28374836173003,40.703869,-73.947408,-0.6297752335498304,0.20151127962826343],[\"0.2k\",\"-73.9%\",227.0939548434086,40.714063,-73.950275,-0.738693511566735,0.29370830269746606],[\"0.4k\",\"-49.8%\",425.70546163849156,40.874561,-73.909831,-0.49802612462583506,0.4275173148149112],[\"0.7k\",\"-68.7%\",737.4594594594595,40.708359,-73.957757,-0.6865044226399508,0.18594085540275218],[\"0.5k\",\"-62.6%\",544.1176848874599,40.712792,-73.951418,-0.6255973090162085,0.4448465584376453],[\"0.4k\",\"-53.0%\",394.8325791855204,40.754622,-73.845625,-0.5297666260605793,1.7890226445630177],[\"0.3k\",\"-43.3%\",281.92866407263296,40.711396,-73.889601,-0.4326167381311047,0.5142223545950348],[\"0.2k\",\"-52.3%\",166.43224149004496,40.843863,-73.836322,-0.5226426793819123,0.572569058669611],[\"0.4k\",\"-62.4%\",402.2745349583066,40.707739,-73.93985,-0.6235343316424609,0.3197593598440578],[\"0.4k\",\"-65.6%\",390.2427372498386,40.706152,-73.933147,-0.6562777189294229,0.2891277080414809],[\"0.2k\",\"-54.5%\",190.343481138319,40.854364,-73.860495,-0.5449558411449886,0.4425030034337598],[\"0.5k\",\"-48.9%\",537.091961414791,40.829521,-73.874516,-0.4891218789818709,0.3093236384680935],[\"0.7k\",\"-49.1%\",682.3674388674389,40.87975,-73.884655,-0.49126800782567914,0.29246200250761456],[\"0.4k\",\"-48.5%\",423.71147540983605,40.844434,-73.914685,-0.48548662476648297,0.22630408261140156],[\"0.4k\",\"-60.9%\",381.75064267352184,40.694568,-73.949046,-0.6093484938071003,0.28624725130845796],[\"1.4k\",\"-53.3%\",1448.976236351959,40.69943,-73.912385,-0.5333647361523596,0.3336785677971914],[\"0.6k\",\"-65.5%\",557.0865384615385,40.724635,-73.951277,-0.6545488653865787,0.3611262558696866],[\"0.3k\",\"-53.8%\",342.3382731958763,40.595246,-73.955161,-0.5378805402284411,0.47043360573209814],[\"0.3k\",\"-49.7%\",283.0581395348837,40.898379,-73.854376,-0.49724331742701255,0.39723338432817457],[\"0.6k\",\"-61.9%\",642.1788461538462,40.688246,-73.980492,-0.6189392508609974,0.49095551236810686],[\"0.5k\",\"-51.5%\",458.06410256410254,40.666235,-73.884079,-0.514677685766428,0.22662216715088124],[\"0.3k\",\"-54.2%\",320.85456885456887,40.658733,-73.899232,-0.54239525274507,0.1703605453084529],[\"0.5k\",\"-41.0%\",465.5621794871795,40.624842,-73.996353,-0.4103821460499505,0.5485100526129103],[\"0.7k\",\"-61.2%\",679.3374114616871,40.635082,-73.962793,-0.6120653201728063,0.22299043159623477],[\"0.5k\",\"-52.5%\",529.2044871794872,40.752885,-73.906006,-0.5250007070684864,0.3949108650549753],[\"0.2k\",\"-57.9%\",220.24399740428294,40.68141,-73.880039,-0.5792716550359216,0.16343157236164596],[\"0.6k\",\"-54.7%\",644.1587403598971,40.874811,-73.878855,-0.5466416166476109,0.19893492128355184],[\"0.3k\",\"-60.3%\",278.94254357650095,40.669847,-73.950466,-0.6029582498597457,0.48318735416185343],[\"1.1k\",\"-61.3%\",1107.3033052495139,40.680438,-73.950426,-0.6133527365186566,0.4436229099021731],[\"0.3k\",\"-50.5%\",269.74420103092785,40.576312,-73.968501,-0.5054190407941306,0.38715471121686673],[\"0.6k\",\"-50.5%\",625.7631408176509,40.685951,-73.825798,-0.504614202824696,0.29146555862216506],[\"4.9k\",\"-51.5%\",4911.300833867864,null,null,-0.5146989558322193,1.4551460103337321],[\"0.1k\",\"-56.6%\",120.54586273252085,40.674772,-73.957624,-0.5661694428953981,0.5211635211377108],[\"0.2k\",\"-69.0%\",162.81459948320415,40.713051,-74.008811,-0.6899955791924997,0.8896802242959485],[\"1.2k\",\"-51.9%\",1190.953307392996,40.833226,-73.860816,-0.5189754660872814,0.35887875861415464],[\"0.4k\",\"-58.3%\",426.1192778852353,40.655292,-73.961495,-0.5833814876653783,0.2653025443970427],[\"0.6k\",\"-46.6%\",592.6525369299936,40.707564,-73.803326,-0.46555726930501706,0.23348039001567633],[\"0.5k\",\"-56.1%\",525.8917525773196,40.852462,-73.828121,-0.5612137081794242,0.30425430113775787],[\"0.6k\",\"-56.2%\",614.2801282051282,40.857192,-73.867615,-0.5623108786375817,0.2434707169740753],[\"0.2k\",\"-55.1%\",240.72884615384615,40.858985,-73.855359,-0.5508564869476371,0.45248292986654914],[\"0.4k\",\"-51.1%\",368.6514469453376,40.664635,-73.894895,-0.5110582454716099,0.30750841042248367],[\"0.3k\",\"-53.7%\",276.33269107257547,40.667883,-73.950683,-0.536685278718191,0.6759062493627261],[\"0.6k\",\"-70.0%\",631.7969151670951,40.724329,-73.997702,-0.7000442026415681,1.0924249695060064],[\"0.6k\",\"-52.0%\",552.0636655948553,40.819585,-73.90177,-0.5200309990773635,0.36747404293100194],[\"0.4k\",\"-58.2%\",408.1834862385321,40.665414,-73.992872,-0.5823990110764331,0.6425809966283964],[\"0.6k\",\"-59.8%\",572.0455128205128,40.661614,-73.962246,-0.598309158714325,0.5006233469805259],[\"0.9k\",\"-63.4%\",871.9540155440415,40.748973,-73.937243,-0.6339808839221457,0.9097824287840199],[\"1.0k\",\"-60.1%\",962.006435006435,40.750582,-73.940202,-0.6007984116306389,0.6576259968366218],[\"0.5k\",\"-7.0%\",493.8749198203977,null,null,-0.07020238603474949,1.613254763354277],[\"0.4k\",\"-9.2%\",449.82476943346506,null,null,-0.09158097106104623,1.4391075838600096],[\"0.4k\",\"-60.6%\",376.31650485436893,40.678822,-73.920786,-0.6060812960101568,0.23387143478861394],[\"0.3k\",\"-72.6%\",312.0602950609365,40.70722,-74.013342,-0.7260583756437374,0.7507125172731459],[\"0.4k\",\"-52.4%\",383.5847240051348,40.662549,-73.908946,-0.5235086202368073,0.24298458497591002],[\"0.4k\",\"-59.1%\",385.2586649550706,40.67834,-73.911946,-0.5906117730738737,0.2994824101609921],[\"0.6k\",\"-50.7%\",618.1073738680466,40.680429,-73.843853,-0.5066771182789254,0.36135842906104254],[\"0.1k\",\"-46.4%\",63.58070739549839,40.580903,-73.835592,-0.4644778667384607,0.2995780590717301],[\"0.6k\",\"-49.4%\",625.4272844272845,40.759145,-73.95326,-0.4941350737321194,0.9618036400972689],[\"0.4k\",\"-51.7%\",425.17019910083496,40.661453,-73.916327,-0.5174036193906189,0.2226158336546442],[\"0.2k\",\"-61.9%\",201.83868894601542,40.702762,-73.90774,-0.619123977343929,0.13674253654801816],[\"1.0k\",\"-55.3%\",1031.0352564102564,40.586896,-73.954155,-0.5525816825528009,0.40874263622652474],[\"0.2k\",\"-54.7%\",240.00708762886597,40.67413,-73.88075,-0.5467326652748266,0.29670167875005915],[\"0.6k\",\"-48.1%\",623.952994204765,40.824073,-73.893064,-0.48050570493709177,0.2530725027284719],[\"0.3k\",\"-58.3%\",314.7144694533762,40.67358,-73.995959,-0.5833635287772437,0.3102745686019892],[\"1.0k\",\"-62.4%\",1006.2551546391752,40.702068,-74.013664,-0.6243984029697234,1.2542223522080684],[\"0.6k\",\"-66.1%\",603.6844155844155,40.722301,-73.997141,-0.6605803558320407,1.1104619765236494],[\"0.7k\",\"-69.6%\",700.9668831168831,40.726227,-74.003739,-0.6959585495762894,0.871495457919415],[\"0.3k\",\"-48.9%\",344.8078658929723,40.831509,-73.867618,-0.4894603085918313,0.35708565389855496],[\"0.9k\",\"-61.8%\",914.401028277635,40.756879,-73.92074,-0.6181921358023705,0.433850328787857],[\"0.4k\",\"-53.9%\",420.5192554557124,40.662742,-73.95085,-0.5393951019632512,0.45418701414645657],[\"2.0k\",\"-49.7%\",2007.6079948420374,40.700486,-73.807969,-0.49710011484428285,0.7673155494911974],[\"0.4k\",\"-50.9%\",355.870822622108,40.70546,-73.810708,-0.5090698146141222,0.1553886326454048],[\"0.2k\",\"-60.1%\",229.25241468126208,40.669367,-73.901975,-0.6006461080816979,0.09007116411122484],[\"0.5k\",\"-51.7%\",545.9631306597671,40.664717,-73.92261,-0.5169596549319071,0.2785032493303772],[\"0.9k\",\"-46.4%\",939.7329910141207,null,null,-0.4638028311433826,1.5731106309317862],[\"1.7k\",\"-55.5%\",1686.8222079589216,null,null,-0.554960632497036,1.2796059781433025],[\"0.7k\",\"-51.0%\",725.3183568677792,null,null,-0.5095549582895236,1.8590474952338178],[\"10.8k\",\"-64.2%\",10781.609615384616,40.75529,-73.987495,-0.6419946769847105,0.9406968217768488],[\"0.6k\",\"-60.3%\",643.0721649484536,40.85041,-73.905227,-0.6031081773048692,0.10774538605973438],[\"0.5k\",\"-62.8%\",452.48582474226805,40.677316,-73.98311,-0.627675929909306,0.6352631644122075],[\"1.0k\",\"-63.5%\",974.4787917737789,40.679364,-73.930729,-0.6347088395393357,0.25919333722360727],[\"0.6k\",\"-49.1%\",628.6529826812059,40.889248,-73.898583,-0.49090460314062323,0.49362128082355516],[\"0.2k\",\"-53.7%\",219.51519069166127,40.665449,-73.889395,-0.5371926309421102,0.24161723187120687],[\"0.2k\",\"-55.1%\",220.64327485380116,40.67271,-73.890358,-0.5514191862966746,0.21213157793821447],[\"0.2k\",\"-50.1%\",217.8295380611581,40.678024,-73.891688,-0.5010967395839543,0.21949384734865518],[\"0.9k\",\"-63.4%\",915.9528118939884,40.742626,-73.953581,-0.6338435823670326,0.5295118941867196],[\"2.1k\",\"-68.6%\",2128.2010276172127,40.732338,-74.000495,-0.6861264931108733,0.7817381093451792],[\"0.2k\",\"-50.1%\",207.2974358974359,40.576127,-73.975939,-0.5012459251447343,0.6042225782928121],[\"0.8k\",\"-64.6%\",812.5497752087348,40.711835,-74.012188,-0.645912319525948,1.9334062758061825],[\"0.4k\",\"-49.1%\",399.76908150064685,40.903125,-73.85062,-0.49136095624898835,0.19149445612821925],[\"1.0k\",\"-74.8%\",1022.9724005134789,40.706821,-74.0091,-0.7477373263660938,0.8578229381464328],[\"0.9k\",\"-72.9%\",869.8684381075826,40.707557,-74.011862,-0.728577321507826,0.7807021937351337],[\"0.5k\",\"-58.0%\",476.1398195876289,40.840295,-73.880049,-0.579880453824284,0.26839420393338864],[\"0.5k\",\"-53.5%\",472.2257234726688,40.839892,-73.842952,-0.5347808223896156,0.3387498746593012],[\"1.0k\",\"-67.6%\",983.3175112251444,40.703087,-74.012994,-0.6761262086500821,0.9099884614359588],[\"0.2k\",\"-48.4%\",163.37483870967742,40.826525,-73.886283,-0.48400096582794716,0.2836582669547214],[\"0.3k\",\"-58.5%\",298.91682785299804,40.688764,-73.904046,-0.5849379146788961,0.29322070016700663],[\"0.6k\",\"-45.0%\",595.337224383917,40.656652,-73.9502,-0.4502285269293914,0.47120185957599703],[\"0.4k\",\"-51.6%\",368.5829048843188,40.693879,-73.851576,-0.5155985389958997,0.3017985770426035],[\"1.5k\",\"-54.9%\",1481.5221579961465,40.733106,-73.869229,-0.5489696282456116,0.43130854074641056],[\"0.5k\",\"-51.1%\",548.0975609756098,40.886037,-73.878751,-0.5108975948954784,0.34488682201431686],[\"1.4k\",\"-45.6%\",1375.9819004524886,40.74563,-73.902984,-0.45600284592083407,0.6281152294036974],[\"1.0k\",\"-67.3%\",1013.9442644199611,40.712582,-74.009781,-0.6727342616876314,1.3756032162814607],[\"0.7k\",\"-59.0%\",690.2345758354755,40.701397,-73.986751,-0.5900607382638454,0.8578477925478996],[\"0.2k\",\"-53.4%\",207.1875,40.836488,-73.847036,-0.5337716781778423,0.45047717893564565],[\"0.1k\",\"-46.0%\",135.82978723404256,40.681711,-73.837683,-0.46014969113154935,0.4356166076063084],[\"1.1k\",\"-40.3%\",1117.7248711340205,40.75173,-73.855334,-0.40278988037828856,0.37758340518576516],[\"0.3k\",\"-44.4%\",306.3354838709677,40.813224,-73.929849,-0.4439571736599556,0.8007715621124274],[\"2.4k\",\"-64.4%\",2432.328626444159,40.740893,-74.00169,-0.6439002835260039,1.1723067172085653],[\"5.3k\",\"-66.2%\",5329.931920359666,40.735736,-73.990568,-0.661502003416458,0.6449312963606659],[\"1.6k\",\"-58.3%\",1581.2730769230768,40.824783,-73.944216,-0.5830466504135261,0.4765355925629302],[\"0.9k\",\"-59.5%\",862.8332264271969,40.818375,-73.927351,-0.5950021748586048,0.23957153612445503],[\"0.4k\",\"-62.4%\",391.3015463917526,40.660365,-73.979493,-0.624092409866439,0.798353023028475],[\"0.3k\",\"-57.7%\",298.93560849967804,40.836013,-73.939892,-0.5772553495147199,0.39375381649210794],[\"0.8k\",\"-44.9%\",773.897880539499,40.835537,-73.9214,-0.4485979679082265,0.3434346292413968],[\"0.5k\",\"-55.6%\",497.3594351732991,40.839306,-73.9134,-0.5564931435287608,0.26152023253733003],[\"0.5k\",\"-49.3%\",524.8838709677419,40.607954,-74.001736,-0.49319039282838906,0.5321913988177369],[\"0.3k\",\"-49.7%\",306.88046272493574,40.629755,-73.976971,-0.4965574535058961,0.3140702944038696],[\"0.4k\",\"-32.4%\",364.0282413350449,40.620671,-73.990414,-0.3239716956743568,0.5811467517461284],[\"0.5k\",\"-68.1%\",455.910783055199,40.74104,-73.997871,-0.6813631113533417,1.0625728428783376],[\"0.8k\",\"-59.0%\",769.6395873629916,40.849505,-73.933596,-0.5903082144965086,0.03195282688850676],[\"0.2k\",\"-57.3%\",218.5784635587656,40.856093,-73.900741,-0.5733256668635561,0.2635208208744102],[\"0.5k\",\"-48.0%\",491.8752411575563,40.858407,-73.903879,-0.48037192675511253,0.26264960333137166],[\"0.6k\",\"-50.2%\",617.4178433889603,40.855225,-73.929412,-0.5018833450343902,2.2008223902903494],[\"0.6k\",\"-43.5%\",563.5598430346632,40.864621,-73.918822,-0.4349036644094578,0.48659317863305374],[\"0.2k\",\"-55.9%\",236.69408740359899,40.883895,-73.862633,-0.5586780087929839,0.29248100608374217],[\"0.2k\",\"-53.7%\",219.42764857881136,40.888022,-73.860341,-0.5374385780336377,0.28554375626368866],[\"1.6k\",\"-66.9%\",1561.5080282594733,40.739864,-73.986599,-0.6693082339100883,1.0059288134748492],[\"0.8k\",\"-66.3%\",830.5522771007056,40.747215,-73.993365,-0.6631016074466236,1.1154245134593137],[\"0.9k\",\"-67.0%\",879.0650195058518,40.766779,-73.921479,-0.6698120994689993,0.40305713928882136],[\"4.5k\",\"-66.1%\",4520.34894162925,40.750373,-73.991057,-0.6607217825167191,0.9110055768431571],[\"0.2k\",\"-52.2%\",220.48422408242112,40.752882,-73.932755,-0.5215164625686618,0.6655698692765568],[\"0.6k\",\"-51.4%\",622.497432605905,40.648939,-74.010006,-0.5142771860008204,0.4373120163566877],[\"1.5k\",\"-65.9%\",1481.6435452793835,40.761728,-73.983849,-0.6585244705999526,1.8603157244775743],[\"0.3k\",\"-40.1%\",323.25472312703585,40.63626,-73.994791,-0.40090284201807525,0.3327313695574947],[\"1.9k\",\"-65.4%\",1879.914688903143,40.764664,-73.980658,-0.6543111630604224,0.9237273005341669],[\"3.3k\",\"-61.8%\",3323.8435897435897,40.762526,-73.967967,-0.6179463750145447,0.562006920769629],[\"0.3k\",\"-53.2%\",275.63987138263667,40.749669,-73.898453,-0.5321482953025995,0.5023453464012648],[\"0.6k\",\"-66.5%\",561.7140102827764,40.67705,-73.972367,-0.6653820017110854,0.7498526676790493],[\"0.4k\",\"-53.3%\",429.6634366925065,40.619589,-73.998864,-0.5325240520650054,0.4886886199750151],[\"1.0k\",\"-58.7%\",1009.5,40.783934,-73.979917,-0.5869836539360653,0.8936444618291315],[\"0.6k\",\"-46.9%\",550.7792792792793,40.613501,-74.00061,-0.4685359163600924,0.7070892257156822],[\"2.9k\",\"-55.9%\",2898.1063144329896,40.779492,-73.955589,-0.5593391371950281,0.658009097908522],[\"0.2k\",\"-35.3%\",242.71279373368145,40.592721,-73.97823,-0.3530331748351335,0.6605476637322674],[\"0.5k\",\"-44.9%\",494.20605280103024,40.646292,-73.994324,-0.448921207282419,0.51260341075026],[\"2.4k\",\"-59.6%\",2365.3785347043704,40.793919,-73.972323,-0.5956982238759121,0.6365101050145021],[\"1.3k\",\"-55.7%\",1268.9325551232166,40.785672,-73.95107,-0.5566016175318325,0.4663823588177254],[\"1.2k\",\"-62.5%\",1217.3412596401029,40.784318,-73.947152,-0.6248881368841455,0.4612611229055301],[\"0.5k\",\"-41.1%\",477.53016688061615,null,null,-0.41125850267464836,2.307230520731643],[\"0.2k\",\"-50.4%\",177.3833762886598,40.676992,-73.898654,-0.5038351629967524,0.14890698447088302],[\"0.1k\",\"-47.5%\",145.12048969072166,40.675345,-73.903097,-0.47534679916986455,0.2989564777630831],[\"0.1k\",\"-49.5%\",111.490990990991,40.625322,-73.976127,-0.4948479812104456,0.39573008724558933],[\"0.5k\",\"-52.2%\",463.4090032154341,40.625039,-73.960803,-0.5217108210364796,0.39005526536641133],[\"0.2k\",\"-49.8%\",247.22478576137112,40.61514,-73.974197,-0.49751778573534045,0.37143666582240087],[\"0.3k\",\"-35.2%\",346.65960179833013,40.597473,-73.979137,-0.3517897953206228,0.682661462538696],[\"0.0k\",\"-52.6%\",20.75644329896907,40.583209,-73.827559,-0.5260392349543055,0.4566587179495589],[\"0.2k\",\"-51.1%\",165.24564926372156,40.592374,-73.788522,-0.5113813167120135,0.22259775274168514],[\"0.4k\",\"-49.4%\",363.4140373470702,40.645098,-73.948959,-0.49382066143233183,0.44595061987758733],[\"1.7k\",\"-64.7%\",1731.4833333333333,40.704817,-74.014065,-0.6473944196609331,1.08291473888678],[\"0.4k\",\"-51.1%\",407.0650773195876,40.709179,-73.820574,-0.5110066536995044,0.6489486652119894],[\"1.2k\",\"-67.6%\",1168.7608974358975,40.725297,-73.996204,-0.6758880658504016,0.7662510615678628],[\"0.2k\",\"-48.8%\",171.01479099678457,40.682829,-73.905249,-0.4880032209314792,0.41113434616667877],[\"0.8k\",\"-58.6%\",799.5781350482315,40.803967,-73.966847,-0.5857432198342278,0.7733936186903625],[\"0.5k\",\"-62.6%\",521.7115384615385,40.799075,-73.951822,-0.626368688099753,0.4335262338770203],[\"0.4k\",\"-66.4%\",393.92609254498717,40.683263,-73.965838,-0.6635360515123696,0.8337227178789255],[\"1.2k\",\"-45.7%\",1200.0712909441233,40.577422,-73.981233,-0.45693999354880244,0.43969941010041236],[\"0.3k\",\"-55.9%\",328.0831168831169,40.683194,-73.873785,-0.5585172200586542,0.13075463581219426],[\"0.3k\",\"-56.4%\",250.93508997429305,40.805368,-73.914042,-0.5644362589050513,0.17740227364217143],[\"1.2k\",\"-64.7%\",1240.8976833976833,40.690635,-73.981824,-0.6472624112784382,0.6538842401731855],[\"0.6k\",\"-47.3%\",632.8466966003849,40.841894,-73.873488,-0.4728444536220455,0.3550909803779183],[\"1.0k\",\"-58.2%\",962.4881334188583,40.713715,-73.990173,-0.5818063139365105,0.6615324860368403],[\"0.8k\",\"-50.5%\",819.7054263565891,40.742454,-73.882017,-0.5052670565215374,0.49394023106560714],[\"0.8k\",\"-57.9%\",810.2841565105837,40.861296,-73.897749,-0.5788944889341231,0.20723654031407213],[\"0.6k\",\"-21.2%\",570.4916666666667,40.631386,-74.005351,-0.2120864355592037,0.8964567811994022],[\"0.3k\",\"-58.6%\",258.8678272082527,40.82388,-73.93647,-0.5863074820975147,0.37144439670257245],[\"0.2k\",\"-65.5%\",229.3361236316806,40.69218,-73.985942,-0.6549208366597705,0.9675375267134616],[\"0.7k\",\"-49.5%\",737.8823151125401,40.86776,-73.897174,-0.4951225340781049,0.3760364338426798],[\"0.2k\",\"-52.9%\",217.0464516129032,40.674542,-73.896548,-0.5288777333012389,0.3894802010617935],[\"0.7k\",\"-66.5%\",664.6714565643371,40.697207,-73.935657,-0.6645581576174351,0.20326545516067474],[\"0.1k\",\"-42.5%\",140.22243713733076,40.581011,-73.974574,-0.4249441702429535,0.6504639301450614],[\"0.6k\",\"-50.5%\",596.4541372674792,40.639967,-73.948411,-0.5045150977200871,0.3889513948887775],[\"0.5k\",\"-68.1%\",456.2974358974359,40.707513,-74.013783,-0.6814551675357541,1.4678957859962676],[\"0.2k\",\"-49.0%\",199.61760925449872,40.700492,-73.828294,-0.48970077127899814,0.4520658686053598],[\"0.6k\",\"-64.6%\",615.5106109324759,40.851695,-73.937969,-0.6464867854125889,0.36667709883177],[\"0.2k\",\"-42.2%\",171.59218241042345,40.869444,-73.915279,-0.42182258114361626,0.9906624141937612],[\"0.2k\",\"-61.0%\",209.06237942122186,40.718331,-73.837324,-0.6098896645182478,0.6315991665883305],[\"1.1k\",\"-61.9%\",1071.4588688946014,40.775036,-73.912034,-0.6185767013075674,0.5290151934361531],[\"0.5k\",\"-56.5%\",456.99157485418016,40.640927,-73.963891,-0.565413143209372,0.407584571814839]],\"hovertemplate\":\"<b>%{hovertext}</b><br><br>Avg Daily Entries=%{customdata[0]}<br>%Ch vs. 2019=%{customdata[1]}<extra></extra>\",\"hovertext\":[\"1 Av-L (M)\",\"103 St-1 (M)\",\"103 St-6 (M)\",\"103 St-B C (M)\",\"103 St-Corona Plaza-7 (Q)\",\"104 St-J Z (Q)\",\"110 St-6 (M)\",\"111 St-A (Q)\",\"111 St-J (Q)\",\"116 St-2 3 (M)\",\"116 St-6 (M)\",\"116 St-B C (M)\",\"116 St-Columbia University-1 (M)\",\"125 St-1 (M)\",\"125 St-2 3 (M)\",\"125 St-4 5 6 (M)\",\"125 St-A B C D (M)\",\"135 St-2 3 (M)\",\"135 St-B C (M)\",\"137 St-City College-1 (M)\",\"14 St-F M (M)\",\"145 St-1 (M)\",\"145 St-3 (M)\",\"14TH STREET-1-PATH\",\"155 St-B D (M)\",\"155 St-C (M)\",\"157 St-1 (M)\",\"161 St-Yankee Stadium-B D (Bx)\",\"167 St-B D (Bx)\",\"168 St-A C (M)\",\"169 St-F (Q)\",\"170 St-4 (Bx)\",\"174 St-2 5 (Bx)\",\"174-175 Sts-B D (Bx)\",\"175 St-A (M)\",\"176 St-4 (Bx)\",\"190 St-A (M)\",\"2 Av-F (M)\",\"20 Av-D (Bk)\",\"20 Av-N (Bk)\",\"21 St-G (Q)\",\"21 St-Queensbridge-F (Q)\",\"23 St-1 (M)\",\"23 St-C E (M)\",\"23 St-F M (M)\",\"23 St-R W (M)\",\"231 St-1 (Bx)\",\"233 St-2 5 (Bx)\",\"238 St-1 (Bx)\",\"25 Av-D (Bk)\",\"25 St-R (Bk)\",\"28 St-6 (M)\",\"28 St-R W (M)\",\"3 Av-138 St-6 (Bx)\",\"3 Av-149 St-2 5 (Bx)\",\"3 Av-L (M)\",\"33 St-6 (M)\",\"33 St-Rawson St-7 (Q)\",\"34 St-Herald Sq-B D F M N Q R W (M)\",\"34 St-Hudson Yards-7 (M)\",\"34 St-Penn Station-A C E (M)\",\"36 Av-N W (Q)\",\"36 St-D N R (Bk)\",\"36 St-M R (Q)\",\"4 Av-9 St-F G R (Bk)\",\"40 St-Lowery St-7 (Q)\",\"42 St-Bryant Pk-B D F M (M)\",\"46 St-Bliss St-7 (Q)\",\"46 St-M R (Q)\",\"47-50 Sts-Rockefeller Ctr-B D F M (M)\",\"49 St-N R W (M)\",\"5 Av/53 St-E M (M)\",\"5 Av/59 St-N W R (M)\",\"50 St-C E (M)\",\"51 St-6 (M)\",\"52 St-7 (Q)\",\"53 St-R (Bk)\",\"55 St-D (Bk)\",\"57 St-F (M)\",\"59 St-Columbus Circle-1 A B C D (M)\",\"59 St-D N R (Bk)\",\"63 Dr-Rego Park-M R (Q)\",\"66 St-Lincoln Center-1 (M)\",\"67 Av-M R (Q)\",\"68 St-Hunter College-6 (M)\",\"69 St-7 (Q)\",\"7 Av-B D E (M)\",\"7 Av-F G (Bk)\",\"72 St-1 2 3 (M)\",\"72 St-B C (M)\",\"72 St-Q (M)\",\"75 St-Elderts Ln-J Z (Q)\",\"77 St-6 (M)\",\"77 St-R (Bk)\",\"8 Av-N (Bk)\",\"8 St-NYU-R W (M)\",\"80 St-A (Q)\",\"81 St-Museum of Natural History-B C (M)\",\"82 St-Jackson Hts-7 (Q)\",\"85 St-Forest Pkwy-J (Q)\",\"86 St-1 (M)\",\"86 St-B C (M)\",\"86 St-Q (M)\",\"86 St-R (Bk)\",\"88 St-A (Q)\",\"90 St-Elmhurst Av-7 (Q)\",\"96 St-B C (M)\",\"Allerton Av-2 5 (Bx)\",\"Aqueduct Racetrack-A (Q)\",\"Aqueduct-N Conduit Av-A (Q)\",\"Astor Pl-6 (M)\",\"Astoria Blvd-N W (Q)\",\"Atlantic Av-Barclays Ctr-2 3 4 5 B D N Q R (Bk)\",\"Avenue H-Q (Bk)\",\"Avenue M-Q (Bk)\",\"Avenue P-F (Bk)\",\"Avenue U-F (Bk)\",\"Avenue U-Q (Bk)\",\"Avenue X-F (Bk)\",\"Bay 50 St-D (Bk)\",\"Bay Pkwy-D (Bk)\",\"Bay Pkwy-F (Bk)\",\"Bay Pkwy-N (Bk)\",\"Bay Ridge Av-R (Bk)\",\"Bay Ridge-95 St-R (Bk)\",\"Baychester Av-5 (Bx)\",\"Beach 25 St-A (Q)\",\"Beach 36 St-A (Q)\",\"Beach 44 St-A (Q)\",\"Beach 67 St-A (Q)\",\"Beach 90 St-A S (Q)\",\"Beach 98 St-A S (Q)\",\"Bedford Av-L (Bk)\",\"Bedford Park Blvd-B D (Bx)\",\"Bedford Park Blvd-Lehman College-4 (Bx)\",\"Bedford-Nostrand Avs-G (Bk)\",\"Bergen St-2 3 (Bk)\",\"Bergen St-F G (Bk)\",\"Beverley Rd-Q (Bk)\",\"Bleecker St-6 (M)\",\"Borough Hall-4 5 (Bk)\",\"Bowery-J Z (M)\",\"Brighton Beach-B Q (Bk)\",\"Broad Channel-A S (Q)\",\"Broad St-J Z (M)\",\"Broadway Junction-J Z (Bk)\",\"Broadway-G (Bk)\",\"Broadway-N W (Q)\",\"Bronx Park East-2 5 (Bx)\",\"Brook Av-6 (Bx)\",\"Brooklyn Bridge-City Hall-4 5 6 (M)\",\"Buhre Av-6 (Bx)\",\"Burke Av-2 5 (Bx)\",\"Burnside Av-4 (Bx)\",\"CHRISTOPHER ST-1-PATH\",\"Canal St-1 (M)\",\"Canal St-6 J N Q R W Z (M)\",\"Canal St-A C E (M)\",\"Canarsie-Rockaway Pkwy-L (Bk)\",\"Carroll St-F G (Bk)\",\"Castle Hill Av-6 (Bx)\",\"Cathedral Pkwy (110 St)-B C (M)\",\"Central Av-M (Bk)\",\"Chambers St-1 2 3 (M)\",\"Chambers St-A C 2 3 (M)\",\"Chambers St-J Z (M)\",\"Chauncey St-J Z (Bk)\",\"Christopher St-Sheridan Sq-1 (M)\",\"Church Av-2 5 (Bk)\",\"Church Av-B Q (Bk)\",\"Church Av-F G (Bk)\",\"City Hall-R W (M)\",\"Clark St-2 3 (Bk)\",\"Classon Av-G (Bk)\",\"Cleveland St-J (Bk)\",\"Clinton-Washington Avs-G (Bk)\",\"Cortlandt St-R W (M)\",\"Court Sq-23 St-E M (Q)\",\"Court Sq-7 (Q)\",\"Crown Hts-Utica Av-3 4 (Bk)\",\"Cypress Hills-J (Bk)\",\"DeKalb Av-L (Bk)\",\"Delancey St-Essex St-J M Z (M)\",\"Ditmas Av-F (Bk)\",\"Dyckman St-1 (M)\",\"Dyckman St-A (M)\",\"E 143 St-St Mary's St-6 (Bx)\",\"E 149 St-6 (Bx)\",\"East 105 St-L (Bk)\",\"Eastchester-Dyre Av-5 (Bx)\",\"Eastern Pkwy-Brooklyn Museum-2 3 (Bk)\",\"Elder Av-6 (Bx)\",\"Euclid Av-A C (Bk)\",\"Far Rockaway-Mott Av-A (Q)\",\"Flatbush Av-Brooklyn College-2 5 (Bk)\",\"Flushing Av-G (Bk)\",\"Flushing Av-J M (Bk)\",\"Flushing-Main St-7 (Q)\",\"Fordham Rd-4 (Bx)\",\"Forest Av-M (Q)\",\"Forest Hills-71 Av-E F M R (Q)\",\"Fort Hamilton Pkwy-D (Bk)\",\"Fort Hamilton Pkwy-F G (Bk)\",\"Franklin Av-C (Bk)\",\"Franklin Avenue-Medgar Evers College-2 3 4 5 (Bk)\",\"Franklin St-1 (M)\",\"Freeman St-2 5 (Bx)\",\"Fresh Pond Rd-M (Q)\",\"Fulton St-2 3 4 5 A C J Z (M)\",\"Fulton St-G (Bk)\",\"Gates Av-J Z (Bk)\",\"Graham Av-L (Bk)\",\"Grand Army Plaza-2 3 (Bk)\",\"Grand Av-Newtown-M R (Q)\",\"Grand Central-42 St-4 5 6 7 S (M)\",\"Grand St-B D (M)\",\"Grand St-L (Bk)\",\"Grant Av-A (Bk)\",\"Greenpoint Av-G (Bk)\",\"Gun Hill Rd-2 5 (Bx)\",\"Gun Hill Rd-5 (Bx)\",\"Halsey St-J (Bk)\",\"Halsey St-L (Q)\",\"Hewes St-J M (Bk)\",\"High St-A C (Bk)\",\"Houston St-1 (M)\",\"Howard Beach-JFK Airport-A (Q)\",\"Hoyt St-2 3 (Bk)\",\"Hoyt-Schermerhorn Sts-A C G (Bk)\",\"Hunters Point Av-7 (Q)\",\"Hunts Point Av-6 (Bx)\",\"Intervale Av-2 5 (Bx)\",\"Inwood-207 St-A (M)\",\"Jackson Av-2 5 (Bx)\",\"Jackson Hts-Roosevelt Av-E F M R 7 (Q)\",\"Jamaica Center-Parsons/Archer-E J Z (Q)\",\"Jamaica-179 St-F (Q)\",\"Jamaica-Van Wyck-E (Q)\",\"Jay St-MetroTech-A C F (Bk)\",\"Jefferson St-L (Bk)\",\"Junction Blvd-7 (Q)\",\"Junius St-3 (Bk)\",\"Kew Gardens-Union Tpke-E F (Q)\",\"Kings Hwy-B Q (Bk)\",\"Kings Hwy-F (Bk)\",\"Kings Hwy-N (Bk)\",\"Kingsbridge Rd-B D (Bx)\",\"Kingston Av-3 (Bk)\",\"Kingston-Throop Avs-C (Bk)\",\"Knickerbocker Av-M (Bk)\",\"Kosciuszko St-J (Bk)\",\"Lafayette Av-C (Bk)\",\"Lexington Av/53 St-E M (M)\",\"Lexington Av/63 St-F Q (M)\",\"Livonia Av-L (Bk)\",\"Longwood Av-6 (Bx)\",\"Lorimer St-J M (Bk)\",\"Lorimer St-L (Bk)\",\"Marble Hill-225 St-1 (M)\",\"Marcy Av-J M Z (Bk)\",\"Metropolitan Av-G (Bk)\",\"Mets-Willets Point-7 (Q)\",\"Middle Village-Metropolitan Av-M (Q)\",\"Middletown Rd-6 (Bx)\",\"Montrose Av-L (Bk)\",\"Morgan Av-L (Bk)\",\"Morris Park-5 (Bx)\",\"Morrison Av-Soundview-6 (Bx)\",\"Mosholu Pkwy-4 (Bx)\",\"Mt Eden Av-4 (Bx)\",\"Myrtle-Willoughby Avs-G (Bk)\",\"Myrtle-Wyckoff Avs-M (Bk)\",\"Nassau Av-G (Bk)\",\"Neck Rd-Q (Bk)\",\"Nereid Av-2 5 (Bx)\",\"Nevins St-2 3 4 5 (Bk)\",\"New Lots Av-3 (Bk)\",\"New Lots Av-L (Bk)\",\"New Utrecht Av-N (Bk)\",\"Newkirk Plaza-B Q (Bk)\",\"Northern Blvd-M R (Q)\",\"Norwood Av-J Z (Bk)\",\"Norwood-205 St-D (Bx)\",\"Nostrand Av-3 (Bk)\",\"Nostrand Av-A C (Bk)\",\"Ocean Pkwy-Q (Bk)\",\"Ozone Park-Lefferts Blvd-A (Q)\",\"PATH NEW WTC-1-PATH\",\"Park Pl-S (Bk)\",\"Park Place-2 3 (M)\",\"Parkchester-6 (Bx)\",\"Parkside Av-Q (Bk)\",\"Parsons Blvd-F (Q)\",\"Pelham Bay Park-6 (Bx)\",\"Pelham Pkwy-2 5 (Bx)\",\"Pelham Pkwy-5 (Bx)\",\"Pennsylvania Av-3 (Bk)\",\"President Street-Medgar Evers College-2 5 (Bk)\",\"Prince St-R W (M)\",\"Prospect Av-2 5 (Bx)\",\"Prospect Av-R (Bk)\",\"Prospect Park-B Q S (Bk)\",\"Queens Plaza-E M R (Q)\",\"Queensboro Plaza-N W (Q)\",\"RIT-MANHATTAN-R\",\"RIT-ROOSEVELT-R\",\"Ralph Av-C (Bk)\",\"Rector St-R W (M)\",\"Rockaway Av-3 (Bk)\",\"Rockaway Av-C (Bk)\",\"Rockaway Blvd-A (Q)\",\"Rockaway Park-Beach 116 St-A S (Q)\",\"Roosevelt Island-F (M)\",\"Saratoga Av-3 (Bk)\",\"Seneca Av-M (Q)\",\"Sheepshead Bay-B Q (Bk)\",\"Shepherd Av-C (Bk)\",\"Simpson St-2 5 (Bx)\",\"Smith-9 Sts-F G (Bk)\",\"South Ferry-1 (M)\",\"Spring St-6 (M)\",\"Spring St-C E (M)\",\"St Lawrence Av-6 (Bx)\",\"Steinway St-M R (Q)\",\"Sterling St-2 5 (Bk)\",\"Sutphin Blvd-Archer Av-JFK Airport-E J Z (Q)\",\"Sutphin Blvd-F (Q)\",\"Sutter Av-L (Bk)\",\"Sutter Av-Rutland Rd-3 (Bk)\",\"THIRTY ST-1-PATH\",\"THIRTY THIRD ST-1-PATH\",\"TWENTY THIRD ST-1-PATH\",\"Times Sq-42 St-1 2 3 7 A C E N Q R S W (M)\",\"Tremont Av-B D (Bx)\",\"Union St-R (Bk)\",\"Utica Av-A C (Bk)\",\"Van Cortlandt Park-242 St-1 (Bx)\",\"Van Siclen Av-3 (Bk)\",\"Van Siclen Av-C (Bk)\",\"Van Siclen Av-J Z (Bk)\",\"Vernon Blvd-Jackson Av-7 (Q)\",\"W 4 St-Wash Sq-A C E (M)\",\"W 8 St-NY Aquarium-F Q (Bk)\",\"WTC Cortlandt-1 (M)\",\"Wakefield-241 St-2 (Bx)\",\"Wall St-2 3 (M)\",\"Wall St-4 5 (M)\",\"West Farms Sq-E Tremont Av-2 5 (Bx)\",\"Westchester Sq-E Tremont Av-6 (Bx)\",\"Whitehall St-South Ferry-R W (M)\",\"Whitlock Av-6 (Bx)\",\"Wilson Av-L (Bk)\",\"Winthrop St-2 5 (Bk)\",\"Woodhaven Blvd-J Z (Q)\",\"Woodhaven Blvd-M R (Q)\",\"Woodlawn-4 (Bx)\",\"Woodside-61 St-7 (Q)\",\"World Trade Center-E (M)\",\"York St-F (Bk)\",\"Zerega Av-6 (Bx)\",\"104 St-A (Q)\",\"111 St-7 (Q)\",\"138 St-Grand Concourse-4 5 (Bx)\",\"14 St-A C E (M)\",\"14 St-Union Sq-4 5 6 L N Q R W (M)\",\"145 St-A C (M)\",\"149 St-Grand Concourse-4 (Bx)\",\"15 St-Prospect Park-F G (Bk)\",\"163 St-Amsterdam Av-C (M)\",\"167 St-4 (Bx)\",\"170 St-B D (Bx)\",\"18 Av-D (Bk)\",\"18 Av-F (Bk)\",\"18 Av-N (Bk)\",\"18 St-1 (M)\",\"181 St-1 (M)\",\"182-183 Sts-B D (Bx)\",\"183 St-4 (Bx)\",\"191 St-1 (M)\",\"207 St-1 (M)\",\"219 St-2 5 (Bx)\",\"225 St-2 5 (Bx)\",\"23 St-6 (M)\",\"28 St-1 (M)\",\"30 Av-N W (Q)\",\"34 St-Penn Station-1 2 3 (M)\",\"39 Av-Dutch Kills-N W (Q)\",\"45 St-R (Bk)\",\"50 St-1 (M)\",\"50 St-D (Bk)\",\"57 St-7 Av-N Q R W (M)\",\"59 St-4 5 6 N Q R W (M)\",\"65 St-M R (Q)\",\"7 Av-B Q (Bk)\",\"71 St-D (Bk)\",\"79 St-1 (M)\",\"79 St-D (Bk)\",\"86 St-4 5 6 (M)\",\"86 St-N (Bk)\",\"9 Av-D (Bk)\",\"96 St-1 2 3 (M)\",\"96 St-6 (M)\",\"96 St-Q (M)\",\"9TH STREET-1-PATH\",\"Alabama Av-J (Bk)\",\"Atlantic Av-L (Bk)\",\"Avenue I-F (Bk)\",\"Avenue J-Q (Bk)\",\"Avenue N-F (Bk)\",\"Avenue U-N (Bk)\",\"Beach 105 St-A S (Q)\",\"Beach 60 St-A (Q)\",\"Beverly Rd-2 5 (Bk)\",\"Bowling Green-4 5 (M)\",\"Briarwood-E F (Q)\",\"Broadway-Lafayette St-B D F M (M)\",\"Bushwick Av-Aberdeen St-L (Bk)\",\"Cathedral Pkwy (110 St)-1 (M)\",\"Central Park North (110 St)-2 3 (M)\",\"Clinton-Washington Avs-C (Bk)\",\"Coney Island-Stillwell Av-D F N Q (Bk)\",\"Crescent St-J Z (Bk)\",\"Cypress Av-6 (Bx)\",\"DeKalb Av-B Q R (Bk)\",\"E 180 St-2 5 (Bx)\",\"East Broadway-F (M)\",\"Elmhurst Av-M R (Q)\",\"Fordham Rd-B D (Bx)\",\"Fort Hamilton Pkwy-N (Bk)\",\"Harlem-148 St-3 (M)\",\"Jay St-MetroTech-R (Bk)\",\"Kingsbridge Rd-4 (Bx)\",\"Liberty Av-C (Bk)\",\"Myrtle Av-J M Z (Bk)\",\"Neptune Av-F (Bk)\",\"Newkirk Av - Little Haiti-2 5 (Bk)\",\"Rector St-1 (M)\",\"121 St-J Z (Q)\",\"181 St-A (M)\",\"215 St-1 (M)\",\"75 Av-E F (Q)\",\"Astoria-Ditmars Blvd-N W (Q)\",\"Cortelyou Rd-Q (Bk)\"],\"lat\":[40.730953,40.799446,40.7906,40.796092,40.749865,40.695178,40.79502,40.684331,40.697418,40.802098,40.798629,40.805085,40.807722,40.815581,40.807754,40.804138,40.811109,40.814229,40.817894,40.822008,40.738228,40.826551,40.820421,null,40.830135,40.830518,40.834041,40.827905,40.833771,40.840719,40.71047,40.840075,40.837288,40.8459,40.847391,40.84848,40.859022,40.723402,40.604556,40.61741,40.744065,40.754203,40.744081,40.745906,40.742878,40.741303,40.878856,40.893193,40.884667,40.597704,40.660397,40.74307,40.745494,40.810476,40.816109,40.732849,40.746081,40.744587,40.749567,40.755882,40.752287,40.756804,40.655144,40.752039,40.670847,40.743781,40.754222,40.743132,40.756312,40.758663,40.759901,40.760167,40.764811,40.762456,40.757107,40.744149,40.645069,40.631435,40.763972,40.768296,40.641362,40.729846,40.77344,40.726523,40.768141,40.746325,40.762862,40.666271,40.778453,40.775594,40.768799,40.691324,40.77362,40.629742,40.635064,40.730328,40.679371,40.781433,40.747659,40.692435,40.788644,40.785868,40.777891,40.622687,40.679843,40.748408,40.791642,40.865462,40.672097,40.668234,40.730054,40.770258,40.683666,40.62927,40.617618,40.608944,40.596063,40.5993,40.58962,40.588841,40.601875,40.620769,40.611815,40.634967,40.616622,40.878663,40.600066,40.595398,40.592943,40.590927,40.588034,40.585307,40.717304,40.873244,40.873412,40.689627,40.680829,40.686145,40.644031,40.725915,40.692404,40.72028,40.577621,40.608382,40.706476,40.679498,40.706092,40.76182,40.848828,40.807566,40.713065,40.84681,40.871356,40.853453,null,40.722854,40.719527,40.720824,40.646654,40.680303,40.834255,40.800603,40.697857,40.715478,40.714111,40.713243,40.682893,40.733422,40.650843,40.650527,40.644041,40.713282,40.697466,40.688873,40.679947,40.688089,40.710668,40.747846,40.747023,40.668897,40.689941,40.703811,40.718315,40.636119,40.860531,40.865491,40.808719,40.812118,40.650573,40.8883,40.671987,40.828584,40.675377,40.603995,40.632836,40.700377,40.70026,40.7596,40.862803,40.704423,40.721691,40.640914,40.650782,40.68138,40.670682,40.719318,40.829993,40.706186,40.710197,40.687119,40.68963,40.714565,40.675235,40.737015,40.751776,40.718267,40.711926,40.677044,40.731352,40.87785,40.869526,40.68637,40.695602,40.70687,40.699337,40.728251,40.660476,40.690545,40.688484,40.742216,40.820948,40.822181,40.868072,40.81649,40.746644,40.702147,40.712646,40.702566,40.692338,40.706607,40.749145,40.663515,40.714441,40.60867,40.603217,40.603923,40.866978,40.669399,40.679921,40.698664,40.693342,40.686113,40.757552,40.764629,40.664038,40.816104,40.703869,40.714063,40.874561,40.708359,40.712792,40.754622,40.711396,40.843863,40.707739,40.706152,40.854364,40.829521,40.87975,40.844434,40.694568,40.69943,40.724635,40.595246,40.898379,40.688246,40.666235,40.658733,40.624842,40.635082,40.752885,40.68141,40.874811,40.669847,40.680438,40.576312,40.685951,null,40.674772,40.713051,40.833226,40.655292,40.707564,40.852462,40.857192,40.858985,40.664635,40.667883,40.724329,40.819585,40.665414,40.661614,40.748973,40.750582,null,null,40.678822,40.70722,40.662549,40.67834,40.680429,40.580903,40.759145,40.661453,40.702762,40.586896,40.67413,40.824073,40.67358,40.702068,40.722301,40.726227,40.831509,40.756879,40.662742,40.700486,40.70546,40.669367,40.664717,null,null,null,40.75529,40.85041,40.677316,40.679364,40.889248,40.665449,40.67271,40.678024,40.742626,40.732338,40.576127,40.711835,40.903125,40.706821,40.707557,40.840295,40.839892,40.703087,40.826525,40.688764,40.656652,40.693879,40.733106,40.886037,40.74563,40.712582,40.701397,40.836488,40.681711,40.75173,40.813224,40.740893,40.735736,40.824783,40.818375,40.660365,40.836013,40.835537,40.839306,40.607954,40.629755,40.620671,40.74104,40.849505,40.856093,40.858407,40.855225,40.864621,40.883895,40.888022,40.739864,40.747215,40.766779,40.750373,40.752882,40.648939,40.761728,40.63626,40.764664,40.762526,40.749669,40.67705,40.619589,40.783934,40.613501,40.779492,40.592721,40.646292,40.793919,40.785672,40.784318,null,40.676992,40.675345,40.625322,40.625039,40.61514,40.597473,40.583209,40.592374,40.645098,40.704817,40.709179,40.725297,40.682829,40.803967,40.799075,40.683263,40.577422,40.683194,40.805368,40.690635,40.841894,40.713715,40.742454,40.861296,40.631386,40.82388,40.69218,40.86776,40.674542,40.697207,40.581011,40.639967,40.707513,40.700492,40.851695,40.869444,40.718331,40.775036,40.640927],\"legendgroup\":\"\",\"lon\":[-73.981628,-73.968379,-73.947478,-73.961454,-73.8627,-73.84433,-73.94425,-73.832163,-73.836345,-73.949625,-73.941617,-73.954882,-73.96411,-73.958372,-73.945495,-73.937594,-73.952343,-73.94077,-73.947649,-73.953676,-73.996209,-73.95036,-73.936245,null,-73.938209,-73.941514,-73.94489,-73.925651,-73.91844,-73.939561,-73.793604,-73.917791,-73.887734,-73.910136,-73.939704,-73.911794,-73.93418,-73.989938,-73.998168,-73.985026,-73.949724,-73.942836,-73.995657,-73.998041,-73.992821,-73.989344,-73.904834,-73.857473,-73.90087,-73.986829,-73.998091,-73.984264,-73.988691,-73.926138,-73.917757,-73.986122,-73.982076,-73.930997,-73.98795,-74.00191,-73.993391,-73.929575,-74.003549,-73.928781,-73.988302,-73.924016,-73.984569,-73.918435,-73.913333,-73.981329,-73.984139,-73.975224,-73.973347,-73.985984,-73.97192,-73.912549,-74.014034,-73.995476,-73.97745,-73.981736,-74.017881,-73.861604,-73.982209,-73.852719,-73.96387,-73.896403,-73.981637,-73.980305,-73.98197,-73.97641,-73.958424,-73.867139,-73.959874,-74.02551,-74.011719,-73.992629,-73.858992,-73.972143,-73.883697,-73.86001,-73.976218,-73.968916,-73.951787,-74.028398,-73.85147,-73.876613,-73.964696,-73.867352,-73.835919,-73.834058,-73.99107,-73.917843,-73.97881,-73.961639,-73.959399,-73.973022,-73.973357,-73.955929,-73.97425,-73.983765,-73.993728,-73.975264,-73.981848,-74.023377,-74.030876,-73.838591,-73.761353,-73.768175,-73.776013,-73.796924,-73.813641,-73.820558,-73.956872,-73.887138,-73.890064,-73.953522,-73.975098,-73.990862,-73.964492,-73.994659,-73.990151,-73.993915,-73.961376,-73.815925,-74.011056,-73.904512,-73.950308,-73.925508,-73.868457,-73.91924,-74.004131,-73.832569,-73.867164,-73.907684,null,-74.006277,-74.001775,-74.005229,-73.90185,-73.995048,-73.851222,-73.958161,-73.927397,-74.009266,-74.008585,-74.003401,-73.910456,-74.002906,-73.949575,-73.962982,-73.979678,-74.006978,-73.993086,-73.96007,-73.884639,-73.966839,-74.011029,-73.946,-73.945264,-73.932942,-73.87255,-73.918425,-73.987437,-73.978172,-73.925536,-73.927271,-73.907657,-73.904098,-73.899485,-73.830834,-73.964375,-73.879159,-73.872106,-73.755405,-73.947642,-73.950234,-73.941126,-73.83003,-73.901034,-73.903077,-73.844521,-73.994304,-73.975776,-73.956848,-73.958131,-74.006886,-73.891865,-73.895877,-74.007691,-73.975375,-73.92227,-73.944053,-73.971046,-73.877223,-73.976848,-73.993753,-73.94067,-73.86505,-73.954449,-73.866256,-73.846384,-73.916559,-73.904084,-73.953431,-73.990531,-74.005367,-73.830301,-73.985065,-73.985001,-73.948916,-73.890549,-73.896736,-73.919899,-73.907807,-73.891338,-73.801109,-73.783817,-73.816859,-73.987342,-73.922913,-73.869527,-73.902447,-73.831008,-73.957734,-73.972361,-73.980353,-73.893509,-73.942161,-73.940858,-73.919711,-73.928814,-73.973946,-73.969055,-73.966113,-73.900571,-73.896435,-73.947408,-73.950275,-73.909831,-73.957757,-73.951418,-73.845625,-73.889601,-73.836322,-73.93985,-73.933147,-73.860495,-73.874516,-73.884655,-73.914685,-73.949046,-73.912385,-73.951277,-73.955161,-73.854376,-73.980492,-73.884079,-73.899232,-73.996353,-73.962793,-73.906006,-73.880039,-73.878855,-73.950466,-73.950426,-73.968501,-73.825798,null,-73.957624,-74.008811,-73.860816,-73.961495,-73.803326,-73.828121,-73.867615,-73.855359,-73.894895,-73.950683,-73.997702,-73.90177,-73.992872,-73.962246,-73.937243,-73.940202,null,null,-73.920786,-74.013342,-73.908946,-73.911946,-73.843853,-73.835592,-73.95326,-73.916327,-73.90774,-73.954155,-73.88075,-73.893064,-73.995959,-74.013664,-73.997141,-74.003739,-73.867618,-73.92074,-73.95085,-73.807969,-73.810708,-73.901975,-73.92261,null,null,null,-73.987495,-73.905227,-73.98311,-73.930729,-73.898583,-73.889395,-73.890358,-73.891688,-73.953581,-74.000495,-73.975939,-74.012188,-73.85062,-74.0091,-74.011862,-73.880049,-73.842952,-74.012994,-73.886283,-73.904046,-73.9502,-73.851576,-73.869229,-73.878751,-73.902984,-74.009781,-73.986751,-73.847036,-73.837683,-73.855334,-73.929849,-74.00169,-73.990568,-73.944216,-73.927351,-73.979493,-73.939892,-73.9214,-73.9134,-74.001736,-73.976971,-73.990414,-73.997871,-73.933596,-73.900741,-73.903879,-73.929412,-73.918822,-73.862633,-73.860341,-73.986599,-73.993365,-73.921479,-73.991057,-73.932755,-74.010006,-73.983849,-73.994791,-73.980658,-73.967967,-73.898453,-73.972367,-73.998864,-73.979917,-74.00061,-73.955589,-73.97823,-73.994324,-73.972323,-73.95107,-73.947152,null,-73.898654,-73.903097,-73.976127,-73.960803,-73.974197,-73.979137,-73.827559,-73.788522,-73.948959,-74.014065,-73.820574,-73.996204,-73.905249,-73.966847,-73.951822,-73.965838,-73.981233,-73.873785,-73.914042,-73.981824,-73.873488,-73.990173,-73.882017,-73.897749,-74.005351,-73.93647,-73.985942,-73.897174,-73.896548,-73.935657,-73.974574,-73.948411,-74.013783,-73.828294,-73.937969,-73.915279,-73.837324,-73.912034,-73.963891],\"marker\":{\"color\":[-0.5589144378484794,-0.5553777893524142,-0.5407594618253636,-0.5957764313348832,-0.413704343462971,-0.33556612047619283,-0.538171505467625,-0.5077951182922495,-0.4056426830713725,-0.5808835851832127,-0.5385152425127352,-0.5923930517918794,-0.6768660383013838,-0.558181002911003,-0.6015102873068213,-0.5836891505726649,-0.5903487758519536,-0.706286000381998,-0.5874882131186987,-0.5482631331467053,-0.6668525562043477,-0.5133743626884877,-0.546084929184265,-0.4653409076094708,-0.5208904999808297,-0.5775735927169238,-0.5808560974453761,-0.5594410950044888,-0.6110296500065568,-0.5022051525915027,-0.5138773894357318,-0.5086682010705996,-0.5561172470314752,-0.5328704048039197,-0.6309115232260496,-0.5103777837738785,-0.6603650226784052,-0.6636662149777894,-0.49562792126895294,-0.39612721036127985,-0.5624942294163089,-0.519316466140197,-0.6506203443582194,-0.6724691614032847,-0.6671431289140894,-0.7218051322011658,-0.5282702096688389,-0.5070901424228828,-0.502506450025735,-0.523564925580148,-0.5406263497631575,-0.6590981907489694,-0.7196512323568488,-0.5025425804073715,-0.5589786118394109,-0.6115786180197958,-0.682588949604175,-0.5934368450505492,-0.6466748305325731,-0.5774243766190092,-0.6613847132584071,-0.5679500429610366,-0.46429839455716626,-0.6462200823114774,-0.5905199310783302,-0.5544396092896127,-0.6724595189644251,-0.523869379475278,-0.5895094131652301,-0.6614096188615812,-0.6521560434017916,-0.7228456895139621,-0.6200339686454017,-0.6819773578568267,-0.7087184199282548,-0.5155453130467942,-0.48524952512421826,-0.4779095611306905,-0.6150475174351464,-0.6072886829398068,-0.3485796900993472,-0.5578066574007052,-0.6415682968417897,-0.5706216874429458,-0.5804233314940126,-0.35629442738931216,-0.6729201835358849,-0.5961395113709177,-0.5896224654402957,-0.5920091094397792,-0.6211122869649072,-0.49634673165951515,-0.5616183017815108,-0.5664628287548326,-0.49409618411725,-0.719189473707314,-0.5253309623950189,-0.5830080385090615,-0.4080671450194755,-0.5006236347130447,-0.5912559657382528,-0.5933511352916243,-0.667840261750197,-0.4839606144540236,-0.5226398288488048,-0.526583108298044,-0.6028459660303715,-0.531402040102202,-0.6979530153986566,-0.5573965190786638,-0.6887209009152068,-0.5489433334818425,-0.5656780044561436,-0.5662996850314845,-0.49231443299070765,-0.4964760963229228,-0.500478428294272,-0.5192222254961975,-0.48524642682949903,-0.42581130399614386,-0.48561940281637517,-0.39990634784543155,-0.3470887246665919,-0.5155566673855623,-0.5678885545510128,-0.6011550081114122,-0.4925473364574666,-0.487031734192629,-0.4800153711488494,-0.5304524251450935,-0.6405764198710721,-0.5299235150610658,-0.6537056881404958,-0.5346040208098617,-0.4442182307897914,-0.6593311988376458,-0.6222602614560935,-0.6296891286534336,-0.528028662800682,-0.6818120266909438,-0.6461274426473208,-0.680404319068356,-0.546829462797927,-0.5800430910631499,-0.7087735496692977,-0.5464587890079573,-0.5281238527447025,-0.5550753509253508,-0.5227530942907771,-0.4965025712857629,-0.6327435951276129,-0.5153034396841639,-0.5502000837390215,-0.5351825261789578,-0.45317818337321114,-0.732039884617812,-0.6499329841190082,-0.7095465085764663,-0.792398242902559,-0.657674805324318,-0.5181690227759124,-0.5957114737371476,-0.6755225206727298,-0.6388308467745321,-0.6789175612894361,-0.5559179287679257,-0.6221671707370793,-0.6210299157988686,-0.5169001160557195,-0.555653194567401,-0.509391237843321,-0.6338056282617164,-0.7158473177672499,-0.6161087803510703,-0.5876871039397276,-0.6301456088861696,-0.7142686326776353,-0.6592738225520335,-0.4518561317777584,-0.5416099989083341,-0.5065785777757235,-0.6462975897569812,-0.6113485702315098,-0.4713870012906197,-0.4489614991588742,-0.5935038077795074,-0.33214095551880607,-0.4817816336420082,-0.5790339269640213,-0.5434146523775709,-0.5811922198301236,-0.47072344335888605,-0.5503559609824976,-0.49937631081709166,-0.5061983908796767,-0.4072306698715553,-0.5945243743958368,-0.49217684567714215,-0.48739430607433076,-0.5209999514424799,-0.5457449133891019,-0.427339811832942,-0.5716036064148056,-0.6646543894334472,-0.6006901819286897,-0.6149122873309774,-0.49808666887425457,-0.5368970747159763,-0.6849964577005307,-0.5054015808135554,-0.6373336570542503,-0.655030713418188,-0.6088003941316718,-0.5228107911203348,-0.6645130643298689,-0.4874770299728375,-0.5363362384635779,-0.5486703062803558,-0.6086389006271704,-0.5449739701586673,-0.42769198274583864,-0.6580576546360027,-0.5864024773800813,-0.7764045431107205,-0.5227778915778214,-0.7159864555699291,-0.3381449961551879,-0.5899183064648968,-0.6164776519037549,-0.6101868180946144,-0.5887552532981055,-0.4975045738296292,-0.6054355319556501,-0.5153032402098405,-0.47926652276685067,-0.5050295129824497,-0.5116386118546704,-0.48825146836426225,-0.6468146518445113,-0.6168760653300887,-0.3705725532123423,-0.4632915176211272,-0.5459425587310118,-0.5107372775742811,-0.5289433869003398,-0.3478769692662511,-0.6058420313653552,-0.5706114269231399,-0.6351931514879969,-0.6164871954821186,-0.6437607780539814,-0.6452995195058753,-0.69394583012036,-0.6011495413403455,-0.5101123454348011,-0.41185422821389306,-0.6297752335498304,-0.738693511566735,-0.49802612462583506,-0.6865044226399508,-0.6255973090162085,-0.5297666260605793,-0.4326167381311047,-0.5226426793819123,-0.6235343316424609,-0.6562777189294229,-0.5449558411449886,-0.4891218789818709,-0.49126800782567914,-0.48548662476648297,-0.6093484938071003,-0.5333647361523596,-0.6545488653865787,-0.5378805402284411,-0.49724331742701255,-0.6189392508609974,-0.514677685766428,-0.54239525274507,-0.4103821460499505,-0.6120653201728063,-0.5250007070684864,-0.5792716550359216,-0.5466416166476109,-0.6029582498597457,-0.6133527365186566,-0.5054190407941306,-0.504614202824696,-0.5146989558322193,-0.5661694428953981,-0.6899955791924997,-0.5189754660872814,-0.5833814876653783,-0.46555726930501706,-0.5612137081794242,-0.5623108786375817,-0.5508564869476371,-0.5110582454716099,-0.536685278718191,-0.7000442026415681,-0.5200309990773635,-0.5823990110764331,-0.598309158714325,-0.6339808839221457,-0.6007984116306389,-0.07020238603474949,-0.09158097106104623,-0.6060812960101568,-0.7260583756437374,-0.5235086202368073,-0.5906117730738737,-0.5066771182789254,-0.4644778667384607,-0.4941350737321194,-0.5174036193906189,-0.619123977343929,-0.5525816825528009,-0.5467326652748266,-0.48050570493709177,-0.5833635287772437,-0.6243984029697234,-0.6605803558320407,-0.6959585495762894,-0.4894603085918313,-0.6181921358023705,-0.5393951019632512,-0.49710011484428285,-0.5090698146141222,-0.6006461080816979,-0.5169596549319071,-0.4638028311433826,-0.554960632497036,-0.5095549582895236,-0.6419946769847105,-0.6031081773048692,-0.627675929909306,-0.6347088395393357,-0.49090460314062323,-0.5371926309421102,-0.5514191862966746,-0.5010967395839543,-0.6338435823670326,-0.6861264931108733,-0.5012459251447343,-0.645912319525948,-0.49136095624898835,-0.7477373263660938,-0.728577321507826,-0.579880453824284,-0.5347808223896156,-0.6761262086500821,-0.48400096582794716,-0.5849379146788961,-0.4502285269293914,-0.5155985389958997,-0.5489696282456116,-0.5108975948954784,-0.45600284592083407,-0.6727342616876314,-0.5900607382638454,-0.5337716781778423,-0.46014969113154935,-0.40278988037828856,-0.4439571736599556,-0.6439002835260039,-0.661502003416458,-0.5830466504135261,-0.5950021748586048,-0.624092409866439,-0.5772553495147199,-0.4485979679082265,-0.5564931435287608,-0.49319039282838906,-0.4965574535058961,-0.3239716956743568,-0.6813631113533417,-0.5903082144965086,-0.5733256668635561,-0.48037192675511253,-0.5018833450343902,-0.4349036644094578,-0.5586780087929839,-0.5374385780336377,-0.6693082339100883,-0.6631016074466236,-0.6698120994689993,-0.6607217825167191,-0.5215164625686618,-0.5142771860008204,-0.6585244705999526,-0.40090284201807525,-0.6543111630604224,-0.6179463750145447,-0.5321482953025995,-0.6653820017110854,-0.5325240520650054,-0.5869836539360653,-0.4685359163600924,-0.5593391371950281,-0.3530331748351335,-0.448921207282419,-0.5956982238759121,-0.5566016175318325,-0.6248881368841455,-0.41125850267464836,-0.5038351629967524,-0.47534679916986455,-0.4948479812104456,-0.5217108210364796,-0.49751778573534045,-0.3517897953206228,-0.5260392349543055,-0.5113813167120135,-0.49382066143233183,-0.6473944196609331,-0.5110066536995044,-0.6758880658504016,-0.4880032209314792,-0.5857432198342278,-0.626368688099753,-0.6635360515123696,-0.45693999354880244,-0.5585172200586542,-0.5644362589050513,-0.6472624112784382,-0.4728444536220455,-0.5818063139365105,-0.5052670565215374,-0.5788944889341231,-0.2120864355592037,-0.5863074820975147,-0.6549208366597705,-0.4951225340781049,-0.5288777333012389,-0.6645581576174351,-0.4249441702429535,-0.5045150977200871,-0.6814551675357541,-0.48970077127899814,-0.6464867854125889,-0.42182258114361626,-0.6098896645182478,-0.6185767013075674,-0.565413143209372],\"coloraxis\":\"coloraxis\",\"size\":[1307.0282958199357,877.1352221506761,990.0327552986513,315.1546391752577,1939.5661953727506,224.60539845758356,802.4,214.70209973753282,195.18578878748372,730.9231762427372,1087.2823151125401,482.9698717948718,776.5190445448677,555.7591757887959,825.7077713551702,1826.7280307889673,1909.6978832584991,668.4076923076923,386.6236351958895,934.5093008338679,2249.6391025641024,740.1868978805395,253.98581560283688,771.2021822849807,285.0508038585209,192.32922877511342,835.0410519563823,1685.3775773195875,491.9190231362468,1661.0456885456886,644.9140474663245,644.1164736164736,395.1298200514139,376.3607188703466,801.6587556125721,447.6062941554271,161.09348807221147,916.9161831076725,423.31745009658727,369.9987146529563,120.89845758354755,887.5601552393273,842.4740218088518,1273.4547787042977,1404.3365384615386,1061.3324775353017,752.7630392788152,388.32882011605415,333.855035279025,390.787012987013,283.85769230769233,1130.9910141206676,600.7734274711169,610.7306701030927,1475.600384862091,359.99102564102566,1469.2503209242618,697.3348358016742,6441.083974358974,1315.4042829331602,4623.848717948718,468.519305019305,1187.0612903225806,283.59447300771205,845.4996792815907,737.012187299551,2996.2352564102566,994.3908857509628,578.3759640102828,3374.355128205128,1353.7617212588311,1259.7140102827764,991.3114543114543,1107.9923076923078,1024.7998717126363,482.01610824742266,749.597537265068,187.4227799227799,898.8845413726748,4394.809248554913,1090.3007083065036,1137.4338046272494,1324.0758354755785,635.9275641025641,1604.7410772225828,511.92690815006466,991.3194355355997,787.5731707317074,2329.0449871465294,583.9954896907217,1944.7577120822623,296.8905344494527,1863.3459807073955,404.57894736842104,989.7730769230769,774.8705128205128,339.8034682080925,919.8023180940116,1473.054487179487,303.2447013487476,1218.8891025641026,707.1743589743589,1410.612323491656,966.469794344473,228.4211204121056,1281.249357326478,653.6621794871795,392.77061855670104,81.05962410887881,67.02423051735428,842.0548302872063,717.8241401687216,3104.386144964721,240.91677419354838,481.61766602192137,207.64807692307693,152.37483953786906,584.8704663212435,229.0525969756739,256.6803594351733,663.3594351732991,119.66950819672131,490.50869285254345,621.7246469833119,423.8908156711625,253.0209287115762,147.79328165374676,82.8221649484536,62.93280632411067,180.76010430247717,58.98298429319372,39.03961038961039,1422.2974193548387,544.7326030927835,467.879409878127,498.2773487773488,241.04749679075738,683.8813341885824,268.37508028259475,798.6628131021195,2049.1270044900575,204.18018018018017,895.8005131494548,22.89315960912052,373.4857881136951,626.6126533247257,364.3363577446533,786.9358563181527,200.25561978163134,494.93346253229976,1185.7127249357327,312.6255648805681,244.1706221937139,768.6632390745501,454.69576379974325,298.81410256410254,2475.3634615384617,1005.0051314945478,386.14819587628864,661.1788931788932,516.9307248236049,491.76962676962677,239.43436293436292,1215.7143786597267,1514.0303225806451,769.1942122186496,205.17556270096463,623.4522129570238,772.1975625400898,1197.8783783783783,778.8657675016057,365.2665382145151,263.9869375907112,345.9645846748229,201.27860374919197,316.4106683804627,998.6473988439307,973.2288461538461,412.3198458574181,1941.0419084461637,120.76599870717517,552.8550352790251,1695.8735558408216,345.56201550387595,603.942084942085,461.58500323206204,121.6021850899743,415.8866930171278,238.6304207119741,324.35870967741937,277.9311454311454,557.9954007884363,771.5822622107969,367.3400129282482,1491.6172125883108,242.98330122029543,579.9833012202954,4763.512605042017,832.8662379421222,336.19228295819937,1999.93481095176,378.8859764089122,415.74839537869065,347.45238095238096,856.300641025641,339.6542655548428,367.3290405666452,455.54563106796115,4786.575641025641,441.10932475884243,429.97814910025704,525.1980707395498,474.2806221646144,1259.2855305466237,7411.435256410256,1798.3807989690722,491.9505141388175,435.2530585962653,642.2521452145214,532.2753815527539,411.503259452412,368.7294344473008,505.1606683804627,121.55295646523717,658.5967948717948,723.566388710712,476.40576923076924,507.29358974358973,725.1251612903226,451.7201540436457,667.0115979381443,262.5834945196647,646.5057989690722,414.2245161290323,4498.184615384615,3707.7910256410255,1720.62671009772,387.2800256904303,2218.2068079640335,453.7236503856041,2193.9235709698137,200.11696658097685,1911.5561978163134,1600.9273778920308,290.24415584415584,477.55920205920205,518.625641025641,335.53846153846155,402.4540750323415,286.34188582424633,330.54621309370987,255.27488760436736,2036.6602564102564,1281.708115183246,234.70447180816592,310.1606683804627,322.28374836173003,227.0939548434086,425.70546163849156,737.4594594594595,544.1176848874599,394.8325791855204,281.92866407263296,166.43224149004496,402.2745349583066,390.2427372498386,190.343481138319,537.091961414791,682.3674388674389,423.71147540983605,381.75064267352184,1448.976236351959,557.0865384615385,342.3382731958763,283.0581395348837,642.1788461538462,458.06410256410254,320.85456885456887,465.5621794871795,679.3374114616871,529.2044871794872,220.24399740428294,644.1587403598971,278.94254357650095,1107.3033052495139,269.74420103092785,625.7631408176509,4911.300833867864,120.54586273252085,162.81459948320415,1190.953307392996,426.1192778852353,592.6525369299936,525.8917525773196,614.2801282051282,240.72884615384615,368.6514469453376,276.33269107257547,631.7969151670951,552.0636655948553,408.1834862385321,572.0455128205128,871.9540155440415,962.006435006435,493.8749198203977,449.82476943346506,376.31650485436893,312.0602950609365,383.5847240051348,385.2586649550706,618.1073738680466,63.58070739549839,625.4272844272845,425.17019910083496,201.83868894601542,1031.0352564102564,240.00708762886597,623.952994204765,314.7144694533762,1006.2551546391752,603.6844155844155,700.9668831168831,344.8078658929723,914.401028277635,420.5192554557124,2007.6079948420374,355.870822622108,229.25241468126208,545.9631306597671,939.7329910141207,1686.8222079589216,725.3183568677792,10781.609615384616,643.0721649484536,452.48582474226805,974.4787917737789,628.6529826812059,219.51519069166127,220.64327485380116,217.8295380611581,915.9528118939884,2128.2010276172127,207.2974358974359,812.5497752087348,399.76908150064685,1022.9724005134789,869.8684381075826,476.1398195876289,472.2257234726688,983.3175112251444,163.37483870967742,298.91682785299804,595.337224383917,368.5829048843188,1481.5221579961465,548.0975609756098,1375.9819004524886,1013.9442644199611,690.2345758354755,207.1875,135.82978723404256,1117.7248711340205,306.3354838709677,2432.328626444159,5329.931920359666,1581.2730769230768,862.8332264271969,391.3015463917526,298.93560849967804,773.897880539499,497.3594351732991,524.8838709677419,306.88046272493574,364.0282413350449,455.910783055199,769.6395873629916,218.5784635587656,491.8752411575563,617.4178433889603,563.5598430346632,236.69408740359899,219.42764857881136,1561.5080282594733,830.5522771007056,879.0650195058518,4520.34894162925,220.48422408242112,622.497432605905,1481.6435452793835,323.25472312703585,1879.914688903143,3323.8435897435897,275.63987138263667,561.7140102827764,429.6634366925065,1009.5,550.7792792792793,2898.1063144329896,242.71279373368145,494.20605280103024,2365.3785347043704,1268.9325551232166,1217.3412596401029,477.53016688061615,177.3833762886598,145.12048969072166,111.490990990991,463.4090032154341,247.22478576137112,346.65960179833013,20.75644329896907,165.24564926372156,363.4140373470702,1731.4833333333333,407.0650773195876,1168.7608974358975,171.01479099678457,799.5781350482315,521.7115384615385,393.92609254498717,1200.0712909441233,328.0831168831169,250.93508997429305,1240.8976833976833,632.8466966003849,962.4881334188583,819.7054263565891,810.2841565105837,570.4916666666667,258.8678272082527,229.3361236316806,737.8823151125401,217.0464516129032,664.6714565643371,140.22243713733076,596.4541372674792,456.2974358974359,199.61760925449872,615.5106109324759,171.59218241042345,209.06237942122186,1071.4588688946014,456.99157485418016],\"sizemode\":\"area\",\"sizeref\":26.95402403846154},\"mode\":\"markers\",\"name\":\"\",\"showlegend\":false,\"subplot\":\"mapbox\",\"type\":\"scattermapbox\"}],                        {\"template\":{\"data\":{\"histogram2dcontour\":[{\"type\":\"histogram2dcontour\",\"colorbar\":{\"outlinewidth\":0,\"ticks\":\"\"},\"colorscale\":[[0.0,\"#0d0887\"],[0.1111111111111111,\"#46039f\"],[0.2222222222222222,\"#7201a8\"],[0.3333333333333333,\"#9c179e\"],[0.4444444444444444,\"#bd3786\"],[0.5555555555555556,\"#d8576b\"],[0.6666666666666666,\"#ed7953\"],[0.7777777777777778,\"#fb9f3a\"],[0.8888888888888888,\"#fdca26\"],[1.0,\"#f0f921\"]]}],\"choropleth\":[{\"type\":\"choropleth\",\"colorbar\":{\"outlinewidth\":0,\"ticks\":\"\"}}],\"histogram2d\":[{\"type\":\"histogram2d\",\"colorbar\":{\"outlinewidth\":0,\"ticks\":\"\"},\"colorscale\":[[0.0,\"#0d0887\"],[0.1111111111111111,\"#46039f\"],[0.2222222222222222,\"#7201a8\"],[0.3333333333333333,\"#9c179e\"],[0.4444444444444444,\"#bd3786\"],[0.5555555555555556,\"#d8576b\"],[0.6666666666666666,\"#ed7953\"],[0.7777777777777778,\"#fb9f3a\"],[0.8888888888888888,\"#fdca26\"],[1.0,\"#f0f921\"]]}],\"heatmap\":[{\"type\":\"heatmap\",\"colorbar\":{\"outlinewidth\":0,\"ticks\":\"\"},\"colorscale\":[[0.0,\"#0d0887\"],[0.1111111111111111,\"#46039f\"],[0.2222222222222222,\"#7201a8\"],[0.3333333333333333,\"#9c179e\"],[0.4444444444444444,\"#bd3786\"],[0.5555555555555556,\"#d8576b\"],[0.6666666666666666,\"#ed7953\"],[0.7777777777777778,\"#fb9f3a\"],[0.8888888888888888,\"#fdca26\"],[1.0,\"#f0f921\"]]}],\"heatmapgl\":[{\"type\":\"heatmapgl\",\"colorbar\":{\"outlinewidth\":0,\"ticks\":\"\"},\"colorscale\":[[0.0,\"#0d0887\"],[0.1111111111111111,\"#46039f\"],[0.2222222222222222,\"#7201a8\"],[0.3333333333333333,\"#9c179e\"],[0.4444444444444444,\"#bd3786\"],[0.5555555555555556,\"#d8576b\"],[0.6666666666666666,\"#ed7953\"],[0.7777777777777778,\"#fb9f3a\"],[0.8888888888888888,\"#fdca26\"],[1.0,\"#f0f921\"]]}],\"contourcarpet\":[{\"type\":\"contourcarpet\",\"colorbar\":{\"outlinewidth\":0,\"ticks\":\"\"}}],\"contour\":[{\"type\":\"contour\",\"colorbar\":{\"outlinewidth\":0,\"ticks\":\"\"},\"colorscale\":[[0.0,\"#0d0887\"],[0.1111111111111111,\"#46039f\"],[0.2222222222222222,\"#7201a8\"],[0.3333333333333333,\"#9c179e\"],[0.4444444444444444,\"#bd3786\"],[0.5555555555555556,\"#d8576b\"],[0.6666666666666666,\"#ed7953\"],[0.7777777777777778,\"#fb9f3a\"],[0.8888888888888888,\"#fdca26\"],[1.0,\"#f0f921\"]]}],\"surface\":[{\"type\":\"surface\",\"colorbar\":{\"outlinewidth\":0,\"ticks\":\"\"},\"colorscale\":[[0.0,\"#0d0887\"],[0.1111111111111111,\"#46039f\"],[0.2222222222222222,\"#7201a8\"],[0.3333333333333333,\"#9c179e\"],[0.4444444444444444,\"#bd3786\"],[0.5555555555555556,\"#d8576b\"],[0.6666666666666666,\"#ed7953\"],[0.7777777777777778,\"#fb9f3a\"],[0.8888888888888888,\"#fdca26\"],[1.0,\"#f0f921\"]]}],\"mesh3d\":[{\"type\":\"mesh3d\",\"colorbar\":{\"outlinewidth\":0,\"ticks\":\"\"}}],\"scatter\":[{\"fillpattern\":{\"fillmode\":\"overlay\",\"size\":10,\"solidity\":0.2},\"type\":\"scatter\"}],\"parcoords\":[{\"type\":\"parcoords\",\"line\":{\"colorbar\":{\"outlinewidth\":0,\"ticks\":\"\"}}}],\"scatterpolargl\":[{\"type\":\"scatterpolargl\",\"marker\":{\"colorbar\":{\"outlinewidth\":0,\"ticks\":\"\"}}}],\"bar\":[{\"error_x\":{\"color\":\"#2a3f5f\"},\"error_y\":{\"color\":\"#2a3f5f\"},\"marker\":{\"line\":{\"color\":\"#E5ECF6\",\"width\":0.5},\"pattern\":{\"fillmode\":\"overlay\",\"size\":10,\"solidity\":0.2}},\"type\":\"bar\"}],\"scattergeo\":[{\"type\":\"scattergeo\",\"marker\":{\"colorbar\":{\"outlinewidth\":0,\"ticks\":\"\"}}}],\"scatterpolar\":[{\"type\":\"scatterpolar\",\"marker\":{\"colorbar\":{\"outlinewidth\":0,\"ticks\":\"\"}}}],\"histogram\":[{\"marker\":{\"pattern\":{\"fillmode\":\"overlay\",\"size\":10,\"solidity\":0.2}},\"type\":\"histogram\"}],\"scattergl\":[{\"type\":\"scattergl\",\"marker\":{\"colorbar\":{\"outlinewidth\":0,\"ticks\":\"\"}}}],\"scatter3d\":[{\"type\":\"scatter3d\",\"line\":{\"colorbar\":{\"outlinewidth\":0,\"ticks\":\"\"}},\"marker\":{\"colorbar\":{\"outlinewidth\":0,\"ticks\":\"\"}}}],\"scattermapbox\":[{\"type\":\"scattermapbox\",\"marker\":{\"colorbar\":{\"outlinewidth\":0,\"ticks\":\"\"}}}],\"scatterternary\":[{\"type\":\"scatterternary\",\"marker\":{\"colorbar\":{\"outlinewidth\":0,\"ticks\":\"\"}}}],\"scattercarpet\":[{\"type\":\"scattercarpet\",\"marker\":{\"colorbar\":{\"outlinewidth\":0,\"ticks\":\"\"}}}],\"carpet\":[{\"aaxis\":{\"endlinecolor\":\"#2a3f5f\",\"gridcolor\":\"white\",\"linecolor\":\"white\",\"minorgridcolor\":\"white\",\"startlinecolor\":\"#2a3f5f\"},\"baxis\":{\"endlinecolor\":\"#2a3f5f\",\"gridcolor\":\"white\",\"linecolor\":\"white\",\"minorgridcolor\":\"white\",\"startlinecolor\":\"#2a3f5f\"},\"type\":\"carpet\"}],\"table\":[{\"cells\":{\"fill\":{\"color\":\"#EBF0F8\"},\"line\":{\"color\":\"white\"}},\"header\":{\"fill\":{\"color\":\"#C8D4E3\"},\"line\":{\"color\":\"white\"}},\"type\":\"table\"}],\"barpolar\":[{\"marker\":{\"line\":{\"color\":\"#E5ECF6\",\"width\":0.5},\"pattern\":{\"fillmode\":\"overlay\",\"size\":10,\"solidity\":0.2}},\"type\":\"barpolar\"}],\"pie\":[{\"automargin\":true,\"type\":\"pie\"}]},\"layout\":{\"autotypenumbers\":\"strict\",\"colorway\":[\"#636efa\",\"#EF553B\",\"#00cc96\",\"#ab63fa\",\"#FFA15A\",\"#19d3f3\",\"#FF6692\",\"#B6E880\",\"#FF97FF\",\"#FECB52\"],\"font\":{\"color\":\"#2a3f5f\"},\"hovermode\":\"closest\",\"hoverlabel\":{\"align\":\"left\"},\"paper_bgcolor\":\"white\",\"plot_bgcolor\":\"#E5ECF6\",\"polar\":{\"bgcolor\":\"#E5ECF6\",\"angularaxis\":{\"gridcolor\":\"white\",\"linecolor\":\"white\",\"ticks\":\"\"},\"radialaxis\":{\"gridcolor\":\"white\",\"linecolor\":\"white\",\"ticks\":\"\"}},\"ternary\":{\"bgcolor\":\"#E5ECF6\",\"aaxis\":{\"gridcolor\":\"white\",\"linecolor\":\"white\",\"ticks\":\"\"},\"baxis\":{\"gridcolor\":\"white\",\"linecolor\":\"white\",\"ticks\":\"\"},\"caxis\":{\"gridcolor\":\"white\",\"linecolor\":\"white\",\"ticks\":\"\"}},\"coloraxis\":{\"colorbar\":{\"outlinewidth\":0,\"ticks\":\"\"}},\"colorscale\":{\"sequential\":[[0.0,\"#0d0887\"],[0.1111111111111111,\"#46039f\"],[0.2222222222222222,\"#7201a8\"],[0.3333333333333333,\"#9c179e\"],[0.4444444444444444,\"#bd3786\"],[0.5555555555555556,\"#d8576b\"],[0.6666666666666666,\"#ed7953\"],[0.7777777777777778,\"#fb9f3a\"],[0.8888888888888888,\"#fdca26\"],[1.0,\"#f0f921\"]],\"sequentialminus\":[[0.0,\"#0d0887\"],[0.1111111111111111,\"#46039f\"],[0.2222222222222222,\"#7201a8\"],[0.3333333333333333,\"#9c179e\"],[0.4444444444444444,\"#bd3786\"],[0.5555555555555556,\"#d8576b\"],[0.6666666666666666,\"#ed7953\"],[0.7777777777777778,\"#fb9f3a\"],[0.8888888888888888,\"#fdca26\"],[1.0,\"#f0f921\"]],\"diverging\":[[0,\"#8e0152\"],[0.1,\"#c51b7d\"],[0.2,\"#de77ae\"],[0.3,\"#f1b6da\"],[0.4,\"#fde0ef\"],[0.5,\"#f7f7f7\"],[0.6,\"#e6f5d0\"],[0.7,\"#b8e186\"],[0.8,\"#7fbc41\"],[0.9,\"#4d9221\"],[1,\"#276419\"]]},\"xaxis\":{\"gridcolor\":\"white\",\"linecolor\":\"white\",\"ticks\":\"\",\"title\":{\"standoff\":15},\"zerolinecolor\":\"white\",\"automargin\":true,\"zerolinewidth\":2},\"yaxis\":{\"gridcolor\":\"white\",\"linecolor\":\"white\",\"ticks\":\"\",\"title\":{\"standoff\":15},\"zerolinecolor\":\"white\",\"automargin\":true,\"zerolinewidth\":2},\"scene\":{\"xaxis\":{\"backgroundcolor\":\"#E5ECF6\",\"gridcolor\":\"white\",\"linecolor\":\"white\",\"showbackground\":true,\"ticks\":\"\",\"zerolinecolor\":\"white\",\"gridwidth\":2},\"yaxis\":{\"backgroundcolor\":\"#E5ECF6\",\"gridcolor\":\"white\",\"linecolor\":\"white\",\"showbackground\":true,\"ticks\":\"\",\"zerolinecolor\":\"white\",\"gridwidth\":2},\"zaxis\":{\"backgroundcolor\":\"#E5ECF6\",\"gridcolor\":\"white\",\"linecolor\":\"white\",\"showbackground\":true,\"ticks\":\"\",\"zerolinecolor\":\"white\",\"gridwidth\":2}},\"shapedefaults\":{\"line\":{\"color\":\"#2a3f5f\"}},\"annotationdefaults\":{\"arrowcolor\":\"#2a3f5f\",\"arrowhead\":0,\"arrowwidth\":1},\"geo\":{\"bgcolor\":\"white\",\"landcolor\":\"#E5ECF6\",\"subunitcolor\":\"white\",\"showland\":true,\"showlakes\":true,\"lakecolor\":\"white\"},\"title\":{\"x\":0.05},\"mapbox\":{\"style\":\"light\"}}},\"mapbox\":{\"domain\":{\"x\":[0.0,1.0],\"y\":[0.0,1.0]},\"center\":{\"lat\":40.72987847465438,\"lon\":-73.93391443548387},\"zoom\":10,\"style\":\"carto-darkmatter\",\"accesstoken\":\"pk.eyJ1IjoiZHJ1Y2V2IiwiYSI6ImNqbWt4YmJ6ejAyYXcza3A1djhya254ZXMifQ.ZkDU7jNP3QGicJpGRRMF2Q\"},\"coloraxis\":{\"colorbar\":{\"title\":{\"text\":\"pct_v_2019\"}},\"colorscale\":[[0.0,\"rgb(0,0,131)\"],[0.2,\"rgb(0,60,170)\"],[0.4,\"rgb(5,255,255)\"],[0.6,\"rgb(255,255,0)\"],[0.8,\"rgb(250,0,0)\"],[1.0,\"rgb(128,0,0)\"]]},\"legend\":{\"tracegroupgap\":0,\"itemsizing\":\"constant\"},\"margin\":{\"t\":0,\"r\":0,\"l\":0,\"b\":0},\"height\":480,\"width\":880,\"showlegend\":false},                        {\"responsive\": true}                    ).then(function(){\n",
       "                            \n",
       "var gd = document.getElementById('2eff56f7-1949-48bd-8f30-759cbbc83da7');\n",
       "var x = new MutationObserver(function (mutations, observer) {{\n",
       "        var display = window.getComputedStyle(gd).display;\n",
       "        if (!display || display === 'none') {{\n",
       "            console.log([gd, 'removed!']);\n",
       "            Plotly.purge(gd);\n",
       "            observer.disconnect();\n",
       "        }}\n",
       "}});\n",
       "\n",
       "// Listen for the removal of the full notebook cells\n",
       "var notebookContainer = gd.closest('#notebook-container');\n",
       "if (notebookContainer) {{\n",
       "    x.observe(notebookContainer, {childList: true});\n",
       "}}\n",
       "\n",
       "// Listen for the clearing of the current output cell\n",
       "var outputEl = gd.closest('.output');\n",
       "if (outputEl) {{\n",
       "    x.observe(outputEl, {childList: true});\n",
       "}}\n",
       "\n",
       "                        })                };                });            </script>        </div>"
      ]
     },
     "metadata": {},
     "output_type": "display_data"
    }
   ],
   "source": [
    "fig = px.scatter_mapbox(df, \n",
    "                        lat=\"Latitude\", lon=\"Longitude\", \n",
    "                        hover_name=\"pretty_name\", hover_data={\"Avg Daily Entries\": True, \"%Ch vs. 2019\": True, \"entries\": False, \"Latitude\": False, \"Longitude\": False, \"pct_v_2019\": False, \"pct_v_pandemic\": False}, \n",
    "                        size=\"entries\", size_max=20,\n",
    "                        color_continuous_scale=px.colors.sequential.Jet, color=\"pct_v_2019\",\n",
    "                        zoom=10, height=480, width=880)\n",
    "fig.update_layout(mapbox_style=\"carto-darkmatter\", mapbox_accesstoken=mapbox_token)\n",
    "fig.update_layout(margin={\"r\":0,\"t\":0,\"l\":0,\"b\":0}, showlegend=False)\n",
    "fig.show()\n"
   ]
  },
  {
   "cell_type": "code",
   "execution_count": 27,
   "metadata": {},
   "outputs": [],
   "source": [
    "fig.write_html(\"/Users/drucev/projects/druce.github.io/_includes/MtA/MTA_map.html\")"
   ]
  },
  {
   "cell_type": "code",
   "execution_count": null,
   "metadata": {},
   "outputs": [],
   "source": []
  }
 ],
 "metadata": {
  "kernelspec": {
   "display_name": "dbt",
   "language": "python",
   "name": "dbt"
  },
  "language_info": {
   "codemirror_mode": {
    "name": "ipython",
    "version": 3
   },
   "file_extension": ".py",
   "mimetype": "text/x-python",
   "name": "python",
   "nbconvert_exporter": "python",
   "pygments_lexer": "ipython3",
   "version": "3.8.16"
  },
  "toc": {
   "base_numbering": 1,
   "nav_menu": {},
   "number_sections": true,
   "sideBar": true,
   "skip_h1_title": false,
   "title_cell": "Table of Contents",
   "title_sidebar": "Contents",
   "toc_cell": false,
   "toc_position": {},
   "toc_section_display": true,
   "toc_window_display": false
  },
  "varInspector": {
   "cols": {
    "lenName": 16,
    "lenType": 16,
    "lenVar": 40
   },
   "kernels_config": {
    "python": {
     "delete_cmd_postfix": "",
     "delete_cmd_prefix": "del ",
     "library": "var_list.py",
     "varRefreshCmd": "print(var_dic_list())"
    },
    "r": {
     "delete_cmd_postfix": ") ",
     "delete_cmd_prefix": "rm(",
     "library": "var_list.r",
     "varRefreshCmd": "cat(var_dic_list()) "
    }
   },
   "types_to_exclude": [
    "module",
    "function",
    "builtin_function_or_method",
    "instance",
    "_Feature"
   ],
   "window_display": false
  }
 },
 "nbformat": 4,
 "nbformat_minor": 4
}
